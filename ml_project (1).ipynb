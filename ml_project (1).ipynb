{
  "cells": [
    {
      "cell_type": "code",
      "execution_count": null,
      "metadata": {
        "id": "xLOPCBhnCqxF"
      },
      "outputs": [],
      "source": [
        "# Jovian Commit Essentials\n",
        "# Please retain and execute this cell without modifying the contents for `jovian.commit` to work\n",
        "!pip install jovian --upgrade -q\n",
        "import jovian\n",
        "jovian.set_project('ml-project')\n",
        "jovian.set_colab_id('1b3mD2fkbNIt7NlpaSb1dHHpvNYNIpLOu')"
      ]
    },
    {
      "cell_type": "code",
      "execution_count": null,
      "metadata": {
        "colab": {
          "base_uri": "https://localhost:8080/",
          "height": 87
        },
        "id": "IwoaQvlsSkbd",
        "outputId": "d33b72d4-a87d-4855-db8b-19be0aab3d04"
      },
      "outputs": [
        {
          "name": "stdout",
          "output_type": "stream",
          "text": [
            "[jovian] Detected Colab notebook...\u001b[0m\n",
            "[jovian] Uploading colab notebook to Jovian...\u001b[0m\n",
            "Committed successfully! https://jovian.ai/gouravitandel1945/ml-project\n"
          ]
        },
        {
          "data": {
            "application/vnd.google.colaboratory.intrinsic+json": {
              "type": "string"
            },
            "text/plain": [
              "'https://jovian.ai/gouravitandel1945/ml-project'"
            ]
          },
          "execution_count": 47,
          "metadata": {},
          "output_type": "execute_result"
        }
      ],
      "source": [
        "jovian.commit()"
      ]
    },
    {
      "cell_type": "markdown",
      "metadata": {
        "id": "veQCFI5MaDhi"
      },
      "source": [
        "# **Predicting Walmart Weekly Sales using Machine Learning**\n",
        "\n",
        "---\n",
        "\n",
        "\n",
        "\n",
        "---\n",
        "\n",
        "\n",
        "\n",
        "***Walmart Inc.*** is an American multinational retail corporation that operates a chain of hypermarkets (also called supercenters), discount department stores, and grocery stores from the United States, headquartered in Bentonville, Arkansas. [Read more](https://en.wikipedia.org/wiki/Walmart)\n",
        "\n",
        "\n",
        "\n",
        "![](https://i.imgur.com/KE5Mgce.jpg)\n",
        "---\n",
        "\n",
        "\n",
        "\n",
        "**About Data :**\n",
        "\n",
        "The Dataset contains historical sales data for **45 Walmart** stores located in different regions. Each store contains a number of departments, and you are tasked with predicting the department-wide sales for each store from **Kaggle**.\n",
        "\n",
        "In addition, Walmart runs several promotional markdown events throughout the year. These markdowns precede prominent holidays, the four largest of which are the Super Bowl, Labor Day, Thanksgiving, and Christmas. The weeks including these holidays are weighted five times higher in the evaluation than non-holiday weeks. \n",
        "\n",
        "---\n",
        "\n",
        "\n",
        "[**Kaggle**](https://www.kaggle.com/) allows users to find and publish data sets, explore and build models in a web-based data-science environment, work with other data scientists and machine learning engineers, and enter competitions to solve data science challenges.\n",
        "\n",
        "---\n",
        "\n",
        "**Purpose**\n",
        "*  We are using this dataset to predict Weekly Sales of Wallmart by using various Machine Learning models.\n",
        "*  Dataset contains many departments, and we must project the sales for each department in each store. To add to the challenge, selected holiday markdown events are included in the dataset. These markdowns are known to affect sales, but it is challenging to predict which departments are affected and the extent of the impact.\n",
        "\n",
        "\n",
        "\n",
        "\n"
      ]
    },
    {
      "cell_type": "markdown",
      "metadata": {
        "id": "7xMwdBlj7LAA"
      },
      "source": [
        "## **How to Run the Code**\n",
        "\n",
        "You can execute the code by using the \"Run\" button at the top of this page and selecting \"Run on Colab\". You can make changes and save your own version of the notebook to [Jovian](https://www.jovianai) by executing the following cells:"
      ]
    },
    {
      "cell_type": "code",
      "execution_count": null,
      "metadata": {
        "id": "4T0rE4r0aDhk"
      },
      "outputs": [],
      "source": [
        "!pip install jovian --upgrade --quiet"
      ]
    },
    {
      "cell_type": "code",
      "execution_count": null,
      "metadata": {
        "id": "5zgxRYstaDhl"
      },
      "outputs": [],
      "source": [
        "import jovian\n"
      ]
    },
    {
      "cell_type": "code",
      "execution_count": null,
      "metadata": {
        "colab": {
          "base_uri": "https://localhost:8080/"
        },
        "id": "2sq5QUZ6aDhl",
        "outputId": "2dbd40e9-631b-473e-ce1d-18692ea2f5f9"
      },
      "outputs": [
        {
          "name": "stdout",
          "output_type": "stream",
          "text": [
            "[jovian] Detected Colab notebook...\u001b[0m\n",
            "[jovian] Uploading colab notebook to Jovian...\u001b[0m\n",
            "Committed successfully! https://jovian.ai/gouravitandel1945/ml-project\n"
          ]
        },
        {
          "data": {
            "application/vnd.google.colaboratory.intrinsic+json": {
              "type": "string"
            },
            "text/plain": [
              "'https://jovian.ai/gouravitandel1945/ml-project'"
            ]
          },
          "execution_count": 140,
          "metadata": {},
          "output_type": "execute_result"
        }
      ],
      "source": [
        "# Execute this to save new versions of the notebook\n",
        "jovian.commit()"
      ]
    },
    {
      "cell_type": "markdown",
      "metadata": {
        "id": "QjzMCCku7_TI"
      },
      "source": [
        "## **Here’s a step by step outline of this project:**\n",
        "\n",
        "1. Install the required libraries.\n",
        "2. Download the data using `opendatasets` library from Kaggle.\n",
        "3. Perform below actions on the Data.\n",
        "*   View Dataset Files\n",
        "*   Unzip files\n",
        "*   Load Training set with Pandas \n",
        "*   Load Test set with Pandas\n",
        "4. Perform EDA by analysing below columns to get meangingful insights out of it.\n",
        "*    Date\n",
        "*    Store\n",
        "*    Dept\n",
        "*    Type\n",
        "5. Answer below questions to generate insights from the dataset.\n",
        "*    What is the effect of Markdown on the sales?\n",
        "*    What are the days with max sales?\n",
        "6. Prepare Dataset for Training and Testing\n",
        "7. Train & Evaluate Hardcoded Model\n",
        "8. Train & Evaluate Baseline Model\n",
        "9. Make Predictions and Submission\n",
        "10. Feature Engineering\n",
        "*   Extract part of date\n",
        "*   Create a funtion `is_Holiday` to create column to check if its a Holiday Month (`Holiday_Month`)\n",
        "*   Create column `Markdown_sum` to create the sum total of all MarkDown columns\n",
        "*  Identifier Columns to Identify if a week is a SuperBowlWeek, LaborDay Week, ThanksGiving Week or Christmas Week\n",
        "*   Handle null values in `MarkDown1`,`MarkDown2`,`MarkDown3`,`MarkDown4` and `MarkDown5` columns\n",
        "11. Perform below actions on the data \n",
        "*   Scaling\n",
        "*   Encode Categorical columns\n",
        "12. Save Intermediate Results\n",
        "13. Trains and Evaluate below models\n",
        "14. Perform HyperParamter Tuning\n",
        "15. Submit the result to Kaggle"
      ]
    },
    {
      "cell_type": "markdown",
      "metadata": {
        "id": "BGKMy--3YwKY"
      },
      "source": [
        "## **Install library**\n",
        "\n",
        "In this section, we will install all the required library to predict the Wallmart Weekly Sales"
      ]
    },
    {
      "cell_type": "code",
      "execution_count": null,
      "metadata": {
        "id": "mIA8CNyOaDhm"
      },
      "outputs": [],
      "source": [
        "!pip install opendatasets scikit-learn pandas xgboost jovian --quiet --upgrade\n"
      ]
    },
    {
      "cell_type": "code",
      "execution_count": null,
      "metadata": {
        "id": "qjo5jkAMekKi"
      },
      "outputs": [],
      "source": [
        "import plotly.express as px\n",
        "import pandas as pd\n",
        "import numpy as np\n",
        "import seaborn as sns\n",
        "import matplotlib.pyplot as plt"
      ]
    },
    {
      "cell_type": "markdown",
      "metadata": {
        "id": "iYijbaQKY0Pu"
      },
      "source": [
        "## **Download the dataset**\n",
        "\n",
        "In this section, we will download the data using `opendatasets` library"
      ]
    },
    {
      "cell_type": "markdown",
      "metadata": {
        "id": "uspaNKK5_j2n"
      },
      "source": [
        "`opendatasets` is a Python library for downloading datasets from online sources like Kaggle and Google Drive using a simple Python command.\n",
        "\n"
      ]
    },
    {
      "cell_type": "code",
      "execution_count": null,
      "metadata": {
        "id": "3rOZxX12bSnX"
      },
      "outputs": [],
      "source": [
        "import opendatasets as od"
      ]
    },
    {
      "cell_type": "code",
      "execution_count": null,
      "metadata": {
        "id": "-cEs7Gy9bSj4"
      },
      "outputs": [],
      "source": [
        "download_url='https://www.kaggle.com/competitions/walmart-recruiting-store-sales-forecasting/data'"
      ]
    },
    {
      "cell_type": "code",
      "execution_count": null,
      "metadata": {
        "colab": {
          "base_uri": "https://localhost:8080/"
        },
        "id": "qROxTAe1bShR",
        "outputId": "0486a6c1-d3de-4a4b-d0f5-16156a9a82a5"
      },
      "outputs": [
        {
          "name": "stdout",
          "output_type": "stream",
          "text": [
            "Skipping, found downloaded files in \"./walmart-recruiting-store-sales-forecasting\" (use force=True to force download)\n"
          ]
        }
      ],
      "source": [
        "od.download(download_url)\n"
      ]
    },
    {
      "cell_type": "markdown",
      "metadata": {
        "id": "8_3rJA5b_xie"
      },
      "source": [
        "On executing `od.download(download_url)`, you will have to add kaggle ID and key for your account.\n",
        "\n",
        "You can get your ID and Key by following below steps:\n",
        "\n",
        "1. Sign in to https://www.kaggle.com/\n",
        "2. Go to Your Profile -> Account \n",
        "3. Under API, Click on *Create New API Token* \n",
        "\n",
        "![](https://imgur.com/hOyTM1U.jpg)\n",
        "\n",
        "4. A text file will be downloaded, open the text file to get the user ID and key to Kaggle\n",
        "\n",
        "After adding the ID and key, file will be donwloaded in the Folders section."
      ]
    },
    {
      "cell_type": "markdown",
      "metadata": {
        "id": "LQoQdyV3XQMJ"
      },
      "source": [
        "## **View dataset files**\n",
        "\n",
        "In this section, we will view all the files that are downloaded in the dataset.\n",
        "\n",
        "We we use `listdir` from `os` library."
      ]
    },
    {
      "cell_type": "code",
      "execution_count": null,
      "metadata": {
        "id": "it5eGbZmbSb1"
      },
      "outputs": [],
      "source": [
        "import os"
      ]
    },
    {
      "cell_type": "code",
      "execution_count": null,
      "metadata": {
        "colab": {
          "base_uri": "https://localhost:8080/"
        },
        "id": "mqtHmz4fbSTi",
        "outputId": "c51d752e-a2fc-4021-d3a7-ae064bdf1b56"
      },
      "outputs": [
        {
          "data": {
            "text/plain": [
              "['train.csv.zip',\n",
              " 'sampleSubmission.csv.zip',\n",
              " 'stores.csv',\n",
              " 'test.csv.zip',\n",
              " 'features.csv.zip']"
            ]
          },
          "execution_count": 183,
          "metadata": {},
          "output_type": "execute_result"
        }
      ],
      "source": [
        "os.listdir('walmart-recruiting-store-sales-forecasting')"
      ]
    },
    {
      "cell_type": "markdown",
      "metadata": {
        "id": "aaho6QpDe8Kl"
      },
      "source": [
        "## **Unzip files**\n",
        "\n",
        "In this section, we will unzip the files using `zipfile` and `extractall`"
      ]
    },
    {
      "cell_type": "code",
      "execution_count": null,
      "metadata": {
        "colab": {
          "base_uri": "https://localhost:8080/"
        },
        "id": "cbhRH1tWbSNG",
        "outputId": "31bf4b2f-f7e4-4fb1-d452-9fb08246be0f"
      },
      "outputs": [
        {
          "name": "stdout",
          "output_type": "stream",
          "text": [
            "File Name                                             Modified             Size\n",
            "train.csv                                      2014-02-03 13:46:20     12842546\n",
            "Extracting all the files now...\n",
            "Done!\n",
            "File Name                                             Modified             Size\n",
            "test.csv                                       2014-02-03 13:46:20      2598077\n",
            "Extracting all the files now...\n",
            "Done!\n",
            "File Name                                             Modified             Size\n",
            "sampleSubmission.csv                           2014-02-03 13:46:20      2146739\n",
            "Extracting all the files now...\n",
            "Done!\n",
            "File Name                                             Modified             Size\n",
            "features.csv                                   2014-02-03 13:46:20       592289\n",
            "Extracting all the files now...\n",
            "Done!\n"
          ]
        }
      ],
      "source": [
        "directory='walmart-recruiting-store-sales-forecasting/'\n",
        "from zipfile import ZipFile\n",
        "zip=[directory+'train.csv.zip',directory+'test.csv.zip',directory+'sampleSubmission.csv.zip',directory+'features.csv.zip']\n",
        "for i in zip:\n",
        "  with ZipFile(i, 'r') as zip:\n",
        "    # printing all the contents of the zip file\n",
        "    zip.printdir()\n",
        "  \n",
        "    # extracting all the files\n",
        "    print('Extracting all the files now...')\n",
        "    zip.extractall()\n",
        "    print('Done!')"
      ]
    },
    {
      "cell_type": "markdown",
      "metadata": {
        "id": "ZTmADUTPcDm0"
      },
      "source": [
        "## **View Dataset Files**\n",
        "\n",
        "In this section, we will view the details of the dataset."
      ]
    },
    {
      "cell_type": "code",
      "execution_count": null,
      "metadata": {
        "colab": {
          "base_uri": "https://localhost:8080/"
        },
        "id": "iZoP-My6cDM-",
        "outputId": "5b7dc443-4f61-4853-ad0f-265cd6b7b832"
      },
      "outputs": [
        {
          "name": "stdout",
          "output_type": "stream",
          "text": [
            "421571 train.csv\n"
          ]
        }
      ],
      "source": [
        "!wc -l train.csv"
      ]
    },
    {
      "cell_type": "code",
      "execution_count": null,
      "metadata": {
        "colab": {
          "base_uri": "https://localhost:8080/"
        },
        "id": "ga7jJakLcSBU",
        "outputId": "8e9e8032-34d6-488f-d405-3c007646749d"
      },
      "outputs": [
        {
          "name": "stdout",
          "output_type": "stream",
          "text": [
            "Store,Dept,Date,IsHoliday\n",
            "1,1,2012-11-02,FALSE\n",
            "1,1,2012-11-09,FALSE\n",
            "1,1,2012-11-16,FALSE\n",
            "1,1,2012-11-23,TRUE\n",
            "1,1,2012-11-30,FALSE\n",
            "1,1,2012-12-07,FALSE\n",
            "1,1,2012-12-14,FALSE\n",
            "1,1,2012-12-21,FALSE\n",
            "1,1,2012-12-28,TRUE\n"
          ]
        }
      ],
      "source": [
        "!head test.csv"
      ]
    },
    {
      "cell_type": "code",
      "execution_count": null,
      "metadata": {
        "colab": {
          "base_uri": "https://localhost:8080/"
        },
        "id": "IwW38SgHcR4-",
        "outputId": "e0da34cf-7afd-444e-fef5-26fad9eb8343"
      },
      "outputs": [
        {
          "name": "stdout",
          "output_type": "stream",
          "text": [
            "Store,Dept,Date,Weekly_Sales,IsHoliday\n",
            "1,1,2010-02-05,24924.5,FALSE\n",
            "1,1,2010-02-12,46039.49,TRUE\n",
            "1,1,2010-02-19,41595.55,FALSE\n",
            "1,1,2010-02-26,19403.54,FALSE\n",
            "1,1,2010-03-05,21827.9,FALSE\n",
            "1,1,2010-03-12,21043.39,FALSE\n",
            "1,1,2010-03-19,22136.64,FALSE\n",
            "1,1,2010-03-26,26229.21,FALSE\n",
            "1,1,2010-04-02,57258.43,FALSE\n"
          ]
        }
      ],
      "source": [
        "!head train.csv"
      ]
    },
    {
      "cell_type": "code",
      "execution_count": null,
      "metadata": {
        "colab": {
          "base_uri": "https://localhost:8080/"
        },
        "id": "1xxoDqZvco97",
        "outputId": "b51bc22c-5d85-40a9-a6f6-ae2425e0d6a9"
      },
      "outputs": [
        {
          "name": "stdout",
          "output_type": "stream",
          "text": [
            "Id,Weekly_Sales\n",
            "1_1_2012-11-02,0\n",
            "1_1_2012-11-09,0\n",
            "1_1_2012-11-16,0\n",
            "1_1_2012-11-23,0\n",
            "1_1_2012-11-30,0\n",
            "1_1_2012-12-07,0\n",
            "1_1_2012-12-14,0\n",
            "1_1_2012-12-21,0\n",
            "1_1_2012-12-28,0\n"
          ]
        }
      ],
      "source": [
        "!head sampleSubmission.csv"
      ]
    },
    {
      "cell_type": "markdown",
      "metadata": {
        "id": "YXA29nKfZMwy"
      },
      "source": [
        "## **Load Training set with Pandas**\n",
        "\n",
        "In this section, we will load all the .csv files and covert it into DataFrame using `.read_csv()`"
      ]
    },
    {
      "cell_type": "code",
      "execution_count": null,
      "metadata": {
        "id": "xmrAO9b42NjI"
      },
      "outputs": [],
      "source": [
        "import pandas as pd"
      ]
    },
    {
      "cell_type": "code",
      "execution_count": null,
      "metadata": {
        "id": "VA1IkyCtbSKJ"
      },
      "outputs": [],
      "source": [
        "stores_df=pd.read_csv(directory+'/stores.csv')\n",
        "features_df=pd.read_csv('features.csv')\n",
        "train_df=pd.read_csv('train.csv')\n",
        "test_df=pd.read_csv('test.csv')"
      ]
    },
    {
      "cell_type": "code",
      "execution_count": null,
      "metadata": {
        "colab": {
          "base_uri": "https://localhost:8080/"
        },
        "id": "SstPA1K-fJyw",
        "outputId": "a53b084c-0110-4709-f928-87c3fb934e74"
      },
      "outputs": [
        {
          "name": "stdout",
          "output_type": "stream",
          "text": [
            "<class 'pandas.core.frame.DataFrame'>\n",
            "RangeIndex: 45 entries, 0 to 44\n",
            "Data columns (total 3 columns):\n",
            " #   Column  Non-Null Count  Dtype \n",
            "---  ------  --------------  ----- \n",
            " 0   Store   45 non-null     int64 \n",
            " 1   Type    45 non-null     object\n",
            " 2   Size    45 non-null     int64 \n",
            "dtypes: int64(2), object(1)\n",
            "memory usage: 1.2+ KB\n"
          ]
        }
      ],
      "source": [
        "stores_df.info()"
      ]
    },
    {
      "cell_type": "code",
      "execution_count": null,
      "metadata": {
        "colab": {
          "base_uri": "https://localhost:8080/"
        },
        "id": "EFBJD54HfJpc",
        "outputId": "22a604bc-7f20-4707-90cb-3f219da7f373"
      },
      "outputs": [
        {
          "name": "stdout",
          "output_type": "stream",
          "text": [
            "<class 'pandas.core.frame.DataFrame'>\n",
            "RangeIndex: 8190 entries, 0 to 8189\n",
            "Data columns (total 12 columns):\n",
            " #   Column        Non-Null Count  Dtype  \n",
            "---  ------        --------------  -----  \n",
            " 0   Store         8190 non-null   int64  \n",
            " 1   Date          8190 non-null   object \n",
            " 2   Temperature   8190 non-null   float64\n",
            " 3   Fuel_Price    8190 non-null   float64\n",
            " 4   MarkDown1     4032 non-null   float64\n",
            " 5   MarkDown2     2921 non-null   float64\n",
            " 6   MarkDown3     3613 non-null   float64\n",
            " 7   MarkDown4     3464 non-null   float64\n",
            " 8   MarkDown5     4050 non-null   float64\n",
            " 9   CPI           7605 non-null   float64\n",
            " 10  Unemployment  7605 non-null   float64\n",
            " 11  IsHoliday     8190 non-null   bool   \n",
            "dtypes: bool(1), float64(9), int64(1), object(1)\n",
            "memory usage: 712.0+ KB\n"
          ]
        }
      ],
      "source": [
        "features_df.info()"
      ]
    },
    {
      "cell_type": "code",
      "execution_count": null,
      "metadata": {
        "colab": {
          "base_uri": "https://localhost:8080/"
        },
        "id": "EXa9oH2kfvDw",
        "outputId": "923d5513-ed11-4ca9-b3d5-e56ffa564bff"
      },
      "outputs": [
        {
          "name": "stdout",
          "output_type": "stream",
          "text": [
            "<class 'pandas.core.frame.DataFrame'>\n",
            "RangeIndex: 115064 entries, 0 to 115063\n",
            "Data columns (total 4 columns):\n",
            " #   Column     Non-Null Count   Dtype \n",
            "---  ------     --------------   ----- \n",
            " 0   Store      115064 non-null  int64 \n",
            " 1   Dept       115064 non-null  int64 \n",
            " 2   Date       115064 non-null  object\n",
            " 3   IsHoliday  115064 non-null  bool  \n",
            "dtypes: bool(1), int64(2), object(1)\n",
            "memory usage: 2.7+ MB\n"
          ]
        }
      ],
      "source": [
        "test_df.info()"
      ]
    },
    {
      "cell_type": "markdown",
      "metadata": {
        "id": "Zx_Y_lkagbdY"
      },
      "source": [
        "## **Training Dataset**"
      ]
    },
    {
      "cell_type": "markdown",
      "metadata": {
        "id": "OaXu8vZEDUY4"
      },
      "source": [
        "Here, we will join the stores_df and features_df on the basis of Store number."
      ]
    },
    {
      "cell_type": "code",
      "execution_count": null,
      "metadata": {
        "id": "ztadQRIKvvSU"
      },
      "outputs": [],
      "source": [
        "Combined_data=pd.merge(features_df,stores_df,on='Store' )"
      ]
    },
    {
      "cell_type": "markdown",
      "metadata": {
        "id": "0VglyrVRJjos"
      },
      "source": [
        "Now we will combine the above store details with the training dataset."
      ]
    },
    {
      "cell_type": "code",
      "execution_count": null,
      "metadata": {
        "colab": {
          "base_uri": "https://localhost:8080/"
        },
        "id": "42KoIfiQMDqk",
        "outputId": "473174a9-8de4-42b8-cf51-dba010a0840d"
      },
      "outputs": [
        {
          "data": {
            "text/html": [
              "\n",
              "  <div id=\"df-bb7d0fa4-4bc6-4344-87fd-044d484c6ce9\">\n",
              "    <div class=\"colab-df-container\">\n",
              "      <div>\n",
              "<style scoped>\n",
              "    .dataframe tbody tr th:only-of-type {\n",
              "        vertical-align: middle;\n",
              "    }\n",
              "\n",
              "    .dataframe tbody tr th {\n",
              "        vertical-align: top;\n",
              "    }\n",
              "\n",
              "    .dataframe thead th {\n",
              "        text-align: right;\n",
              "    }\n",
              "</style>\n",
              "<table border=\"1\" class=\"dataframe\">\n",
              "  <thead>\n",
              "    <tr style=\"text-align: right;\">\n",
              "      <th></th>\n",
              "      <th>Store</th>\n",
              "      <th>Dept</th>\n",
              "      <th>Date</th>\n",
              "      <th>Weekly_Sales</th>\n",
              "      <th>IsHoliday_x</th>\n",
              "      <th>Temperature</th>\n",
              "      <th>Fuel_Price</th>\n",
              "      <th>MarkDown1</th>\n",
              "      <th>MarkDown2</th>\n",
              "      <th>MarkDown3</th>\n",
              "      <th>MarkDown4</th>\n",
              "      <th>MarkDown5</th>\n",
              "      <th>CPI</th>\n",
              "      <th>Unemployment</th>\n",
              "      <th>IsHoliday_y</th>\n",
              "      <th>Type</th>\n",
              "      <th>Size</th>\n",
              "    </tr>\n",
              "  </thead>\n",
              "  <tbody>\n",
              "    <tr>\n",
              "      <th>0</th>\n",
              "      <td>1</td>\n",
              "      <td>1</td>\n",
              "      <td>2010-02-05</td>\n",
              "      <td>24924.50</td>\n",
              "      <td>False</td>\n",
              "      <td>42.31</td>\n",
              "      <td>2.572</td>\n",
              "      <td>NaN</td>\n",
              "      <td>NaN</td>\n",
              "      <td>NaN</td>\n",
              "      <td>NaN</td>\n",
              "      <td>NaN</td>\n",
              "      <td>211.096358</td>\n",
              "      <td>8.106</td>\n",
              "      <td>False</td>\n",
              "      <td>A</td>\n",
              "      <td>151315</td>\n",
              "    </tr>\n",
              "    <tr>\n",
              "      <th>1</th>\n",
              "      <td>1</td>\n",
              "      <td>1</td>\n",
              "      <td>2010-02-12</td>\n",
              "      <td>46039.49</td>\n",
              "      <td>True</td>\n",
              "      <td>38.51</td>\n",
              "      <td>2.548</td>\n",
              "      <td>NaN</td>\n",
              "      <td>NaN</td>\n",
              "      <td>NaN</td>\n",
              "      <td>NaN</td>\n",
              "      <td>NaN</td>\n",
              "      <td>211.242170</td>\n",
              "      <td>8.106</td>\n",
              "      <td>True</td>\n",
              "      <td>A</td>\n",
              "      <td>151315</td>\n",
              "    </tr>\n",
              "    <tr>\n",
              "      <th>2</th>\n",
              "      <td>1</td>\n",
              "      <td>1</td>\n",
              "      <td>2010-02-19</td>\n",
              "      <td>41595.55</td>\n",
              "      <td>False</td>\n",
              "      <td>39.93</td>\n",
              "      <td>2.514</td>\n",
              "      <td>NaN</td>\n",
              "      <td>NaN</td>\n",
              "      <td>NaN</td>\n",
              "      <td>NaN</td>\n",
              "      <td>NaN</td>\n",
              "      <td>211.289143</td>\n",
              "      <td>8.106</td>\n",
              "      <td>False</td>\n",
              "      <td>A</td>\n",
              "      <td>151315</td>\n",
              "    </tr>\n",
              "    <tr>\n",
              "      <th>3</th>\n",
              "      <td>1</td>\n",
              "      <td>1</td>\n",
              "      <td>2010-02-26</td>\n",
              "      <td>19403.54</td>\n",
              "      <td>False</td>\n",
              "      <td>46.63</td>\n",
              "      <td>2.561</td>\n",
              "      <td>NaN</td>\n",
              "      <td>NaN</td>\n",
              "      <td>NaN</td>\n",
              "      <td>NaN</td>\n",
              "      <td>NaN</td>\n",
              "      <td>211.319643</td>\n",
              "      <td>8.106</td>\n",
              "      <td>False</td>\n",
              "      <td>A</td>\n",
              "      <td>151315</td>\n",
              "    </tr>\n",
              "    <tr>\n",
              "      <th>4</th>\n",
              "      <td>1</td>\n",
              "      <td>1</td>\n",
              "      <td>2010-03-05</td>\n",
              "      <td>21827.90</td>\n",
              "      <td>False</td>\n",
              "      <td>46.50</td>\n",
              "      <td>2.625</td>\n",
              "      <td>NaN</td>\n",
              "      <td>NaN</td>\n",
              "      <td>NaN</td>\n",
              "      <td>NaN</td>\n",
              "      <td>NaN</td>\n",
              "      <td>211.350143</td>\n",
              "      <td>8.106</td>\n",
              "      <td>False</td>\n",
              "      <td>A</td>\n",
              "      <td>151315</td>\n",
              "    </tr>\n",
              "    <tr>\n",
              "      <th>...</th>\n",
              "      <td>...</td>\n",
              "      <td>...</td>\n",
              "      <td>...</td>\n",
              "      <td>...</td>\n",
              "      <td>...</td>\n",
              "      <td>...</td>\n",
              "      <td>...</td>\n",
              "      <td>...</td>\n",
              "      <td>...</td>\n",
              "      <td>...</td>\n",
              "      <td>...</td>\n",
              "      <td>...</td>\n",
              "      <td>...</td>\n",
              "      <td>...</td>\n",
              "      <td>...</td>\n",
              "      <td>...</td>\n",
              "      <td>...</td>\n",
              "    </tr>\n",
              "    <tr>\n",
              "      <th>421565</th>\n",
              "      <td>45</td>\n",
              "      <td>98</td>\n",
              "      <td>2012-09-28</td>\n",
              "      <td>508.37</td>\n",
              "      <td>False</td>\n",
              "      <td>64.88</td>\n",
              "      <td>3.997</td>\n",
              "      <td>4556.61</td>\n",
              "      <td>20.64</td>\n",
              "      <td>1.50</td>\n",
              "      <td>1601.01</td>\n",
              "      <td>3288.25</td>\n",
              "      <td>192.013558</td>\n",
              "      <td>8.684</td>\n",
              "      <td>False</td>\n",
              "      <td>B</td>\n",
              "      <td>118221</td>\n",
              "    </tr>\n",
              "    <tr>\n",
              "      <th>421566</th>\n",
              "      <td>45</td>\n",
              "      <td>98</td>\n",
              "      <td>2012-10-05</td>\n",
              "      <td>628.10</td>\n",
              "      <td>False</td>\n",
              "      <td>64.89</td>\n",
              "      <td>3.985</td>\n",
              "      <td>5046.74</td>\n",
              "      <td>NaN</td>\n",
              "      <td>18.82</td>\n",
              "      <td>2253.43</td>\n",
              "      <td>2340.01</td>\n",
              "      <td>192.170412</td>\n",
              "      <td>8.667</td>\n",
              "      <td>False</td>\n",
              "      <td>B</td>\n",
              "      <td>118221</td>\n",
              "    </tr>\n",
              "    <tr>\n",
              "      <th>421567</th>\n",
              "      <td>45</td>\n",
              "      <td>98</td>\n",
              "      <td>2012-10-12</td>\n",
              "      <td>1061.02</td>\n",
              "      <td>False</td>\n",
              "      <td>54.47</td>\n",
              "      <td>4.000</td>\n",
              "      <td>1956.28</td>\n",
              "      <td>NaN</td>\n",
              "      <td>7.89</td>\n",
              "      <td>599.32</td>\n",
              "      <td>3990.54</td>\n",
              "      <td>192.327265</td>\n",
              "      <td>8.667</td>\n",
              "      <td>False</td>\n",
              "      <td>B</td>\n",
              "      <td>118221</td>\n",
              "    </tr>\n",
              "    <tr>\n",
              "      <th>421568</th>\n",
              "      <td>45</td>\n",
              "      <td>98</td>\n",
              "      <td>2012-10-19</td>\n",
              "      <td>760.01</td>\n",
              "      <td>False</td>\n",
              "      <td>56.47</td>\n",
              "      <td>3.969</td>\n",
              "      <td>2004.02</td>\n",
              "      <td>NaN</td>\n",
              "      <td>3.18</td>\n",
              "      <td>437.73</td>\n",
              "      <td>1537.49</td>\n",
              "      <td>192.330854</td>\n",
              "      <td>8.667</td>\n",
              "      <td>False</td>\n",
              "      <td>B</td>\n",
              "      <td>118221</td>\n",
              "    </tr>\n",
              "    <tr>\n",
              "      <th>421569</th>\n",
              "      <td>45</td>\n",
              "      <td>98</td>\n",
              "      <td>2012-10-26</td>\n",
              "      <td>1076.80</td>\n",
              "      <td>False</td>\n",
              "      <td>58.85</td>\n",
              "      <td>3.882</td>\n",
              "      <td>4018.91</td>\n",
              "      <td>58.08</td>\n",
              "      <td>100.00</td>\n",
              "      <td>211.94</td>\n",
              "      <td>858.33</td>\n",
              "      <td>192.308899</td>\n",
              "      <td>8.667</td>\n",
              "      <td>False</td>\n",
              "      <td>B</td>\n",
              "      <td>118221</td>\n",
              "    </tr>\n",
              "  </tbody>\n",
              "</table>\n",
              "<p>421570 rows × 17 columns</p>\n",
              "</div>\n",
              "      <button class=\"colab-df-convert\" onclick=\"convertToInteractive('df-bb7d0fa4-4bc6-4344-87fd-044d484c6ce9')\"\n",
              "              title=\"Convert this dataframe to an interactive table.\"\n",
              "              style=\"display:none;\">\n",
              "        \n",
              "  <svg xmlns=\"http://www.w3.org/2000/svg\" height=\"24px\"viewBox=\"0 0 24 24\"\n",
              "       width=\"24px\">\n",
              "    <path d=\"M0 0h24v24H0V0z\" fill=\"none\"/>\n",
              "    <path d=\"M18.56 5.44l.94 2.06.94-2.06 2.06-.94-2.06-.94-.94-2.06-.94 2.06-2.06.94zm-11 1L8.5 8.5l.94-2.06 2.06-.94-2.06-.94L8.5 2.5l-.94 2.06-2.06.94zm10 10l.94 2.06.94-2.06 2.06-.94-2.06-.94-.94-2.06-.94 2.06-2.06.94z\"/><path d=\"M17.41 7.96l-1.37-1.37c-.4-.4-.92-.59-1.43-.59-.52 0-1.04.2-1.43.59L10.3 9.45l-7.72 7.72c-.78.78-.78 2.05 0 2.83L4 21.41c.39.39.9.59 1.41.59.51 0 1.02-.2 1.41-.59l7.78-7.78 2.81-2.81c.8-.78.8-2.07 0-2.86zM5.41 20L4 18.59l7.72-7.72 1.47 1.35L5.41 20z\"/>\n",
              "  </svg>\n",
              "      </button>\n",
              "      \n",
              "  <style>\n",
              "    .colab-df-container {\n",
              "      display:flex;\n",
              "      flex-wrap:wrap;\n",
              "      gap: 12px;\n",
              "    }\n",
              "\n",
              "    .colab-df-convert {\n",
              "      background-color: #E8F0FE;\n",
              "      border: none;\n",
              "      border-radius: 50%;\n",
              "      cursor: pointer;\n",
              "      display: none;\n",
              "      fill: #1967D2;\n",
              "      height: 32px;\n",
              "      padding: 0 0 0 0;\n",
              "      width: 32px;\n",
              "    }\n",
              "\n",
              "    .colab-df-convert:hover {\n",
              "      background-color: #E2EBFA;\n",
              "      box-shadow: 0px 1px 2px rgba(60, 64, 67, 0.3), 0px 1px 3px 1px rgba(60, 64, 67, 0.15);\n",
              "      fill: #174EA6;\n",
              "    }\n",
              "\n",
              "    [theme=dark] .colab-df-convert {\n",
              "      background-color: #3B4455;\n",
              "      fill: #D2E3FC;\n",
              "    }\n",
              "\n",
              "    [theme=dark] .colab-df-convert:hover {\n",
              "      background-color: #434B5C;\n",
              "      box-shadow: 0px 1px 3px 1px rgba(0, 0, 0, 0.15);\n",
              "      filter: drop-shadow(0px 1px 2px rgba(0, 0, 0, 0.3));\n",
              "      fill: #FFFFFF;\n",
              "    }\n",
              "  </style>\n",
              "\n",
              "      <script>\n",
              "        const buttonEl =\n",
              "          document.querySelector('#df-bb7d0fa4-4bc6-4344-87fd-044d484c6ce9 button.colab-df-convert');\n",
              "        buttonEl.style.display =\n",
              "          google.colab.kernel.accessAllowed ? 'block' : 'none';\n",
              "\n",
              "        async function convertToInteractive(key) {\n",
              "          const element = document.querySelector('#df-bb7d0fa4-4bc6-4344-87fd-044d484c6ce9');\n",
              "          const dataTable =\n",
              "            await google.colab.kernel.invokeFunction('convertToInteractive',\n",
              "                                                     [key], {});\n",
              "          if (!dataTable) return;\n",
              "\n",
              "          const docLinkHtml = 'Like what you see? Visit the ' +\n",
              "            '<a target=\"_blank\" href=https://colab.research.google.com/notebooks/data_table.ipynb>data table notebook</a>'\n",
              "            + ' to learn more about interactive tables.';\n",
              "          element.innerHTML = '';\n",
              "          dataTable['output_type'] = 'display_data';\n",
              "          await google.colab.output.renderOutput(dataTable, element);\n",
              "          const docLink = document.createElement('div');\n",
              "          docLink.innerHTML = docLinkHtml;\n",
              "          element.appendChild(docLink);\n",
              "        }\n",
              "      </script>\n",
              "    </div>\n",
              "  </div>\n",
              "  "
            ],
            "text/plain": [
              "        Store  Dept        Date  Weekly_Sales  IsHoliday_x  Temperature  \\\n",
              "0           1     1  2010-02-05      24924.50        False        42.31   \n",
              "1           1     1  2010-02-12      46039.49         True        38.51   \n",
              "2           1     1  2010-02-19      41595.55        False        39.93   \n",
              "3           1     1  2010-02-26      19403.54        False        46.63   \n",
              "4           1     1  2010-03-05      21827.90        False        46.50   \n",
              "...       ...   ...         ...           ...          ...          ...   \n",
              "421565     45    98  2012-09-28        508.37        False        64.88   \n",
              "421566     45    98  2012-10-05        628.10        False        64.89   \n",
              "421567     45    98  2012-10-12       1061.02        False        54.47   \n",
              "421568     45    98  2012-10-19        760.01        False        56.47   \n",
              "421569     45    98  2012-10-26       1076.80        False        58.85   \n",
              "\n",
              "        Fuel_Price  MarkDown1  MarkDown2  MarkDown3  MarkDown4  MarkDown5  \\\n",
              "0            2.572        NaN        NaN        NaN        NaN        NaN   \n",
              "1            2.548        NaN        NaN        NaN        NaN        NaN   \n",
              "2            2.514        NaN        NaN        NaN        NaN        NaN   \n",
              "3            2.561        NaN        NaN        NaN        NaN        NaN   \n",
              "4            2.625        NaN        NaN        NaN        NaN        NaN   \n",
              "...            ...        ...        ...        ...        ...        ...   \n",
              "421565       3.997    4556.61      20.64       1.50    1601.01    3288.25   \n",
              "421566       3.985    5046.74        NaN      18.82    2253.43    2340.01   \n",
              "421567       4.000    1956.28        NaN       7.89     599.32    3990.54   \n",
              "421568       3.969    2004.02        NaN       3.18     437.73    1537.49   \n",
              "421569       3.882    4018.91      58.08     100.00     211.94     858.33   \n",
              "\n",
              "               CPI  Unemployment  IsHoliday_y Type    Size  \n",
              "0       211.096358         8.106        False    A  151315  \n",
              "1       211.242170         8.106         True    A  151315  \n",
              "2       211.289143         8.106        False    A  151315  \n",
              "3       211.319643         8.106        False    A  151315  \n",
              "4       211.350143         8.106        False    A  151315  \n",
              "...            ...           ...          ...  ...     ...  \n",
              "421565  192.013558         8.684        False    B  118221  \n",
              "421566  192.170412         8.667        False    B  118221  \n",
              "421567  192.327265         8.667        False    B  118221  \n",
              "421568  192.330854         8.667        False    B  118221  \n",
              "421569  192.308899         8.667        False    B  118221  \n",
              "\n",
              "[421570 rows x 17 columns]"
            ]
          },
          "execution_count": 243,
          "metadata": {},
          "output_type": "execute_result"
        }
      ],
      "source": [
        "data_train_df=train_df.merge(Combined_data, how='left',on=['Store' , 'Date'] )\n",
        "data_train_df"
      ]
    },
    {
      "cell_type": "code",
      "execution_count": null,
      "metadata": {
        "colab": {
          "base_uri": "https://localhost:8080/"
        },
        "id": "4RWk1ybVfygZ",
        "outputId": "9bfd3a30-6843-45fd-8f96-8c957787e914"
      },
      "outputs": [
        {
          "data": {
            "text/html": [
              "\n",
              "  <div id=\"df-5a5e9fab-0fcc-4fcf-a297-ec5c60d81792\">\n",
              "    <div class=\"colab-df-container\">\n",
              "      <div>\n",
              "<style scoped>\n",
              "    .dataframe tbody tr th:only-of-type {\n",
              "        vertical-align: middle;\n",
              "    }\n",
              "\n",
              "    .dataframe tbody tr th {\n",
              "        vertical-align: top;\n",
              "    }\n",
              "\n",
              "    .dataframe thead th {\n",
              "        text-align: right;\n",
              "    }\n",
              "</style>\n",
              "<table border=\"1\" class=\"dataframe\">\n",
              "  <thead>\n",
              "    <tr style=\"text-align: right;\">\n",
              "      <th></th>\n",
              "      <th>Store</th>\n",
              "      <th>Dept</th>\n",
              "      <th>Weekly_Sales</th>\n",
              "      <th>Temperature</th>\n",
              "      <th>Fuel_Price</th>\n",
              "      <th>MarkDown1</th>\n",
              "      <th>MarkDown2</th>\n",
              "      <th>MarkDown3</th>\n",
              "      <th>MarkDown4</th>\n",
              "      <th>MarkDown5</th>\n",
              "      <th>CPI</th>\n",
              "      <th>Unemployment</th>\n",
              "      <th>Size</th>\n",
              "    </tr>\n",
              "  </thead>\n",
              "  <tbody>\n",
              "    <tr>\n",
              "      <th>count</th>\n",
              "      <td>421570.000000</td>\n",
              "      <td>421570.000000</td>\n",
              "      <td>421570.000000</td>\n",
              "      <td>421570.000000</td>\n",
              "      <td>421570.000000</td>\n",
              "      <td>150681.000000</td>\n",
              "      <td>111248.000000</td>\n",
              "      <td>137091.000000</td>\n",
              "      <td>134967.000000</td>\n",
              "      <td>151432.000000</td>\n",
              "      <td>421570.000000</td>\n",
              "      <td>421570.000000</td>\n",
              "      <td>421570.000000</td>\n",
              "    </tr>\n",
              "    <tr>\n",
              "      <th>mean</th>\n",
              "      <td>22.200546</td>\n",
              "      <td>44.260317</td>\n",
              "      <td>15981.258123</td>\n",
              "      <td>60.090059</td>\n",
              "      <td>3.361027</td>\n",
              "      <td>7246.420196</td>\n",
              "      <td>3334.628621</td>\n",
              "      <td>1439.421384</td>\n",
              "      <td>3383.168256</td>\n",
              "      <td>4628.975079</td>\n",
              "      <td>171.201947</td>\n",
              "      <td>7.960289</td>\n",
              "      <td>136727.915739</td>\n",
              "    </tr>\n",
              "    <tr>\n",
              "      <th>std</th>\n",
              "      <td>12.785297</td>\n",
              "      <td>30.492054</td>\n",
              "      <td>22711.183519</td>\n",
              "      <td>18.447931</td>\n",
              "      <td>0.458515</td>\n",
              "      <td>8291.221345</td>\n",
              "      <td>9475.357325</td>\n",
              "      <td>9623.078290</td>\n",
              "      <td>6292.384031</td>\n",
              "      <td>5962.887455</td>\n",
              "      <td>39.159276</td>\n",
              "      <td>1.863296</td>\n",
              "      <td>60980.583328</td>\n",
              "    </tr>\n",
              "    <tr>\n",
              "      <th>min</th>\n",
              "      <td>1.000000</td>\n",
              "      <td>1.000000</td>\n",
              "      <td>-4988.940000</td>\n",
              "      <td>-2.060000</td>\n",
              "      <td>2.472000</td>\n",
              "      <td>0.270000</td>\n",
              "      <td>-265.760000</td>\n",
              "      <td>-29.100000</td>\n",
              "      <td>0.220000</td>\n",
              "      <td>135.160000</td>\n",
              "      <td>126.064000</td>\n",
              "      <td>3.879000</td>\n",
              "      <td>34875.000000</td>\n",
              "    </tr>\n",
              "    <tr>\n",
              "      <th>25%</th>\n",
              "      <td>11.000000</td>\n",
              "      <td>18.000000</td>\n",
              "      <td>2079.650000</td>\n",
              "      <td>46.680000</td>\n",
              "      <td>2.933000</td>\n",
              "      <td>2240.270000</td>\n",
              "      <td>41.600000</td>\n",
              "      <td>5.080000</td>\n",
              "      <td>504.220000</td>\n",
              "      <td>1878.440000</td>\n",
              "      <td>132.022667</td>\n",
              "      <td>6.891000</td>\n",
              "      <td>93638.000000</td>\n",
              "    </tr>\n",
              "    <tr>\n",
              "      <th>50%</th>\n",
              "      <td>22.000000</td>\n",
              "      <td>37.000000</td>\n",
              "      <td>7612.030000</td>\n",
              "      <td>62.090000</td>\n",
              "      <td>3.452000</td>\n",
              "      <td>5347.450000</td>\n",
              "      <td>192.000000</td>\n",
              "      <td>24.600000</td>\n",
              "      <td>1481.310000</td>\n",
              "      <td>3359.450000</td>\n",
              "      <td>182.318780</td>\n",
              "      <td>7.866000</td>\n",
              "      <td>140167.000000</td>\n",
              "    </tr>\n",
              "    <tr>\n",
              "      <th>75%</th>\n",
              "      <td>33.000000</td>\n",
              "      <td>74.000000</td>\n",
              "      <td>20205.852500</td>\n",
              "      <td>74.280000</td>\n",
              "      <td>3.738000</td>\n",
              "      <td>9210.900000</td>\n",
              "      <td>1926.940000</td>\n",
              "      <td>103.990000</td>\n",
              "      <td>3595.040000</td>\n",
              "      <td>5563.800000</td>\n",
              "      <td>212.416993</td>\n",
              "      <td>8.572000</td>\n",
              "      <td>202505.000000</td>\n",
              "    </tr>\n",
              "    <tr>\n",
              "      <th>max</th>\n",
              "      <td>45.000000</td>\n",
              "      <td>99.000000</td>\n",
              "      <td>693099.360000</td>\n",
              "      <td>100.140000</td>\n",
              "      <td>4.468000</td>\n",
              "      <td>88646.760000</td>\n",
              "      <td>104519.540000</td>\n",
              "      <td>141630.610000</td>\n",
              "      <td>67474.850000</td>\n",
              "      <td>108519.280000</td>\n",
              "      <td>227.232807</td>\n",
              "      <td>14.313000</td>\n",
              "      <td>219622.000000</td>\n",
              "    </tr>\n",
              "  </tbody>\n",
              "</table>\n",
              "</div>\n",
              "      <button class=\"colab-df-convert\" onclick=\"convertToInteractive('df-5a5e9fab-0fcc-4fcf-a297-ec5c60d81792')\"\n",
              "              title=\"Convert this dataframe to an interactive table.\"\n",
              "              style=\"display:none;\">\n",
              "        \n",
              "  <svg xmlns=\"http://www.w3.org/2000/svg\" height=\"24px\"viewBox=\"0 0 24 24\"\n",
              "       width=\"24px\">\n",
              "    <path d=\"M0 0h24v24H0V0z\" fill=\"none\"/>\n",
              "    <path d=\"M18.56 5.44l.94 2.06.94-2.06 2.06-.94-2.06-.94-.94-2.06-.94 2.06-2.06.94zm-11 1L8.5 8.5l.94-2.06 2.06-.94-2.06-.94L8.5 2.5l-.94 2.06-2.06.94zm10 10l.94 2.06.94-2.06 2.06-.94-2.06-.94-.94-2.06-.94 2.06-2.06.94z\"/><path d=\"M17.41 7.96l-1.37-1.37c-.4-.4-.92-.59-1.43-.59-.52 0-1.04.2-1.43.59L10.3 9.45l-7.72 7.72c-.78.78-.78 2.05 0 2.83L4 21.41c.39.39.9.59 1.41.59.51 0 1.02-.2 1.41-.59l7.78-7.78 2.81-2.81c.8-.78.8-2.07 0-2.86zM5.41 20L4 18.59l7.72-7.72 1.47 1.35L5.41 20z\"/>\n",
              "  </svg>\n",
              "      </button>\n",
              "      \n",
              "  <style>\n",
              "    .colab-df-container {\n",
              "      display:flex;\n",
              "      flex-wrap:wrap;\n",
              "      gap: 12px;\n",
              "    }\n",
              "\n",
              "    .colab-df-convert {\n",
              "      background-color: #E8F0FE;\n",
              "      border: none;\n",
              "      border-radius: 50%;\n",
              "      cursor: pointer;\n",
              "      display: none;\n",
              "      fill: #1967D2;\n",
              "      height: 32px;\n",
              "      padding: 0 0 0 0;\n",
              "      width: 32px;\n",
              "    }\n",
              "\n",
              "    .colab-df-convert:hover {\n",
              "      background-color: #E2EBFA;\n",
              "      box-shadow: 0px 1px 2px rgba(60, 64, 67, 0.3), 0px 1px 3px 1px rgba(60, 64, 67, 0.15);\n",
              "      fill: #174EA6;\n",
              "    }\n",
              "\n",
              "    [theme=dark] .colab-df-convert {\n",
              "      background-color: #3B4455;\n",
              "      fill: #D2E3FC;\n",
              "    }\n",
              "\n",
              "    [theme=dark] .colab-df-convert:hover {\n",
              "      background-color: #434B5C;\n",
              "      box-shadow: 0px 1px 3px 1px rgba(0, 0, 0, 0.15);\n",
              "      filter: drop-shadow(0px 1px 2px rgba(0, 0, 0, 0.3));\n",
              "      fill: #FFFFFF;\n",
              "    }\n",
              "  </style>\n",
              "\n",
              "      <script>\n",
              "        const buttonEl =\n",
              "          document.querySelector('#df-5a5e9fab-0fcc-4fcf-a297-ec5c60d81792 button.colab-df-convert');\n",
              "        buttonEl.style.display =\n",
              "          google.colab.kernel.accessAllowed ? 'block' : 'none';\n",
              "\n",
              "        async function convertToInteractive(key) {\n",
              "          const element = document.querySelector('#df-5a5e9fab-0fcc-4fcf-a297-ec5c60d81792');\n",
              "          const dataTable =\n",
              "            await google.colab.kernel.invokeFunction('convertToInteractive',\n",
              "                                                     [key], {});\n",
              "          if (!dataTable) return;\n",
              "\n",
              "          const docLinkHtml = 'Like what you see? Visit the ' +\n",
              "            '<a target=\"_blank\" href=https://colab.research.google.com/notebooks/data_table.ipynb>data table notebook</a>'\n",
              "            + ' to learn more about interactive tables.';\n",
              "          element.innerHTML = '';\n",
              "          dataTable['output_type'] = 'display_data';\n",
              "          await google.colab.output.renderOutput(dataTable, element);\n",
              "          const docLink = document.createElement('div');\n",
              "          docLink.innerHTML = docLinkHtml;\n",
              "          element.appendChild(docLink);\n",
              "        }\n",
              "      </script>\n",
              "    </div>\n",
              "  </div>\n",
              "  "
            ],
            "text/plain": [
              "               Store           Dept   Weekly_Sales    Temperature  \\\n",
              "count  421570.000000  421570.000000  421570.000000  421570.000000   \n",
              "mean       22.200546      44.260317   15981.258123      60.090059   \n",
              "std        12.785297      30.492054   22711.183519      18.447931   \n",
              "min         1.000000       1.000000   -4988.940000      -2.060000   \n",
              "25%        11.000000      18.000000    2079.650000      46.680000   \n",
              "50%        22.000000      37.000000    7612.030000      62.090000   \n",
              "75%        33.000000      74.000000   20205.852500      74.280000   \n",
              "max        45.000000      99.000000  693099.360000     100.140000   \n",
              "\n",
              "          Fuel_Price      MarkDown1      MarkDown2      MarkDown3  \\\n",
              "count  421570.000000  150681.000000  111248.000000  137091.000000   \n",
              "mean        3.361027    7246.420196    3334.628621    1439.421384   \n",
              "std         0.458515    8291.221345    9475.357325    9623.078290   \n",
              "min         2.472000       0.270000    -265.760000     -29.100000   \n",
              "25%         2.933000    2240.270000      41.600000       5.080000   \n",
              "50%         3.452000    5347.450000     192.000000      24.600000   \n",
              "75%         3.738000    9210.900000    1926.940000     103.990000   \n",
              "max         4.468000   88646.760000  104519.540000  141630.610000   \n",
              "\n",
              "           MarkDown4      MarkDown5            CPI   Unemployment  \\\n",
              "count  134967.000000  151432.000000  421570.000000  421570.000000   \n",
              "mean     3383.168256    4628.975079     171.201947       7.960289   \n",
              "std      6292.384031    5962.887455      39.159276       1.863296   \n",
              "min         0.220000     135.160000     126.064000       3.879000   \n",
              "25%       504.220000    1878.440000     132.022667       6.891000   \n",
              "50%      1481.310000    3359.450000     182.318780       7.866000   \n",
              "75%      3595.040000    5563.800000     212.416993       8.572000   \n",
              "max     67474.850000  108519.280000     227.232807      14.313000   \n",
              "\n",
              "                Size  \n",
              "count  421570.000000  \n",
              "mean   136727.915739  \n",
              "std     60980.583328  \n",
              "min     34875.000000  \n",
              "25%     93638.000000  \n",
              "50%    140167.000000  \n",
              "75%    202505.000000  \n",
              "max    219622.000000  "
            ]
          },
          "execution_count": 244,
          "metadata": {},
          "output_type": "execute_result"
        }
      ],
      "source": [
        "data_train_df.describe()"
      ]
    },
    {
      "cell_type": "markdown",
      "metadata": {
        "id": "RmjnsHJThkl4"
      },
      "source": [
        "**Observations:**\n",
        "\n",
        "*  There are few records where the Weekly Sales are presented in negative values.\n",
        "*  The maxinum temperature has gone upto 100.140 which is quite extreme.\n",
        "*  MarkDown5 has the maximum value offered among all the other MarkDowns \n",
        " \n",
        "\n"
      ]
    },
    {
      "cell_type": "markdown",
      "metadata": {
        "id": "G1oA3LvYht1s"
      },
      "source": [
        "## **Test data**\n",
        "\n",
        "In this section, we will prepared the Test Dataset."
      ]
    },
    {
      "cell_type": "code",
      "execution_count": null,
      "metadata": {
        "id": "2TrDOwYeiNPD"
      },
      "outputs": [],
      "source": [
        "Data_test_df=test_df.merge(Combined_data,how='left', on =['Store' , 'Date'])"
      ]
    },
    {
      "cell_type": "code",
      "execution_count": null,
      "metadata": {
        "colab": {
          "base_uri": "https://localhost:8080/"
        },
        "id": "Z6rC-cHzfyYU",
        "outputId": "2fa2c327-9a73-4e01-d2d2-54fab792003e"
      },
      "outputs": [
        {
          "name": "stdout",
          "output_type": "stream",
          "text": [
            "<class 'pandas.core.frame.DataFrame'>\n",
            "Int64Index: 115064 entries, 0 to 115063\n",
            "Data columns (total 16 columns):\n",
            " #   Column        Non-Null Count   Dtype  \n",
            "---  ------        --------------   -----  \n",
            " 0   Store         115064 non-null  int64  \n",
            " 1   Dept          115064 non-null  int64  \n",
            " 2   Date          115064 non-null  object \n",
            " 3   IsHoliday_x   115064 non-null  bool   \n",
            " 4   Temperature   115064 non-null  float64\n",
            " 5   Fuel_Price    115064 non-null  float64\n",
            " 6   MarkDown1     114915 non-null  float64\n",
            " 7   MarkDown2     86437 non-null   float64\n",
            " 8   MarkDown3     105235 non-null  float64\n",
            " 9   MarkDown4     102176 non-null  float64\n",
            " 10  MarkDown5     115064 non-null  float64\n",
            " 11  CPI           76902 non-null   float64\n",
            " 12  Unemployment  76902 non-null   float64\n",
            " 13  IsHoliday_y   115064 non-null  bool   \n",
            " 14  Type          115064 non-null  object \n",
            " 15  Size          115064 non-null  int64  \n",
            "dtypes: bool(2), float64(9), int64(3), object(2)\n",
            "memory usage: 13.4+ MB\n"
          ]
        }
      ],
      "source": [
        "Data_test_df.info()"
      ]
    },
    {
      "cell_type": "code",
      "execution_count": null,
      "metadata": {
        "colab": {
          "base_uri": "https://localhost:8080/"
        },
        "id": "ZdZnQk9pfyU7",
        "outputId": "a46f2c80-cfdb-49dd-9c33-0ddde384403b"
      },
      "outputs": [
        {
          "data": {
            "text/html": [
              "\n",
              "  <div id=\"df-340643fc-d44e-4979-8240-d7ae753e9291\">\n",
              "    <div class=\"colab-df-container\">\n",
              "      <div>\n",
              "<style scoped>\n",
              "    .dataframe tbody tr th:only-of-type {\n",
              "        vertical-align: middle;\n",
              "    }\n",
              "\n",
              "    .dataframe tbody tr th {\n",
              "        vertical-align: top;\n",
              "    }\n",
              "\n",
              "    .dataframe thead th {\n",
              "        text-align: right;\n",
              "    }\n",
              "</style>\n",
              "<table border=\"1\" class=\"dataframe\">\n",
              "  <thead>\n",
              "    <tr style=\"text-align: right;\">\n",
              "      <th></th>\n",
              "      <th>Store</th>\n",
              "      <th>Dept</th>\n",
              "      <th>Temperature</th>\n",
              "      <th>Fuel_Price</th>\n",
              "      <th>MarkDown1</th>\n",
              "      <th>MarkDown2</th>\n",
              "      <th>MarkDown3</th>\n",
              "      <th>MarkDown4</th>\n",
              "      <th>MarkDown5</th>\n",
              "      <th>CPI</th>\n",
              "      <th>Unemployment</th>\n",
              "      <th>Size</th>\n",
              "    </tr>\n",
              "  </thead>\n",
              "  <tbody>\n",
              "    <tr>\n",
              "      <th>count</th>\n",
              "      <td>115064.000000</td>\n",
              "      <td>115064.000000</td>\n",
              "      <td>115064.000000</td>\n",
              "      <td>115064.000000</td>\n",
              "      <td>114915.000000</td>\n",
              "      <td>86437.000000</td>\n",
              "      <td>105235.000000</td>\n",
              "      <td>102176.000000</td>\n",
              "      <td>115064.000000</td>\n",
              "      <td>76902.000000</td>\n",
              "      <td>76902.000000</td>\n",
              "      <td>115064.000000</td>\n",
              "    </tr>\n",
              "    <tr>\n",
              "      <th>mean</th>\n",
              "      <td>22.238207</td>\n",
              "      <td>44.339524</td>\n",
              "      <td>53.941804</td>\n",
              "      <td>3.581546</td>\n",
              "      <td>7689.216439</td>\n",
              "      <td>3734.051729</td>\n",
              "      <td>2403.088666</td>\n",
              "      <td>3356.219071</td>\n",
              "      <td>3922.681189</td>\n",
              "      <td>176.961347</td>\n",
              "      <td>6.868733</td>\n",
              "      <td>136497.688921</td>\n",
              "    </tr>\n",
              "    <tr>\n",
              "      <th>std</th>\n",
              "      <td>12.809930</td>\n",
              "      <td>30.656410</td>\n",
              "      <td>18.724153</td>\n",
              "      <td>0.239442</td>\n",
              "      <td>10698.760716</td>\n",
              "      <td>8323.495014</td>\n",
              "      <td>13767.939313</td>\n",
              "      <td>7570.501545</td>\n",
              "      <td>19445.150745</td>\n",
              "      <td>41.239967</td>\n",
              "      <td>1.583427</td>\n",
              "      <td>61106.926438</td>\n",
              "    </tr>\n",
              "    <tr>\n",
              "      <th>min</th>\n",
              "      <td>1.000000</td>\n",
              "      <td>1.000000</td>\n",
              "      <td>-7.290000</td>\n",
              "      <td>2.872000</td>\n",
              "      <td>-2781.450000</td>\n",
              "      <td>-35.740000</td>\n",
              "      <td>-179.260000</td>\n",
              "      <td>0.220000</td>\n",
              "      <td>-185.170000</td>\n",
              "      <td>131.236226</td>\n",
              "      <td>3.684000</td>\n",
              "      <td>34875.000000</td>\n",
              "    </tr>\n",
              "    <tr>\n",
              "      <th>25%</th>\n",
              "      <td>11.000000</td>\n",
              "      <td>18.000000</td>\n",
              "      <td>39.820000</td>\n",
              "      <td>3.431000</td>\n",
              "      <td>1966.460000</td>\n",
              "      <td>180.350000</td>\n",
              "      <td>15.100000</td>\n",
              "      <td>155.460000</td>\n",
              "      <td>1309.300000</td>\n",
              "      <td>138.402033</td>\n",
              "      <td>5.771000</td>\n",
              "      <td>93638.000000</td>\n",
              "    </tr>\n",
              "    <tr>\n",
              "      <th>50%</th>\n",
              "      <td>22.000000</td>\n",
              "      <td>37.000000</td>\n",
              "      <td>54.470000</td>\n",
              "      <td>3.606000</td>\n",
              "      <td>4842.290000</td>\n",
              "      <td>742.590000</td>\n",
              "      <td>78.260000</td>\n",
              "      <td>840.940000</td>\n",
              "      <td>2390.430000</td>\n",
              "      <td>192.304445</td>\n",
              "      <td>6.806000</td>\n",
              "      <td>140167.000000</td>\n",
              "    </tr>\n",
              "    <tr>\n",
              "      <th>75%</th>\n",
              "      <td>33.000000</td>\n",
              "      <td>74.000000</td>\n",
              "      <td>67.350000</td>\n",
              "      <td>3.766000</td>\n",
              "      <td>9439.140000</td>\n",
              "      <td>2735.670000</td>\n",
              "      <td>272.580000</td>\n",
              "      <td>3096.920000</td>\n",
              "      <td>4227.270000</td>\n",
              "      <td>223.244532</td>\n",
              "      <td>8.036000</td>\n",
              "      <td>202505.000000</td>\n",
              "    </tr>\n",
              "    <tr>\n",
              "      <th>max</th>\n",
              "      <td>45.000000</td>\n",
              "      <td>99.000000</td>\n",
              "      <td>101.950000</td>\n",
              "      <td>4.125000</td>\n",
              "      <td>103184.980000</td>\n",
              "      <td>71074.170000</td>\n",
              "      <td>149483.310000</td>\n",
              "      <td>65344.640000</td>\n",
              "      <td>771448.100000</td>\n",
              "      <td>228.976456</td>\n",
              "      <td>10.199000</td>\n",
              "      <td>219622.000000</td>\n",
              "    </tr>\n",
              "  </tbody>\n",
              "</table>\n",
              "</div>\n",
              "      <button class=\"colab-df-convert\" onclick=\"convertToInteractive('df-340643fc-d44e-4979-8240-d7ae753e9291')\"\n",
              "              title=\"Convert this dataframe to an interactive table.\"\n",
              "              style=\"display:none;\">\n",
              "        \n",
              "  <svg xmlns=\"http://www.w3.org/2000/svg\" height=\"24px\"viewBox=\"0 0 24 24\"\n",
              "       width=\"24px\">\n",
              "    <path d=\"M0 0h24v24H0V0z\" fill=\"none\"/>\n",
              "    <path d=\"M18.56 5.44l.94 2.06.94-2.06 2.06-.94-2.06-.94-.94-2.06-.94 2.06-2.06.94zm-11 1L8.5 8.5l.94-2.06 2.06-.94-2.06-.94L8.5 2.5l-.94 2.06-2.06.94zm10 10l.94 2.06.94-2.06 2.06-.94-2.06-.94-.94-2.06-.94 2.06-2.06.94z\"/><path d=\"M17.41 7.96l-1.37-1.37c-.4-.4-.92-.59-1.43-.59-.52 0-1.04.2-1.43.59L10.3 9.45l-7.72 7.72c-.78.78-.78 2.05 0 2.83L4 21.41c.39.39.9.59 1.41.59.51 0 1.02-.2 1.41-.59l7.78-7.78 2.81-2.81c.8-.78.8-2.07 0-2.86zM5.41 20L4 18.59l7.72-7.72 1.47 1.35L5.41 20z\"/>\n",
              "  </svg>\n",
              "      </button>\n",
              "      \n",
              "  <style>\n",
              "    .colab-df-container {\n",
              "      display:flex;\n",
              "      flex-wrap:wrap;\n",
              "      gap: 12px;\n",
              "    }\n",
              "\n",
              "    .colab-df-convert {\n",
              "      background-color: #E8F0FE;\n",
              "      border: none;\n",
              "      border-radius: 50%;\n",
              "      cursor: pointer;\n",
              "      display: none;\n",
              "      fill: #1967D2;\n",
              "      height: 32px;\n",
              "      padding: 0 0 0 0;\n",
              "      width: 32px;\n",
              "    }\n",
              "\n",
              "    .colab-df-convert:hover {\n",
              "      background-color: #E2EBFA;\n",
              "      box-shadow: 0px 1px 2px rgba(60, 64, 67, 0.3), 0px 1px 3px 1px rgba(60, 64, 67, 0.15);\n",
              "      fill: #174EA6;\n",
              "    }\n",
              "\n",
              "    [theme=dark] .colab-df-convert {\n",
              "      background-color: #3B4455;\n",
              "      fill: #D2E3FC;\n",
              "    }\n",
              "\n",
              "    [theme=dark] .colab-df-convert:hover {\n",
              "      background-color: #434B5C;\n",
              "      box-shadow: 0px 1px 3px 1px rgba(0, 0, 0, 0.15);\n",
              "      filter: drop-shadow(0px 1px 2px rgba(0, 0, 0, 0.3));\n",
              "      fill: #FFFFFF;\n",
              "    }\n",
              "  </style>\n",
              "\n",
              "      <script>\n",
              "        const buttonEl =\n",
              "          document.querySelector('#df-340643fc-d44e-4979-8240-d7ae753e9291 button.colab-df-convert');\n",
              "        buttonEl.style.display =\n",
              "          google.colab.kernel.accessAllowed ? 'block' : 'none';\n",
              "\n",
              "        async function convertToInteractive(key) {\n",
              "          const element = document.querySelector('#df-340643fc-d44e-4979-8240-d7ae753e9291');\n",
              "          const dataTable =\n",
              "            await google.colab.kernel.invokeFunction('convertToInteractive',\n",
              "                                                     [key], {});\n",
              "          if (!dataTable) return;\n",
              "\n",
              "          const docLinkHtml = 'Like what you see? Visit the ' +\n",
              "            '<a target=\"_blank\" href=https://colab.research.google.com/notebooks/data_table.ipynb>data table notebook</a>'\n",
              "            + ' to learn more about interactive tables.';\n",
              "          element.innerHTML = '';\n",
              "          dataTable['output_type'] = 'display_data';\n",
              "          await google.colab.output.renderOutput(dataTable, element);\n",
              "          const docLink = document.createElement('div');\n",
              "          docLink.innerHTML = docLinkHtml;\n",
              "          element.appendChild(docLink);\n",
              "        }\n",
              "      </script>\n",
              "    </div>\n",
              "  </div>\n",
              "  "
            ],
            "text/plain": [
              "               Store           Dept    Temperature     Fuel_Price  \\\n",
              "count  115064.000000  115064.000000  115064.000000  115064.000000   \n",
              "mean       22.238207      44.339524      53.941804       3.581546   \n",
              "std        12.809930      30.656410      18.724153       0.239442   \n",
              "min         1.000000       1.000000      -7.290000       2.872000   \n",
              "25%        11.000000      18.000000      39.820000       3.431000   \n",
              "50%        22.000000      37.000000      54.470000       3.606000   \n",
              "75%        33.000000      74.000000      67.350000       3.766000   \n",
              "max        45.000000      99.000000     101.950000       4.125000   \n",
              "\n",
              "           MarkDown1     MarkDown2      MarkDown3      MarkDown4  \\\n",
              "count  114915.000000  86437.000000  105235.000000  102176.000000   \n",
              "mean     7689.216439   3734.051729    2403.088666    3356.219071   \n",
              "std     10698.760716   8323.495014   13767.939313    7570.501545   \n",
              "min     -2781.450000    -35.740000    -179.260000       0.220000   \n",
              "25%      1966.460000    180.350000      15.100000     155.460000   \n",
              "50%      4842.290000    742.590000      78.260000     840.940000   \n",
              "75%      9439.140000   2735.670000     272.580000    3096.920000   \n",
              "max    103184.980000  71074.170000  149483.310000   65344.640000   \n",
              "\n",
              "           MarkDown5           CPI  Unemployment           Size  \n",
              "count  115064.000000  76902.000000  76902.000000  115064.000000  \n",
              "mean     3922.681189    176.961347      6.868733  136497.688921  \n",
              "std     19445.150745     41.239967      1.583427   61106.926438  \n",
              "min      -185.170000    131.236226      3.684000   34875.000000  \n",
              "25%      1309.300000    138.402033      5.771000   93638.000000  \n",
              "50%      2390.430000    192.304445      6.806000  140167.000000  \n",
              "75%      4227.270000    223.244532      8.036000  202505.000000  \n",
              "max    771448.100000    228.976456     10.199000  219622.000000  "
            ]
          },
          "execution_count": 247,
          "metadata": {},
          "output_type": "execute_result"
        }
      ],
      "source": [
        "Data_test_df.describe()"
      ]
    },
    {
      "cell_type": "code",
      "execution_count": null,
      "metadata": {
        "colab": {
          "base_uri": "https://localhost:8080/"
        },
        "id": "1Fdfa5t2fySH",
        "outputId": "08d3d0c0-91ea-49d1-d6f9-55f31c480384"
      },
      "outputs": [
        {
          "data": {
            "text/plain": [
              "('2012-11-02', '2013-07-26')"
            ]
          },
          "execution_count": 248,
          "metadata": {},
          "output_type": "execute_result"
        }
      ],
      "source": [
        "Data_test_df['Date'].min(),Data_test_df['Date'].max()"
      ]
    },
    {
      "cell_type": "code",
      "execution_count": null,
      "metadata": {
        "colab": {
          "base_uri": "https://localhost:8080/"
        },
        "id": "EkCI9ZapqnPg",
        "outputId": "dd318d27-9556-49cf-a0c5-037e043df4f1"
      },
      "outputs": [
        {
          "data": {
            "text/plain": [
              "('2010-02-05', '2012-10-26')"
            ]
          },
          "execution_count": 249,
          "metadata": {},
          "output_type": "execute_result"
        }
      ],
      "source": [
        "data_train_df['Date'].min(),data_train_df['Date'].max()"
      ]
    },
    {
      "cell_type": "markdown",
      "metadata": {
        "id": "Cjj5Hm1LGH9-"
      },
      "source": [
        "**Observations:**\n",
        "\n",
        "* Training Dataset has data from 5th Feb 2010 to 26th Oct 2012\n",
        "* Test Dataset has data from 2nd Nov 2012 to 26th Jul 2013"
      ]
    },
    {
      "cell_type": "markdown",
      "metadata": {
        "id": "Y_ZmKU0YlhGr"
      },
      "source": [
        "## **Exploratory Data Analysis**\n",
        "\n",
        "In this section, we will perform EDA by :\n",
        "\n",
        "\n",
        "1.   Analysing below columns to get meangingful insights out of it.\n",
        "*    Date\n",
        "*    Store\n",
        "*    Dept\n",
        "*    Type\n",
        "2.   Answer below questions to generate insights from the dataset.\n",
        "*    What is the effect of Markdown on the sales?\n",
        "*    What are the days with max sales?"
      ]
    },
    {
      "cell_type": "markdown",
      "metadata": {
        "id": "AM6dpbniAY1K"
      },
      "source": [
        "### **Date**"
      ]
    },
    {
      "cell_type": "code",
      "execution_count": null,
      "metadata": {
        "colab": {
          "base_uri": "https://localhost:8080/"
        },
        "id": "zwDgaOTOWIek",
        "outputId": "ed0daca2-345c-44cf-9d6a-b5bb6ea5879b"
      },
      "outputs": [
        {
          "name": "stdout",
          "output_type": "stream",
          "text": [
            "<class 'pandas.core.frame.DataFrame'>\n",
            "Int64Index: 421570 entries, 0 to 421569\n",
            "Data columns (total 17 columns):\n",
            " #   Column        Non-Null Count   Dtype  \n",
            "---  ------        --------------   -----  \n",
            " 0   Store         421570 non-null  int64  \n",
            " 1   Dept          421570 non-null  int64  \n",
            " 2   Date          421570 non-null  object \n",
            " 3   Weekly_Sales  421570 non-null  float64\n",
            " 4   IsHoliday_x   421570 non-null  bool   \n",
            " 5   Temperature   421570 non-null  float64\n",
            " 6   Fuel_Price    421570 non-null  float64\n",
            " 7   MarkDown1     150681 non-null  float64\n",
            " 8   MarkDown2     111248 non-null  float64\n",
            " 9   MarkDown3     137091 non-null  float64\n",
            " 10  MarkDown4     134967 non-null  float64\n",
            " 11  MarkDown5     151432 non-null  float64\n",
            " 12  CPI           421570 non-null  float64\n",
            " 13  Unemployment  421570 non-null  float64\n",
            " 14  IsHoliday_y   421570 non-null  bool   \n",
            " 15  Type          421570 non-null  object \n",
            " 16  Size          421570 non-null  int64  \n",
            "dtypes: bool(2), float64(10), int64(3), object(2)\n",
            "memory usage: 52.3+ MB\n"
          ]
        }
      ],
      "source": [
        "data_train_df.info()"
      ]
    },
    {
      "cell_type": "markdown",
      "metadata": {
        "id": "SF4NeAVzaDEU"
      },
      "source": [
        "Here, we will analyse Month Wise Distribution of Sale using the `Date` field.\n",
        "\n",
        "We will convert the datatype of `Date` field to Datetime and extract Month"
      ]
    },
    {
      "cell_type": "code",
      "execution_count": null,
      "metadata": {
        "id": "gYkQAl-Qah0I"
      },
      "outputs": [],
      "source": [
        "data_train_df['Date']=pd.to_datetime(data_train_df['Date'])\n",
        "data_train_df['Month'] = data_train_df.Date.dt.month"
      ]
    },
    {
      "cell_type": "markdown",
      "metadata": {
        "id": "7YrjSLJaeRlc"
      },
      "source": [
        "`reset_index()` is used to add the index column created by `groupby` into a pandas column"
      ]
    },
    {
      "cell_type": "code",
      "execution_count": null,
      "metadata": {
        "id": "FOkbNRfKeP5r"
      },
      "outputs": [],
      "source": [
        "date_df=data_train_df.groupby('Month').sum().reset_index()"
      ]
    },
    {
      "cell_type": "code",
      "execution_count": null,
      "metadata": {
        "colab": {
          "base_uri": "https://localhost:8080/",
          "height": 490
        },
        "id": "jVvh9JM3fgrQ",
        "outputId": "67f84d64-2681-4cdd-c5d6-449c928a7777"
      },
      "outputs": [
        {
          "data": {
            "text/html": [
              "\n",
              "  <div id=\"df-7e03606d-95a1-46c6-bb8a-fce96f0427f1\">\n",
              "    <div class=\"colab-df-container\">\n",
              "      <div>\n",
              "<style scoped>\n",
              "    .dataframe tbody tr th:only-of-type {\n",
              "        vertical-align: middle;\n",
              "    }\n",
              "\n",
              "    .dataframe tbody tr th {\n",
              "        vertical-align: top;\n",
              "    }\n",
              "\n",
              "    .dataframe thead th {\n",
              "        text-align: right;\n",
              "    }\n",
              "</style>\n",
              "<table border=\"1\" class=\"dataframe\">\n",
              "  <thead>\n",
              "    <tr style=\"text-align: right;\">\n",
              "      <th></th>\n",
              "      <th>Month</th>\n",
              "      <th>Store</th>\n",
              "      <th>Dept</th>\n",
              "      <th>Weekly_Sales</th>\n",
              "      <th>IsHoliday_x</th>\n",
              "      <th>Temperature</th>\n",
              "      <th>Fuel_Price</th>\n",
              "      <th>MarkDown1</th>\n",
              "      <th>MarkDown2</th>\n",
              "      <th>MarkDown3</th>\n",
              "      <th>MarkDown4</th>\n",
              "      <th>MarkDown5</th>\n",
              "      <th>CPI</th>\n",
              "      <th>Unemployment</th>\n",
              "      <th>IsHoliday_y</th>\n",
              "      <th>Size</th>\n",
              "    </tr>\n",
              "  </thead>\n",
              "  <tbody>\n",
              "    <tr>\n",
              "      <th>0</th>\n",
              "      <td>1</td>\n",
              "      <td>521937</td>\n",
              "      <td>1039038</td>\n",
              "      <td>3.325984e+08</td>\n",
              "      <td>0</td>\n",
              "      <td>870223.47</td>\n",
              "      <td>76367.351</td>\n",
              "      <td>3.682163e+07</td>\n",
              "      <td>1.112372e+08</td>\n",
              "      <td>9.992948e+05</td>\n",
              "      <td>6.882204e+06</td>\n",
              "      <td>4.326050e+07</td>\n",
              "      <td>4.029965e+06</td>\n",
              "      <td>185014.150</td>\n",
              "      <td>0</td>\n",
              "      <td>3219984603</td>\n",
              "    </tr>\n",
              "    <tr>\n",
              "      <th>1</th>\n",
              "      <td>2</td>\n",
              "      <td>786209</td>\n",
              "      <td>1573438</td>\n",
              "      <td>5.687279e+08</td>\n",
              "      <td>8895</td>\n",
              "      <td>1358254.43</td>\n",
              "      <td>111372.346</td>\n",
              "      <td>2.108105e+08</td>\n",
              "      <td>6.519521e+07</td>\n",
              "      <td>7.403472e+05</td>\n",
              "      <td>1.477809e+08</td>\n",
              "      <td>7.233209e+07</td>\n",
              "      <td>6.050472e+06</td>\n",
              "      <td>287621.161</td>\n",
              "      <td>8895</td>\n",
              "      <td>4865006193</td>\n",
              "    </tr>\n",
              "    <tr>\n",
              "      <th>2</th>\n",
              "      <td>3</td>\n",
              "      <td>852548</td>\n",
              "      <td>1698192</td>\n",
              "      <td>5.927859e+08</td>\n",
              "      <td>0</td>\n",
              "      <td>1894945.71</td>\n",
              "      <td>131072.731</td>\n",
              "      <td>1.271615e+08</td>\n",
              "      <td>7.609068e+06</td>\n",
              "      <td>1.390271e+05</td>\n",
              "      <td>5.579204e+07</td>\n",
              "      <td>4.974710e+07</td>\n",
              "      <td>6.578496e+06</td>\n",
              "      <td>309622.494</td>\n",
              "      <td>0</td>\n",
              "      <td>5257312710</td>\n",
              "    </tr>\n",
              "    <tr>\n",
              "      <th>3</th>\n",
              "      <td>4</td>\n",
              "      <td>917150</td>\n",
              "      <td>1823191</td>\n",
              "      <td>6.468598e+08</td>\n",
              "      <td>0</td>\n",
              "      <td>2359336.47</td>\n",
              "      <td>144990.329</td>\n",
              "      <td>6.510115e+07</td>\n",
              "      <td>2.327375e+07</td>\n",
              "      <td>3.043138e+05</td>\n",
              "      <td>1.408803e+07</td>\n",
              "      <td>4.210507e+07</td>\n",
              "      <td>7.056174e+06</td>\n",
              "      <td>331696.064</td>\n",
              "      <td>0</td>\n",
              "      <td>5653647559</td>\n",
              "    </tr>\n",
              "    <tr>\n",
              "      <th>4</th>\n",
              "      <td>5</td>\n",
              "      <td>784491</td>\n",
              "      <td>1564694</td>\n",
              "      <td>5.571256e+08</td>\n",
              "      <td>0</td>\n",
              "      <td>2294049.56</td>\n",
              "      <td>126442.259</td>\n",
              "      <td>1.026039e+08</td>\n",
              "      <td>2.051020e+05</td>\n",
              "      <td>1.848232e+06</td>\n",
              "      <td>2.505654e+07</td>\n",
              "      <td>3.885003e+07</td>\n",
              "      <td>6.044468e+06</td>\n",
              "      <td>281903.009</td>\n",
              "      <td>0</td>\n",
              "      <td>4831206158</td>\n",
              "    </tr>\n",
              "    <tr>\n",
              "      <th>5</th>\n",
              "      <td>6</td>\n",
              "      <td>847751</td>\n",
              "      <td>1693038</td>\n",
              "      <td>6.226299e+08</td>\n",
              "      <td>0</td>\n",
              "      <td>2850174.48</td>\n",
              "      <td>130593.501</td>\n",
              "      <td>9.365420e+07</td>\n",
              "      <td>2.871815e+06</td>\n",
              "      <td>7.051402e+05</td>\n",
              "      <td>2.352558e+07</td>\n",
              "      <td>7.440216e+07</td>\n",
              "      <td>6.540068e+06</td>\n",
              "      <td>302720.364</td>\n",
              "      <td>0</td>\n",
              "      <td>5214425748</td>\n",
              "    </tr>\n",
              "    <tr>\n",
              "      <th>6</th>\n",
              "      <td>7</td>\n",
              "      <td>911769</td>\n",
              "      <td>1818903</td>\n",
              "      <td>6.500010e+08</td>\n",
              "      <td>0</td>\n",
              "      <td>3252072.01</td>\n",
              "      <td>135750.638</td>\n",
              "      <td>5.930780e+07</td>\n",
              "      <td>1.536003e+06</td>\n",
              "      <td>3.145163e+05</td>\n",
              "      <td>3.864670e+07</td>\n",
              "      <td>6.854730e+07</td>\n",
              "      <td>7.009632e+06</td>\n",
              "      <td>325136.892</td>\n",
              "      <td>0</td>\n",
              "      <td>5601287100</td>\n",
              "    </tr>\n",
              "    <tr>\n",
              "      <th>7</th>\n",
              "      <td>8</td>\n",
              "      <td>849330</td>\n",
              "      <td>1694546</td>\n",
              "      <td>6.130902e+08</td>\n",
              "      <td>0</td>\n",
              "      <td>3008396.30</td>\n",
              "      <td>130432.408</td>\n",
              "      <td>1.634400e+08</td>\n",
              "      <td>1.135779e+06</td>\n",
              "      <td>5.778444e+05</td>\n",
              "      <td>8.066786e+07</td>\n",
              "      <td>5.505256e+07</td>\n",
              "      <td>6.559005e+06</td>\n",
              "      <td>299025.787</td>\n",
              "      <td>0</td>\n",
              "      <td>5219754709</td>\n",
              "    </tr>\n",
              "    <tr>\n",
              "      <th>8</th>\n",
              "      <td>9</td>\n",
              "      <td>851964</td>\n",
              "      <td>1692532</td>\n",
              "      <td>5.787612e+08</td>\n",
              "      <td>8861</td>\n",
              "      <td>2756289.57</td>\n",
              "      <td>131732.167</td>\n",
              "      <td>8.442547e+07</td>\n",
              "      <td>3.224239e+05</td>\n",
              "      <td>4.399078e+05</td>\n",
              "      <td>1.878868e+07</td>\n",
              "      <td>6.038453e+07</td>\n",
              "      <td>6.588184e+06</td>\n",
              "      <td>302755.403</td>\n",
              "      <td>8861</td>\n",
              "      <td>5242060031</td>\n",
              "    </tr>\n",
              "    <tr>\n",
              "      <th>9</th>\n",
              "      <td>10</td>\n",
              "      <td>851387</td>\n",
              "      <td>1695101</td>\n",
              "      <td>5.847848e+08</td>\n",
              "      <td>0</td>\n",
              "      <td>2340535.27</td>\n",
              "      <td>128600.595</td>\n",
              "      <td>4.111553e+07</td>\n",
              "      <td>2.035002e+05</td>\n",
              "      <td>3.429935e+05</td>\n",
              "      <td>1.316182e+07</td>\n",
              "      <td>4.289315e+07</td>\n",
              "      <td>6.598040e+06</td>\n",
              "      <td>297892.914</td>\n",
              "      <td>0</td>\n",
              "      <td>5236087743</td>\n",
              "    </tr>\n",
              "    <tr>\n",
              "      <th>10</th>\n",
              "      <td>11</td>\n",
              "      <td>523532</td>\n",
              "      <td>1043287</td>\n",
              "      <td>4.130157e+08</td>\n",
              "      <td>5959</td>\n",
              "      <td>1166311.52</td>\n",
              "      <td>75279.661</td>\n",
              "      <td>5.438608e+07</td>\n",
              "      <td>3.115649e+07</td>\n",
              "      <td>1.730382e+08</td>\n",
              "      <td>1.308325e+07</td>\n",
              "      <td>3.791960e+07</td>\n",
              "      <td>4.029373e+06</td>\n",
              "      <td>191118.849</td>\n",
              "      <td>5959</td>\n",
              "      <td>3229569483</td>\n",
              "    </tr>\n",
              "    <tr>\n",
              "      <th>11</th>\n",
              "      <td>12</td>\n",
              "      <td>661016</td>\n",
              "      <td>1322862</td>\n",
              "      <td>5.768386e+08</td>\n",
              "      <td>5946</td>\n",
              "      <td>1181577.27</td>\n",
              "      <td>94273.967</td>\n",
              "      <td>5.307015e+07</td>\n",
              "      <td>1.262244e+08</td>\n",
              "      <td>1.788188e+07</td>\n",
              "      <td>1.914244e+07</td>\n",
              "      <td>1.154809e+08</td>\n",
              "      <td>5.089726e+06</td>\n",
              "      <td>241311.818</td>\n",
              "      <td>5946</td>\n",
              "      <td>4070045401</td>\n",
              "    </tr>\n",
              "  </tbody>\n",
              "</table>\n",
              "</div>\n",
              "      <button class=\"colab-df-convert\" onclick=\"convertToInteractive('df-7e03606d-95a1-46c6-bb8a-fce96f0427f1')\"\n",
              "              title=\"Convert this dataframe to an interactive table.\"\n",
              "              style=\"display:none;\">\n",
              "        \n",
              "  <svg xmlns=\"http://www.w3.org/2000/svg\" height=\"24px\"viewBox=\"0 0 24 24\"\n",
              "       width=\"24px\">\n",
              "    <path d=\"M0 0h24v24H0V0z\" fill=\"none\"/>\n",
              "    <path d=\"M18.56 5.44l.94 2.06.94-2.06 2.06-.94-2.06-.94-.94-2.06-.94 2.06-2.06.94zm-11 1L8.5 8.5l.94-2.06 2.06-.94-2.06-.94L8.5 2.5l-.94 2.06-2.06.94zm10 10l.94 2.06.94-2.06 2.06-.94-2.06-.94-.94-2.06-.94 2.06-2.06.94z\"/><path d=\"M17.41 7.96l-1.37-1.37c-.4-.4-.92-.59-1.43-.59-.52 0-1.04.2-1.43.59L10.3 9.45l-7.72 7.72c-.78.78-.78 2.05 0 2.83L4 21.41c.39.39.9.59 1.41.59.51 0 1.02-.2 1.41-.59l7.78-7.78 2.81-2.81c.8-.78.8-2.07 0-2.86zM5.41 20L4 18.59l7.72-7.72 1.47 1.35L5.41 20z\"/>\n",
              "  </svg>\n",
              "      </button>\n",
              "      \n",
              "  <style>\n",
              "    .colab-df-container {\n",
              "      display:flex;\n",
              "      flex-wrap:wrap;\n",
              "      gap: 12px;\n",
              "    }\n",
              "\n",
              "    .colab-df-convert {\n",
              "      background-color: #E8F0FE;\n",
              "      border: none;\n",
              "      border-radius: 50%;\n",
              "      cursor: pointer;\n",
              "      display: none;\n",
              "      fill: #1967D2;\n",
              "      height: 32px;\n",
              "      padding: 0 0 0 0;\n",
              "      width: 32px;\n",
              "    }\n",
              "\n",
              "    .colab-df-convert:hover {\n",
              "      background-color: #E2EBFA;\n",
              "      box-shadow: 0px 1px 2px rgba(60, 64, 67, 0.3), 0px 1px 3px 1px rgba(60, 64, 67, 0.15);\n",
              "      fill: #174EA6;\n",
              "    }\n",
              "\n",
              "    [theme=dark] .colab-df-convert {\n",
              "      background-color: #3B4455;\n",
              "      fill: #D2E3FC;\n",
              "    }\n",
              "\n",
              "    [theme=dark] .colab-df-convert:hover {\n",
              "      background-color: #434B5C;\n",
              "      box-shadow: 0px 1px 3px 1px rgba(0, 0, 0, 0.15);\n",
              "      filter: drop-shadow(0px 1px 2px rgba(0, 0, 0, 0.3));\n",
              "      fill: #FFFFFF;\n",
              "    }\n",
              "  </style>\n",
              "\n",
              "      <script>\n",
              "        const buttonEl =\n",
              "          document.querySelector('#df-7e03606d-95a1-46c6-bb8a-fce96f0427f1 button.colab-df-convert');\n",
              "        buttonEl.style.display =\n",
              "          google.colab.kernel.accessAllowed ? 'block' : 'none';\n",
              "\n",
              "        async function convertToInteractive(key) {\n",
              "          const element = document.querySelector('#df-7e03606d-95a1-46c6-bb8a-fce96f0427f1');\n",
              "          const dataTable =\n",
              "            await google.colab.kernel.invokeFunction('convertToInteractive',\n",
              "                                                     [key], {});\n",
              "          if (!dataTable) return;\n",
              "\n",
              "          const docLinkHtml = 'Like what you see? Visit the ' +\n",
              "            '<a target=\"_blank\" href=https://colab.research.google.com/notebooks/data_table.ipynb>data table notebook</a>'\n",
              "            + ' to learn more about interactive tables.';\n",
              "          element.innerHTML = '';\n",
              "          dataTable['output_type'] = 'display_data';\n",
              "          await google.colab.output.renderOutput(dataTable, element);\n",
              "          const docLink = document.createElement('div');\n",
              "          docLink.innerHTML = docLinkHtml;\n",
              "          element.appendChild(docLink);\n",
              "        }\n",
              "      </script>\n",
              "    </div>\n",
              "  </div>\n",
              "  "
            ],
            "text/plain": [
              "    Month   Store     Dept  Weekly_Sales  IsHoliday_x  Temperature  \\\n",
              "0       1  521937  1039038  3.325984e+08            0    870223.47   \n",
              "1       2  786209  1573438  5.687279e+08         8895   1358254.43   \n",
              "2       3  852548  1698192  5.927859e+08            0   1894945.71   \n",
              "3       4  917150  1823191  6.468598e+08            0   2359336.47   \n",
              "4       5  784491  1564694  5.571256e+08            0   2294049.56   \n",
              "5       6  847751  1693038  6.226299e+08            0   2850174.48   \n",
              "6       7  911769  1818903  6.500010e+08            0   3252072.01   \n",
              "7       8  849330  1694546  6.130902e+08            0   3008396.30   \n",
              "8       9  851964  1692532  5.787612e+08         8861   2756289.57   \n",
              "9      10  851387  1695101  5.847848e+08            0   2340535.27   \n",
              "10     11  523532  1043287  4.130157e+08         5959   1166311.52   \n",
              "11     12  661016  1322862  5.768386e+08         5946   1181577.27   \n",
              "\n",
              "    Fuel_Price     MarkDown1     MarkDown2     MarkDown3     MarkDown4  \\\n",
              "0    76367.351  3.682163e+07  1.112372e+08  9.992948e+05  6.882204e+06   \n",
              "1   111372.346  2.108105e+08  6.519521e+07  7.403472e+05  1.477809e+08   \n",
              "2   131072.731  1.271615e+08  7.609068e+06  1.390271e+05  5.579204e+07   \n",
              "3   144990.329  6.510115e+07  2.327375e+07  3.043138e+05  1.408803e+07   \n",
              "4   126442.259  1.026039e+08  2.051020e+05  1.848232e+06  2.505654e+07   \n",
              "5   130593.501  9.365420e+07  2.871815e+06  7.051402e+05  2.352558e+07   \n",
              "6   135750.638  5.930780e+07  1.536003e+06  3.145163e+05  3.864670e+07   \n",
              "7   130432.408  1.634400e+08  1.135779e+06  5.778444e+05  8.066786e+07   \n",
              "8   131732.167  8.442547e+07  3.224239e+05  4.399078e+05  1.878868e+07   \n",
              "9   128600.595  4.111553e+07  2.035002e+05  3.429935e+05  1.316182e+07   \n",
              "10   75279.661  5.438608e+07  3.115649e+07  1.730382e+08  1.308325e+07   \n",
              "11   94273.967  5.307015e+07  1.262244e+08  1.788188e+07  1.914244e+07   \n",
              "\n",
              "       MarkDown5           CPI  Unemployment  IsHoliday_y        Size  \n",
              "0   4.326050e+07  4.029965e+06    185014.150            0  3219984603  \n",
              "1   7.233209e+07  6.050472e+06    287621.161         8895  4865006193  \n",
              "2   4.974710e+07  6.578496e+06    309622.494            0  5257312710  \n",
              "3   4.210507e+07  7.056174e+06    331696.064            0  5653647559  \n",
              "4   3.885003e+07  6.044468e+06    281903.009            0  4831206158  \n",
              "5   7.440216e+07  6.540068e+06    302720.364            0  5214425748  \n",
              "6   6.854730e+07  7.009632e+06    325136.892            0  5601287100  \n",
              "7   5.505256e+07  6.559005e+06    299025.787            0  5219754709  \n",
              "8   6.038453e+07  6.588184e+06    302755.403         8861  5242060031  \n",
              "9   4.289315e+07  6.598040e+06    297892.914            0  5236087743  \n",
              "10  3.791960e+07  4.029373e+06    191118.849         5959  3229569483  \n",
              "11  1.154809e+08  5.089726e+06    241311.818         5946  4070045401  "
            ]
          },
          "execution_count": 34,
          "metadata": {},
          "output_type": "execute_result"
        }
      ],
      "source": [
        "date_df"
      ]
    },
    {
      "cell_type": "code",
      "execution_count": null,
      "metadata": {
        "colab": {
          "base_uri": "https://localhost:8080/",
          "height": 542
        },
        "id": "CCHcvUANahwx",
        "outputId": "ad771339-f21b-43eb-a799-5bdbbed20625"
      },
      "outputs": [
        {
          "data": {
            "text/html": [
              "<html>\n",
              "<head><meta charset=\"utf-8\" /></head>\n",
              "<body>\n",
              "    <div>            <script src=\"https://cdnjs.cloudflare.com/ajax/libs/mathjax/2.7.5/MathJax.js?config=TeX-AMS-MML_SVG\"></script><script type=\"text/javascript\">if (window.MathJax) {MathJax.Hub.Config({SVG: {font: \"STIX-Web\"}});}</script>                <script type=\"text/javascript\">window.PlotlyConfig = {MathJaxConfig: 'local'};</script>\n",
              "        <script src=\"https://cdn.plot.ly/plotly-2.8.3.min.js\"></script>                <div id=\"1331a8a9-97d7-4556-8604-9e65fef2d4c8\" class=\"plotly-graph-div\" style=\"height:525px; width:100%;\"></div>            <script type=\"text/javascript\">                                    window.PLOTLYENV=window.PLOTLYENV || {};                                    if (document.getElementById(\"1331a8a9-97d7-4556-8604-9e65fef2d4c8\")) {                    Plotly.newPlot(                        \"1331a8a9-97d7-4556-8604-9e65fef2d4c8\",                        [{\"alignmentgroup\":\"True\",\"hovertemplate\":\"Month=%{x}<br>Weekly_Sales=%{y}<br>IsHoliday_x=%{marker.color}<extra></extra>\",\"legendgroup\":\"\",\"marker\":{\"color\":[0,8895,0,0,0,0,0,0,8861,0,5959,5946],\"coloraxis\":\"coloraxis\",\"pattern\":{\"shape\":\"\"}},\"name\":\"\",\"offsetgroup\":\"\",\"orientation\":\"v\",\"showlegend\":false,\"textposition\":\"auto\",\"x\":[1,2,3,4,5,6,7,8,9,10,11,12],\"xaxis\":\"x\",\"y\":[332598438.49,568727890.45,592785901.28,646859784.97,557125571.95,622629886.84,650000977.25,613090208.82,578761179.26,584784787.59,413015725.01,576838635.2],\"yaxis\":\"y\",\"type\":\"bar\"}],                        {\"template\":{\"data\":{\"bar\":[{\"error_x\":{\"color\":\"#2a3f5f\"},\"error_y\":{\"color\":\"#2a3f5f\"},\"marker\":{\"line\":{\"color\":\"#E5ECF6\",\"width\":0.5},\"pattern\":{\"fillmode\":\"overlay\",\"size\":10,\"solidity\":0.2}},\"type\":\"bar\"}],\"barpolar\":[{\"marker\":{\"line\":{\"color\":\"#E5ECF6\",\"width\":0.5},\"pattern\":{\"fillmode\":\"overlay\",\"size\":10,\"solidity\":0.2}},\"type\":\"barpolar\"}],\"carpet\":[{\"aaxis\":{\"endlinecolor\":\"#2a3f5f\",\"gridcolor\":\"white\",\"linecolor\":\"white\",\"minorgridcolor\":\"white\",\"startlinecolor\":\"#2a3f5f\"},\"baxis\":{\"endlinecolor\":\"#2a3f5f\",\"gridcolor\":\"white\",\"linecolor\":\"white\",\"minorgridcolor\":\"white\",\"startlinecolor\":\"#2a3f5f\"},\"type\":\"carpet\"}],\"choropleth\":[{\"colorbar\":{\"outlinewidth\":0,\"ticks\":\"\"},\"type\":\"choropleth\"}],\"contour\":[{\"colorbar\":{\"outlinewidth\":0,\"ticks\":\"\"},\"colorscale\":[[0.0,\"#0d0887\"],[0.1111111111111111,\"#46039f\"],[0.2222222222222222,\"#7201a8\"],[0.3333333333333333,\"#9c179e\"],[0.4444444444444444,\"#bd3786\"],[0.5555555555555556,\"#d8576b\"],[0.6666666666666666,\"#ed7953\"],[0.7777777777777778,\"#fb9f3a\"],[0.8888888888888888,\"#fdca26\"],[1.0,\"#f0f921\"]],\"type\":\"contour\"}],\"contourcarpet\":[{\"colorbar\":{\"outlinewidth\":0,\"ticks\":\"\"},\"type\":\"contourcarpet\"}],\"heatmap\":[{\"colorbar\":{\"outlinewidth\":0,\"ticks\":\"\"},\"colorscale\":[[0.0,\"#0d0887\"],[0.1111111111111111,\"#46039f\"],[0.2222222222222222,\"#7201a8\"],[0.3333333333333333,\"#9c179e\"],[0.4444444444444444,\"#bd3786\"],[0.5555555555555556,\"#d8576b\"],[0.6666666666666666,\"#ed7953\"],[0.7777777777777778,\"#fb9f3a\"],[0.8888888888888888,\"#fdca26\"],[1.0,\"#f0f921\"]],\"type\":\"heatmap\"}],\"heatmapgl\":[{\"colorbar\":{\"outlinewidth\":0,\"ticks\":\"\"},\"colorscale\":[[0.0,\"#0d0887\"],[0.1111111111111111,\"#46039f\"],[0.2222222222222222,\"#7201a8\"],[0.3333333333333333,\"#9c179e\"],[0.4444444444444444,\"#bd3786\"],[0.5555555555555556,\"#d8576b\"],[0.6666666666666666,\"#ed7953\"],[0.7777777777777778,\"#fb9f3a\"],[0.8888888888888888,\"#fdca26\"],[1.0,\"#f0f921\"]],\"type\":\"heatmapgl\"}],\"histogram\":[{\"marker\":{\"pattern\":{\"fillmode\":\"overlay\",\"size\":10,\"solidity\":0.2}},\"type\":\"histogram\"}],\"histogram2d\":[{\"colorbar\":{\"outlinewidth\":0,\"ticks\":\"\"},\"colorscale\":[[0.0,\"#0d0887\"],[0.1111111111111111,\"#46039f\"],[0.2222222222222222,\"#7201a8\"],[0.3333333333333333,\"#9c179e\"],[0.4444444444444444,\"#bd3786\"],[0.5555555555555556,\"#d8576b\"],[0.6666666666666666,\"#ed7953\"],[0.7777777777777778,\"#fb9f3a\"],[0.8888888888888888,\"#fdca26\"],[1.0,\"#f0f921\"]],\"type\":\"histogram2d\"}],\"histogram2dcontour\":[{\"colorbar\":{\"outlinewidth\":0,\"ticks\":\"\"},\"colorscale\":[[0.0,\"#0d0887\"],[0.1111111111111111,\"#46039f\"],[0.2222222222222222,\"#7201a8\"],[0.3333333333333333,\"#9c179e\"],[0.4444444444444444,\"#bd3786\"],[0.5555555555555556,\"#d8576b\"],[0.6666666666666666,\"#ed7953\"],[0.7777777777777778,\"#fb9f3a\"],[0.8888888888888888,\"#fdca26\"],[1.0,\"#f0f921\"]],\"type\":\"histogram2dcontour\"}],\"mesh3d\":[{\"colorbar\":{\"outlinewidth\":0,\"ticks\":\"\"},\"type\":\"mesh3d\"}],\"parcoords\":[{\"line\":{\"colorbar\":{\"outlinewidth\":0,\"ticks\":\"\"}},\"type\":\"parcoords\"}],\"pie\":[{\"automargin\":true,\"type\":\"pie\"}],\"scatter\":[{\"marker\":{\"colorbar\":{\"outlinewidth\":0,\"ticks\":\"\"}},\"type\":\"scatter\"}],\"scatter3d\":[{\"line\":{\"colorbar\":{\"outlinewidth\":0,\"ticks\":\"\"}},\"marker\":{\"colorbar\":{\"outlinewidth\":0,\"ticks\":\"\"}},\"type\":\"scatter3d\"}],\"scattercarpet\":[{\"marker\":{\"colorbar\":{\"outlinewidth\":0,\"ticks\":\"\"}},\"type\":\"scattercarpet\"}],\"scattergeo\":[{\"marker\":{\"colorbar\":{\"outlinewidth\":0,\"ticks\":\"\"}},\"type\":\"scattergeo\"}],\"scattergl\":[{\"marker\":{\"colorbar\":{\"outlinewidth\":0,\"ticks\":\"\"}},\"type\":\"scattergl\"}],\"scattermapbox\":[{\"marker\":{\"colorbar\":{\"outlinewidth\":0,\"ticks\":\"\"}},\"type\":\"scattermapbox\"}],\"scatterpolar\":[{\"marker\":{\"colorbar\":{\"outlinewidth\":0,\"ticks\":\"\"}},\"type\":\"scatterpolar\"}],\"scatterpolargl\":[{\"marker\":{\"colorbar\":{\"outlinewidth\":0,\"ticks\":\"\"}},\"type\":\"scatterpolargl\"}],\"scatterternary\":[{\"marker\":{\"colorbar\":{\"outlinewidth\":0,\"ticks\":\"\"}},\"type\":\"scatterternary\"}],\"surface\":[{\"colorbar\":{\"outlinewidth\":0,\"ticks\":\"\"},\"colorscale\":[[0.0,\"#0d0887\"],[0.1111111111111111,\"#46039f\"],[0.2222222222222222,\"#7201a8\"],[0.3333333333333333,\"#9c179e\"],[0.4444444444444444,\"#bd3786\"],[0.5555555555555556,\"#d8576b\"],[0.6666666666666666,\"#ed7953\"],[0.7777777777777778,\"#fb9f3a\"],[0.8888888888888888,\"#fdca26\"],[1.0,\"#f0f921\"]],\"type\":\"surface\"}],\"table\":[{\"cells\":{\"fill\":{\"color\":\"#EBF0F8\"},\"line\":{\"color\":\"white\"}},\"header\":{\"fill\":{\"color\":\"#C8D4E3\"},\"line\":{\"color\":\"white\"}},\"type\":\"table\"}]},\"layout\":{\"annotationdefaults\":{\"arrowcolor\":\"#2a3f5f\",\"arrowhead\":0,\"arrowwidth\":1},\"autotypenumbers\":\"strict\",\"coloraxis\":{\"colorbar\":{\"outlinewidth\":0,\"ticks\":\"\"}},\"colorscale\":{\"diverging\":[[0,\"#8e0152\"],[0.1,\"#c51b7d\"],[0.2,\"#de77ae\"],[0.3,\"#f1b6da\"],[0.4,\"#fde0ef\"],[0.5,\"#f7f7f7\"],[0.6,\"#e6f5d0\"],[0.7,\"#b8e186\"],[0.8,\"#7fbc41\"],[0.9,\"#4d9221\"],[1,\"#276419\"]],\"sequential\":[[0.0,\"#0d0887\"],[0.1111111111111111,\"#46039f\"],[0.2222222222222222,\"#7201a8\"],[0.3333333333333333,\"#9c179e\"],[0.4444444444444444,\"#bd3786\"],[0.5555555555555556,\"#d8576b\"],[0.6666666666666666,\"#ed7953\"],[0.7777777777777778,\"#fb9f3a\"],[0.8888888888888888,\"#fdca26\"],[1.0,\"#f0f921\"]],\"sequentialminus\":[[0.0,\"#0d0887\"],[0.1111111111111111,\"#46039f\"],[0.2222222222222222,\"#7201a8\"],[0.3333333333333333,\"#9c179e\"],[0.4444444444444444,\"#bd3786\"],[0.5555555555555556,\"#d8576b\"],[0.6666666666666666,\"#ed7953\"],[0.7777777777777778,\"#fb9f3a\"],[0.8888888888888888,\"#fdca26\"],[1.0,\"#f0f921\"]]},\"colorway\":[\"#636efa\",\"#EF553B\",\"#00cc96\",\"#ab63fa\",\"#FFA15A\",\"#19d3f3\",\"#FF6692\",\"#B6E880\",\"#FF97FF\",\"#FECB52\"],\"font\":{\"color\":\"#2a3f5f\"},\"geo\":{\"bgcolor\":\"white\",\"lakecolor\":\"white\",\"landcolor\":\"#E5ECF6\",\"showlakes\":true,\"showland\":true,\"subunitcolor\":\"white\"},\"hoverlabel\":{\"align\":\"left\"},\"hovermode\":\"closest\",\"mapbox\":{\"style\":\"light\"},\"paper_bgcolor\":\"white\",\"plot_bgcolor\":\"#E5ECF6\",\"polar\":{\"angularaxis\":{\"gridcolor\":\"white\",\"linecolor\":\"white\",\"ticks\":\"\"},\"bgcolor\":\"#E5ECF6\",\"radialaxis\":{\"gridcolor\":\"white\",\"linecolor\":\"white\",\"ticks\":\"\"}},\"scene\":{\"xaxis\":{\"backgroundcolor\":\"#E5ECF6\",\"gridcolor\":\"white\",\"gridwidth\":2,\"linecolor\":\"white\",\"showbackground\":true,\"ticks\":\"\",\"zerolinecolor\":\"white\"},\"yaxis\":{\"backgroundcolor\":\"#E5ECF6\",\"gridcolor\":\"white\",\"gridwidth\":2,\"linecolor\":\"white\",\"showbackground\":true,\"ticks\":\"\",\"zerolinecolor\":\"white\"},\"zaxis\":{\"backgroundcolor\":\"#E5ECF6\",\"gridcolor\":\"white\",\"gridwidth\":2,\"linecolor\":\"white\",\"showbackground\":true,\"ticks\":\"\",\"zerolinecolor\":\"white\"}},\"shapedefaults\":{\"line\":{\"color\":\"#2a3f5f\"}},\"ternary\":{\"aaxis\":{\"gridcolor\":\"white\",\"linecolor\":\"white\",\"ticks\":\"\"},\"baxis\":{\"gridcolor\":\"white\",\"linecolor\":\"white\",\"ticks\":\"\"},\"bgcolor\":\"#E5ECF6\",\"caxis\":{\"gridcolor\":\"white\",\"linecolor\":\"white\",\"ticks\":\"\"}},\"title\":{\"x\":0.05},\"xaxis\":{\"automargin\":true,\"gridcolor\":\"white\",\"linecolor\":\"white\",\"ticks\":\"\",\"title\":{\"standoff\":15},\"zerolinecolor\":\"white\",\"zerolinewidth\":2},\"yaxis\":{\"automargin\":true,\"gridcolor\":\"white\",\"linecolor\":\"white\",\"ticks\":\"\",\"title\":{\"standoff\":15},\"zerolinecolor\":\"white\",\"zerolinewidth\":2}}},\"xaxis\":{\"anchor\":\"y\",\"domain\":[0.0,1.0],\"title\":{\"text\":\"Month\"}},\"yaxis\":{\"anchor\":\"x\",\"domain\":[0.0,1.0],\"title\":{\"text\":\"Weekly_Sales\"}},\"coloraxis\":{\"colorbar\":{\"title\":{\"text\":\"IsHoliday_x\"}},\"colorscale\":[[0.0,\"#0d0887\"],[0.1111111111111111,\"#46039f\"],[0.2222222222222222,\"#7201a8\"],[0.3333333333333333,\"#9c179e\"],[0.4444444444444444,\"#bd3786\"],[0.5555555555555556,\"#d8576b\"],[0.6666666666666666,\"#ed7953\"],[0.7777777777777778,\"#fb9f3a\"],[0.8888888888888888,\"#fdca26\"],[1.0,\"#f0f921\"]]},\"legend\":{\"tracegroupgap\":0},\"title\":{\"text\":\"Monthly Sales Distribution\"},\"barmode\":\"relative\"},                        {\"responsive\": true}                    ).then(function(){\n",
              "                            \n",
              "var gd = document.getElementById('1331a8a9-97d7-4556-8604-9e65fef2d4c8');\n",
              "var x = new MutationObserver(function (mutations, observer) {{\n",
              "        var display = window.getComputedStyle(gd).display;\n",
              "        if (!display || display === 'none') {{\n",
              "            console.log([gd, 'removed!']);\n",
              "            Plotly.purge(gd);\n",
              "            observer.disconnect();\n",
              "        }}\n",
              "}});\n",
              "\n",
              "// Listen for the removal of the full notebook cells\n",
              "var notebookContainer = gd.closest('#notebook-container');\n",
              "if (notebookContainer) {{\n",
              "    x.observe(notebookContainer, {childList: true});\n",
              "}}\n",
              "\n",
              "// Listen for the clearing of the current output cell\n",
              "var outputEl = gd.closest('.output');\n",
              "if (outputEl) {{\n",
              "    x.observe(outputEl, {childList: true});\n",
              "}}\n",
              "\n",
              "                        })                };                            </script>        </div>\n",
              "</body>\n",
              "</html>"
            ]
          },
          "metadata": {},
          "output_type": "display_data"
        }
      ],
      "source": [
        "fig=px.bar(date_df,x='Month',y='Weekly_Sales',color='IsHoliday_x', title='Monthly Sales Distribution')\n",
        "\n",
        "fig.show()"
      ]
    },
    {
      "cell_type": "markdown",
      "metadata": {
        "id": "CxcWaNd5gHEa"
      },
      "source": [
        "From the above bar graph, we can see that :\n",
        "*  the Sales are maximum in the month of April, July, September , October which are not Holiday Months.\n",
        "\n",
        "*  We can also see that good Sales happen in the month of Feb, Sep , Decemeber which are Holiday Month.\n",
        "*  Least Sales takes place in the month of January which is quite expected as it falls just after the Holiday Month December.\n"
      ]
    },
    {
      "cell_type": "markdown",
      "metadata": {
        "id": "ko086w9-hJ1s"
      },
      "source": [
        "### **Store**\n",
        "\n",
        "Here, we will analyse Sales Distribution on the basis of Store Field"
      ]
    },
    {
      "cell_type": "markdown",
      "metadata": {
        "id": "PHNOIn2RLrR3"
      },
      "source": [
        "We will use `groupby` function to get the sum of Weekly Sales"
      ]
    },
    {
      "cell_type": "code",
      "execution_count": null,
      "metadata": {
        "colab": {
          "base_uri": "https://localhost:8080/",
          "height": 394
        },
        "id": "o0oGGLBtV2Xq",
        "outputId": "6113e5df-5a4a-42cd-d13f-175da9b4b2ad"
      },
      "outputs": [
        {
          "data": {
            "text/html": [
              "\n",
              "  <div id=\"df-ca43b9b0-0e16-4be4-99b8-26290c098adb\">\n",
              "    <div class=\"colab-df-container\">\n",
              "      <div>\n",
              "<style scoped>\n",
              "    .dataframe tbody tr th:only-of-type {\n",
              "        vertical-align: middle;\n",
              "    }\n",
              "\n",
              "    .dataframe tbody tr th {\n",
              "        vertical-align: top;\n",
              "    }\n",
              "\n",
              "    .dataframe thead th {\n",
              "        text-align: right;\n",
              "    }\n",
              "</style>\n",
              "<table border=\"1\" class=\"dataframe\">\n",
              "  <thead>\n",
              "    <tr style=\"text-align: right;\">\n",
              "      <th></th>\n",
              "      <th>Weekly_Sales_x</th>\n",
              "      <th>Weekly_Sales_y</th>\n",
              "    </tr>\n",
              "    <tr>\n",
              "      <th>Store</th>\n",
              "      <th></th>\n",
              "      <th></th>\n",
              "    </tr>\n",
              "  </thead>\n",
              "  <tbody>\n",
              "    <tr>\n",
              "      <th>20</th>\n",
              "      <td>22490350.81</td>\n",
              "      <td>2.789074e+08</td>\n",
              "    </tr>\n",
              "    <tr>\n",
              "      <th>4</th>\n",
              "      <td>22431026.24</td>\n",
              "      <td>2.771129e+08</td>\n",
              "    </tr>\n",
              "    <tr>\n",
              "      <th>14</th>\n",
              "      <td>21205829.98</td>\n",
              "      <td>2.677941e+08</td>\n",
              "    </tr>\n",
              "    <tr>\n",
              "      <th>10</th>\n",
              "      <td>21137559.49</td>\n",
              "      <td>2.504802e+08</td>\n",
              "    </tr>\n",
              "    <tr>\n",
              "      <th>13</th>\n",
              "      <td>21130438.06</td>\n",
              "      <td>2.653873e+08</td>\n",
              "    </tr>\n",
              "    <tr>\n",
              "      <th>2</th>\n",
              "      <td>20792669.00</td>\n",
              "      <td>2.545898e+08</td>\n",
              "    </tr>\n",
              "    <tr>\n",
              "      <th>27</th>\n",
              "      <td>18922992.78</td>\n",
              "      <td>2.349329e+08</td>\n",
              "    </tr>\n",
              "    <tr>\n",
              "      <th>6</th>\n",
              "      <td>16809079.27</td>\n",
              "      <td>2.069471e+08</td>\n",
              "    </tr>\n",
              "    <tr>\n",
              "      <th>1</th>\n",
              "      <td>16657476.56</td>\n",
              "      <td>2.057453e+08</td>\n",
              "    </tr>\n",
              "    <tr>\n",
              "      <th>19</th>\n",
              "      <td>15770467.34</td>\n",
              "      <td>1.908644e+08</td>\n",
              "    </tr>\n",
              "  </tbody>\n",
              "</table>\n",
              "</div>\n",
              "      <button class=\"colab-df-convert\" onclick=\"convertToInteractive('df-ca43b9b0-0e16-4be4-99b8-26290c098adb')\"\n",
              "              title=\"Convert this dataframe to an interactive table.\"\n",
              "              style=\"display:none;\">\n",
              "        \n",
              "  <svg xmlns=\"http://www.w3.org/2000/svg\" height=\"24px\"viewBox=\"0 0 24 24\"\n",
              "       width=\"24px\">\n",
              "    <path d=\"M0 0h24v24H0V0z\" fill=\"none\"/>\n",
              "    <path d=\"M18.56 5.44l.94 2.06.94-2.06 2.06-.94-2.06-.94-.94-2.06-.94 2.06-2.06.94zm-11 1L8.5 8.5l.94-2.06 2.06-.94-2.06-.94L8.5 2.5l-.94 2.06-2.06.94zm10 10l.94 2.06.94-2.06 2.06-.94-2.06-.94-.94-2.06-.94 2.06-2.06.94z\"/><path d=\"M17.41 7.96l-1.37-1.37c-.4-.4-.92-.59-1.43-.59-.52 0-1.04.2-1.43.59L10.3 9.45l-7.72 7.72c-.78.78-.78 2.05 0 2.83L4 21.41c.39.39.9.59 1.41.59.51 0 1.02-.2 1.41-.59l7.78-7.78 2.81-2.81c.8-.78.8-2.07 0-2.86zM5.41 20L4 18.59l7.72-7.72 1.47 1.35L5.41 20z\"/>\n",
              "  </svg>\n",
              "      </button>\n",
              "      \n",
              "  <style>\n",
              "    .colab-df-container {\n",
              "      display:flex;\n",
              "      flex-wrap:wrap;\n",
              "      gap: 12px;\n",
              "    }\n",
              "\n",
              "    .colab-df-convert {\n",
              "      background-color: #E8F0FE;\n",
              "      border: none;\n",
              "      border-radius: 50%;\n",
              "      cursor: pointer;\n",
              "      display: none;\n",
              "      fill: #1967D2;\n",
              "      height: 32px;\n",
              "      padding: 0 0 0 0;\n",
              "      width: 32px;\n",
              "    }\n",
              "\n",
              "    .colab-df-convert:hover {\n",
              "      background-color: #E2EBFA;\n",
              "      box-shadow: 0px 1px 2px rgba(60, 64, 67, 0.3), 0px 1px 3px 1px rgba(60, 64, 67, 0.15);\n",
              "      fill: #174EA6;\n",
              "    }\n",
              "\n",
              "    [theme=dark] .colab-df-convert {\n",
              "      background-color: #3B4455;\n",
              "      fill: #D2E3FC;\n",
              "    }\n",
              "\n",
              "    [theme=dark] .colab-df-convert:hover {\n",
              "      background-color: #434B5C;\n",
              "      box-shadow: 0px 1px 3px 1px rgba(0, 0, 0, 0.15);\n",
              "      filter: drop-shadow(0px 1px 2px rgba(0, 0, 0, 0.3));\n",
              "      fill: #FFFFFF;\n",
              "    }\n",
              "  </style>\n",
              "\n",
              "      <script>\n",
              "        const buttonEl =\n",
              "          document.querySelector('#df-ca43b9b0-0e16-4be4-99b8-26290c098adb button.colab-df-convert');\n",
              "        buttonEl.style.display =\n",
              "          google.colab.kernel.accessAllowed ? 'block' : 'none';\n",
              "\n",
              "        async function convertToInteractive(key) {\n",
              "          const element = document.querySelector('#df-ca43b9b0-0e16-4be4-99b8-26290c098adb');\n",
              "          const dataTable =\n",
              "            await google.colab.kernel.invokeFunction('convertToInteractive',\n",
              "                                                     [key], {});\n",
              "          if (!dataTable) return;\n",
              "\n",
              "          const docLinkHtml = 'Like what you see? Visit the ' +\n",
              "            '<a target=\"_blank\" href=https://colab.research.google.com/notebooks/data_table.ipynb>data table notebook</a>'\n",
              "            + ' to learn more about interactive tables.';\n",
              "          element.innerHTML = '';\n",
              "          dataTable['output_type'] = 'display_data';\n",
              "          await google.colab.output.renderOutput(dataTable, element);\n",
              "          const docLink = document.createElement('div');\n",
              "          docLink.innerHTML = docLinkHtml;\n",
              "          element.appendChild(docLink);\n",
              "        }\n",
              "      </script>\n",
              "    </div>\n",
              "  </div>\n",
              "  "
            ],
            "text/plain": [
              "       Weekly_Sales_x  Weekly_Sales_y\n",
              "Store                                \n",
              "20        22490350.81    2.789074e+08\n",
              "4         22431026.24    2.771129e+08\n",
              "14        21205829.98    2.677941e+08\n",
              "10        21137559.49    2.504802e+08\n",
              "13        21130438.06    2.653873e+08\n",
              "2         20792669.00    2.545898e+08\n",
              "27        18922992.78    2.349329e+08\n",
              "6         16809079.27    2.069471e+08\n",
              "1         16657476.56    2.057453e+08\n",
              "19        15770467.34    1.908644e+08"
            ]
          },
          "execution_count": 36,
          "metadata": {},
          "output_type": "execute_result"
        }
      ],
      "source": [
        "holiday_yes=data_train_df[data_train_df['IsHoliday_y']==True]\n",
        "holiday_no=data_train_df[data_train_df['IsHoliday_y']==False]\n",
        "sales_sum_yes=holiday_yes.groupby(['Store'])['Weekly_Sales'].aggregate('sum')\n",
        "sales_sum_no=holiday_no.groupby(['Store'])['Weekly_Sales'].aggregate('sum')\n",
        "store_sales=pd.merge(sales_sum_yes,sales_sum_no, on='Store')\n",
        "store_sales.sort_values(by=['Weekly_Sales_x','Weekly_Sales_y'],ascending=False).head(10)\n"
      ]
    },
    {
      "cell_type": "markdown",
      "metadata": {
        "id": "iHSAe5k-ZQc0"
      },
      "source": [
        "From the above table, we can see that Store 20 contributes to the maximum Sale as a Holiday Week with the sum amount of $ 2,24,90,350.81"
      ]
    },
    {
      "cell_type": "markdown",
      "metadata": {
        "id": "kenU9UX5IoGF"
      },
      "source": [
        "### **Dept**"
      ]
    },
    {
      "cell_type": "code",
      "execution_count": null,
      "metadata": {
        "colab": {
          "base_uri": "https://localhost:8080/"
        },
        "id": "wfZK5BbBhorK",
        "outputId": "161cf45e-7ec8-44d3-ada1-2adf9b2bf9c1"
      },
      "outputs": [
        {
          "data": {
            "text/plain": [
              "(81, 1, 99)"
            ]
          },
          "execution_count": 37,
          "metadata": {},
          "output_type": "execute_result"
        }
      ],
      "source": [
        "len(data_train_df['Dept'].unique()),data_train_df['Dept'].unique().min(),data_train_df['Dept'].unique().max()"
      ]
    },
    {
      "cell_type": "markdown",
      "metadata": {
        "id": "vhXsSfTKh5eM"
      },
      "source": [
        "There are a total of 81 Store Departments in the range of 1 to 99"
      ]
    },
    {
      "cell_type": "code",
      "execution_count": null,
      "metadata": {
        "id": "7GMCzSAmbrDb"
      },
      "outputs": [],
      "source": [
        "fig=px.scatter(data_train_df,x='Dept',y='Weekly_Sales', color='IsHoliday_x')\n",
        "fig.show()"
      ]
    },
    {
      "cell_type": "markdown",
      "metadata": {
        "id": "57P0VeSfiDG5"
      },
      "source": [
        "From the above Scatter plot, we can see that:\n",
        "Dept 75 has the maximum sales "
      ]
    },
    {
      "cell_type": "markdown",
      "metadata": {
        "id": "s-m9nPxNIsOh"
      },
      "source": [
        "### **Correlation Matrix**\n",
        "\n",
        "Here, we will create a Correlation Matrix to identify the correlation between various fields."
      ]
    },
    {
      "cell_type": "code",
      "execution_count": null,
      "metadata": {
        "colab": {
          "base_uri": "https://localhost:8080/",
          "height": 570
        },
        "id": "K-JEiJF8brAB",
        "outputId": "c7b07a26-30db-426d-9a07-ffc4af53b8ea"
      },
      "outputs": [
        {
          "data": {
            "text/plain": [
              "<matplotlib.axes._subplots.AxesSubplot at 0x7f6dea34cb90>"
            ]
          },
          "execution_count": 39,
          "metadata": {},
          "output_type": "execute_result"
        },
        {
          "data": {
            "image/png": "[encoded data removed]",
            "text/plain": [
              "<Figure size 1080x576 with 2 Axes>"
            ]
          },
          "metadata": {
            "needs_background": "light"
          },
          "output_type": "display_data"
        }
      ],
      "source": [
        "from matplotlib import rcParams\n",
        "rcParams['figure.figsize'] = 15,8\n",
        "sns.heatmap(data_train_df.corr(),cmap=\"YlGnBu\", annot=True)"
      ]
    },
    {
      "cell_type": "markdown",
      "metadata": {
        "id": "9ySIZNc3n8sj"
      },
      "source": [
        "From the above plot we can see that:\n",
        "*  Dept and IsHoliday flag has maximum dependency on the Weekly Sales values\n",
        "*  MarkDown1 and MarkDown5 has some impact on the Weekly Sales\n",
        "*  Fuel Price, Temperature and CPI has the least correlation with the Weekly Sales hence they can be dropped off from the Dataset for now."
      ]
    },
    {
      "cell_type": "markdown",
      "metadata": {
        "id": "P7jPCoebqI0W"
      },
      "source": [
        "### **Type**\n",
        "\n",
        "Here, we will perform analysis on Sales distribution on Type of Store"
      ]
    },
    {
      "cell_type": "code",
      "execution_count": null,
      "metadata": {
        "id": "muJGXHFrqICr"
      },
      "outputs": [],
      "source": [
        "fig=px.pie(data_train_df,names='Type', title='Type Wise Distribution of Weekly Sales', values='Weekly_Sales')\n",
        "fig.show()"
      ]
    },
    {
      "cell_type": "markdown",
      "metadata": {
        "id": "aQlc0dCUTNWt"
      },
      "source": [
        "![image.png](data:image/png;base64,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)"
      ]
    },
    {
      "cell_type": "markdown",
      "metadata": {
        "id": "u1M2Ss0tsFYC"
      },
      "source": [
        "From the above graph we can see that:\n",
        "*  Store Type A accounts to maximum of 64.3% of overall sales.\n",
        "*  Store Type c accounts to minimum of 6.02% of overall sales\n",
        " "
      ]
    },
    {
      "cell_type": "markdown",
      "metadata": {
        "id": "5tSWNDh6s2_E"
      },
      "source": [
        "### **What is the effect of markdown on the sales?**\n",
        "\n",
        "Here, we will answer above question by:\n",
        "*  Filtering the data having null values for MarkDown5 field\n",
        "*  Perform `groupby` on `MarkDown5` and then sum on `Weekly_Sales`"
      ]
    },
    {
      "cell_type": "code",
      "execution_count": null,
      "metadata": {
        "id": "5nR8An3gtEZ5"
      },
      "outputs": [],
      "source": [
        "from IPython.core.display import Markdown\n",
        "MarkDown5_null=data_train_df[(data_train_df['MarkDown5']).isna()==True ].groupby('Store').sum('Weekly_Sales').reset_index()\n",
        "MarkDown5_not_null=data_train_df[(data_train_df['MarkDown5']).isna()==False ].groupby('Store').sum('Weekly_Sales').reset_index()\n",
        "Markdown_df=pd.merge(MarkDown5_null,MarkDown5_not_null, on='Store')\n",
        "Markdown_df=Markdown_df.rename(columns={'Weekly_Sales_x':'Weekly_Sales_without_MarkDown','Weekly_Sales_y':'Weekly_Sales_with_MarkDown'})"
      ]
    },
    {
      "cell_type": "code",
      "execution_count": null,
      "metadata": {
        "colab": {
          "base_uri": "https://localhost:8080/",
          "height": 145
        },
        "id": "5vbnhZck2-23",
        "outputId": "954e37f1-d9a2-4e28-9c22-0be8687267d5"
      },
      "outputs": [
        {
          "data": {
            "text/html": [
              "\n",
              "  <div id=\"df-5fe4c31f-f6e3-4ca6-8b7e-8d94805a2002\">\n",
              "    <div class=\"colab-df-container\">\n",
              "      <div>\n",
              "<style scoped>\n",
              "    .dataframe tbody tr th:only-of-type {\n",
              "        vertical-align: middle;\n",
              "    }\n",
              "\n",
              "    .dataframe tbody tr th {\n",
              "        vertical-align: top;\n",
              "    }\n",
              "\n",
              "    .dataframe thead th {\n",
              "        text-align: right;\n",
              "    }\n",
              "</style>\n",
              "<table border=\"1\" class=\"dataframe\">\n",
              "  <thead>\n",
              "    <tr style=\"text-align: right;\">\n",
              "      <th></th>\n",
              "      <th>Store</th>\n",
              "      <th>Dept</th>\n",
              "      <th>Weekly_Sales</th>\n",
              "      <th>IsHoliday_x</th>\n",
              "      <th>Temperature</th>\n",
              "      <th>Fuel_Price</th>\n",
              "      <th>MarkDown1</th>\n",
              "      <th>MarkDown2</th>\n",
              "      <th>MarkDown3</th>\n",
              "      <th>MarkDown4</th>\n",
              "      <th>MarkDown5</th>\n",
              "      <th>CPI</th>\n",
              "      <th>Unemployment</th>\n",
              "      <th>IsHoliday_y</th>\n",
              "      <th>Size</th>\n",
              "      <th>Month</th>\n",
              "    </tr>\n",
              "  </thead>\n",
              "  <tbody>\n",
              "    <tr>\n",
              "      <th>0</th>\n",
              "      <td>1</td>\n",
              "      <td>291382</td>\n",
              "      <td>1.400004e+08</td>\n",
              "      <td>431</td>\n",
              "      <td>453346.0</td>\n",
              "      <td>20196.838</td>\n",
              "      <td>0.0</td>\n",
              "      <td>0.0</td>\n",
              "      <td>0.0</td>\n",
              "      <td>0.0</td>\n",
              "      <td>0.0</td>\n",
              "      <td>1.403722e+06</td>\n",
              "      <td>51615.424</td>\n",
              "      <td>431</td>\n",
              "      <td>996711905</td>\n",
              "      <td>42384</td>\n",
              "    </tr>\n",
              "  </tbody>\n",
              "</table>\n",
              "</div>\n",
              "      <button class=\"colab-df-convert\" onclick=\"convertToInteractive('df-5fe4c31f-f6e3-4ca6-8b7e-8d94805a2002')\"\n",
              "              title=\"Convert this dataframe to an interactive table.\"\n",
              "              style=\"display:none;\">\n",
              "        \n",
              "  <svg xmlns=\"http://www.w3.org/2000/svg\" height=\"24px\"viewBox=\"0 0 24 24\"\n",
              "       width=\"24px\">\n",
              "    <path d=\"M0 0h24v24H0V0z\" fill=\"none\"/>\n",
              "    <path d=\"M18.56 5.44l.94 2.06.94-2.06 2.06-.94-2.06-.94-.94-2.06-.94 2.06-2.06.94zm-11 1L8.5 8.5l.94-2.06 2.06-.94-2.06-.94L8.5 2.5l-.94 2.06-2.06.94zm10 10l.94 2.06.94-2.06 2.06-.94-2.06-.94-.94-2.06-.94 2.06-2.06.94z\"/><path d=\"M17.41 7.96l-1.37-1.37c-.4-.4-.92-.59-1.43-.59-.52 0-1.04.2-1.43.59L10.3 9.45l-7.72 7.72c-.78.78-.78 2.05 0 2.83L4 21.41c.39.39.9.59 1.41.59.51 0 1.02-.2 1.41-.59l7.78-7.78 2.81-2.81c.8-.78.8-2.07 0-2.86zM5.41 20L4 18.59l7.72-7.72 1.47 1.35L5.41 20z\"/>\n",
              "  </svg>\n",
              "      </button>\n",
              "      \n",
              "  <style>\n",
              "    .colab-df-container {\n",
              "      display:flex;\n",
              "      flex-wrap:wrap;\n",
              "      gap: 12px;\n",
              "    }\n",
              "\n",
              "    .colab-df-convert {\n",
              "      background-color: #E8F0FE;\n",
              "      border: none;\n",
              "      border-radius: 50%;\n",
              "      cursor: pointer;\n",
              "      display: none;\n",
              "      fill: #1967D2;\n",
              "      height: 32px;\n",
              "      padding: 0 0 0 0;\n",
              "      width: 32px;\n",
              "    }\n",
              "\n",
              "    .colab-df-convert:hover {\n",
              "      background-color: #E2EBFA;\n",
              "      box-shadow: 0px 1px 2px rgba(60, 64, 67, 0.3), 0px 1px 3px 1px rgba(60, 64, 67, 0.15);\n",
              "      fill: #174EA6;\n",
              "    }\n",
              "\n",
              "    [theme=dark] .colab-df-convert {\n",
              "      background-color: #3B4455;\n",
              "      fill: #D2E3FC;\n",
              "    }\n",
              "\n",
              "    [theme=dark] .colab-df-convert:hover {\n",
              "      background-color: #434B5C;\n",
              "      box-shadow: 0px 1px 3px 1px rgba(0, 0, 0, 0.15);\n",
              "      filter: drop-shadow(0px 1px 2px rgba(0, 0, 0, 0.3));\n",
              "      fill: #FFFFFF;\n",
              "    }\n",
              "  </style>\n",
              "\n",
              "      <script>\n",
              "        const buttonEl =\n",
              "          document.querySelector('#df-5fe4c31f-f6e3-4ca6-8b7e-8d94805a2002 button.colab-df-convert');\n",
              "        buttonEl.style.display =\n",
              "          google.colab.kernel.accessAllowed ? 'block' : 'none';\n",
              "\n",
              "        async function convertToInteractive(key) {\n",
              "          const element = document.querySelector('#df-5fe4c31f-f6e3-4ca6-8b7e-8d94805a2002');\n",
              "          const dataTable =\n",
              "            await google.colab.kernel.invokeFunction('convertToInteractive',\n",
              "                                                     [key], {});\n",
              "          if (!dataTable) return;\n",
              "\n",
              "          const docLinkHtml = 'Like what you see? Visit the ' +\n",
              "            '<a target=\"_blank\" href=https://colab.research.google.com/notebooks/data_table.ipynb>data table notebook</a>'\n",
              "            + ' to learn more about interactive tables.';\n",
              "          element.innerHTML = '';\n",
              "          dataTable['output_type'] = 'display_data';\n",
              "          await google.colab.output.renderOutput(dataTable, element);\n",
              "          const docLink = document.createElement('div');\n",
              "          docLink.innerHTML = docLinkHtml;\n",
              "          element.appendChild(docLink);\n",
              "        }\n",
              "      </script>\n",
              "    </div>\n",
              "  </div>\n",
              "  "
            ],
            "text/plain": [
              "   Store    Dept  Weekly_Sales  IsHoliday_x  Temperature  Fuel_Price  \\\n",
              "0      1  291382  1.400004e+08          431     453346.0   20196.838   \n",
              "\n",
              "   MarkDown1  MarkDown2  MarkDown3  MarkDown4  MarkDown5           CPI  \\\n",
              "0        0.0        0.0        0.0        0.0        0.0  1.403722e+06   \n",
              "\n",
              "   Unemployment  IsHoliday_y       Size  Month  \n",
              "0     51615.424          431  996711905  42384  "
            ]
          },
          "execution_count": 42,
          "metadata": {},
          "output_type": "execute_result"
        }
      ],
      "source": [
        "MarkDown5_null[MarkDown5_null['Store']==1]"
      ]
    },
    {
      "cell_type": "code",
      "execution_count": null,
      "metadata": {
        "colab": {
          "base_uri": "https://localhost:8080/",
          "height": 542
        },
        "id": "6q-u913v1F8O",
        "outputId": "466df088-8157-4007-b95c-337a83b3256b"
      },
      "outputs": [
        {
          "data": {
            "text/html": [
              "<html>\n",
              "<head><meta charset=\"utf-8\" /></head>\n",
              "<body>\n",
              "    <div>            <script src=\"https://cdnjs.cloudflare.com/ajax/libs/mathjax/2.7.5/MathJax.js?config=TeX-AMS-MML_SVG\"></script><script type=\"text/javascript\">if (window.MathJax) {MathJax.Hub.Config({SVG: {font: \"STIX-Web\"}});}</script>                <script type=\"text/javascript\">window.PlotlyConfig = {MathJaxConfig: 'local'};</script>\n",
              "        <script src=\"https://cdn.plot.ly/plotly-2.8.3.min.js\"></script>                <div id=\"326ae0c2-a165-47fb-8b10-df1b33534571\" class=\"plotly-graph-div\" style=\"height:525px; width:100%;\"></div>            <script type=\"text/javascript\">                                    window.PLOTLYENV=window.PLOTLYENV || {};                                    if (document.getElementById(\"326ae0c2-a165-47fb-8b10-df1b33534571\")) {                    Plotly.newPlot(                        \"326ae0c2-a165-47fb-8b10-df1b33534571\",                        [{\"alignmentgroup\":\"True\",\"hovertemplate\":\"variable=Weekly_Sales_without_MarkDown<br>Store=%{x}<br>value=%{y}<extra></extra>\",\"legendgroup\":\"Weekly_Sales_without_MarkDown\",\"marker\":{\"color\":\"#636efa\",\"pattern\":{\"shape\":\"\"}},\"name\":\"Weekly_Sales_without_MarkDown\",\"offsetgroup\":\"Weekly_Sales_without_MarkDown\",\"orientation\":\"v\",\"showlegend\":true,\"textposition\":\"auto\",\"x\":[1,2,3,4,5,6,7,8,9,10,11,12,13,14,15,16,17,18,19,20,21,22,23,24,25,26,27,28,29,30,31,32,33,34,35,36,37,38,39,40,41,42,43,44,45],\"xaxis\":\"x\",\"y\":[140000412.87,175671221.5,35784960.33,186176239.75,28247722.83,142261379.9,50344174.34,82190461.85,48459334.02,174022123.1,122853131.17,91011047.31,180017898.2,192331023.07,57902706.42,47042716.11,79422667.54,99468663.65,133597883.42,191017606.87,70244914.43,94049216.39,125773885.17,124323200.7,64240240.0,91279594.32,165489857.61,122015949.72,49429504.74,40463729.87,126967053.13,105275843.64,23723752.77,87442673.4,87424895.49,37571691.55,47383280.65,33318394.92,126755822.77,87597308.8,111963561.52,50067351.82,58626515.39,26633914.36,71615687.3],\"yaxis\":\"y\",\"type\":\"bar\"},{\"alignmentgroup\":\"True\",\"hovertemplate\":\"variable=Weekly_Sales_with_MarkDown<br>Store=%{x}<br>value=%{y}<extra></extra>\",\"legendgroup\":\"Weekly_Sales_with_MarkDown\",\"marker\":{\"color\":\"#EF553B\",\"pattern\":{\"shape\":\"\"}},\"name\":\"Weekly_Sales_with_MarkDown\",\"offsetgroup\":\"Weekly_Sales_with_MarkDown\",\"orientation\":\"v\",\"showlegend\":true,\"textposition\":\"auto\",\"x\":[1,2,3,4,5,6,7,8,9,10,11,12,13,14,15,16,17,18,19,20,21,22,23,24,25,26,27,28,29,30,31,32,33,34,35,36,37,38,39,40,41,42,43,44,45],\"xaxis\":\"x\",\"y\":[82402395.98,99711219.48,21801774.74,113367713.63,17227966.07,81494750.74,31254100.8,47760719.28,29329884.97,97595590.79,71109655.63,53276182.84,106499805.6,96668888.27,31230977.5,27209709.29,48359471.29,55646070.56,73036978.68,110380185.59,37872964.49,53026432.18,72976732.68,69692820.58,36820939.17,52136799.47,88366059.27,67247730.86,27712049.57,22253155.25,72646852.37,61543402.52,13436469.19,50807089.6,44095776.59,15840523.42,26819459.67,21841231.5,80689719.7,50273000.99,69378373.37,29498400.61,31938920.02,16659173.48,40779654.12],\"yaxis\":\"y\",\"type\":\"bar\"}],                        {\"template\":{\"data\":{\"bar\":[{\"error_x\":{\"color\":\"#2a3f5f\"},\"error_y\":{\"color\":\"#2a3f5f\"},\"marker\":{\"line\":{\"color\":\"#E5ECF6\",\"width\":0.5},\"pattern\":{\"fillmode\":\"overlay\",\"size\":10,\"solidity\":0.2}},\"type\":\"bar\"}],\"barpolar\":[{\"marker\":{\"line\":{\"color\":\"#E5ECF6\",\"width\":0.5},\"pattern\":{\"fillmode\":\"overlay\",\"size\":10,\"solidity\":0.2}},\"type\":\"barpolar\"}],\"carpet\":[{\"aaxis\":{\"endlinecolor\":\"#2a3f5f\",\"gridcolor\":\"white\",\"linecolor\":\"white\",\"minorgridcolor\":\"white\",\"startlinecolor\":\"#2a3f5f\"},\"baxis\":{\"endlinecolor\":\"#2a3f5f\",\"gridcolor\":\"white\",\"linecolor\":\"white\",\"minorgridcolor\":\"white\",\"startlinecolor\":\"#2a3f5f\"},\"type\":\"carpet\"}],\"choropleth\":[{\"colorbar\":{\"outlinewidth\":0,\"ticks\":\"\"},\"type\":\"choropleth\"}],\"contour\":[{\"colorbar\":{\"outlinewidth\":0,\"ticks\":\"\"},\"colorscale\":[[0.0,\"#0d0887\"],[0.1111111111111111,\"#46039f\"],[0.2222222222222222,\"#7201a8\"],[0.3333333333333333,\"#9c179e\"],[0.4444444444444444,\"#bd3786\"],[0.5555555555555556,\"#d8576b\"],[0.6666666666666666,\"#ed7953\"],[0.7777777777777778,\"#fb9f3a\"],[0.8888888888888888,\"#fdca26\"],[1.0,\"#f0f921\"]],\"type\":\"contour\"}],\"contourcarpet\":[{\"colorbar\":{\"outlinewidth\":0,\"ticks\":\"\"},\"type\":\"contourcarpet\"}],\"heatmap\":[{\"colorbar\":{\"outlinewidth\":0,\"ticks\":\"\"},\"colorscale\":[[0.0,\"#0d0887\"],[0.1111111111111111,\"#46039f\"],[0.2222222222222222,\"#7201a8\"],[0.3333333333333333,\"#9c179e\"],[0.4444444444444444,\"#bd3786\"],[0.5555555555555556,\"#d8576b\"],[0.6666666666666666,\"#ed7953\"],[0.7777777777777778,\"#fb9f3a\"],[0.8888888888888888,\"#fdca26\"],[1.0,\"#f0f921\"]],\"type\":\"heatmap\"}],\"heatmapgl\":[{\"colorbar\":{\"outlinewidth\":0,\"ticks\":\"\"},\"colorscale\":[[0.0,\"#0d0887\"],[0.1111111111111111,\"#46039f\"],[0.2222222222222222,\"#7201a8\"],[0.3333333333333333,\"#9c179e\"],[0.4444444444444444,\"#bd3786\"],[0.5555555555555556,\"#d8576b\"],[0.6666666666666666,\"#ed7953\"],[0.7777777777777778,\"#fb9f3a\"],[0.8888888888888888,\"#fdca26\"],[1.0,\"#f0f921\"]],\"type\":\"heatmapgl\"}],\"histogram\":[{\"marker\":{\"pattern\":{\"fillmode\":\"overlay\",\"size\":10,\"solidity\":0.2}},\"type\":\"histogram\"}],\"histogram2d\":[{\"colorbar\":{\"outlinewidth\":0,\"ticks\":\"\"},\"colorscale\":[[0.0,\"#0d0887\"],[0.1111111111111111,\"#46039f\"],[0.2222222222222222,\"#7201a8\"],[0.3333333333333333,\"#9c179e\"],[0.4444444444444444,\"#bd3786\"],[0.5555555555555556,\"#d8576b\"],[0.6666666666666666,\"#ed7953\"],[0.7777777777777778,\"#fb9f3a\"],[0.8888888888888888,\"#fdca26\"],[1.0,\"#f0f921\"]],\"type\":\"histogram2d\"}],\"histogram2dcontour\":[{\"colorbar\":{\"outlinewidth\":0,\"ticks\":\"\"},\"colorscale\":[[0.0,\"#0d0887\"],[0.1111111111111111,\"#46039f\"],[0.2222222222222222,\"#7201a8\"],[0.3333333333333333,\"#9c179e\"],[0.4444444444444444,\"#bd3786\"],[0.5555555555555556,\"#d8576b\"],[0.6666666666666666,\"#ed7953\"],[0.7777777777777778,\"#fb9f3a\"],[0.8888888888888888,\"#fdca26\"],[1.0,\"#f0f921\"]],\"type\":\"histogram2dcontour\"}],\"mesh3d\":[{\"colorbar\":{\"outlinewidth\":0,\"ticks\":\"\"},\"type\":\"mesh3d\"}],\"parcoords\":[{\"line\":{\"colorbar\":{\"outlinewidth\":0,\"ticks\":\"\"}},\"type\":\"parcoords\"}],\"pie\":[{\"automargin\":true,\"type\":\"pie\"}],\"scatter\":[{\"marker\":{\"colorbar\":{\"outlinewidth\":0,\"ticks\":\"\"}},\"type\":\"scatter\"}],\"scatter3d\":[{\"line\":{\"colorbar\":{\"outlinewidth\":0,\"ticks\":\"\"}},\"marker\":{\"colorbar\":{\"outlinewidth\":0,\"ticks\":\"\"}},\"type\":\"scatter3d\"}],\"scattercarpet\":[{\"marker\":{\"colorbar\":{\"outlinewidth\":0,\"ticks\":\"\"}},\"type\":\"scattercarpet\"}],\"scattergeo\":[{\"marker\":{\"colorbar\":{\"outlinewidth\":0,\"ticks\":\"\"}},\"type\":\"scattergeo\"}],\"scattergl\":[{\"marker\":{\"colorbar\":{\"outlinewidth\":0,\"ticks\":\"\"}},\"type\":\"scattergl\"}],\"scattermapbox\":[{\"marker\":{\"colorbar\":{\"outlinewidth\":0,\"ticks\":\"\"}},\"type\":\"scattermapbox\"}],\"scatterpolar\":[{\"marker\":{\"colorbar\":{\"outlinewidth\":0,\"ticks\":\"\"}},\"type\":\"scatterpolar\"}],\"scatterpolargl\":[{\"marker\":{\"colorbar\":{\"outlinewidth\":0,\"ticks\":\"\"}},\"type\":\"scatterpolargl\"}],\"scatterternary\":[{\"marker\":{\"colorbar\":{\"outlinewidth\":0,\"ticks\":\"\"}},\"type\":\"scatterternary\"}],\"surface\":[{\"colorbar\":{\"outlinewidth\":0,\"ticks\":\"\"},\"colorscale\":[[0.0,\"#0d0887\"],[0.1111111111111111,\"#46039f\"],[0.2222222222222222,\"#7201a8\"],[0.3333333333333333,\"#9c179e\"],[0.4444444444444444,\"#bd3786\"],[0.5555555555555556,\"#d8576b\"],[0.6666666666666666,\"#ed7953\"],[0.7777777777777778,\"#fb9f3a\"],[0.8888888888888888,\"#fdca26\"],[1.0,\"#f0f921\"]],\"type\":\"surface\"}],\"table\":[{\"cells\":{\"fill\":{\"color\":\"#EBF0F8\"},\"line\":{\"color\":\"white\"}},\"header\":{\"fill\":{\"color\":\"#C8D4E3\"},\"line\":{\"color\":\"white\"}},\"type\":\"table\"}]},\"layout\":{\"annotationdefaults\":{\"arrowcolor\":\"#2a3f5f\",\"arrowhead\":0,\"arrowwidth\":1},\"autotypenumbers\":\"strict\",\"coloraxis\":{\"colorbar\":{\"outlinewidth\":0,\"ticks\":\"\"}},\"colorscale\":{\"diverging\":[[0,\"#8e0152\"],[0.1,\"#c51b7d\"],[0.2,\"#de77ae\"],[0.3,\"#f1b6da\"],[0.4,\"#fde0ef\"],[0.5,\"#f7f7f7\"],[0.6,\"#e6f5d0\"],[0.7,\"#b8e186\"],[0.8,\"#7fbc41\"],[0.9,\"#4d9221\"],[1,\"#276419\"]],\"sequential\":[[0.0,\"#0d0887\"],[0.1111111111111111,\"#46039f\"],[0.2222222222222222,\"#7201a8\"],[0.3333333333333333,\"#9c179e\"],[0.4444444444444444,\"#bd3786\"],[0.5555555555555556,\"#d8576b\"],[0.6666666666666666,\"#ed7953\"],[0.7777777777777778,\"#fb9f3a\"],[0.8888888888888888,\"#fdca26\"],[1.0,\"#f0f921\"]],\"sequentialminus\":[[0.0,\"#0d0887\"],[0.1111111111111111,\"#46039f\"],[0.2222222222222222,\"#7201a8\"],[0.3333333333333333,\"#9c179e\"],[0.4444444444444444,\"#bd3786\"],[0.5555555555555556,\"#d8576b\"],[0.6666666666666666,\"#ed7953\"],[0.7777777777777778,\"#fb9f3a\"],[0.8888888888888888,\"#fdca26\"],[1.0,\"#f0f921\"]]},\"colorway\":[\"#636efa\",\"#EF553B\",\"#00cc96\",\"#ab63fa\",\"#FFA15A\",\"#19d3f3\",\"#FF6692\",\"#B6E880\",\"#FF97FF\",\"#FECB52\"],\"font\":{\"color\":\"#2a3f5f\"},\"geo\":{\"bgcolor\":\"white\",\"lakecolor\":\"white\",\"landcolor\":\"#E5ECF6\",\"showlakes\":true,\"showland\":true,\"subunitcolor\":\"white\"},\"hoverlabel\":{\"align\":\"left\"},\"hovermode\":\"closest\",\"mapbox\":{\"style\":\"light\"},\"paper_bgcolor\":\"white\",\"plot_bgcolor\":\"#E5ECF6\",\"polar\":{\"angularaxis\":{\"gridcolor\":\"white\",\"linecolor\":\"white\",\"ticks\":\"\"},\"bgcolor\":\"#E5ECF6\",\"radialaxis\":{\"gridcolor\":\"white\",\"linecolor\":\"white\",\"ticks\":\"\"}},\"scene\":{\"xaxis\":{\"backgroundcolor\":\"#E5ECF6\",\"gridcolor\":\"white\",\"gridwidth\":2,\"linecolor\":\"white\",\"showbackground\":true,\"ticks\":\"\",\"zerolinecolor\":\"white\"},\"yaxis\":{\"backgroundcolor\":\"#E5ECF6\",\"gridcolor\":\"white\",\"gridwidth\":2,\"linecolor\":\"white\",\"showbackground\":true,\"ticks\":\"\",\"zerolinecolor\":\"white\"},\"zaxis\":{\"backgroundcolor\":\"#E5ECF6\",\"gridcolor\":\"white\",\"gridwidth\":2,\"linecolor\":\"white\",\"showbackground\":true,\"ticks\":\"\",\"zerolinecolor\":\"white\"}},\"shapedefaults\":{\"line\":{\"color\":\"#2a3f5f\"}},\"ternary\":{\"aaxis\":{\"gridcolor\":\"white\",\"linecolor\":\"white\",\"ticks\":\"\"},\"baxis\":{\"gridcolor\":\"white\",\"linecolor\":\"white\",\"ticks\":\"\"},\"bgcolor\":\"#E5ECF6\",\"caxis\":{\"gridcolor\":\"white\",\"linecolor\":\"white\",\"ticks\":\"\"}},\"title\":{\"x\":0.05},\"xaxis\":{\"automargin\":true,\"gridcolor\":\"white\",\"linecolor\":\"white\",\"ticks\":\"\",\"title\":{\"standoff\":15},\"zerolinecolor\":\"white\",\"zerolinewidth\":2},\"yaxis\":{\"automargin\":true,\"gridcolor\":\"white\",\"linecolor\":\"white\",\"ticks\":\"\",\"title\":{\"standoff\":15},\"zerolinecolor\":\"white\",\"zerolinewidth\":2}}},\"xaxis\":{\"anchor\":\"y\",\"domain\":[0.0,1.0],\"title\":{\"text\":\"Store\"}},\"yaxis\":{\"anchor\":\"x\",\"domain\":[0.0,1.0],\"title\":{\"text\":\"value\"}},\"legend\":{\"title\":{\"text\":\"variable\"},\"tracegroupgap\":0},\"title\":{\"text\":\"Effect of MarkDown5 on Sales\"},\"barmode\":\"group\"},                        {\"responsive\": true}                    ).then(function(){\n",
              "                            \n",
              "var gd = document.getElementById('326ae0c2-a165-47fb-8b10-df1b33534571');\n",
              "var x = new MutationObserver(function (mutations, observer) {{\n",
              "        var display = window.getComputedStyle(gd).display;\n",
              "        if (!display || display === 'none') {{\n",
              "            console.log([gd, 'removed!']);\n",
              "            Plotly.purge(gd);\n",
              "            observer.disconnect();\n",
              "        }}\n",
              "}});\n",
              "\n",
              "// Listen for the removal of the full notebook cells\n",
              "var notebookContainer = gd.closest('#notebook-container');\n",
              "if (notebookContainer) {{\n",
              "    x.observe(notebookContainer, {childList: true});\n",
              "}}\n",
              "\n",
              "// Listen for the clearing of the current output cell\n",
              "var outputEl = gd.closest('.output');\n",
              "if (outputEl) {{\n",
              "    x.observe(outputEl, {childList: true});\n",
              "}}\n",
              "\n",
              "                        })                };                            </script>        </div>\n",
              "</body>\n",
              "</html>"
            ]
          },
          "metadata": {},
          "output_type": "display_data"
        }
      ],
      "source": [
        "fig=px.bar(Markdown_df,x='Store',y=['Weekly_Sales_without_MarkDown','Weekly_Sales_with_MarkDown'],barmode='group', title='Effect of MarkDown5 on Sales')\n",
        "fig.show()"
      ]
    },
    {
      "cell_type": "markdown",
      "metadata": {
        "id": "Lw2sccaW-mDK"
      },
      "source": [
        "From the above chart, we can see that the sales are high without Markdown values which makes sense as the Markdown values are reduced price. \n",
        "Hence its likely to have lower sales for weeks when Markdown is applied.\n"
      ]
    },
    {
      "cell_type": "markdown",
      "metadata": {
        "id": "RJJRNMSC_Eqd"
      },
      "source": [
        "### **What are the days with max sales?**\n",
        "\n",
        "Here, we will answer above question by:\n",
        "*  Generating Month Number from `Date` field.\n",
        "*  Perform `groupby` on `Day` and then sum on `Weekly_Sales`"
      ]
    },
    {
      "cell_type": "code",
      "execution_count": null,
      "metadata": {
        "colab": {
          "base_uri": "https://localhost:8080/",
          "height": 542
        },
        "id": "vW5YwiauA9q-",
        "outputId": "0b2374e7-5438-464c-e967-4e4843ac0d05"
      },
      "outputs": [
        {
          "data": {
            "text/html": [
              "<html>\n",
              "<head><meta charset=\"utf-8\" /></head>\n",
              "<body>\n",
              "    <div>            <script src=\"https://cdnjs.cloudflare.com/ajax/libs/mathjax/2.7.5/MathJax.js?config=TeX-AMS-MML_SVG\"></script><script type=\"text/javascript\">if (window.MathJax) {MathJax.Hub.Config({SVG: {font: \"STIX-Web\"}});}</script>                <script type=\"text/javascript\">window.PlotlyConfig = {MathJaxConfig: 'local'};</script>\n",
              "        <script src=\"https://cdn.plot.ly/plotly-2.8.3.min.js\"></script>                <div id=\"fc4b9a40-8bae-4e6d-a65f-77ec8bb9d074\" class=\"plotly-graph-div\" style=\"height:525px; width:100%;\"></div>            <script type=\"text/javascript\">                                    window.PLOTLYENV=window.PLOTLYENV || {};                                    if (document.getElementById(\"fc4b9a40-8bae-4e6d-a65f-77ec8bb9d074\")) {                    Plotly.newPlot(                        \"fc4b9a40-8bae-4e6d-a65f-77ec8bb9d074\",                        [{\"alignmentgroup\":\"True\",\"hovertemplate\":\"Day=%{x}<br>Weekly_Sales=%{y}<br>Temperature=%{marker.color}<extra></extra>\",\"legendgroup\":\"\",\"marker\":{\"color\":[787902.32,880964.17,926546.39,762313.89,807444.92,927775.42,704086.06,785862.68,869390.49,899756.19,780957.29,790477.53,940637.8200000001,654241.49,796851.13,892433.27,895320.42,852835.28,804797.73,939756.64,675789.15,812627.31,889962.0,899332.82,860671.45,808391.1,965225.29,668242.8,824388.9,891867.82,335316.29],\"coloraxis\":\"coloraxis\",\"pattern\":{\"shape\":\"\"}},\"name\":\"\",\"offsetgroup\":\"\",\"orientation\":\"v\",\"showlegend\":false,\"textposition\":\"auto\",\"x\":[1,2,3,4,5,6,7,8,9,10,11,12,13,14,15,16,17,18,19,20,21,22,23,24,25,26,27,28,29,30,31],\"xaxis\":\"x\",\"y\":[181559036.28,240969530.49,239446787.32,239102000.21,237986298.97,244777717.11,186820778.96,188500876.59,245069649.15,246383761.85,235190162.65,232764958.43,226662635.22,174604617.19,182050842.21,242208727.62,249900597.14,234473456.1,230431310.79,224320620.72,175948256.64,184686057.94,254333434.16,261392854.76,248097163.88,246884600.16,218852126.01,176948076.0,177413250.13,221846644.0,87592158.43],\"yaxis\":\"y\",\"type\":\"bar\"}],                        {\"template\":{\"data\":{\"bar\":[{\"error_x\":{\"color\":\"#2a3f5f\"},\"error_y\":{\"color\":\"#2a3f5f\"},\"marker\":{\"line\":{\"color\":\"#E5ECF6\",\"width\":0.5},\"pattern\":{\"fillmode\":\"overlay\",\"size\":10,\"solidity\":0.2}},\"type\":\"bar\"}],\"barpolar\":[{\"marker\":{\"line\":{\"color\":\"#E5ECF6\",\"width\":0.5},\"pattern\":{\"fillmode\":\"overlay\",\"size\":10,\"solidity\":0.2}},\"type\":\"barpolar\"}],\"carpet\":[{\"aaxis\":{\"endlinecolor\":\"#2a3f5f\",\"gridcolor\":\"white\",\"linecolor\":\"white\",\"minorgridcolor\":\"white\",\"startlinecolor\":\"#2a3f5f\"},\"baxis\":{\"endlinecolor\":\"#2a3f5f\",\"gridcolor\":\"white\",\"linecolor\":\"white\",\"minorgridcolor\":\"white\",\"startlinecolor\":\"#2a3f5f\"},\"type\":\"carpet\"}],\"choropleth\":[{\"colorbar\":{\"outlinewidth\":0,\"ticks\":\"\"},\"type\":\"choropleth\"}],\"contour\":[{\"colorbar\":{\"outlinewidth\":0,\"ticks\":\"\"},\"colorscale\":[[0.0,\"#0d0887\"],[0.1111111111111111,\"#46039f\"],[0.2222222222222222,\"#7201a8\"],[0.3333333333333333,\"#9c179e\"],[0.4444444444444444,\"#bd3786\"],[0.5555555555555556,\"#d8576b\"],[0.6666666666666666,\"#ed7953\"],[0.7777777777777778,\"#fb9f3a\"],[0.8888888888888888,\"#fdca26\"],[1.0,\"#f0f921\"]],\"type\":\"contour\"}],\"contourcarpet\":[{\"colorbar\":{\"outlinewidth\":0,\"ticks\":\"\"},\"type\":\"contourcarpet\"}],\"heatmap\":[{\"colorbar\":{\"outlinewidth\":0,\"ticks\":\"\"},\"colorscale\":[[0.0,\"#0d0887\"],[0.1111111111111111,\"#46039f\"],[0.2222222222222222,\"#7201a8\"],[0.3333333333333333,\"#9c179e\"],[0.4444444444444444,\"#bd3786\"],[0.5555555555555556,\"#d8576b\"],[0.6666666666666666,\"#ed7953\"],[0.7777777777777778,\"#fb9f3a\"],[0.8888888888888888,\"#fdca26\"],[1.0,\"#f0f921\"]],\"type\":\"heatmap\"}],\"heatmapgl\":[{\"colorbar\":{\"outlinewidth\":0,\"ticks\":\"\"},\"colorscale\":[[0.0,\"#0d0887\"],[0.1111111111111111,\"#46039f\"],[0.2222222222222222,\"#7201a8\"],[0.3333333333333333,\"#9c179e\"],[0.4444444444444444,\"#bd3786\"],[0.5555555555555556,\"#d8576b\"],[0.6666666666666666,\"#ed7953\"],[0.7777777777777778,\"#fb9f3a\"],[0.8888888888888888,\"#fdca26\"],[1.0,\"#f0f921\"]],\"type\":\"heatmapgl\"}],\"histogram\":[{\"marker\":{\"pattern\":{\"fillmode\":\"overlay\",\"size\":10,\"solidity\":0.2}},\"type\":\"histogram\"}],\"histogram2d\":[{\"colorbar\":{\"outlinewidth\":0,\"ticks\":\"\"},\"colorscale\":[[0.0,\"#0d0887\"],[0.1111111111111111,\"#46039f\"],[0.2222222222222222,\"#7201a8\"],[0.3333333333333333,\"#9c179e\"],[0.4444444444444444,\"#bd3786\"],[0.5555555555555556,\"#d8576b\"],[0.6666666666666666,\"#ed7953\"],[0.7777777777777778,\"#fb9f3a\"],[0.8888888888888888,\"#fdca26\"],[1.0,\"#f0f921\"]],\"type\":\"histogram2d\"}],\"histogram2dcontour\":[{\"colorbar\":{\"outlinewidth\":0,\"ticks\":\"\"},\"colorscale\":[[0.0,\"#0d0887\"],[0.1111111111111111,\"#46039f\"],[0.2222222222222222,\"#7201a8\"],[0.3333333333333333,\"#9c179e\"],[0.4444444444444444,\"#bd3786\"],[0.5555555555555556,\"#d8576b\"],[0.6666666666666666,\"#ed7953\"],[0.7777777777777778,\"#fb9f3a\"],[0.8888888888888888,\"#fdca26\"],[1.0,\"#f0f921\"]],\"type\":\"histogram2dcontour\"}],\"mesh3d\":[{\"colorbar\":{\"outlinewidth\":0,\"ticks\":\"\"},\"type\":\"mesh3d\"}],\"parcoords\":[{\"line\":{\"colorbar\":{\"outlinewidth\":0,\"ticks\":\"\"}},\"type\":\"parcoords\"}],\"pie\":[{\"automargin\":true,\"type\":\"pie\"}],\"scatter\":[{\"marker\":{\"colorbar\":{\"outlinewidth\":0,\"ticks\":\"\"}},\"type\":\"scatter\"}],\"scatter3d\":[{\"line\":{\"colorbar\":{\"outlinewidth\":0,\"ticks\":\"\"}},\"marker\":{\"colorbar\":{\"outlinewidth\":0,\"ticks\":\"\"}},\"type\":\"scatter3d\"}],\"scattercarpet\":[{\"marker\":{\"colorbar\":{\"outlinewidth\":0,\"ticks\":\"\"}},\"type\":\"scattercarpet\"}],\"scattergeo\":[{\"marker\":{\"colorbar\":{\"outlinewidth\":0,\"ticks\":\"\"}},\"type\":\"scattergeo\"}],\"scattergl\":[{\"marker\":{\"colorbar\":{\"outlinewidth\":0,\"ticks\":\"\"}},\"type\":\"scattergl\"}],\"scattermapbox\":[{\"marker\":{\"colorbar\":{\"outlinewidth\":0,\"ticks\":\"\"}},\"type\":\"scattermapbox\"}],\"scatterpolar\":[{\"marker\":{\"colorbar\":{\"outlinewidth\":0,\"ticks\":\"\"}},\"type\":\"scatterpolar\"}],\"scatterpolargl\":[{\"marker\":{\"colorbar\":{\"outlinewidth\":0,\"ticks\":\"\"}},\"type\":\"scatterpolargl\"}],\"scatterternary\":[{\"marker\":{\"colorbar\":{\"outlinewidth\":0,\"ticks\":\"\"}},\"type\":\"scatterternary\"}],\"surface\":[{\"colorbar\":{\"outlinewidth\":0,\"ticks\":\"\"},\"colorscale\":[[0.0,\"#0d0887\"],[0.1111111111111111,\"#46039f\"],[0.2222222222222222,\"#7201a8\"],[0.3333333333333333,\"#9c179e\"],[0.4444444444444444,\"#bd3786\"],[0.5555555555555556,\"#d8576b\"],[0.6666666666666666,\"#ed7953\"],[0.7777777777777778,\"#fb9f3a\"],[0.8888888888888888,\"#fdca26\"],[1.0,\"#f0f921\"]],\"type\":\"surface\"}],\"table\":[{\"cells\":{\"fill\":{\"color\":\"#EBF0F8\"},\"line\":{\"color\":\"white\"}},\"header\":{\"fill\":{\"color\":\"#C8D4E3\"},\"line\":{\"color\":\"white\"}},\"type\":\"table\"}]},\"layout\":{\"annotationdefaults\":{\"arrowcolor\":\"#2a3f5f\",\"arrowhead\":0,\"arrowwidth\":1},\"autotypenumbers\":\"strict\",\"coloraxis\":{\"colorbar\":{\"outlinewidth\":0,\"ticks\":\"\"}},\"colorscale\":{\"diverging\":[[0,\"#8e0152\"],[0.1,\"#c51b7d\"],[0.2,\"#de77ae\"],[0.3,\"#f1b6da\"],[0.4,\"#fde0ef\"],[0.5,\"#f7f7f7\"],[0.6,\"#e6f5d0\"],[0.7,\"#b8e186\"],[0.8,\"#7fbc41\"],[0.9,\"#4d9221\"],[1,\"#276419\"]],\"sequential\":[[0.0,\"#0d0887\"],[0.1111111111111111,\"#46039f\"],[0.2222222222222222,\"#7201a8\"],[0.3333333333333333,\"#9c179e\"],[0.4444444444444444,\"#bd3786\"],[0.5555555555555556,\"#d8576b\"],[0.6666666666666666,\"#ed7953\"],[0.7777777777777778,\"#fb9f3a\"],[0.8888888888888888,\"#fdca26\"],[1.0,\"#f0f921\"]],\"sequentialminus\":[[0.0,\"#0d0887\"],[0.1111111111111111,\"#46039f\"],[0.2222222222222222,\"#7201a8\"],[0.3333333333333333,\"#9c179e\"],[0.4444444444444444,\"#bd3786\"],[0.5555555555555556,\"#d8576b\"],[0.6666666666666666,\"#ed7953\"],[0.7777777777777778,\"#fb9f3a\"],[0.8888888888888888,\"#fdca26\"],[1.0,\"#f0f921\"]]},\"colorway\":[\"#636efa\",\"#EF553B\",\"#00cc96\",\"#ab63fa\",\"#FFA15A\",\"#19d3f3\",\"#FF6692\",\"#B6E880\",\"#FF97FF\",\"#FECB52\"],\"font\":{\"color\":\"#2a3f5f\"},\"geo\":{\"bgcolor\":\"white\",\"lakecolor\":\"white\",\"landcolor\":\"#E5ECF6\",\"showlakes\":true,\"showland\":true,\"subunitcolor\":\"white\"},\"hoverlabel\":{\"align\":\"left\"},\"hovermode\":\"closest\",\"mapbox\":{\"style\":\"light\"},\"paper_bgcolor\":\"white\",\"plot_bgcolor\":\"#E5ECF6\",\"polar\":{\"angularaxis\":{\"gridcolor\":\"white\",\"linecolor\":\"white\",\"ticks\":\"\"},\"bgcolor\":\"#E5ECF6\",\"radialaxis\":{\"gridcolor\":\"white\",\"linecolor\":\"white\",\"ticks\":\"\"}},\"scene\":{\"xaxis\":{\"backgroundcolor\":\"#E5ECF6\",\"gridcolor\":\"white\",\"gridwidth\":2,\"linecolor\":\"white\",\"showbackground\":true,\"ticks\":\"\",\"zerolinecolor\":\"white\"},\"yaxis\":{\"backgroundcolor\":\"#E5ECF6\",\"gridcolor\":\"white\",\"gridwidth\":2,\"linecolor\":\"white\",\"showbackground\":true,\"ticks\":\"\",\"zerolinecolor\":\"white\"},\"zaxis\":{\"backgroundcolor\":\"#E5ECF6\",\"gridcolor\":\"white\",\"gridwidth\":2,\"linecolor\":\"white\",\"showbackground\":true,\"ticks\":\"\",\"zerolinecolor\":\"white\"}},\"shapedefaults\":{\"line\":{\"color\":\"#2a3f5f\"}},\"ternary\":{\"aaxis\":{\"gridcolor\":\"white\",\"linecolor\":\"white\",\"ticks\":\"\"},\"baxis\":{\"gridcolor\":\"white\",\"linecolor\":\"white\",\"ticks\":\"\"},\"bgcolor\":\"#E5ECF6\",\"caxis\":{\"gridcolor\":\"white\",\"linecolor\":\"white\",\"ticks\":\"\"}},\"title\":{\"x\":0.05},\"xaxis\":{\"automargin\":true,\"gridcolor\":\"white\",\"linecolor\":\"white\",\"ticks\":\"\",\"title\":{\"standoff\":15},\"zerolinecolor\":\"white\",\"zerolinewidth\":2},\"yaxis\":{\"automargin\":true,\"gridcolor\":\"white\",\"linecolor\":\"white\",\"ticks\":\"\",\"title\":{\"standoff\":15},\"zerolinecolor\":\"white\",\"zerolinewidth\":2}}},\"xaxis\":{\"anchor\":\"y\",\"domain\":[0.0,1.0],\"title\":{\"text\":\"Day\"}},\"yaxis\":{\"anchor\":\"x\",\"domain\":[0.0,1.0],\"title\":{\"text\":\"Weekly_Sales\"}},\"coloraxis\":{\"colorbar\":{\"title\":{\"text\":\"Temperature\"}},\"colorscale\":[[0.0,\"#0d0887\"],[0.1111111111111111,\"#46039f\"],[0.2222222222222222,\"#7201a8\"],[0.3333333333333333,\"#9c179e\"],[0.4444444444444444,\"#bd3786\"],[0.5555555555555556,\"#d8576b\"],[0.6666666666666666,\"#ed7953\"],[0.7777777777777778,\"#fb9f3a\"],[0.8888888888888888,\"#fdca26\"],[1.0,\"#f0f921\"]]},\"legend\":{\"tracegroupgap\":0},\"title\":{\"text\":\"Days with Maximum Sales\"},\"barmode\":\"relative\"},                        {\"responsive\": true}                    ).then(function(){\n",
              "                            \n",
              "var gd = document.getElementById('fc4b9a40-8bae-4e6d-a65f-77ec8bb9d074');\n",
              "var x = new MutationObserver(function (mutations, observer) {{\n",
              "        var display = window.getComputedStyle(gd).display;\n",
              "        if (!display || display === 'none') {{\n",
              "            console.log([gd, 'removed!']);\n",
              "            Plotly.purge(gd);\n",
              "            observer.disconnect();\n",
              "        }}\n",
              "}});\n",
              "\n",
              "// Listen for the removal of the full notebook cells\n",
              "var notebookContainer = gd.closest('#notebook-container');\n",
              "if (notebookContainer) {{\n",
              "    x.observe(notebookContainer, {childList: true});\n",
              "}}\n",
              "\n",
              "// Listen for the clearing of the current output cell\n",
              "var outputEl = gd.closest('.output');\n",
              "if (outputEl) {{\n",
              "    x.observe(outputEl, {childList: true});\n",
              "}}\n",
              "\n",
              "                        })                };                            </script>        </div>\n",
              "</body>\n",
              "</html>"
            ]
          },
          "metadata": {},
          "output_type": "display_data"
        }
      ],
      "source": [
        "from datetime import datetime\n",
        "data_train_df['Day']=data_train_df['Date'].dt.day\n",
        "day_df=data_train_df.groupby('Day').sum('Weekly_Sales').reset_index()\n",
        "fig=px.bar(day_df, x='Day',y='Weekly_Sales', color='Temperature', title='Days with Maximum Sales')\n",
        "fig.show()"
      ]
    },
    {
      "cell_type": "markdown",
      "metadata": {
        "id": "eXl1aEJ8HVQq"
      },
      "source": [
        "From the above graph, we can see that Sales are maximum on 24th and 25th of month and least on the last day of the month."
      ]
    },
    {
      "cell_type": "markdown",
      "metadata": {
        "id": "mghW_QZJ2lWX"
      },
      "source": [
        "## **Prepare Dataset for Testing**\n",
        "\n",
        "Here, we will prepare Dataset by performing below actions:\n",
        "\n",
        "*   Split the Datatset\n",
        "*   Fill/Remove Missing values\n",
        "*   Extract input and output columns"
      ]
    },
    {
      "cell_type": "markdown",
      "metadata": {
        "id": "JzvgFJwj23VB"
      },
      "source": [
        "### **Split the Dataset**\n",
        "\n",
        "Since it is a time series data, we have sorted the data on the basis of date and will be pick first 80% of the data for testing and rest 20% for validation"
      ]
    },
    {
      "cell_type": "code",
      "execution_count": null,
      "metadata": {
        "id": "RNreemqUJ-oO"
      },
      "outputs": [],
      "source": [
        "data_train_df=data_train_df.sort_values(by=['Date'])"
      ]
    },
    {
      "cell_type": "code",
      "execution_count": null,
      "metadata": {
        "id": "GJ6O-FNrP6XU"
      },
      "outputs": [],
      "source": [
        "test_size = 84314\n",
        "\n",
        "train_df = data_train_df[:-test_size]\n",
        "val_df = data_train_df[-test_size:]"
      ]
    },
    {
      "cell_type": "code",
      "execution_count": null,
      "metadata": {
        "colab": {
          "base_uri": "https://localhost:8080/"
        },
        "id": "h1Vw2UFk3my2",
        "outputId": "38c3bd8e-4ad4-4b08-d9fa-b207a3e8e6e3"
      },
      "outputs": [
        {
          "data": {
            "text/plain": [
              "(337256, 84314)"
            ]
          },
          "execution_count": 252,
          "metadata": {},
          "output_type": "execute_result"
        }
      ],
      "source": [
        "len(train_df),len(val_df)"
      ]
    },
    {
      "cell_type": "markdown",
      "metadata": {
        "id": "wk5vt6cX4ODr"
      },
      "source": [
        "### **Missing values**\n",
        "\n",
        "For now, we are going to drop all the missing values to train a basic model that calculates the mean of the given data."
      ]
    },
    {
      "cell_type": "code",
      "execution_count": null,
      "metadata": {
        "id": "Zjc3lWdj3mvk"
      },
      "outputs": [],
      "source": [
        "train_df=train_df.dropna()\n",
        "val_df=val_df.dropna()\n",
        "#test_input=test_input.dropna()"
      ]
    },
    {
      "cell_type": "markdown",
      "metadata": {
        "id": "ii-cs4Sl4yW6"
      },
      "source": [
        "### **Extract Input Output Columns**\n",
        "\n",
        "Here, we will group the columns for Input and Output Dataset."
      ]
    },
    {
      "cell_type": "code",
      "execution_count": null,
      "metadata": {
        "colab": {
          "base_uri": "https://localhost:8080/"
        },
        "id": "9pneTrbZ3mtB",
        "outputId": "de75a233-de8b-4b7f-b550-836be1089004"
      },
      "outputs": [
        {
          "data": {
            "text/plain": [
              "Index(['Store', 'Dept', 'Date', 'Weekly_Sales', 'IsHoliday_x', 'Temperature',\n",
              "       'Fuel_Price', 'MarkDown1', 'MarkDown2', 'MarkDown3', 'MarkDown4',\n",
              "       'MarkDown5', 'CPI', 'Unemployment', 'IsHoliday_y', 'Type', 'Size'],\n",
              "      dtype='object')"
            ]
          },
          "execution_count": 254,
          "metadata": {},
          "output_type": "execute_result"
        }
      ],
      "source": [
        "train_df.columns"
      ]
    },
    {
      "cell_type": "code",
      "execution_count": null,
      "metadata": {
        "id": "03c-qFEd3mqN"
      },
      "outputs": [],
      "source": [
        "input_cols=['Store', 'Dept', 'Temperature','IsHoliday_x',\n",
        "       'Fuel_Price', 'MarkDown1', 'MarkDown2', 'MarkDown3', 'MarkDown4',\n",
        "       'MarkDown5', 'CPI', 'Unemployment', 'Size']\n"
      ]
    },
    {
      "cell_type": "code",
      "execution_count": null,
      "metadata": {
        "id": "Nkgbe9yS5ISl"
      },
      "outputs": [],
      "source": [
        "target_cols='Weekly_Sales'"
      ]
    },
    {
      "cell_type": "markdown",
      "metadata": {
        "id": "2I9MLCdL5O-B"
      },
      "source": [
        "## **Training Dataset**"
      ]
    },
    {
      "cell_type": "code",
      "execution_count": null,
      "metadata": {
        "id": "Jik2USOt5IP9"
      },
      "outputs": [],
      "source": [
        "train_inputs=train_df[input_cols]\n",
        "train_target=train_df[target_cols]"
      ]
    },
    {
      "cell_type": "code",
      "execution_count": null,
      "metadata": {
        "colab": {
          "base_uri": "https://localhost:8080/"
        },
        "id": "0U-1d0HU5INJ",
        "outputId": "bd806f17-db04-4c0c-a0bc-0770eaecb427"
      },
      "outputs": [
        {
          "data": {
            "text/html": [
              "\n",
              "  <div id=\"df-a506fa05-e2f4-407c-80a2-c66dd0e0df49\">\n",
              "    <div class=\"colab-df-container\">\n",
              "      <div>\n",
              "<style scoped>\n",
              "    .dataframe tbody tr th:only-of-type {\n",
              "        vertical-align: middle;\n",
              "    }\n",
              "\n",
              "    .dataframe tbody tr th {\n",
              "        vertical-align: top;\n",
              "    }\n",
              "\n",
              "    .dataframe thead th {\n",
              "        text-align: right;\n",
              "    }\n",
              "</style>\n",
              "<table border=\"1\" class=\"dataframe\">\n",
              "  <thead>\n",
              "    <tr style=\"text-align: right;\">\n",
              "      <th></th>\n",
              "      <th>Store</th>\n",
              "      <th>Dept</th>\n",
              "      <th>Temperature</th>\n",
              "      <th>IsHoliday_x</th>\n",
              "      <th>Fuel_Price</th>\n",
              "      <th>MarkDown1</th>\n",
              "      <th>MarkDown2</th>\n",
              "      <th>MarkDown3</th>\n",
              "      <th>MarkDown4</th>\n",
              "      <th>MarkDown5</th>\n",
              "      <th>CPI</th>\n",
              "      <th>Unemployment</th>\n",
              "      <th>Size</th>\n",
              "    </tr>\n",
              "  </thead>\n",
              "  <tbody>\n",
              "    <tr>\n",
              "      <th>73260</th>\n",
              "      <td>8</td>\n",
              "      <td>33</td>\n",
              "      <td>50.56</td>\n",
              "      <td>False</td>\n",
              "      <td>3.297</td>\n",
              "      <td>4971.01</td>\n",
              "      <td>4538.18</td>\n",
              "      <td>541.05</td>\n",
              "      <td>1407.72</td>\n",
              "      <td>3846.73</td>\n",
              "      <td>221.459513</td>\n",
              "      <td>6.123</td>\n",
              "      <td>155078</td>\n",
              "    </tr>\n",
              "    <tr>\n",
              "      <th>64244</th>\n",
              "      <td>7</td>\n",
              "      <td>41</td>\n",
              "      <td>19.53</td>\n",
              "      <td>False</td>\n",
              "      <td>3.505</td>\n",
              "      <td>3307.60</td>\n",
              "      <td>1431.65</td>\n",
              "      <td>143.06</td>\n",
              "      <td>1330.31</td>\n",
              "      <td>1680.90</td>\n",
              "      <td>195.637694</td>\n",
              "      <td>8.513</td>\n",
              "      <td>70713</td>\n",
              "    </tr>\n",
              "    <tr>\n",
              "      <th>294797</th>\n",
              "      <td>31</td>\n",
              "      <td>8</td>\n",
              "      <td>59.80</td>\n",
              "      <td>False</td>\n",
              "      <td>3.297</td>\n",
              "      <td>25879.08</td>\n",
              "      <td>8716.86</td>\n",
              "      <td>163.33</td>\n",
              "      <td>3983.24</td>\n",
              "      <td>7898.07</td>\n",
              "      <td>217.645539</td>\n",
              "      <td>7.441</td>\n",
              "      <td>203750</td>\n",
              "    </tr>\n",
              "    <tr>\n",
              "      <th>390394</th>\n",
              "      <td>41</td>\n",
              "      <td>94</td>\n",
              "      <td>32.87</td>\n",
              "      <td>False</td>\n",
              "      <td>3.505</td>\n",
              "      <td>17118.58</td>\n",
              "      <td>14927.30</td>\n",
              "      <td>309.49</td>\n",
              "      <td>8187.22</td>\n",
              "      <td>4925.08</td>\n",
              "      <td>195.637694</td>\n",
              "      <td>6.759</td>\n",
              "      <td>196321</td>\n",
              "    </tr>\n",
              "    <tr>\n",
              "      <th>17120</th>\n",
              "      <td>2</td>\n",
              "      <td>56</td>\n",
              "      <td>59.33</td>\n",
              "      <td>False</td>\n",
              "      <td>3.297</td>\n",
              "      <td>10797.64</td>\n",
              "      <td>20445.00</td>\n",
              "      <td>443.32</td>\n",
              "      <td>4754.07</td>\n",
              "      <td>4787.16</td>\n",
              "      <td>217.645539</td>\n",
              "      <td>7.441</td>\n",
              "      <td>202307</td>\n",
              "    </tr>\n",
              "    <tr>\n",
              "      <th>...</th>\n",
              "      <td>...</td>\n",
              "      <td>...</td>\n",
              "      <td>...</td>\n",
              "      <td>...</td>\n",
              "      <td>...</td>\n",
              "      <td>...</td>\n",
              "      <td>...</td>\n",
              "      <td>...</td>\n",
              "      <td>...</td>\n",
              "      <td>...</td>\n",
              "      <td>...</td>\n",
              "      <td>...</td>\n",
              "      <td>...</td>\n",
              "    </tr>\n",
              "    <tr>\n",
              "      <th>225058</th>\n",
              "      <td>23</td>\n",
              "      <td>81</td>\n",
              "      <td>41.81</td>\n",
              "      <td>False</td>\n",
              "      <td>4.025</td>\n",
              "      <td>4460.90</td>\n",
              "      <td>4852.66</td>\n",
              "      <td>25.17</td>\n",
              "      <td>2064.48</td>\n",
              "      <td>1879.86</td>\n",
              "      <td>137.868000</td>\n",
              "      <td>4.125</td>\n",
              "      <td>114533</td>\n",
              "    </tr>\n",
              "    <tr>\n",
              "      <th>224915</th>\n",
              "      <td>23</td>\n",
              "      <td>80</td>\n",
              "      <td>41.81</td>\n",
              "      <td>False</td>\n",
              "      <td>4.025</td>\n",
              "      <td>4460.90</td>\n",
              "      <td>4852.66</td>\n",
              "      <td>25.17</td>\n",
              "      <td>2064.48</td>\n",
              "      <td>1879.86</td>\n",
              "      <td>137.868000</td>\n",
              "      <td>4.125</td>\n",
              "      <td>114533</td>\n",
              "    </tr>\n",
              "    <tr>\n",
              "      <th>112848</th>\n",
              "      <td>12</td>\n",
              "      <td>36</td>\n",
              "      <td>64.28</td>\n",
              "      <td>False</td>\n",
              "      <td>4.254</td>\n",
              "      <td>9681.11</td>\n",
              "      <td>2934.51</td>\n",
              "      <td>14.08</td>\n",
              "      <td>1944.35</td>\n",
              "      <td>3103.61</td>\n",
              "      <td>131.108000</td>\n",
              "      <td>11.627</td>\n",
              "      <td>112238</td>\n",
              "    </tr>\n",
              "    <tr>\n",
              "      <th>157434</th>\n",
              "      <td>16</td>\n",
              "      <td>98</td>\n",
              "      <td>45.83</td>\n",
              "      <td>False</td>\n",
              "      <td>3.901</td>\n",
              "      <td>3532.73</td>\n",
              "      <td>1368.42</td>\n",
              "      <td>22.00</td>\n",
              "      <td>214.95</td>\n",
              "      <td>1983.50</td>\n",
              "      <td>197.780931</td>\n",
              "      <td>6.169</td>\n",
              "      <td>57197</td>\n",
              "    </tr>\n",
              "    <tr>\n",
              "      <th>237783</th>\n",
              "      <td>25</td>\n",
              "      <td>5</td>\n",
              "      <td>42.46</td>\n",
              "      <td>False</td>\n",
              "      <td>4.044</td>\n",
              "      <td>5432.06</td>\n",
              "      <td>4239.57</td>\n",
              "      <td>8.35</td>\n",
              "      <td>789.18</td>\n",
              "      <td>1044.74</td>\n",
              "      <td>214.312703</td>\n",
              "      <td>7.139</td>\n",
              "      <td>128107</td>\n",
              "    </tr>\n",
              "  </tbody>\n",
              "</table>\n",
              "<p>50949 rows × 13 columns</p>\n",
              "</div>\n",
              "      <button class=\"colab-df-convert\" onclick=\"convertToInteractive('df-a506fa05-e2f4-407c-80a2-c66dd0e0df49')\"\n",
              "              title=\"Convert this dataframe to an interactive table.\"\n",
              "              style=\"display:none;\">\n",
              "        \n",
              "  <svg xmlns=\"http://www.w3.org/2000/svg\" height=\"24px\"viewBox=\"0 0 24 24\"\n",
              "       width=\"24px\">\n",
              "    <path d=\"M0 0h24v24H0V0z\" fill=\"none\"/>\n",
              "    <path d=\"M18.56 5.44l.94 2.06.94-2.06 2.06-.94-2.06-.94-.94-2.06-.94 2.06-2.06.94zm-11 1L8.5 8.5l.94-2.06 2.06-.94-2.06-.94L8.5 2.5l-.94 2.06-2.06.94zm10 10l.94 2.06.94-2.06 2.06-.94-2.06-.94-.94-2.06-.94 2.06-2.06.94z\"/><path d=\"M17.41 7.96l-1.37-1.37c-.4-.4-.92-.59-1.43-.59-.52 0-1.04.2-1.43.59L10.3 9.45l-7.72 7.72c-.78.78-.78 2.05 0 2.83L4 21.41c.39.39.9.59 1.41.59.51 0 1.02-.2 1.41-.59l7.78-7.78 2.81-2.81c.8-.78.8-2.07 0-2.86zM5.41 20L4 18.59l7.72-7.72 1.47 1.35L5.41 20z\"/>\n",
              "  </svg>\n",
              "      </button>\n",
              "      \n",
              "  <style>\n",
              "    .colab-df-container {\n",
              "      display:flex;\n",
              "      flex-wrap:wrap;\n",
              "      gap: 12px;\n",
              "    }\n",
              "\n",
              "    .colab-df-convert {\n",
              "      background-color: #E8F0FE;\n",
              "      border: none;\n",
              "      border-radius: 50%;\n",
              "      cursor: pointer;\n",
              "      display: none;\n",
              "      fill: #1967D2;\n",
              "      height: 32px;\n",
              "      padding: 0 0 0 0;\n",
              "      width: 32px;\n",
              "    }\n",
              "\n",
              "    .colab-df-convert:hover {\n",
              "      background-color: #E2EBFA;\n",
              "      box-shadow: 0px 1px 2px rgba(60, 64, 67, 0.3), 0px 1px 3px 1px rgba(60, 64, 67, 0.15);\n",
              "      fill: #174EA6;\n",
              "    }\n",
              "\n",
              "    [theme=dark] .colab-df-convert {\n",
              "      background-color: #3B4455;\n",
              "      fill: #D2E3FC;\n",
              "    }\n",
              "\n",
              "    [theme=dark] .colab-df-convert:hover {\n",
              "      background-color: #434B5C;\n",
              "      box-shadow: 0px 1px 3px 1px rgba(0, 0, 0, 0.15);\n",
              "      filter: drop-shadow(0px 1px 2px rgba(0, 0, 0, 0.3));\n",
              "      fill: #FFFFFF;\n",
              "    }\n",
              "  </style>\n",
              "\n",
              "      <script>\n",
              "        const buttonEl =\n",
              "          document.querySelector('#df-a506fa05-e2f4-407c-80a2-c66dd0e0df49 button.colab-df-convert');\n",
              "        buttonEl.style.display =\n",
              "          google.colab.kernel.accessAllowed ? 'block' : 'none';\n",
              "\n",
              "        async function convertToInteractive(key) {\n",
              "          const element = document.querySelector('#df-a506fa05-e2f4-407c-80a2-c66dd0e0df49');\n",
              "          const dataTable =\n",
              "            await google.colab.kernel.invokeFunction('convertToInteractive',\n",
              "                                                     [key], {});\n",
              "          if (!dataTable) return;\n",
              "\n",
              "          const docLinkHtml = 'Like what you see? Visit the ' +\n",
              "            '<a target=\"_blank\" href=https://colab.research.google.com/notebooks/data_table.ipynb>data table notebook</a>'\n",
              "            + ' to learn more about interactive tables.';\n",
              "          element.innerHTML = '';\n",
              "          dataTable['output_type'] = 'display_data';\n",
              "          await google.colab.output.renderOutput(dataTable, element);\n",
              "          const docLink = document.createElement('div');\n",
              "          docLink.innerHTML = docLinkHtml;\n",
              "          element.appendChild(docLink);\n",
              "        }\n",
              "      </script>\n",
              "    </div>\n",
              "  </div>\n",
              "  "
            ],
            "text/plain": [
              "        Store  Dept  Temperature  IsHoliday_x  Fuel_Price  MarkDown1  \\\n",
              "73260       8    33        50.56        False       3.297    4971.01   \n",
              "64244       7    41        19.53        False       3.505    3307.60   \n",
              "294797     31     8        59.80        False       3.297   25879.08   \n",
              "390394     41    94        32.87        False       3.505   17118.58   \n",
              "17120       2    56        59.33        False       3.297   10797.64   \n",
              "...       ...   ...          ...          ...         ...        ...   \n",
              "225058     23    81        41.81        False       4.025    4460.90   \n",
              "224915     23    80        41.81        False       4.025    4460.90   \n",
              "112848     12    36        64.28        False       4.254    9681.11   \n",
              "157434     16    98        45.83        False       3.901    3532.73   \n",
              "237783     25     5        42.46        False       4.044    5432.06   \n",
              "\n",
              "        MarkDown2  MarkDown3  MarkDown4  MarkDown5         CPI  Unemployment  \\\n",
              "73260     4538.18     541.05    1407.72    3846.73  221.459513         6.123   \n",
              "64244     1431.65     143.06    1330.31    1680.90  195.637694         8.513   \n",
              "294797    8716.86     163.33    3983.24    7898.07  217.645539         7.441   \n",
              "390394   14927.30     309.49    8187.22    4925.08  195.637694         6.759   \n",
              "17120    20445.00     443.32    4754.07    4787.16  217.645539         7.441   \n",
              "...           ...        ...        ...        ...         ...           ...   \n",
              "225058    4852.66      25.17    2064.48    1879.86  137.868000         4.125   \n",
              "224915    4852.66      25.17    2064.48    1879.86  137.868000         4.125   \n",
              "112848    2934.51      14.08    1944.35    3103.61  131.108000        11.627   \n",
              "157434    1368.42      22.00     214.95    1983.50  197.780931         6.169   \n",
              "237783    4239.57       8.35     789.18    1044.74  214.312703         7.139   \n",
              "\n",
              "          Size  \n",
              "73260   155078  \n",
              "64244    70713  \n",
              "294797  203750  \n",
              "390394  196321  \n",
              "17120   202307  \n",
              "...        ...  \n",
              "225058  114533  \n",
              "224915  114533  \n",
              "112848  112238  \n",
              "157434   57197  \n",
              "237783  128107  \n",
              "\n",
              "[50949 rows x 13 columns]"
            ]
          },
          "execution_count": 258,
          "metadata": {},
          "output_type": "execute_result"
        }
      ],
      "source": [
        "train_inputs"
      ]
    },
    {
      "cell_type": "code",
      "execution_count": null,
      "metadata": {
        "id": "TmRepL3I5ves"
      },
      "outputs": [],
      "source": [
        "val_inputs=val_df[input_cols]\n",
        "val_target=val_df[target_cols]"
      ]
    },
    {
      "cell_type": "markdown",
      "metadata": {
        "id": "g0HHVkpj55v1"
      },
      "source": [
        "## **Test Dataset**"
      ]
    },
    {
      "cell_type": "code",
      "execution_count": null,
      "metadata": {
        "id": "241RODH15vbf"
      },
      "outputs": [],
      "source": [
        "test_input=Data_test_df[input_cols]"
      ]
    },
    {
      "cell_type": "code",
      "execution_count": null,
      "metadata": {
        "colab": {
          "base_uri": "https://localhost:8080/"
        },
        "id": "EpO4TDvt5vY3",
        "outputId": "070916cc-114e-4139-a16e-af80ca4d0be5"
      },
      "outputs": [
        {
          "data": {
            "text/plain": [
              "115064"
            ]
          },
          "execution_count": 261,
          "metadata": {},
          "output_type": "execute_result"
        }
      ],
      "source": [
        "len(test_input)"
      ]
    },
    {
      "cell_type": "markdown",
      "metadata": {
        "id": "DdsGOoBJ7c0I"
      },
      "source": [
        "## **Train & Evaluate Hardcoded Model**"
      ]
    },
    {
      "cell_type": "markdown",
      "metadata": {
        "id": "4EtsCabB7qpm"
      },
      "source": [
        "Let's create a Simple model to calculate and predict Mean of the given data."
      ]
    },
    {
      "cell_type": "code",
      "execution_count": null,
      "metadata": {
        "id": "XrDZGhBr7onP"
      },
      "outputs": [],
      "source": [
        "import numpy as np"
      ]
    },
    {
      "cell_type": "code",
      "execution_count": null,
      "metadata": {
        "id": "YusyBlsh7okY"
      },
      "outputs": [],
      "source": [
        "class MeanRegressors:\n",
        "  def fit(self,inputs, targets):\n",
        "    self.mean =np.mean(targets)\n",
        "  \n",
        "  def predict(self, inputs):\n",
        "    return np.full(inputs.shape[0] , self.mean)"
      ]
    },
    {
      "cell_type": "code",
      "execution_count": null,
      "metadata": {
        "id": "IdxmOnLp7ocA"
      },
      "outputs": [],
      "source": [
        "mean_model=MeanRegressors()"
      ]
    },
    {
      "cell_type": "markdown",
      "metadata": {
        "id": "QYlmeBumSvqp"
      },
      "source": [
        "Let's fit the model using `.fit()`"
      ]
    },
    {
      "cell_type": "code",
      "execution_count": null,
      "metadata": {
        "id": "N939lEXo7oZK"
      },
      "outputs": [],
      "source": [
        "mean_model.fit(train_inputs,train_target)"
      ]
    },
    {
      "cell_type": "code",
      "execution_count": null,
      "metadata": {
        "colab": {
          "base_uri": "https://localhost:8080/"
        },
        "id": "O_wWdpeI7oWR",
        "outputId": "11d2a001-4c4e-44ec-d69d-3a314c60ebf9"
      },
      "outputs": [
        {
          "data": {
            "text/plain": [
              "18255.87402441657"
            ]
          },
          "execution_count": 266,
          "metadata": {},
          "output_type": "execute_result"
        }
      ],
      "source": [
        "mean_model.mean"
      ]
    },
    {
      "cell_type": "markdown",
      "metadata": {
        "id": "vnEqzSmcS2kt"
      },
      "source": [
        "After the model is fitted, we will now predict the data by passing val_input dataset to the model using `.predict()`"
      ]
    },
    {
      "cell_type": "code",
      "execution_count": null,
      "metadata": {
        "id": "B6wMw3bg7oTr"
      },
      "outputs": [],
      "source": [
        "train_preds=mean_model.predict(train_inputs)\n",
        "val_preds=mean_model.predict(val_inputs)\n"
      ]
    },
    {
      "cell_type": "markdown",
      "metadata": {
        "id": "m0AzTuNJTPBM"
      },
      "source": [
        "**Calculation of Evaluation Metric**\n",
        "\n",
        "![](https://i.imgur.com/yt4MP5k.jpg)"
      ]
    },
    {
      "cell_type": "markdown",
      "metadata": {
        "id": "NtSydcJTUW5J"
      },
      "source": [
        "We will create a function `weight` to calculate the weight w for a given dataset."
      ]
    },
    {
      "cell_type": "code",
      "execution_count": null,
      "metadata": {
        "id": "st0wud-inl2n"
      },
      "outputs": [],
      "source": [
        "def weight(df):\n",
        "  if df['IsHoliday_x']==True:\n",
        "    weight=5\n",
        "  else:\n",
        "    weight=1\n",
        "  return weight "
      ]
    },
    {
      "cell_type": "markdown",
      "metadata": {
        "id": "UzDj8vTMUk4l"
      },
      "source": [
        "Now, we will calculate the Weighted Mean Absolute Error using function `WMAE`"
      ]
    },
    {
      "cell_type": "code",
      "execution_count": null,
      "metadata": {
        "id": "HUt9c-4GhaNk"
      },
      "outputs": [],
      "source": [
        "def WMAE(dataset, real, predicted,weights):\n",
        "    return np.round(np.sum(weights*abs(real-predicted))/(np.sum(weights)), 2)"
      ]
    },
    {
      "cell_type": "markdown",
      "metadata": {
        "id": "0jFqhCREU_4u"
      },
      "source": [
        "We will call the function `weight` and `WMAE` for the train dataset and validation dataset."
      ]
    },
    {
      "cell_type": "code",
      "execution_count": null,
      "metadata": {
        "id": "2wx3lG1XSS9H"
      },
      "outputs": [],
      "source": [
        "WT=train_inputs.apply(weight, axis=1)\n",
        "WV=val_inputs.apply(weight, axis=1)"
      ]
    },
    {
      "cell_type": "code",
      "execution_count": null,
      "metadata": {
        "colab": {
          "base_uri": "https://localhost:8080/"
        },
        "id": "xXwJC4MxhaKs",
        "outputId": "35ae1446-f7dd-4da6-bc0e-fdea66ed215d"
      },
      "outputs": [
        {
          "data": {
            "text/plain": [
              "(17345.16, 16417.37)"
            ]
          },
          "execution_count": 271,
          "metadata": {},
          "output_type": "execute_result"
        }
      ],
      "source": [
        "WMAE(train_inputs,train_target,train_preds,WT),WMAE(val_inputs,val_target,val_preds,WV)"
      ]
    },
    {
      "cell_type": "markdown",
      "metadata": {
        "id": "kFjcsBrpV95e"
      },
      "source": [
        "**Observation**\n",
        "*  The Weighted Mean Absolute Error for `MeanRegressor`Model predicts `$` 17,345 for  rain data and `$` 16,417 for Test Data.\n",
        "*  The error for our next models should be less then the above score.\n"
      ]
    },
    {
      "cell_type": "markdown",
      "metadata": {
        "id": "5Y_kMtiUlYsQ"
      },
      "source": [
        "## **Train & Evaluate Baseline Model**\n",
        "\n",
        "Now, we will train `LinearRegression` Model using **train_inputs** and **val_inputs**.\n"
      ]
    },
    {
      "cell_type": "code",
      "execution_count": null,
      "metadata": {
        "id": "e_ZK8CgxlWm7"
      },
      "outputs": [],
      "source": [
        "from sklearn.linear_model import LinearRegression"
      ]
    },
    {
      "cell_type": "code",
      "execution_count": null,
      "metadata": {
        "id": "FbXeQVQllWjb"
      },
      "outputs": [],
      "source": [
        "linear_model=LinearRegression()"
      ]
    },
    {
      "cell_type": "code",
      "execution_count": null,
      "metadata": {
        "colab": {
          "base_uri": "https://localhost:8080/"
        },
        "id": "ejWxsTwFlWgk",
        "outputId": "1bd98ec0-a3ab-4c05-b159-a5cc91ce618d"
      },
      "outputs": [
        {
          "data": {
            "text/plain": [
              "LinearRegression()"
            ]
          },
          "execution_count": 274,
          "metadata": {},
          "output_type": "execute_result"
        }
      ],
      "source": [
        "linear_model.fit(train_inputs,train_target)"
      ]
    },
    {
      "cell_type": "code",
      "execution_count": null,
      "metadata": {
        "colab": {
          "base_uri": "https://localhost:8080/"
        },
        "id": "i1wSus1olWd6",
        "outputId": "e620df53-a413-462c-c321-098126f05f01"
      },
      "outputs": [
        {
          "data": {
            "text/plain": [
              "array([18375.86849582,  8280.49433775, 17660.99703906, ...,\n",
              "       13506.85973967, 12985.49428038,  6745.81505972])"
            ]
          },
          "execution_count": 275,
          "metadata": {},
          "output_type": "execute_result"
        }
      ],
      "source": [
        "train_preds=linear_model.predict(train_inputs)\n",
        "val_preds=linear_model.predict(val_inputs)\n",
        "train_preds"
      ]
    },
    {
      "cell_type": "markdown",
      "metadata": {
        "id": "Z4Dbvf2gXZA4"
      },
      "source": [
        "No we will call `weight` and `WMAE` function to calculate the WMAE Value."
      ]
    },
    {
      "cell_type": "code",
      "execution_count": null,
      "metadata": {
        "id": "ehRIPldMWqQk"
      },
      "outputs": [],
      "source": [
        "WT=train_inputs.apply(weight, axis=1)\n",
        "WV=val_inputs.apply(weight, axis=1)"
      ]
    },
    {
      "cell_type": "code",
      "execution_count": null,
      "metadata": {
        "colab": {
          "base_uri": "https://localhost:8080/"
        },
        "id": "8xllgszmlWYM",
        "outputId": "af4de051-40f7-46ac-a336-f0fd02b2bfdd"
      },
      "outputs": [
        {
          "data": {
            "text/plain": [
              "(16934.83, 16390.91)"
            ]
          },
          "execution_count": 277,
          "metadata": {},
          "output_type": "execute_result"
        }
      ],
      "source": [
        "WMAE(train_inputs,train_target,train_preds,WT),WMAE(val_inputs,val_target,val_preds,WV)"
      ]
    },
    {
      "cell_type": "markdown",
      "metadata": {
        "id": "8GxA0_-hXkkp"
      },
      "source": [
        "**Observation**\n",
        "* Data predicted from `LinearRegressor`model gives an error of `$` 16,934 on training data set and `$`16,390 on Validation set."
      ]
    },
    {
      "cell_type": "code",
      "execution_count": null,
      "metadata": {
        "id": "mv54klSGXj7i"
      },
      "outputs": [],
      "source": [
        ""
      ]
    },
    {
      "cell_type": "markdown",
      "metadata": {
        "id": "MLuicga9pUg5"
      },
      "source": [
        "## **Make Predictions and Submission**"
      ]
    },
    {
      "cell_type": "markdown",
      "metadata": {
        "id": "oBoKRuQgmPfQ"
      },
      "source": [
        "We will create Resuable function called `predict_and_submit` to predict and create a .csv file for submission to the Kaggle"
      ]
    },
    {
      "cell_type": "code",
      "execution_count": null,
      "metadata": {
        "id": "PLUoEEehmOSS"
      },
      "outputs": [],
      "source": [
        "def predict_and_submit(model_name, test_input,fname):\n",
        "  test_preds=model_name.predict(test_input)\n",
        "  subsmission_df=pd.read_csv('sampleSubmission.csv')\n",
        "  subsmission_df['Weekly_Sales']=test_preds\n",
        "  subsmission_df.to_csv(fname,index=None)\n",
        "  return subsmission_df\n"
      ]
    },
    {
      "cell_type": "markdown",
      "metadata": {
        "id": "t9k4SICEsIIa"
      },
      "source": [
        "We will fill the NA values in the Test Dataset with 0 before using the Dataset."
      ]
    },
    {
      "cell_type": "code",
      "execution_count": null,
      "metadata": {
        "id": "7aFU7B9kjrwJ"
      },
      "outputs": [],
      "source": [
        "test_input=test_input.fillna(0)"
      ]
    },
    {
      "cell_type": "code",
      "execution_count": null,
      "metadata": {
        "id": "d9AbFHBEjmCl"
      },
      "outputs": [],
      "source": [
        "def predict_and_submit(model_name, test_input,fname):\n",
        "  test_preds=model_name.predict(test_input)\n",
        "  subsmission_df=pd.read_csv('sampleSubmission.csv')\n",
        "  subsmission_df['Weekly_Sales']=test_preds\n",
        "  subsmission_df.to_csv(fname,index=None)\n",
        "  return subsmission_df"
      ]
    },
    {
      "cell_type": "code",
      "execution_count": null,
      "metadata": {
        "colab": {
          "base_uri": "https://localhost:8080/"
        },
        "id": "Pprz9WpqmOO1",
        "outputId": "b55f4485-6f99-49a6-e418-9f13176d6f05"
      },
      "outputs": [
        {
          "data": {
            "text/html": [
              "\n",
              "  <div id=\"df-5161438a-2fed-4d76-8dc1-30474be11c3d\">\n",
              "    <div class=\"colab-df-container\">\n",
              "      <div>\n",
              "<style scoped>\n",
              "    .dataframe tbody tr th:only-of-type {\n",
              "        vertical-align: middle;\n",
              "    }\n",
              "\n",
              "    .dataframe tbody tr th {\n",
              "        vertical-align: top;\n",
              "    }\n",
              "\n",
              "    .dataframe thead th {\n",
              "        text-align: right;\n",
              "    }\n",
              "</style>\n",
              "<table border=\"1\" class=\"dataframe\">\n",
              "  <thead>\n",
              "    <tr style=\"text-align: right;\">\n",
              "      <th></th>\n",
              "      <th>Id</th>\n",
              "      <th>Weekly_Sales</th>\n",
              "    </tr>\n",
              "  </thead>\n",
              "  <tbody>\n",
              "    <tr>\n",
              "      <th>0</th>\n",
              "      <td>1_1_2012-11-02</td>\n",
              "      <td>15151.494602</td>\n",
              "    </tr>\n",
              "    <tr>\n",
              "      <th>1</th>\n",
              "      <td>1_1_2012-11-09</td>\n",
              "      <td>16105.111024</td>\n",
              "    </tr>\n",
              "    <tr>\n",
              "      <th>2</th>\n",
              "      <td>1_1_2012-11-16</td>\n",
              "      <td>15973.235700</td>\n",
              "    </tr>\n",
              "    <tr>\n",
              "      <th>3</th>\n",
              "      <td>1_1_2012-11-23</td>\n",
              "      <td>23568.488250</td>\n",
              "    </tr>\n",
              "    <tr>\n",
              "      <th>4</th>\n",
              "      <td>1_1_2012-11-30</td>\n",
              "      <td>16437.159076</td>\n",
              "    </tr>\n",
              "    <tr>\n",
              "      <th>...</th>\n",
              "      <td>...</td>\n",
              "      <td>...</td>\n",
              "    </tr>\n",
              "    <tr>\n",
              "      <th>115059</th>\n",
              "      <td>45_98_2013-06-28</td>\n",
              "      <td>27173.820271</td>\n",
              "    </tr>\n",
              "    <tr>\n",
              "      <th>115060</th>\n",
              "      <td>45_98_2013-07-05</td>\n",
              "      <td>27174.421882</td>\n",
              "    </tr>\n",
              "    <tr>\n",
              "      <th>115061</th>\n",
              "      <td>45_98_2013-07-12</td>\n",
              "      <td>27400.803752</td>\n",
              "    </tr>\n",
              "    <tr>\n",
              "      <th>115062</th>\n",
              "      <td>45_98_2013-07-19</td>\n",
              "      <td>27189.251043</td>\n",
              "    </tr>\n",
              "    <tr>\n",
              "      <th>115063</th>\n",
              "      <td>45_98_2013-07-26</td>\n",
              "      <td>26591.097167</td>\n",
              "    </tr>\n",
              "  </tbody>\n",
              "</table>\n",
              "<p>115064 rows × 2 columns</p>\n",
              "</div>\n",
              "      <button class=\"colab-df-convert\" onclick=\"convertToInteractive('df-5161438a-2fed-4d76-8dc1-30474be11c3d')\"\n",
              "              title=\"Convert this dataframe to an interactive table.\"\n",
              "              style=\"display:none;\">\n",
              "        \n",
              "  <svg xmlns=\"http://www.w3.org/2000/svg\" height=\"24px\"viewBox=\"0 0 24 24\"\n",
              "       width=\"24px\">\n",
              "    <path d=\"M0 0h24v24H0V0z\" fill=\"none\"/>\n",
              "    <path d=\"M18.56 5.44l.94 2.06.94-2.06 2.06-.94-2.06-.94-.94-2.06-.94 2.06-2.06.94zm-11 1L8.5 8.5l.94-2.06 2.06-.94-2.06-.94L8.5 2.5l-.94 2.06-2.06.94zm10 10l.94 2.06.94-2.06 2.06-.94-2.06-.94-.94-2.06-.94 2.06-2.06.94z\"/><path d=\"M17.41 7.96l-1.37-1.37c-.4-.4-.92-.59-1.43-.59-.52 0-1.04.2-1.43.59L10.3 9.45l-7.72 7.72c-.78.78-.78 2.05 0 2.83L4 21.41c.39.39.9.59 1.41.59.51 0 1.02-.2 1.41-.59l7.78-7.78 2.81-2.81c.8-.78.8-2.07 0-2.86zM5.41 20L4 18.59l7.72-7.72 1.47 1.35L5.41 20z\"/>\n",
              "  </svg>\n",
              "      </button>\n",
              "      \n",
              "  <style>\n",
              "    .colab-df-container {\n",
              "      display:flex;\n",
              "      flex-wrap:wrap;\n",
              "      gap: 12px;\n",
              "    }\n",
              "\n",
              "    .colab-df-convert {\n",
              "      background-color: #E8F0FE;\n",
              "      border: none;\n",
              "      border-radius: 50%;\n",
              "      cursor: pointer;\n",
              "      display: none;\n",
              "      fill: #1967D2;\n",
              "      height: 32px;\n",
              "      padding: 0 0 0 0;\n",
              "      width: 32px;\n",
              "    }\n",
              "\n",
              "    .colab-df-convert:hover {\n",
              "      background-color: #E2EBFA;\n",
              "      box-shadow: 0px 1px 2px rgba(60, 64, 67, 0.3), 0px 1px 3px 1px rgba(60, 64, 67, 0.15);\n",
              "      fill: #174EA6;\n",
              "    }\n",
              "\n",
              "    [theme=dark] .colab-df-convert {\n",
              "      background-color: #3B4455;\n",
              "      fill: #D2E3FC;\n",
              "    }\n",
              "\n",
              "    [theme=dark] .colab-df-convert:hover {\n",
              "      background-color: #434B5C;\n",
              "      box-shadow: 0px 1px 3px 1px rgba(0, 0, 0, 0.15);\n",
              "      filter: drop-shadow(0px 1px 2px rgba(0, 0, 0, 0.3));\n",
              "      fill: #FFFFFF;\n",
              "    }\n",
              "  </style>\n",
              "\n",
              "      <script>\n",
              "        const buttonEl =\n",
              "          document.querySelector('#df-5161438a-2fed-4d76-8dc1-30474be11c3d button.colab-df-convert');\n",
              "        buttonEl.style.display =\n",
              "          google.colab.kernel.accessAllowed ? 'block' : 'none';\n",
              "\n",
              "        async function convertToInteractive(key) {\n",
              "          const element = document.querySelector('#df-5161438a-2fed-4d76-8dc1-30474be11c3d');\n",
              "          const dataTable =\n",
              "            await google.colab.kernel.invokeFunction('convertToInteractive',\n",
              "                                                     [key], {});\n",
              "          if (!dataTable) return;\n",
              "\n",
              "          const docLinkHtml = 'Like what you see? Visit the ' +\n",
              "            '<a target=\"_blank\" href=https://colab.research.google.com/notebooks/data_table.ipynb>data table notebook</a>'\n",
              "            + ' to learn more about interactive tables.';\n",
              "          element.innerHTML = '';\n",
              "          dataTable['output_type'] = 'display_data';\n",
              "          await google.colab.output.renderOutput(dataTable, element);\n",
              "          const docLink = document.createElement('div');\n",
              "          docLink.innerHTML = docLinkHtml;\n",
              "          element.appendChild(docLink);\n",
              "        }\n",
              "      </script>\n",
              "    </div>\n",
              "  </div>\n",
              "  "
            ],
            "text/plain": [
              "                      Id  Weekly_Sales\n",
              "0         1_1_2012-11-02  15151.494602\n",
              "1         1_1_2012-11-09  16105.111024\n",
              "2         1_1_2012-11-16  15973.235700\n",
              "3         1_1_2012-11-23  23568.488250\n",
              "4         1_1_2012-11-30  16437.159076\n",
              "...                  ...           ...\n",
              "115059  45_98_2013-06-28  27173.820271\n",
              "115060  45_98_2013-07-05  27174.421882\n",
              "115061  45_98_2013-07-12  27400.803752\n",
              "115062  45_98_2013-07-19  27189.251043\n",
              "115063  45_98_2013-07-26  26591.097167\n",
              "\n",
              "[115064 rows x 2 columns]"
            ]
          },
          "execution_count": 281,
          "metadata": {},
          "output_type": "execute_result"
        }
      ],
      "source": [
        "predict_and_submit(linear_model,test_input,\"Linear_model_regression.csv\")"
      ]
    },
    {
      "cell_type": "markdown",
      "metadata": {
        "id": "8u6zxsgTtfXo"
      },
      "source": [
        "**Experiment tracking sheet:**\n",
        "\n",
        "* We have created an experiment trackinng sheet to track the WMAE score for various Models and its Parameter.\n",
        "https://docs.google.com/spreadsheets/d/104ScbQ_Ul0laAu91oRieRODW5Cbnuu-17fvggyjwx_c/edit#gid=294510864"
      ]
    },
    {
      "cell_type": "markdown",
      "metadata": {
        "id": "Gf-4YNZEsuMs"
      },
      "source": [
        "# **Feature Engineering**\n",
        "\n",
        "Feature Engineering is a technique that leverages data to create new variables that aren't in the training set.\n",
        "\n",
        "Here, we will perform below actions\n",
        "\n",
        "*   Extract part of date (day number, day of week , month number, Year and Week)\n",
        "*   Create a funtion `is_Holiday` to create column to check if its a Holiday Month (`Holiday_Month`)\n",
        "*   Create column `Markdown_sum` to create the sum total of all MarkDown columns\n",
        "*  Identifier Columns to Identify if a week is a SuperBowlWeek, LaborDay Week, ThanksGiving Week or Christmas Week\n",
        "*   Handle null values in `MarkDown1`,`MarkDown2`,`MarkDown3`,`MarkDown4` and `MarkDown5` columns\n",
        "\n"
      ]
    },
    {
      "cell_type": "code",
      "execution_count": null,
      "metadata": {
        "id": "b9VP3fBup3kt"
      },
      "outputs": [],
      "source": [
        "data_train_df=train_df.merge(Combined_data, how='left',on=['Store' , 'Date'] )\n",
        "Data_test_df=test_df.merge(Combined_data,how='left', on =['Store' , 'Date'])"
      ]
    },
    {
      "cell_type": "code",
      "execution_count": null,
      "metadata": {
        "colab": {
          "base_uri": "https://localhost:8080/"
        },
        "id": "hZ4Ff-glepMp",
        "outputId": "fd03c037-6da0-4d04-f2a3-1edf11e3567a"
      },
      "outputs": [
        {
          "name": "stdout",
          "output_type": "stream",
          "text": [
            "<class 'pandas.core.frame.DataFrame'>\n",
            "Int64Index: 421570 entries, 0 to 421569\n",
            "Data columns (total 17 columns):\n",
            " #   Column        Non-Null Count   Dtype  \n",
            "---  ------        --------------   -----  \n",
            " 0   Store         421570 non-null  int64  \n",
            " 1   Dept          421570 non-null  int64  \n",
            " 2   Date          421570 non-null  object \n",
            " 3   Weekly_Sales  421570 non-null  float64\n",
            " 4   IsHoliday_x   421570 non-null  bool   \n",
            " 5   Temperature   421570 non-null  float64\n",
            " 6   Fuel_Price    421570 non-null  float64\n",
            " 7   MarkDown1     150681 non-null  float64\n",
            " 8   MarkDown2     111248 non-null  float64\n",
            " 9   MarkDown3     137091 non-null  float64\n",
            " 10  MarkDown4     134967 non-null  float64\n",
            " 11  MarkDown5     151432 non-null  float64\n",
            " 12  CPI           421570 non-null  float64\n",
            " 13  Unemployment  421570 non-null  float64\n",
            " 14  IsHoliday_y   421570 non-null  bool   \n",
            " 15  Type          421570 non-null  object \n",
            " 16  Size          421570 non-null  int64  \n",
            "dtypes: bool(2), float64(10), int64(3), object(2)\n",
            "memory usage: 52.3+ MB\n"
          ]
        }
      ],
      "source": [
        "data_train_df.info()"
      ]
    },
    {
      "cell_type": "code",
      "execution_count": null,
      "metadata": {
        "id": "_wZttFNXshq_"
      },
      "outputs": [],
      "source": [
        "columns=['Store', 'Dept', 'Date', 'IsHoliday_x', 'Temperature','Weekly_Sales',\n",
        "       'Fuel_Price', 'MarkDown1', 'MarkDown2', 'MarkDown3', 'MarkDown4',\n",
        "       'MarkDown5', 'CPI', 'Unemployment', 'IsHoliday_y', 'Type', 'Size']\n",
        "columns_test=['Store', 'Dept', 'Date', 'IsHoliday_x', 'Temperature',\n",
        "       'Fuel_Price', 'MarkDown1', 'MarkDown2', 'MarkDown3', 'MarkDown4',\n",
        "       'MarkDown5', 'CPI', 'Unemployment', 'IsHoliday_y', 'Type', 'Size']\n",
        "data_train_df=data_train_df[columns]\n",
        "Data_test_df=Data_test_df[columns_test]\n"
      ]
    },
    {
      "cell_type": "markdown",
      "metadata": {
        "id": "duj8MjiOzeCq"
      },
      "source": [
        "Note: All the dates are on friday"
      ]
    },
    {
      "cell_type": "markdown",
      "metadata": {
        "id": "cTIRIESM1fka"
      },
      "source": [
        "We will create a function to get day number, day of week , month number, Year and Week from the given date"
      ]
    },
    {
      "cell_type": "code",
      "execution_count": null,
      "metadata": {
        "id": "rrgiu-UN0JCJ"
      },
      "outputs": [],
      "source": [
        "def get_date_part(df,col):\n",
        "  df['WeekDay_no']=df[col].dt.weekday\n",
        "  df['Month']=df[col].dt.month\n",
        "  df['Day_no']=df[col].dt.day\n",
        "  df['Year']=df[col].dt.year\n",
        "  df['Week']=df[col].dt.week\n",
        "  return df"
      ]
    },
    {
      "cell_type": "markdown",
      "metadata": {
        "id": "N9J5ncnOwM5G"
      },
      "source": [
        "We will call the `get_date_part` function now."
      ]
    },
    {
      "cell_type": "code",
      "execution_count": null,
      "metadata": {
        "colab": {
          "base_uri": "https://localhost:8080/",
          "height": 731
        },
        "id": "XESstGkmv_8C",
        "outputId": "ab673a40-e824-4a2c-f027-a4b376e5711e"
      },
      "outputs": [
        {
          "name": "stderr",
          "output_type": "stream",
          "text": [
            "/usr/local/lib/python3.7/dist-packages/ipykernel_launcher.py:6: FutureWarning:\n",
            "\n",
            "Series.dt.weekofyear and Series.dt.week have been deprecated.  Please use Series.dt.isocalendar().week instead.\n",
            "\n"
          ]
        },
        {
          "data": {
            "text/html": [
              "\n",
              "  <div id=\"df-d4a1456a-f281-4c31-ad82-76581e524132\">\n",
              "    <div class=\"colab-df-container\">\n",
              "      <div>\n",
              "<style scoped>\n",
              "    .dataframe tbody tr th:only-of-type {\n",
              "        vertical-align: middle;\n",
              "    }\n",
              "\n",
              "    .dataframe tbody tr th {\n",
              "        vertical-align: top;\n",
              "    }\n",
              "\n",
              "    .dataframe thead th {\n",
              "        text-align: right;\n",
              "    }\n",
              "</style>\n",
              "<table border=\"1\" class=\"dataframe\">\n",
              "  <thead>\n",
              "    <tr style=\"text-align: right;\">\n",
              "      <th></th>\n",
              "      <th>Store</th>\n",
              "      <th>Dept</th>\n",
              "      <th>Date</th>\n",
              "      <th>IsHoliday_x</th>\n",
              "      <th>Temperature</th>\n",
              "      <th>Weekly_Sales</th>\n",
              "      <th>Fuel_Price</th>\n",
              "      <th>MarkDown1</th>\n",
              "      <th>MarkDown2</th>\n",
              "      <th>MarkDown3</th>\n",
              "      <th>...</th>\n",
              "      <th>CPI</th>\n",
              "      <th>Unemployment</th>\n",
              "      <th>IsHoliday_y</th>\n",
              "      <th>Type</th>\n",
              "      <th>Size</th>\n",
              "      <th>WeekDay_no</th>\n",
              "      <th>Month</th>\n",
              "      <th>Day_no</th>\n",
              "      <th>Year</th>\n",
              "      <th>Week</th>\n",
              "    </tr>\n",
              "  </thead>\n",
              "  <tbody>\n",
              "    <tr>\n",
              "      <th>0</th>\n",
              "      <td>1</td>\n",
              "      <td>1</td>\n",
              "      <td>2010-02-05</td>\n",
              "      <td>False</td>\n",
              "      <td>42.31</td>\n",
              "      <td>24924.50</td>\n",
              "      <td>2.572</td>\n",
              "      <td>NaN</td>\n",
              "      <td>NaN</td>\n",
              "      <td>NaN</td>\n",
              "      <td>...</td>\n",
              "      <td>211.096358</td>\n",
              "      <td>8.106</td>\n",
              "      <td>False</td>\n",
              "      <td>A</td>\n",
              "      <td>151315</td>\n",
              "      <td>4</td>\n",
              "      <td>2</td>\n",
              "      <td>5</td>\n",
              "      <td>2010</td>\n",
              "      <td>5</td>\n",
              "    </tr>\n",
              "    <tr>\n",
              "      <th>277665</th>\n",
              "      <td>29</td>\n",
              "      <td>5</td>\n",
              "      <td>2010-02-05</td>\n",
              "      <td>False</td>\n",
              "      <td>24.36</td>\n",
              "      <td>15552.08</td>\n",
              "      <td>2.788</td>\n",
              "      <td>NaN</td>\n",
              "      <td>NaN</td>\n",
              "      <td>NaN</td>\n",
              "      <td>...</td>\n",
              "      <td>131.527903</td>\n",
              "      <td>10.064</td>\n",
              "      <td>False</td>\n",
              "      <td>B</td>\n",
              "      <td>93638</td>\n",
              "      <td>4</td>\n",
              "      <td>2</td>\n",
              "      <td>5</td>\n",
              "      <td>2010</td>\n",
              "      <td>5</td>\n",
              "    </tr>\n",
              "    <tr>\n",
              "      <th>277808</th>\n",
              "      <td>29</td>\n",
              "      <td>6</td>\n",
              "      <td>2010-02-05</td>\n",
              "      <td>False</td>\n",
              "      <td>24.36</td>\n",
              "      <td>3200.22</td>\n",
              "      <td>2.788</td>\n",
              "      <td>NaN</td>\n",
              "      <td>NaN</td>\n",
              "      <td>NaN</td>\n",
              "      <td>...</td>\n",
              "      <td>131.527903</td>\n",
              "      <td>10.064</td>\n",
              "      <td>False</td>\n",
              "      <td>B</td>\n",
              "      <td>93638</td>\n",
              "      <td>4</td>\n",
              "      <td>2</td>\n",
              "      <td>5</td>\n",
              "      <td>2010</td>\n",
              "      <td>5</td>\n",
              "    </tr>\n",
              "    <tr>\n",
              "      <th>277951</th>\n",
              "      <td>29</td>\n",
              "      <td>7</td>\n",
              "      <td>2010-02-05</td>\n",
              "      <td>False</td>\n",
              "      <td>24.36</td>\n",
              "      <td>10820.05</td>\n",
              "      <td>2.788</td>\n",
              "      <td>NaN</td>\n",
              "      <td>NaN</td>\n",
              "      <td>NaN</td>\n",
              "      <td>...</td>\n",
              "      <td>131.527903</td>\n",
              "      <td>10.064</td>\n",
              "      <td>False</td>\n",
              "      <td>B</td>\n",
              "      <td>93638</td>\n",
              "      <td>4</td>\n",
              "      <td>2</td>\n",
              "      <td>5</td>\n",
              "      <td>2010</td>\n",
              "      <td>5</td>\n",
              "    </tr>\n",
              "    <tr>\n",
              "      <th>278094</th>\n",
              "      <td>29</td>\n",
              "      <td>8</td>\n",
              "      <td>2010-02-05</td>\n",
              "      <td>False</td>\n",
              "      <td>24.36</td>\n",
              "      <td>20055.64</td>\n",
              "      <td>2.788</td>\n",
              "      <td>NaN</td>\n",
              "      <td>NaN</td>\n",
              "      <td>NaN</td>\n",
              "      <td>...</td>\n",
              "      <td>131.527903</td>\n",
              "      <td>10.064</td>\n",
              "      <td>False</td>\n",
              "      <td>B</td>\n",
              "      <td>93638</td>\n",
              "      <td>4</td>\n",
              "      <td>2</td>\n",
              "      <td>5</td>\n",
              "      <td>2010</td>\n",
              "      <td>5</td>\n",
              "    </tr>\n",
              "    <tr>\n",
              "      <th>...</th>\n",
              "      <td>...</td>\n",
              "      <td>...</td>\n",
              "      <td>...</td>\n",
              "      <td>...</td>\n",
              "      <td>...</td>\n",
              "      <td>...</td>\n",
              "      <td>...</td>\n",
              "      <td>...</td>\n",
              "      <td>...</td>\n",
              "      <td>...</td>\n",
              "      <td>...</td>\n",
              "      <td>...</td>\n",
              "      <td>...</td>\n",
              "      <td>...</td>\n",
              "      <td>...</td>\n",
              "      <td>...</td>\n",
              "      <td>...</td>\n",
              "      <td>...</td>\n",
              "      <td>...</td>\n",
              "      <td>...</td>\n",
              "      <td>...</td>\n",
              "    </tr>\n",
              "    <tr>\n",
              "      <th>379648</th>\n",
              "      <td>40</td>\n",
              "      <td>87</td>\n",
              "      <td>2012-10-26</td>\n",
              "      <td>False</td>\n",
              "      <td>49.65</td>\n",
              "      <td>24638.96</td>\n",
              "      <td>3.917</td>\n",
              "      <td>3605.71</td>\n",
              "      <td>55.98</td>\n",
              "      <td>0.28</td>\n",
              "      <td>...</td>\n",
              "      <td>138.728161</td>\n",
              "      <td>4.145</td>\n",
              "      <td>False</td>\n",
              "      <td>A</td>\n",
              "      <td>155083</td>\n",
              "      <td>4</td>\n",
              "      <td>10</td>\n",
              "      <td>26</td>\n",
              "      <td>2012</td>\n",
              "      <td>43</td>\n",
              "    </tr>\n",
              "    <tr>\n",
              "      <th>181170</th>\n",
              "      <td>19</td>\n",
              "      <td>30</td>\n",
              "      <td>2012-10-26</td>\n",
              "      <td>False</td>\n",
              "      <td>56.49</td>\n",
              "      <td>3740.12</td>\n",
              "      <td>4.071</td>\n",
              "      <td>5430.75</td>\n",
              "      <td>90.07</td>\n",
              "      <td>NaN</td>\n",
              "      <td>...</td>\n",
              "      <td>138.728161</td>\n",
              "      <td>7.992</td>\n",
              "      <td>False</td>\n",
              "      <td>A</td>\n",
              "      <td>203819</td>\n",
              "      <td>4</td>\n",
              "      <td>10</td>\n",
              "      <td>26</td>\n",
              "      <td>2012</td>\n",
              "      <td>43</td>\n",
              "    </tr>\n",
              "    <tr>\n",
              "      <th>181313</th>\n",
              "      <td>19</td>\n",
              "      <td>31</td>\n",
              "      <td>2012-10-26</td>\n",
              "      <td>False</td>\n",
              "      <td>56.49</td>\n",
              "      <td>3128.17</td>\n",
              "      <td>4.071</td>\n",
              "      <td>5430.75</td>\n",
              "      <td>90.07</td>\n",
              "      <td>NaN</td>\n",
              "      <td>...</td>\n",
              "      <td>138.728161</td>\n",
              "      <td>7.992</td>\n",
              "      <td>False</td>\n",
              "      <td>A</td>\n",
              "      <td>203819</td>\n",
              "      <td>4</td>\n",
              "      <td>10</td>\n",
              "      <td>26</td>\n",
              "      <td>2012</td>\n",
              "      <td>43</td>\n",
              "    </tr>\n",
              "    <tr>\n",
              "      <th>181599</th>\n",
              "      <td>19</td>\n",
              "      <td>33</td>\n",
              "      <td>2012-10-26</td>\n",
              "      <td>False</td>\n",
              "      <td>56.49</td>\n",
              "      <td>5740.14</td>\n",
              "      <td>4.071</td>\n",
              "      <td>5430.75</td>\n",
              "      <td>90.07</td>\n",
              "      <td>NaN</td>\n",
              "      <td>...</td>\n",
              "      <td>138.728161</td>\n",
              "      <td>7.992</td>\n",
              "      <td>False</td>\n",
              "      <td>A</td>\n",
              "      <td>203819</td>\n",
              "      <td>4</td>\n",
              "      <td>10</td>\n",
              "      <td>26</td>\n",
              "      <td>2012</td>\n",
              "      <td>43</td>\n",
              "    </tr>\n",
              "    <tr>\n",
              "      <th>421569</th>\n",
              "      <td>45</td>\n",
              "      <td>98</td>\n",
              "      <td>2012-10-26</td>\n",
              "      <td>False</td>\n",
              "      <td>58.85</td>\n",
              "      <td>1076.80</td>\n",
              "      <td>3.882</td>\n",
              "      <td>4018.91</td>\n",
              "      <td>58.08</td>\n",
              "      <td>100.00</td>\n",
              "      <td>...</td>\n",
              "      <td>192.308899</td>\n",
              "      <td>8.667</td>\n",
              "      <td>False</td>\n",
              "      <td>B</td>\n",
              "      <td>118221</td>\n",
              "      <td>4</td>\n",
              "      <td>10</td>\n",
              "      <td>26</td>\n",
              "      <td>2012</td>\n",
              "      <td>43</td>\n",
              "    </tr>\n",
              "  </tbody>\n",
              "</table>\n",
              "<p>421570 rows × 22 columns</p>\n",
              "</div>\n",
              "      <button class=\"colab-df-convert\" onclick=\"convertToInteractive('df-d4a1456a-f281-4c31-ad82-76581e524132')\"\n",
              "              title=\"Convert this dataframe to an interactive table.\"\n",
              "              style=\"display:none;\">\n",
              "        \n",
              "  <svg xmlns=\"http://www.w3.org/2000/svg\" height=\"24px\"viewBox=\"0 0 24 24\"\n",
              "       width=\"24px\">\n",
              "    <path d=\"M0 0h24v24H0V0z\" fill=\"none\"/>\n",
              "    <path d=\"M18.56 5.44l.94 2.06.94-2.06 2.06-.94-2.06-.94-.94-2.06-.94 2.06-2.06.94zm-11 1L8.5 8.5l.94-2.06 2.06-.94-2.06-.94L8.5 2.5l-.94 2.06-2.06.94zm10 10l.94 2.06.94-2.06 2.06-.94-2.06-.94-.94-2.06-.94 2.06-2.06.94z\"/><path d=\"M17.41 7.96l-1.37-1.37c-.4-.4-.92-.59-1.43-.59-.52 0-1.04.2-1.43.59L10.3 9.45l-7.72 7.72c-.78.78-.78 2.05 0 2.83L4 21.41c.39.39.9.59 1.41.59.51 0 1.02-.2 1.41-.59l7.78-7.78 2.81-2.81c.8-.78.8-2.07 0-2.86zM5.41 20L4 18.59l7.72-7.72 1.47 1.35L5.41 20z\"/>\n",
              "  </svg>\n",
              "      </button>\n",
              "      \n",
              "  <style>\n",
              "    .colab-df-container {\n",
              "      display:flex;\n",
              "      flex-wrap:wrap;\n",
              "      gap: 12px;\n",
              "    }\n",
              "\n",
              "    .colab-df-convert {\n",
              "      background-color: #E8F0FE;\n",
              "      border: none;\n",
              "      border-radius: 50%;\n",
              "      cursor: pointer;\n",
              "      display: none;\n",
              "      fill: #1967D2;\n",
              "      height: 32px;\n",
              "      padding: 0 0 0 0;\n",
              "      width: 32px;\n",
              "    }\n",
              "\n",
              "    .colab-df-convert:hover {\n",
              "      background-color: #E2EBFA;\n",
              "      box-shadow: 0px 1px 2px rgba(60, 64, 67, 0.3), 0px 1px 3px 1px rgba(60, 64, 67, 0.15);\n",
              "      fill: #174EA6;\n",
              "    }\n",
              "\n",
              "    [theme=dark] .colab-df-convert {\n",
              "      background-color: #3B4455;\n",
              "      fill: #D2E3FC;\n",
              "    }\n",
              "\n",
              "    [theme=dark] .colab-df-convert:hover {\n",
              "      background-color: #434B5C;\n",
              "      box-shadow: 0px 1px 3px 1px rgba(0, 0, 0, 0.15);\n",
              "      filter: drop-shadow(0px 1px 2px rgba(0, 0, 0, 0.3));\n",
              "      fill: #FFFFFF;\n",
              "    }\n",
              "  </style>\n",
              "\n",
              "      <script>\n",
              "        const buttonEl =\n",
              "          document.querySelector('#df-d4a1456a-f281-4c31-ad82-76581e524132 button.colab-df-convert');\n",
              "        buttonEl.style.display =\n",
              "          google.colab.kernel.accessAllowed ? 'block' : 'none';\n",
              "\n",
              "        async function convertToInteractive(key) {\n",
              "          const element = document.querySelector('#df-d4a1456a-f281-4c31-ad82-76581e524132');\n",
              "          const dataTable =\n",
              "            await google.colab.kernel.invokeFunction('convertToInteractive',\n",
              "                                                     [key], {});\n",
              "          if (!dataTable) return;\n",
              "\n",
              "          const docLinkHtml = 'Like what you see? Visit the ' +\n",
              "            '<a target=\"_blank\" href=https://colab.research.google.com/notebooks/data_table.ipynb>data table notebook</a>'\n",
              "            + ' to learn more about interactive tables.';\n",
              "          element.innerHTML = '';\n",
              "          dataTable['output_type'] = 'display_data';\n",
              "          await google.colab.output.renderOutput(dataTable, element);\n",
              "          const docLink = document.createElement('div');\n",
              "          docLink.innerHTML = docLinkHtml;\n",
              "          element.appendChild(docLink);\n",
              "        }\n",
              "      </script>\n",
              "    </div>\n",
              "  </div>\n",
              "  "
            ],
            "text/plain": [
              "        Store  Dept       Date  IsHoliday_x  Temperature  Weekly_Sales  \\\n",
              "0           1     1 2010-02-05        False        42.31      24924.50   \n",
              "277665     29     5 2010-02-05        False        24.36      15552.08   \n",
              "277808     29     6 2010-02-05        False        24.36       3200.22   \n",
              "277951     29     7 2010-02-05        False        24.36      10820.05   \n",
              "278094     29     8 2010-02-05        False        24.36      20055.64   \n",
              "...       ...   ...        ...          ...          ...           ...   \n",
              "379648     40    87 2012-10-26        False        49.65      24638.96   \n",
              "181170     19    30 2012-10-26        False        56.49       3740.12   \n",
              "181313     19    31 2012-10-26        False        56.49       3128.17   \n",
              "181599     19    33 2012-10-26        False        56.49       5740.14   \n",
              "421569     45    98 2012-10-26        False        58.85       1076.80   \n",
              "\n",
              "        Fuel_Price  MarkDown1  MarkDown2  MarkDown3  ...         CPI  \\\n",
              "0            2.572        NaN        NaN        NaN  ...  211.096358   \n",
              "277665       2.788        NaN        NaN        NaN  ...  131.527903   \n",
              "277808       2.788        NaN        NaN        NaN  ...  131.527903   \n",
              "277951       2.788        NaN        NaN        NaN  ...  131.527903   \n",
              "278094       2.788        NaN        NaN        NaN  ...  131.527903   \n",
              "...            ...        ...        ...        ...  ...         ...   \n",
              "379648       3.917    3605.71      55.98       0.28  ...  138.728161   \n",
              "181170       4.071    5430.75      90.07        NaN  ...  138.728161   \n",
              "181313       4.071    5430.75      90.07        NaN  ...  138.728161   \n",
              "181599       4.071    5430.75      90.07        NaN  ...  138.728161   \n",
              "421569       3.882    4018.91      58.08     100.00  ...  192.308899   \n",
              "\n",
              "        Unemployment  IsHoliday_y  Type    Size WeekDay_no  Month  Day_no  \\\n",
              "0              8.106        False     A  151315          4      2       5   \n",
              "277665        10.064        False     B   93638          4      2       5   \n",
              "277808        10.064        False     B   93638          4      2       5   \n",
              "277951        10.064        False     B   93638          4      2       5   \n",
              "278094        10.064        False     B   93638          4      2       5   \n",
              "...              ...          ...   ...     ...        ...    ...     ...   \n",
              "379648         4.145        False     A  155083          4     10      26   \n",
              "181170         7.992        False     A  203819          4     10      26   \n",
              "181313         7.992        False     A  203819          4     10      26   \n",
              "181599         7.992        False     A  203819          4     10      26   \n",
              "421569         8.667        False     B  118221          4     10      26   \n",
              "\n",
              "        Year  Week  \n",
              "0       2010     5  \n",
              "277665  2010     5  \n",
              "277808  2010     5  \n",
              "277951  2010     5  \n",
              "278094  2010     5  \n",
              "...      ...   ...  \n",
              "379648  2012    43  \n",
              "181170  2012    43  \n",
              "181313  2012    43  \n",
              "181599  2012    43  \n",
              "421569  2012    43  \n",
              "\n",
              "[421570 rows x 22 columns]"
            ]
          },
          "execution_count": 285,
          "metadata": {},
          "output_type": "execute_result"
        }
      ],
      "source": [
        "data_train_df['Date']=pd.to_datetime(data_train_df['Date'])\n",
        "get_date_part(data_train_df,'Date')"
      ]
    },
    {
      "cell_type": "code",
      "execution_count": null,
      "metadata": {
        "colab": {
          "base_uri": "https://localhost:8080/",
          "height": 731
        },
        "id": "bHXoLTLIwGZA",
        "outputId": "6a3d5f7f-ef58-43a6-a385-3aba59d4f7a1"
      },
      "outputs": [
        {
          "name": "stderr",
          "output_type": "stream",
          "text": [
            "/usr/local/lib/python3.7/dist-packages/ipykernel_launcher.py:6: FutureWarning:\n",
            "\n",
            "Series.dt.weekofyear and Series.dt.week have been deprecated.  Please use Series.dt.isocalendar().week instead.\n",
            "\n"
          ]
        },
        {
          "data": {
            "text/html": [
              "\n",
              "  <div id=\"df-7f171a34-4511-4d89-9fff-fbd84f93b1e5\">\n",
              "    <div class=\"colab-df-container\">\n",
              "      <div>\n",
              "<style scoped>\n",
              "    .dataframe tbody tr th:only-of-type {\n",
              "        vertical-align: middle;\n",
              "    }\n",
              "\n",
              "    .dataframe tbody tr th {\n",
              "        vertical-align: top;\n",
              "    }\n",
              "\n",
              "    .dataframe thead th {\n",
              "        text-align: right;\n",
              "    }\n",
              "</style>\n",
              "<table border=\"1\" class=\"dataframe\">\n",
              "  <thead>\n",
              "    <tr style=\"text-align: right;\">\n",
              "      <th></th>\n",
              "      <th>Store</th>\n",
              "      <th>Dept</th>\n",
              "      <th>Date</th>\n",
              "      <th>IsHoliday_x</th>\n",
              "      <th>Temperature</th>\n",
              "      <th>Fuel_Price</th>\n",
              "      <th>MarkDown1</th>\n",
              "      <th>MarkDown2</th>\n",
              "      <th>MarkDown3</th>\n",
              "      <th>MarkDown4</th>\n",
              "      <th>...</th>\n",
              "      <th>CPI</th>\n",
              "      <th>Unemployment</th>\n",
              "      <th>IsHoliday_y</th>\n",
              "      <th>Type</th>\n",
              "      <th>Size</th>\n",
              "      <th>WeekDay_no</th>\n",
              "      <th>Month</th>\n",
              "      <th>Day_no</th>\n",
              "      <th>Year</th>\n",
              "      <th>Week</th>\n",
              "    </tr>\n",
              "  </thead>\n",
              "  <tbody>\n",
              "    <tr>\n",
              "      <th>0</th>\n",
              "      <td>1</td>\n",
              "      <td>1</td>\n",
              "      <td>2012-11-02</td>\n",
              "      <td>False</td>\n",
              "      <td>55.32</td>\n",
              "      <td>3.386</td>\n",
              "      <td>6766.44</td>\n",
              "      <td>5147.70</td>\n",
              "      <td>50.82</td>\n",
              "      <td>3639.90</td>\n",
              "      <td>...</td>\n",
              "      <td>223.462779</td>\n",
              "      <td>6.573</td>\n",
              "      <td>False</td>\n",
              "      <td>A</td>\n",
              "      <td>151315</td>\n",
              "      <td>4</td>\n",
              "      <td>11</td>\n",
              "      <td>2</td>\n",
              "      <td>2012</td>\n",
              "      <td>44</td>\n",
              "    </tr>\n",
              "    <tr>\n",
              "      <th>1</th>\n",
              "      <td>1</td>\n",
              "      <td>1</td>\n",
              "      <td>2012-11-09</td>\n",
              "      <td>False</td>\n",
              "      <td>61.24</td>\n",
              "      <td>3.314</td>\n",
              "      <td>11421.32</td>\n",
              "      <td>3370.89</td>\n",
              "      <td>40.28</td>\n",
              "      <td>4646.79</td>\n",
              "      <td>...</td>\n",
              "      <td>223.481307</td>\n",
              "      <td>6.573</td>\n",
              "      <td>False</td>\n",
              "      <td>A</td>\n",
              "      <td>151315</td>\n",
              "      <td>4</td>\n",
              "      <td>11</td>\n",
              "      <td>9</td>\n",
              "      <td>2012</td>\n",
              "      <td>45</td>\n",
              "    </tr>\n",
              "    <tr>\n",
              "      <th>2</th>\n",
              "      <td>1</td>\n",
              "      <td>1</td>\n",
              "      <td>2012-11-16</td>\n",
              "      <td>False</td>\n",
              "      <td>52.92</td>\n",
              "      <td>3.252</td>\n",
              "      <td>9696.28</td>\n",
              "      <td>292.10</td>\n",
              "      <td>103.78</td>\n",
              "      <td>1133.15</td>\n",
              "      <td>...</td>\n",
              "      <td>223.512911</td>\n",
              "      <td>6.573</td>\n",
              "      <td>False</td>\n",
              "      <td>A</td>\n",
              "      <td>151315</td>\n",
              "      <td>4</td>\n",
              "      <td>11</td>\n",
              "      <td>16</td>\n",
              "      <td>2012</td>\n",
              "      <td>46</td>\n",
              "    </tr>\n",
              "    <tr>\n",
              "      <th>3</th>\n",
              "      <td>1</td>\n",
              "      <td>1</td>\n",
              "      <td>2012-11-23</td>\n",
              "      <td>True</td>\n",
              "      <td>56.23</td>\n",
              "      <td>3.211</td>\n",
              "      <td>883.59</td>\n",
              "      <td>4.17</td>\n",
              "      <td>74910.32</td>\n",
              "      <td>209.91</td>\n",
              "      <td>...</td>\n",
              "      <td>223.561947</td>\n",
              "      <td>6.573</td>\n",
              "      <td>True</td>\n",
              "      <td>A</td>\n",
              "      <td>151315</td>\n",
              "      <td>4</td>\n",
              "      <td>11</td>\n",
              "      <td>23</td>\n",
              "      <td>2012</td>\n",
              "      <td>47</td>\n",
              "    </tr>\n",
              "    <tr>\n",
              "      <th>4</th>\n",
              "      <td>1</td>\n",
              "      <td>1</td>\n",
              "      <td>2012-11-30</td>\n",
              "      <td>False</td>\n",
              "      <td>52.34</td>\n",
              "      <td>3.207</td>\n",
              "      <td>2460.03</td>\n",
              "      <td>NaN</td>\n",
              "      <td>3838.35</td>\n",
              "      <td>150.57</td>\n",
              "      <td>...</td>\n",
              "      <td>223.610984</td>\n",
              "      <td>6.573</td>\n",
              "      <td>False</td>\n",
              "      <td>A</td>\n",
              "      <td>151315</td>\n",
              "      <td>4</td>\n",
              "      <td>11</td>\n",
              "      <td>30</td>\n",
              "      <td>2012</td>\n",
              "      <td>48</td>\n",
              "    </tr>\n",
              "    <tr>\n",
              "      <th>...</th>\n",
              "      <td>...</td>\n",
              "      <td>...</td>\n",
              "      <td>...</td>\n",
              "      <td>...</td>\n",
              "      <td>...</td>\n",
              "      <td>...</td>\n",
              "      <td>...</td>\n",
              "      <td>...</td>\n",
              "      <td>...</td>\n",
              "      <td>...</td>\n",
              "      <td>...</td>\n",
              "      <td>...</td>\n",
              "      <td>...</td>\n",
              "      <td>...</td>\n",
              "      <td>...</td>\n",
              "      <td>...</td>\n",
              "      <td>...</td>\n",
              "      <td>...</td>\n",
              "      <td>...</td>\n",
              "      <td>...</td>\n",
              "      <td>...</td>\n",
              "    </tr>\n",
              "    <tr>\n",
              "      <th>115059</th>\n",
              "      <td>45</td>\n",
              "      <td>98</td>\n",
              "      <td>2013-06-28</td>\n",
              "      <td>False</td>\n",
              "      <td>76.05</td>\n",
              "      <td>3.639</td>\n",
              "      <td>4842.29</td>\n",
              "      <td>975.03</td>\n",
              "      <td>3.00</td>\n",
              "      <td>2449.97</td>\n",
              "      <td>...</td>\n",
              "      <td>NaN</td>\n",
              "      <td>NaN</td>\n",
              "      <td>False</td>\n",
              "      <td>B</td>\n",
              "      <td>118221</td>\n",
              "      <td>4</td>\n",
              "      <td>6</td>\n",
              "      <td>28</td>\n",
              "      <td>2013</td>\n",
              "      <td>26</td>\n",
              "    </tr>\n",
              "    <tr>\n",
              "      <th>115060</th>\n",
              "      <td>45</td>\n",
              "      <td>98</td>\n",
              "      <td>2013-07-05</td>\n",
              "      <td>False</td>\n",
              "      <td>77.50</td>\n",
              "      <td>3.614</td>\n",
              "      <td>9090.48</td>\n",
              "      <td>2268.58</td>\n",
              "      <td>582.74</td>\n",
              "      <td>5797.47</td>\n",
              "      <td>...</td>\n",
              "      <td>NaN</td>\n",
              "      <td>NaN</td>\n",
              "      <td>False</td>\n",
              "      <td>B</td>\n",
              "      <td>118221</td>\n",
              "      <td>4</td>\n",
              "      <td>7</td>\n",
              "      <td>5</td>\n",
              "      <td>2013</td>\n",
              "      <td>27</td>\n",
              "    </tr>\n",
              "    <tr>\n",
              "      <th>115061</th>\n",
              "      <td>45</td>\n",
              "      <td>98</td>\n",
              "      <td>2013-07-12</td>\n",
              "      <td>False</td>\n",
              "      <td>79.37</td>\n",
              "      <td>3.614</td>\n",
              "      <td>3789.94</td>\n",
              "      <td>1827.31</td>\n",
              "      <td>85.72</td>\n",
              "      <td>744.84</td>\n",
              "      <td>...</td>\n",
              "      <td>NaN</td>\n",
              "      <td>NaN</td>\n",
              "      <td>False</td>\n",
              "      <td>B</td>\n",
              "      <td>118221</td>\n",
              "      <td>4</td>\n",
              "      <td>7</td>\n",
              "      <td>12</td>\n",
              "      <td>2013</td>\n",
              "      <td>28</td>\n",
              "    </tr>\n",
              "    <tr>\n",
              "      <th>115062</th>\n",
              "      <td>45</td>\n",
              "      <td>98</td>\n",
              "      <td>2013-07-19</td>\n",
              "      <td>False</td>\n",
              "      <td>82.84</td>\n",
              "      <td>3.737</td>\n",
              "      <td>2961.49</td>\n",
              "      <td>1047.07</td>\n",
              "      <td>204.19</td>\n",
              "      <td>363.00</td>\n",
              "      <td>...</td>\n",
              "      <td>NaN</td>\n",
              "      <td>NaN</td>\n",
              "      <td>False</td>\n",
              "      <td>B</td>\n",
              "      <td>118221</td>\n",
              "      <td>4</td>\n",
              "      <td>7</td>\n",
              "      <td>19</td>\n",
              "      <td>2013</td>\n",
              "      <td>29</td>\n",
              "    </tr>\n",
              "    <tr>\n",
              "      <th>115063</th>\n",
              "      <td>45</td>\n",
              "      <td>98</td>\n",
              "      <td>2013-07-26</td>\n",
              "      <td>False</td>\n",
              "      <td>76.06</td>\n",
              "      <td>3.804</td>\n",
              "      <td>212.02</td>\n",
              "      <td>851.73</td>\n",
              "      <td>2.06</td>\n",
              "      <td>10.88</td>\n",
              "      <td>...</td>\n",
              "      <td>NaN</td>\n",
              "      <td>NaN</td>\n",
              "      <td>False</td>\n",
              "      <td>B</td>\n",
              "      <td>118221</td>\n",
              "      <td>4</td>\n",
              "      <td>7</td>\n",
              "      <td>26</td>\n",
              "      <td>2013</td>\n",
              "      <td>30</td>\n",
              "    </tr>\n",
              "  </tbody>\n",
              "</table>\n",
              "<p>115064 rows × 21 columns</p>\n",
              "</div>\n",
              "      <button class=\"colab-df-convert\" onclick=\"convertToInteractive('df-7f171a34-4511-4d89-9fff-fbd84f93b1e5')\"\n",
              "              title=\"Convert this dataframe to an interactive table.\"\n",
              "              style=\"display:none;\">\n",
              "        \n",
              "  <svg xmlns=\"http://www.w3.org/2000/svg\" height=\"24px\"viewBox=\"0 0 24 24\"\n",
              "       width=\"24px\">\n",
              "    <path d=\"M0 0h24v24H0V0z\" fill=\"none\"/>\n",
              "    <path d=\"M18.56 5.44l.94 2.06.94-2.06 2.06-.94-2.06-.94-.94-2.06-.94 2.06-2.06.94zm-11 1L8.5 8.5l.94-2.06 2.06-.94-2.06-.94L8.5 2.5l-.94 2.06-2.06.94zm10 10l.94 2.06.94-2.06 2.06-.94-2.06-.94-.94-2.06-.94 2.06-2.06.94z\"/><path d=\"M17.41 7.96l-1.37-1.37c-.4-.4-.92-.59-1.43-.59-.52 0-1.04.2-1.43.59L10.3 9.45l-7.72 7.72c-.78.78-.78 2.05 0 2.83L4 21.41c.39.39.9.59 1.41.59.51 0 1.02-.2 1.41-.59l7.78-7.78 2.81-2.81c.8-.78.8-2.07 0-2.86zM5.41 20L4 18.59l7.72-7.72 1.47 1.35L5.41 20z\"/>\n",
              "  </svg>\n",
              "      </button>\n",
              "      \n",
              "  <style>\n",
              "    .colab-df-container {\n",
              "      display:flex;\n",
              "      flex-wrap:wrap;\n",
              "      gap: 12px;\n",
              "    }\n",
              "\n",
              "    .colab-df-convert {\n",
              "      background-color: #E8F0FE;\n",
              "      border: none;\n",
              "      border-radius: 50%;\n",
              "      cursor: pointer;\n",
              "      display: none;\n",
              "      fill: #1967D2;\n",
              "      height: 32px;\n",
              "      padding: 0 0 0 0;\n",
              "      width: 32px;\n",
              "    }\n",
              "\n",
              "    .colab-df-convert:hover {\n",
              "      background-color: #E2EBFA;\n",
              "      box-shadow: 0px 1px 2px rgba(60, 64, 67, 0.3), 0px 1px 3px 1px rgba(60, 64, 67, 0.15);\n",
              "      fill: #174EA6;\n",
              "    }\n",
              "\n",
              "    [theme=dark] .colab-df-convert {\n",
              "      background-color: #3B4455;\n",
              "      fill: #D2E3FC;\n",
              "    }\n",
              "\n",
              "    [theme=dark] .colab-df-convert:hover {\n",
              "      background-color: #434B5C;\n",
              "      box-shadow: 0px 1px 3px 1px rgba(0, 0, 0, 0.15);\n",
              "      filter: drop-shadow(0px 1px 2px rgba(0, 0, 0, 0.3));\n",
              "      fill: #FFFFFF;\n",
              "    }\n",
              "  </style>\n",
              "\n",
              "      <script>\n",
              "        const buttonEl =\n",
              "          document.querySelector('#df-7f171a34-4511-4d89-9fff-fbd84f93b1e5 button.colab-df-convert');\n",
              "        buttonEl.style.display =\n",
              "          google.colab.kernel.accessAllowed ? 'block' : 'none';\n",
              "\n",
              "        async function convertToInteractive(key) {\n",
              "          const element = document.querySelector('#df-7f171a34-4511-4d89-9fff-fbd84f93b1e5');\n",
              "          const dataTable =\n",
              "            await google.colab.kernel.invokeFunction('convertToInteractive',\n",
              "                                                     [key], {});\n",
              "          if (!dataTable) return;\n",
              "\n",
              "          const docLinkHtml = 'Like what you see? Visit the ' +\n",
              "            '<a target=\"_blank\" href=https://colab.research.google.com/notebooks/data_table.ipynb>data table notebook</a>'\n",
              "            + ' to learn more about interactive tables.';\n",
              "          element.innerHTML = '';\n",
              "          dataTable['output_type'] = 'display_data';\n",
              "          await google.colab.output.renderOutput(dataTable, element);\n",
              "          const docLink = document.createElement('div');\n",
              "          docLink.innerHTML = docLinkHtml;\n",
              "          element.appendChild(docLink);\n",
              "        }\n",
              "      </script>\n",
              "    </div>\n",
              "  </div>\n",
              "  "
            ],
            "text/plain": [
              "        Store  Dept       Date  IsHoliday_x  Temperature  Fuel_Price  \\\n",
              "0           1     1 2012-11-02        False        55.32       3.386   \n",
              "1           1     1 2012-11-09        False        61.24       3.314   \n",
              "2           1     1 2012-11-16        False        52.92       3.252   \n",
              "3           1     1 2012-11-23         True        56.23       3.211   \n",
              "4           1     1 2012-11-30        False        52.34       3.207   \n",
              "...       ...   ...        ...          ...          ...         ...   \n",
              "115059     45    98 2013-06-28        False        76.05       3.639   \n",
              "115060     45    98 2013-07-05        False        77.50       3.614   \n",
              "115061     45    98 2013-07-12        False        79.37       3.614   \n",
              "115062     45    98 2013-07-19        False        82.84       3.737   \n",
              "115063     45    98 2013-07-26        False        76.06       3.804   \n",
              "\n",
              "        MarkDown1  MarkDown2  MarkDown3  MarkDown4  ...         CPI  \\\n",
              "0         6766.44    5147.70      50.82    3639.90  ...  223.462779   \n",
              "1        11421.32    3370.89      40.28    4646.79  ...  223.481307   \n",
              "2         9696.28     292.10     103.78    1133.15  ...  223.512911   \n",
              "3          883.59       4.17   74910.32     209.91  ...  223.561947   \n",
              "4         2460.03        NaN    3838.35     150.57  ...  223.610984   \n",
              "...           ...        ...        ...        ...  ...         ...   \n",
              "115059    4842.29     975.03       3.00    2449.97  ...         NaN   \n",
              "115060    9090.48    2268.58     582.74    5797.47  ...         NaN   \n",
              "115061    3789.94    1827.31      85.72     744.84  ...         NaN   \n",
              "115062    2961.49    1047.07     204.19     363.00  ...         NaN   \n",
              "115063     212.02     851.73       2.06      10.88  ...         NaN   \n",
              "\n",
              "        Unemployment  IsHoliday_y  Type    Size  WeekDay_no  Month  Day_no  \\\n",
              "0              6.573        False     A  151315           4     11       2   \n",
              "1              6.573        False     A  151315           4     11       9   \n",
              "2              6.573        False     A  151315           4     11      16   \n",
              "3              6.573         True     A  151315           4     11      23   \n",
              "4              6.573        False     A  151315           4     11      30   \n",
              "...              ...          ...   ...     ...         ...    ...     ...   \n",
              "115059           NaN        False     B  118221           4      6      28   \n",
              "115060           NaN        False     B  118221           4      7       5   \n",
              "115061           NaN        False     B  118221           4      7      12   \n",
              "115062           NaN        False     B  118221           4      7      19   \n",
              "115063           NaN        False     B  118221           4      7      26   \n",
              "\n",
              "        Year  Week  \n",
              "0       2012    44  \n",
              "1       2012    45  \n",
              "2       2012    46  \n",
              "3       2012    47  \n",
              "4       2012    48  \n",
              "...      ...   ...  \n",
              "115059  2013    26  \n",
              "115060  2013    27  \n",
              "115061  2013    28  \n",
              "115062  2013    29  \n",
              "115063  2013    30  \n",
              "\n",
              "[115064 rows x 21 columns]"
            ]
          },
          "execution_count": 286,
          "metadata": {},
          "output_type": "execute_result"
        }
      ],
      "source": [
        "\n",
        "Data_test_df['Date']=pd.to_datetime(Data_test_df['Date'])\n",
        "get_date_part(Data_test_df,'Date')"
      ]
    },
    {
      "cell_type": "markdown",
      "metadata": {
        "id": "Ucncdx9xdIim"
      },
      "source": [
        "Let's create a function to create a column to identify if its Holiday Month"
      ]
    },
    {
      "cell_type": "code",
      "execution_count": null,
      "metadata": {
        "id": "8MsoFn2zrw13"
      },
      "outputs": [],
      "source": [
        "def check_df(df):\n",
        "    \n",
        "    if (df['Month'] == 2) | (df['Month'] == 9 ) | (df['Month'] == 11 ) | (df['Month'] == 12 ):\n",
        "        return 1\n",
        "    else:\n",
        "        return 0"
      ]
    },
    {
      "cell_type": "markdown",
      "metadata": {
        "id": "e7_ld0VwyCWI"
      },
      "source": [
        "Let's call the `check_df` function on test and validation dataset."
      ]
    },
    {
      "cell_type": "code",
      "execution_count": null,
      "metadata": {
        "id": "jCcoDwngwhcB"
      },
      "outputs": [],
      "source": [
        "data_train_df['Holiday_month'] = data_train_df.apply(check_df, axis = 1)\n"
      ]
    },
    {
      "cell_type": "code",
      "execution_count": null,
      "metadata": {
        "id": "qJ2fufMjx1g_"
      },
      "outputs": [],
      "source": [
        "\n",
        "Data_test_df['Holiday_month'] = Data_test_df.apply(check_df, axis = 1)\n"
      ]
    },
    {
      "cell_type": "markdown",
      "metadata": {
        "id": "Iun5E4_ndkKh"
      },
      "source": [
        "**Handling the Null Values**\n",
        "\n",
        "Here, we will replace the Null values in the Columns `MarkDown1`,`MarkDown2`,`MarkDown3`,`MarkDown4` and `MarkDown5` with its mean values."
      ]
    },
    {
      "cell_type": "markdown",
      "metadata": {
        "id": "NTvb6CApiimf"
      },
      "source": [
        "Create a column `Markdown_sum` to create the sum total of all MarkDown columns"
      ]
    },
    {
      "cell_type": "code",
      "execution_count": null,
      "metadata": {
        "id": "JoInMIuCa9Wy"
      },
      "outputs": [],
      "source": [
        "data_train_df['Markdown_sum']=data_train_df['MarkDown1']+data_train_df['MarkDown2']+data_train_df['MarkDown3']+data_train_df['MarkDown4']+data_train_df['MarkDown5']"
      ]
    },
    {
      "cell_type": "code",
      "execution_count": null,
      "metadata": {
        "id": "IVcqLlFya9UK"
      },
      "outputs": [],
      "source": [
        "Data_test_df['Markdown_sum']=Data_test_df['MarkDown1']+Data_test_df['MarkDown2']+Data_test_df['MarkDown3']+Data_test_df['MarkDown4']+Data_test_df['MarkDown5']"
      ]
    },
    {
      "cell_type": "markdown",
      "metadata": {
        "id": "elGvrJC-eJm_"
      },
      "source": [
        "Let's create column `Days_to_Thanksgiving` and `Days_to_Christmas` that gives the days left for Thanks Giving and Christmas Respectively on the basis of `Date` field."
      ]
    },
    {
      "cell_type": "code",
      "execution_count": null,
      "metadata": {
        "id": "v7VSF5dl1nN6"
      },
      "outputs": [],
      "source": [
        "data_train_df['Days_to_Thansksgiving'] = (pd.to_datetime(data_train_df[\"Year\"].astype(str)+\"-11-24\", format=\"%Y-%m-%d\") - pd.to_datetime(data_train_df[\"Date\"], format=\"%Y-%m-%d\")).dt.days.astype(int)\n",
        "data_train_df['Days_to_Christmas'] = (pd.to_datetime(data_train_df[\"Year\"].astype(str)+\"-12-24\", format=\"%Y-%m-%d\") - pd.to_datetime(data_train_df[\"Date\"], format=\"%Y-%m-%d\")).dt.days.astype(int)"
      ]
    },
    {
      "cell_type": "code",
      "execution_count": null,
      "metadata": {
        "id": "LmNHswbB1nKb"
      },
      "outputs": [],
      "source": [
        "Data_test_df['Days_to_Thansksgiving'] = (pd.to_datetime(Data_test_df[\"Year\"].astype(str)+\"-11-24\", format=\"%Y-%m-%d\") - pd.to_datetime(Data_test_df[\"Date\"], format=\"%Y-%m-%d\")).dt.days.astype(int)\n",
        "Data_test_df['Days_to_Christmas'] = (pd.to_datetime(Data_test_df[\"Year\"].astype(str)+\"-12-24\", format=\"%Y-%m-%d\") - pd.to_datetime(Data_test_df[\"Date\"], format=\"%Y-%m-%d\")).dt.days.astype(int)"
      ]
    },
    {
      "cell_type": "markdown",
      "metadata": {
        "id": "gwueIJnyzBJm"
      },
      "source": [
        "Let's add Identifier Columns to Identify if a week is a SuperBowlWeek, LaborDay Week, ThanksGiving Week or Christmas Week"
      ]
    },
    {
      "cell_type": "code",
      "execution_count": null,
      "metadata": {
        "id": "CyXnys_aB_yh"
      },
      "outputs": [],
      "source": [
        "Data_test_df['SuperBowlWeek'] = Data_test_df['Week'].apply(lambda x: 1 if x == 6 else 0)\n",
        "Data_test_df['LaborDay'] = Data_test_df['Week'].apply(lambda x: 1 if x == 36 else 0)\n",
        "Data_test_df['Tranksgiving'] = Data_test_df['Week'].apply(lambda x: 1 if x == 47 else 0)\n",
        "Data_test_df['Christmas'] = Data_test_df['Week'].apply(lambda x: 1 if x == 52 else 0)"
      ]
    },
    {
      "cell_type": "code",
      "execution_count": null,
      "metadata": {
        "id": "TC_eRISQB_vP"
      },
      "outputs": [],
      "source": [
        "data_train_df['SuperBowlWeek'] = data_train_df['Week'].apply(lambda x: 1 if x == 6 else 0)\n",
        "data_train_df['LaborDay'] = data_train_df['Week'].apply(lambda x: 1 if x == 36 else 0)\n",
        "data_train_df['Tranksgiving'] = data_train_df['Week'].apply(lambda x: 1 if x == 47 else 0)\n",
        "data_train_df['Christmas'] = data_train_df['Week'].apply(lambda x: 1 if x == 52 else 0)"
      ]
    },
    {
      "cell_type": "markdown",
      "metadata": {
        "id": "ULp957XvjXD6"
      },
      "source": [
        "Let's impute missing numeric Data with overall column mean."
      ]
    },
    {
      "cell_type": "code",
      "execution_count": null,
      "metadata": {
        "id": "hU_P2EHhjbTk"
      },
      "outputs": [],
      "source": [
        "data_train_df['MarkDown1'].fillna(value=data_train_df['MarkDown1'].mean(), inplace=True)\n",
        "data_train_df['MarkDown2'].fillna(value=data_train_df['MarkDown2'].mean(), inplace=True)\n",
        "data_train_df['MarkDown3'].fillna(value=data_train_df['MarkDown3'].mean(), inplace=True)\n",
        "data_train_df['MarkDown4'].fillna(value=data_train_df['MarkDown4'].mean(), inplace=True)\n",
        "data_train_df['MarkDown5'].fillna(value=data_train_df['MarkDown5'].mean(), inplace=True)\n",
        "data_train_df['Markdown_sum'].fillna(value=data_train_df['Markdown_sum'].mean(), inplace=True)"
      ]
    },
    {
      "cell_type": "markdown",
      "metadata": {
        "id": "gU-Cbv-ejmkK"
      },
      "source": [
        "Fill the remaning Null values with 0 if any"
      ]
    },
    {
      "cell_type": "code",
      "execution_count": null,
      "metadata": {
        "id": "KzAdgk_zjbPy"
      },
      "outputs": [],
      "source": [
        "data_train_df=data_train_df.fillna(0)"
      ]
    },
    {
      "cell_type": "code",
      "execution_count": null,
      "metadata": {
        "id": "bDsLoV4kjbM5"
      },
      "outputs": [],
      "source": [
        "Data_test_df['MarkDown1'].fillna(value=Data_test_df['MarkDown1'].mean(), inplace=True)\n",
        "Data_test_df['MarkDown2'].fillna(value=Data_test_df['MarkDown2'].mean(), inplace=True)\n",
        "Data_test_df['MarkDown3'].fillna(value=Data_test_df['MarkDown3'].mean(), inplace=True)\n",
        "Data_test_df['MarkDown4'].fillna(value=Data_test_df['MarkDown4'].mean(), inplace=True)\n",
        "Data_test_df['MarkDown5'].fillna(value=Data_test_df['MarkDown5'].mean(), inplace=True)\n",
        "Data_test_df['Markdown_sum'].fillna(value=Data_test_df['Markdown_sum'].mean(), inplace=True)\n",
        "Data_test_df=Data_test_df.fillna(0)"
      ]
    },
    {
      "cell_type": "markdown",
      "metadata": {
        "id": "Xjnh5pmcGLhe"
      },
      "source": [
        "# **Scaling**\n",
        "\n",
        "Feature scaling is the process of scaling the values of features in a dataset so that they proportionally contribute to the distance calculation. \n",
        "\n"
      ]
    },
    {
      "cell_type": "code",
      "execution_count": null,
      "metadata": {
        "id": "CPj0CCerGHm5"
      },
      "outputs": [],
      "source": [
        "numeric_cols=['Store', 'Dept', 'Temperature',\n",
        "       'Fuel_Price', 'MarkDown1', 'MarkDown2', 'MarkDown3', 'MarkDown4',\n",
        "       'MarkDown5', 'CPI', 'Unemployment', 'Size','WeekDay_no', 'Month', 'Day_no','Holiday_month','Markdown_sum','Days_to_Thansksgiving', 'Days_to_Christmas',\n",
        "        'Week', 'SuperBowlWeek', 'LaborDay', 'Tranksgiving', 'Christmas']"
      ]
    },
    {
      "cell_type": "markdown",
      "metadata": {
        "id": "nyUJ0u_SSHgZ"
      },
      "source": [
        "Let's use MinMaxScaler from sklearn.preprocessing to scale values to the \\((0,1)\\) range."
      ]
    },
    {
      "cell_type": "code",
      "execution_count": null,
      "metadata": {
        "id": "rWJTZbLpmN3V"
      },
      "outputs": [],
      "source": [
        "from sklearn.preprocessing import MinMaxScaler"
      ]
    },
    {
      "cell_type": "code",
      "execution_count": null,
      "metadata": {
        "id": "GWdid0ykSKbE"
      },
      "outputs": [],
      "source": [
        "scaler = MinMaxScaler()"
      ]
    },
    {
      "cell_type": "code",
      "execution_count": null,
      "metadata": {
        "colab": {
          "base_uri": "https://localhost:8080/"
        },
        "id": "dWG7LBlCSKXw",
        "outputId": "d76a11a2-9b59-42ff-8c90-5561ea1c7c28"
      },
      "outputs": [
        {
          "data": {
            "text/plain": [
              "MinMaxScaler()"
            ]
          },
          "execution_count": 302,
          "metadata": {},
          "output_type": "execute_result"
        }
      ],
      "source": [
        "scaler.fit(data_train_df[numeric_cols])"
      ]
    },
    {
      "cell_type": "markdown",
      "metadata": {
        "id": "qu3h6ShwSWnN"
      },
      "source": [
        "We can now inspect the minimum and maximum values in each column."
      ]
    },
    {
      "cell_type": "code",
      "execution_count": null,
      "metadata": {
        "colab": {
          "base_uri": "https://localhost:8080/"
        },
        "id": "oOxMatDXSKU4",
        "outputId": "008d2946-f681-4512-8c11-6428c76cffd6"
      },
      "outputs": [
        {
          "name": "stdout",
          "output_type": "stream",
          "text": [
            "Minimum:\n"
          ]
        },
        {
          "data": {
            "text/plain": [
              "[1.0,\n",
              " 1.0,\n",
              " -2.06,\n",
              " 2.472,\n",
              " 0.27,\n",
              " -265.76,\n",
              " -29.1,\n",
              " 0.22,\n",
              " 135.16,\n",
              " 126.064,\n",
              " 3.879,\n",
              " 34875.0,\n",
              " 4.0,\n",
              " 1.0,\n",
              " 1.0,\n",
              " 0.0,\n",
              " 567.35,\n",
              " -37.0,\n",
              " -7.0,\n",
              " 1.0,\n",
              " 0.0,\n",
              " 0.0,\n",
              " 0.0,\n",
              " 0.0]"
            ]
          },
          "execution_count": 303,
          "metadata": {},
          "output_type": "execute_result"
        }
      ],
      "source": [
        "print('Minimum:')\n",
        "list(scaler.data_min_)"
      ]
    },
    {
      "cell_type": "code",
      "execution_count": null,
      "metadata": {
        "id": "5aTBxhuLSKSL"
      },
      "outputs": [],
      "source": [
        "data_train_df[numeric_cols] = scaler.transform(data_train_df[numeric_cols])\n",
        "Data_test_df[numeric_cols] = scaler.transform(Data_test_df[numeric_cols])"
      ]
    },
    {
      "cell_type": "markdown",
      "metadata": {
        "id": "fSiCucM3ljE7"
      },
      "source": [
        "Now we have scaled the Training and Validation Dataset in the range of 0-1."
      ]
    },
    {
      "cell_type": "markdown",
      "metadata": {
        "id": "CYVfWWULlaML"
      },
      "source": [
        "# **Encoding Categorical Data**\n",
        "\n",
        "Columns `IsHoliday_y` and `Type` contains categorical data. \n",
        "In order to use this data to train the model, we need to covert it into Numerical columns.\n",
        "\n",
        "Here we will use **One Hot Encoding**."
      ]
    },
    {
      "cell_type": "code",
      "execution_count": null,
      "metadata": {
        "id": "ogWCFDj6Snxt"
      },
      "outputs": [],
      "source": [
        "categorical_cols=[ 'IsHoliday_y', 'Type']"
      ]
    },
    {
      "cell_type": "code",
      "execution_count": null,
      "metadata": {
        "colab": {
          "base_uri": "https://localhost:8080/"
        },
        "id": "5HEZQW8pSnvK",
        "outputId": "24d8ba1d-ed97-4177-8dd5-699ae68c77dc"
      },
      "outputs": [
        {
          "data": {
            "text/plain": [
              "IsHoliday_y    2\n",
              "Type           3\n",
              "dtype: int64"
            ]
          },
          "execution_count": 306,
          "metadata": {},
          "output_type": "execute_result"
        }
      ],
      "source": [
        "data_train_df[categorical_cols].nunique()"
      ]
    },
    {
      "cell_type": "markdown",
      "metadata": {
        "id": "JSsSCb52mGMK"
      },
      "source": [
        "We can perform one hot encoding using the OneHotEncoder class from sklearn.preprocessing."
      ]
    },
    {
      "cell_type": "code",
      "execution_count": null,
      "metadata": {
        "id": "iYpAgwVOmFz0"
      },
      "outputs": [],
      "source": [
        "from sklearn.preprocessing import OneHotEncoder"
      ]
    },
    {
      "cell_type": "code",
      "execution_count": null,
      "metadata": {
        "id": "40JhJOHnmFw-"
      },
      "outputs": [],
      "source": [
        "encoder = OneHotEncoder(sparse=False, handle_unknown='ignore')"
      ]
    },
    {
      "cell_type": "markdown",
      "metadata": {
        "id": "ff0q1AotmSWF"
      },
      "source": [
        "First, we fit the encoder to the data i.e. identify the full list of categories across all categorical columns."
      ]
    },
    {
      "cell_type": "code",
      "execution_count": null,
      "metadata": {
        "colab": {
          "base_uri": "https://localhost:8080/"
        },
        "id": "3OC9k3n5mFuJ",
        "outputId": "9dffb03b-0087-4c17-8722-82ecc5c32bc6"
      },
      "outputs": [
        {
          "data": {
            "text/plain": [
              "OneHotEncoder(handle_unknown='ignore', sparse=False)"
            ]
          },
          "execution_count": 309,
          "metadata": {},
          "output_type": "execute_result"
        }
      ],
      "source": [
        "encoder.fit(data_train_df[categorical_cols])\n"
      ]
    },
    {
      "cell_type": "code",
      "execution_count": null,
      "metadata": {
        "colab": {
          "base_uri": "https://localhost:8080/"
        },
        "id": "BKFiXY43mFrh",
        "outputId": "6b1aba0d-b441-4f66-c990-c65e3fd915c5"
      },
      "outputs": [
        {
          "data": {
            "text/plain": [
              "[array([False,  True]), array(['A', 'B', 'C'], dtype=object)]"
            ]
          },
          "execution_count": 310,
          "metadata": {},
          "output_type": "execute_result"
        }
      ],
      "source": [
        "encoder.categories_"
      ]
    },
    {
      "cell_type": "markdown",
      "metadata": {
        "id": "olu_Z5wAmfIb"
      },
      "source": [
        "The encoder has created a list of categories for each of the categorical columns in the dataset.\n",
        "\n",
        "We can generate column names for each individual category using get_feature_names."
      ]
    },
    {
      "cell_type": "code",
      "execution_count": null,
      "metadata": {
        "colab": {
          "base_uri": "https://localhost:8080/"
        },
        "id": "XnNyA1-jmcQp",
        "outputId": "d7a9c70c-c97f-4ba8-81c9-42390e53342d"
      },
      "outputs": [
        {
          "name": "stdout",
          "output_type": "stream",
          "text": [
            "['IsHoliday_y_False', 'IsHoliday_y_True', 'Type_A', 'Type_B', 'Type_C']\n"
          ]
        },
        {
          "name": "stderr",
          "output_type": "stream",
          "text": [
            "/usr/local/lib/python3.7/dist-packages/sklearn/utils/deprecation.py:87: FutureWarning:\n",
            "\n",
            "Function get_feature_names is deprecated; get_feature_names is deprecated in 1.0 and will be removed in 1.2. Please use get_feature_names_out instead.\n",
            "\n"
          ]
        }
      ],
      "source": [
        "encoded_cols = list(encoder.get_feature_names(categorical_cols))\n",
        "print(encoded_cols)"
      ]
    },
    {
      "cell_type": "markdown",
      "metadata": {
        "id": "xsXpgEQumrLT"
      },
      "source": [
        "All of the above columns will be added to train_inputs, val_inputs and test_inputs.\n",
        "\n",
        "To perform the encoding, we use the transform method of encoder."
      ]
    },
    {
      "cell_type": "code",
      "execution_count": null,
      "metadata": {
        "id": "WYQiWTlgmcMr"
      },
      "outputs": [],
      "source": [
        "data_train_df[encoded_cols] = encoder.transform(data_train_df[categorical_cols])\n",
        "Data_test_df[encoded_cols] = encoder.transform(Data_test_df[categorical_cols])"
      ]
    },
    {
      "cell_type": "code",
      "execution_count": null,
      "metadata": {
        "colab": {
          "base_uri": "https://localhost:8080/"
        },
        "id": "2ytttt4FmcJ2",
        "outputId": "5df0137c-ca41-419f-c24d-9b3197e575ef"
      },
      "outputs": [
        {
          "name": "stdout",
          "output_type": "stream",
          "text": [
            "<class 'pandas.core.frame.DataFrame'>\n",
            "Int64Index: 421570 entries, 0 to 421569\n",
            "Data columns (total 35 columns):\n",
            " #   Column                 Non-Null Count   Dtype         \n",
            "---  ------                 --------------   -----         \n",
            " 0   Store                  421570 non-null  float64       \n",
            " 1   Dept                   421570 non-null  float64       \n",
            " 2   Date                   421570 non-null  datetime64[ns]\n",
            " 3   IsHoliday_x            421570 non-null  bool          \n",
            " 4   Temperature            421570 non-null  float64       \n",
            " 5   Weekly_Sales           421570 non-null  float64       \n",
            " 6   Fuel_Price             421570 non-null  float64       \n",
            " 7   MarkDown1              421570 non-null  float64       \n",
            " 8   MarkDown2              421570 non-null  float64       \n",
            " 9   MarkDown3              421570 non-null  float64       \n",
            " 10  MarkDown4              421570 non-null  float64       \n",
            " 11  MarkDown5              421570 non-null  float64       \n",
            " 12  CPI                    421570 non-null  float64       \n",
            " 13  Unemployment           421570 non-null  float64       \n",
            " 14  IsHoliday_y            421570 non-null  bool          \n",
            " 15  Type                   421570 non-null  object        \n",
            " 16  Size                   421570 non-null  float64       \n",
            " 17  WeekDay_no             421570 non-null  float64       \n",
            " 18  Month                  421570 non-null  float64       \n",
            " 19  Day_no                 421570 non-null  float64       \n",
            " 20  Year                   421570 non-null  int64         \n",
            " 21  Week                   421570 non-null  float64       \n",
            " 22  Holiday_month          421570 non-null  float64       \n",
            " 23  Markdown_sum           421570 non-null  float64       \n",
            " 24  Days_to_Thansksgiving  421570 non-null  float64       \n",
            " 25  Days_to_Christmas      421570 non-null  float64       \n",
            " 26  SuperBowlWeek          421570 non-null  float64       \n",
            " 27  LaborDay               421570 non-null  float64       \n",
            " 28  Tranksgiving           421570 non-null  float64       \n",
            " 29  Christmas              421570 non-null  float64       \n",
            " 30  IsHoliday_y_False      421570 non-null  float64       \n",
            " 31  IsHoliday_y_True       421570 non-null  float64       \n",
            " 32  Type_A                 421570 non-null  float64       \n",
            " 33  Type_B                 421570 non-null  float64       \n",
            " 34  Type_C                 421570 non-null  float64       \n",
            "dtypes: bool(2), datetime64[ns](1), float64(30), int64(1), object(1)\n",
            "memory usage: 110.2+ MB\n"
          ]
        }
      ],
      "source": [
        "data_train_df.info()"
      ]
    },
    {
      "cell_type": "code",
      "execution_count": null,
      "metadata": {
        "colab": {
          "base_uri": "https://localhost:8080/"
        },
        "id": "qRzTVNtkmFof",
        "outputId": "ff2352fc-3d1a-4b30-8a47-7bfbe59fad55"
      },
      "outputs": [
        {
          "data": {
            "text/plain": [
              "28"
            ]
          },
          "execution_count": 314,
          "metadata": {},
          "output_type": "execute_result"
        }
      ],
      "source": [
        "cols=['Store', 'Dept', 'Temperature',\n",
        "       'Fuel_Price', 'MarkDown1', 'MarkDown2', 'MarkDown3', 'MarkDown4',\n",
        "       'MarkDown5', 'CPI', 'Unemployment', 'Size',\n",
        "       'WeekDay_no', 'Month', 'Day_no', 'IsHoliday_y_False', 'IsHoliday_y_True',\n",
        "       'Type_A', 'Type_B', 'Type_C','Holiday_month','Days_to_Thansksgiving','Days_to_Christmas','Markdown_sum','LaborDay','Tranksgiving','Christmas','SuperBowlWeek']\n",
        "len(cols)"
      ]
    },
    {
      "cell_type": "code",
      "execution_count": null,
      "metadata": {
        "id": "PvAfY8YfHpQ-"
      },
      "outputs": [],
      "source": [
        "data_train_df=data_train_df.sort_values(by=['Date'])"
      ]
    },
    {
      "cell_type": "markdown",
      "metadata": {
        "id": "Kx55w2JuIlIG"
      },
      "source": [
        "No, let's again Split the Data.\n",
        "Since it is a time series data, we have sorted the data on the basis of date and will be pick first 80% of the data for testing and rest 20% for validation"
      ]
    },
    {
      "cell_type": "code",
      "execution_count": null,
      "metadata": {
        "id": "0_SOVTefHo97"
      },
      "outputs": [],
      "source": [
        "test_size = 84314\n",
        "\n",
        "train_df = data_train_df[:-test_size]\n",
        "val_df = data_train_df[-test_size:]"
      ]
    },
    {
      "cell_type": "code",
      "execution_count": null,
      "metadata": {
        "colab": {
          "base_uri": "https://localhost:8080/"
        },
        "id": "x7Ix7P3kJJIB",
        "outputId": "626476ab-1dd2-487c-9762-9f3e6c186393"
      },
      "outputs": [
        {
          "data": {
            "text/plain": [
              "Timestamp('2012-04-13 00:00:00')"
            ]
          },
          "execution_count": 317,
          "metadata": {},
          "output_type": "execute_result"
        }
      ],
      "source": [
        "train_df['Date'].max()"
      ]
    },
    {
      "cell_type": "code",
      "execution_count": null,
      "metadata": {
        "colab": {
          "base_uri": "https://localhost:8080/"
        },
        "id": "eo8-yqfWJJFN",
        "outputId": "975e815b-52b4-487a-b22f-03aba579f17b"
      },
      "outputs": [
        {
          "data": {
            "text/plain": [
              "Timestamp('2012-04-13 00:00:00')"
            ]
          },
          "execution_count": 318,
          "metadata": {},
          "output_type": "execute_result"
        }
      ],
      "source": [
        "val_df['Date'].min()"
      ]
    },
    {
      "cell_type": "markdown",
      "metadata": {
        "id": "w_osLe4apinA"
      },
      "source": [
        "# **Save intermediate outputs**\n",
        "\n",
        "Here, we will save our training and test dataset in `.parquet` format using `to_parquet`.\n"
      ]
    },
    {
      "cell_type": "code",
      "execution_count": null,
      "metadata": {
        "id": "eB0CRc0Sn0I9"
      },
      "outputs": [],
      "source": [
        "train_df.to_parquet('train.parquet')"
      ]
    },
    {
      "cell_type": "code",
      "execution_count": null,
      "metadata": {
        "id": "EO8_1I_qn0F2"
      },
      "outputs": [],
      "source": [
        "Data_test_df.to_parquet('test.parquet')"
      ]
    },
    {
      "cell_type": "markdown",
      "metadata": {
        "id": "n-nKp_Twq5nX"
      },
      "source": [
        "# **Split Inputs and Columns**\n",
        "\n",
        "Before Training our data on various models, let split input and output columns and create Helper functions to Calculate the **Weighted Mean Absolute Error**."
      ]
    },
    {
      "cell_type": "code",
      "execution_count": null,
      "metadata": {
        "id": "Wb9F_InpMiR0"
      },
      "outputs": [],
      "source": [
        "target_cols='Weekly_Sales'"
      ]
    },
    {
      "cell_type": "code",
      "execution_count": null,
      "metadata": {
        "id": "KiJGUqQnqb6q"
      },
      "outputs": [],
      "source": [
        "train_inputs=train_df[cols]\n",
        "train_target=train_df[target_cols]"
      ]
    },
    {
      "cell_type": "code",
      "execution_count": null,
      "metadata": {
        "id": "3rKWhvDen0C2"
      },
      "outputs": [],
      "source": [
        "val_inputs=val_df[cols]\n",
        "val_target=val_df[target_cols]\n",
        "\n",
        "test_inputs=Data_test_df[cols]"
      ]
    },
    {
      "cell_type": "markdown",
      "metadata": {
        "id": "B0TG0JPKnvjj"
      },
      "source": [
        "Let's replace the Null values from Test Dataset with Mean values from `MarkDown1` , `MarkDown2`, `MarkDown3`, `MarkDown4`, `MarkDown5`"
      ]
    },
    {
      "cell_type": "code",
      "execution_count": null,
      "metadata": {
        "colab": {
          "base_uri": "https://localhost:8080/"
        },
        "id": "_9CpZ8SZ7-F5",
        "outputId": "78920ad3-11f9-40e2-ac43-d6c2c2e03f81"
      },
      "outputs": [
        {
          "name": "stdout",
          "output_type": "stream",
          "text": [
            "<class 'pandas.core.frame.DataFrame'>\n",
            "Int64Index: 115064 entries, 0 to 115063\n",
            "Data columns (total 28 columns):\n",
            " #   Column                 Non-Null Count   Dtype  \n",
            "---  ------                 --------------   -----  \n",
            " 0   Store                  115064 non-null  float64\n",
            " 1   Dept                   115064 non-null  float64\n",
            " 2   Temperature            115064 non-null  float64\n",
            " 3   Fuel_Price             115064 non-null  float64\n",
            " 4   MarkDown1              115064 non-null  float64\n",
            " 5   MarkDown2              115064 non-null  float64\n",
            " 6   MarkDown3              115064 non-null  float64\n",
            " 7   MarkDown4              115064 non-null  float64\n",
            " 8   MarkDown5              115064 non-null  float64\n",
            " 9   CPI                    115064 non-null  float64\n",
            " 10  Unemployment           115064 non-null  float64\n",
            " 11  Size                   115064 non-null  float64\n",
            " 12  WeekDay_no             115064 non-null  float64\n",
            " 13  Month                  115064 non-null  float64\n",
            " 14  Day_no                 115064 non-null  float64\n",
            " 15  IsHoliday_y_False      115064 non-null  float64\n",
            " 16  IsHoliday_y_True       115064 non-null  float64\n",
            " 17  Type_A                 115064 non-null  float64\n",
            " 18  Type_B                 115064 non-null  float64\n",
            " 19  Type_C                 115064 non-null  float64\n",
            " 20  Holiday_month          115064 non-null  float64\n",
            " 21  Days_to_Thansksgiving  115064 non-null  float64\n",
            " 22  Days_to_Christmas      115064 non-null  float64\n",
            " 23  Markdown_sum           115064 non-null  float64\n",
            " 24  LaborDay               115064 non-null  float64\n",
            " 25  Tranksgiving           115064 non-null  float64\n",
            " 26  Christmas              115064 non-null  float64\n",
            " 27  SuperBowlWeek          115064 non-null  float64\n",
            "dtypes: float64(28)\n",
            "memory usage: 25.5 MB\n"
          ]
        },
        {
          "name": "stderr",
          "output_type": "stream",
          "text": [
            "/usr/local/lib/python3.7/dist-packages/pandas/core/generic.py:6392: SettingWithCopyWarning:\n",
            "\n",
            "\n",
            "A value is trying to be set on a copy of a slice from a DataFrame\n",
            "\n",
            "See the caveats in the documentation: https://pandas.pydata.org/pandas-docs/stable/user_guide/indexing.html#returning-a-view-versus-a-copy\n",
            "\n"
          ]
        }
      ],
      "source": [
        "test_inputs=Data_test_df[cols]\n",
        "\n",
        "test_inputs['MarkDown1'].fillna(value=test_inputs['MarkDown1'].mean(), inplace=True)\n",
        "test_inputs['MarkDown2'].fillna(value=test_inputs['MarkDown2'].mean(), inplace=True)\n",
        "test_inputs['MarkDown3'].fillna(value=test_inputs['MarkDown3'].mean(), inplace=True)\n",
        "test_inputs['MarkDown4'].fillna(value=test_inputs['MarkDown4'].mean(), inplace=True)\n",
        "test_inputs['MarkDown5'].fillna(value=test_inputs['MarkDown5'].mean(), inplace=True)\n",
        "test_inputs['Markdown_sum'].fillna(value=test_inputs['Markdown_sum'].mean(), inplace=True)\n",
        "test_inputs.info()"
      ]
    },
    {
      "cell_type": "markdown",
      "metadata": {
        "id": "dFjA0HdGs41C"
      },
      "source": [
        "**Defining Helper function to evaluate Models**"
      ]
    },
    {
      "cell_type": "markdown",
      "metadata": {
        "id": "gdYUxYB5RPXy"
      },
      "source": [
        "Here since it is a weight mean absolute error, we will have to create a function to calculate the WAME of the dataset.\n"
      ]
    },
    {
      "cell_type": "markdown",
      "metadata": {
        "id": "U-C28egVSKIM"
      },
      "source": [
        "We will create a function called `weight` to calculate the weight of the rows depending on the column `IsHoliday_y_False`"
      ]
    },
    {
      "cell_type": "code",
      "execution_count": null,
      "metadata": {
        "id": "gNqbixw-OWaW"
      },
      "outputs": [],
      "source": [
        "def weight(df):\n",
        "  if df['IsHoliday_y_False']==1.0:\n",
        "    weight=5\n",
        "  else:\n",
        "    weight=1\n",
        "  return weight \n"
      ]
    },
    {
      "cell_type": "markdown",
      "metadata": {
        "id": "IcuP0n1bTjU2"
      },
      "source": [
        "Now, let's calculate the final WAME value"
      ]
    },
    {
      "cell_type": "code",
      "execution_count": null,
      "metadata": {
        "id": "69lOT9fCtZt-"
      },
      "outputs": [],
      "source": [
        "def WMAE_kaggle(dataset, real, predicted,weights):\n",
        "    return np.round(np.sum(weights*abs(real-predicted))/(np.sum(weights)), 2)"
      ]
    },
    {
      "cell_type": "markdown",
      "metadata": {
        "id": "Nh8U5QILTwsb"
      },
      "source": [
        "oNw, we have implemented the logic to create the Weighted Mean Absolute Error.\n",
        "\n",
        "Let's create a function `evaluate_updated` to predict the Weekly Sales and then evaluate the WMAE of the Training set and Validation Set."
      ]
    },
    {
      "cell_type": "code",
      "execution_count": null,
      "metadata": {
        "id": "PqYilrC5TYB_"
      },
      "outputs": [],
      "source": [
        "def evaluate_updated(model):\n",
        "  train_preds=model.predict(train_inputs)\n",
        "  check_train=train_inputs.apply(weight,axis=1)\n",
        "  train_wmae=WMAE_kaggle(train_inputs,train_target,train_preds,check_train)\n",
        "  val_preds=model.predict(val_inputs)\n",
        "  check_val=val_inputs.apply(weight,axis=1)\n",
        "  val_wmae=WMAE_kaggle(val_inputs,val_target,val_preds,check_val)\n",
        "  return train_wmae,val_wmae,train_preds,val_preds\n",
        "  "
      ]
    },
    {
      "cell_type": "markdown",
      "metadata": {
        "id": "88jH55_fo5Up"
      },
      "source": [
        "# **Train and Evaluate Different Models**\n",
        "\n",
        "In this section, we will Train our Datasets on various models and Evaluate its results to decide the final model with the least WMAE score and then tune its HyperParameters.\n",
        "We will train below models:\n",
        "\n",
        "*   Ridge Regression\n",
        "*   Random Forest\n",
        "*   Gradient Boosting\n",
        "*   Decision Tree\n",
        "*   SGDRegressor\n",
        "*   Lasso\n",
        "\n"
      ]
    },
    {
      "cell_type": "markdown",
      "metadata": {
        "id": "AwNAnArDHO6Q"
      },
      "source": [
        "We will train the models with Default Parameters and on the basis of their Error Loss, we will select the final model and perform HyperParamter Tuning.\n"
      ]
    },
    {
      "cell_type": "markdown",
      "metadata": {
        "id": "rj-wY5spzazh"
      },
      "source": [
        "## **Ridge Regression**"
      ]
    },
    {
      "cell_type": "markdown",
      "metadata": {
        "id": "LXy-ScjSHCuF"
      },
      "source": [
        "Let's import `Ridge` from `sklearn.linear_model`"
      ]
    },
    {
      "cell_type": "code",
      "execution_count": null,
      "metadata": {
        "id": "GZb4-7wor_QP"
      },
      "outputs": [],
      "source": [
        "from sklearn.linear_model import Ridge"
      ]
    },
    {
      "cell_type": "code",
      "execution_count": null,
      "metadata": {
        "id": "x_efDARMr_Lx"
      },
      "outputs": [],
      "source": [
        "model_1=Ridge(random_state=42, alpha=0.9)"
      ]
    },
    {
      "cell_type": "markdown",
      "metadata": {
        "id": "QxFtE_lbHgBM"
      },
      "source": [
        "Let's fit the model"
      ]
    },
    {
      "cell_type": "code",
      "execution_count": null,
      "metadata": {
        "colab": {
          "base_uri": "https://localhost:8080/"
        },
        "id": "ahzgZwoTr_Ic",
        "outputId": "374b2185-90f2-4c53-e38b-d0cc5a13fca3"
      },
      "outputs": [
        {
          "data": {
            "text/plain": [
              "Ridge(alpha=0.9, random_state=42)"
            ]
          },
          "execution_count": 78,
          "metadata": {},
          "output_type": "execute_result"
        }
      ],
      "source": [
        "model_1.fit(train_inputs, train_target)"
      ]
    },
    {
      "cell_type": "markdown",
      "metadata": {
        "id": "xZYADRFPHleA"
      },
      "source": [
        "We will use the `evaluate_updated` funtion to get the WMAE of Training set and Validation Set."
      ]
    },
    {
      "cell_type": "code",
      "execution_count": null,
      "metadata": {
        "colab": {
          "base_uri": "https://localhost:8080/"
        },
        "id": "C9j0Hy74Z3eB",
        "outputId": "b403f6fa-f24c-4e4e-8830-0ede4ee183f3"
      },
      "outputs": [
        {
          "data": {
            "text/plain": [
              "(14521.21,\n",
              " 14475.95,\n",
              " array([13971.82422312,  5750.22991207,  5860.02759043, ...,\n",
              "        13034.18457057, 12948.04085041,  7793.17238461]),\n",
              " array([11749.83068479, 27834.20856881, 17436.4316179 , ...,\n",
              "        21661.60521752, 21881.20057425, 15053.56703135]))"
            ]
          },
          "execution_count": 79,
          "metadata": {},
          "output_type": "execute_result"
        }
      ],
      "source": [
        "evaluate_updated(model_1) "
      ]
    },
    {
      "cell_type": "markdown",
      "metadata": {
        "id": "InvUeE9WH-Up"
      },
      "source": [
        "**Observation**\n",
        "* Data predicted from `Ridge`model gives an error of `$` 14,521 on training data set and `$`14,475 on Validation set."
      ]
    },
    {
      "cell_type": "markdown",
      "metadata": {
        "id": "uGZC06N0lC1c"
      },
      "source": [
        "Let's call the `predict_and_submit` function to create the `.csv` submission file to submit the predicted values to Kaggle"
      ]
    },
    {
      "cell_type": "code",
      "execution_count": null,
      "metadata": {
        "colab": {
          "base_uri": "https://localhost:8080/",
          "height": 424
        },
        "id": "GnjbD2-sr_FG",
        "outputId": "41b4b61a-9b25-47d6-bfbd-e0efd777cff2"
      },
      "outputs": [
        {
          "data": {
            "text/html": [
              "\n",
              "  <div id=\"df-48253429-cea6-4a83-bb1a-0b4e6869a782\">\n",
              "    <div class=\"colab-df-container\">\n",
              "      <div>\n",
              "<style scoped>\n",
              "    .dataframe tbody tr th:only-of-type {\n",
              "        vertical-align: middle;\n",
              "    }\n",
              "\n",
              "    .dataframe tbody tr th {\n",
              "        vertical-align: top;\n",
              "    }\n",
              "\n",
              "    .dataframe thead th {\n",
              "        text-align: right;\n",
              "    }\n",
              "</style>\n",
              "<table border=\"1\" class=\"dataframe\">\n",
              "  <thead>\n",
              "    <tr style=\"text-align: right;\">\n",
              "      <th></th>\n",
              "      <th>Id</th>\n",
              "      <th>Weekly_Sales</th>\n",
              "    </tr>\n",
              "  </thead>\n",
              "  <tbody>\n",
              "    <tr>\n",
              "      <th>0</th>\n",
              "      <td>1_1_2012-11-02</td>\n",
              "      <td>15679.840116</td>\n",
              "    </tr>\n",
              "    <tr>\n",
              "      <th>1</th>\n",
              "      <td>1_1_2012-11-09</td>\n",
              "      <td>15879.273924</td>\n",
              "    </tr>\n",
              "    <tr>\n",
              "      <th>2</th>\n",
              "      <td>1_1_2012-11-16</td>\n",
              "      <td>15704.899403</td>\n",
              "    </tr>\n",
              "    <tr>\n",
              "      <th>3</th>\n",
              "      <td>1_1_2012-11-23</td>\n",
              "      <td>22678.018302</td>\n",
              "    </tr>\n",
              "    <tr>\n",
              "      <th>4</th>\n",
              "      <td>1_1_2012-11-30</td>\n",
              "      <td>15760.966344</td>\n",
              "    </tr>\n",
              "    <tr>\n",
              "      <th>...</th>\n",
              "      <td>...</td>\n",
              "      <td>...</td>\n",
              "    </tr>\n",
              "    <tr>\n",
              "      <th>115059</th>\n",
              "      <td>45_98_2013-06-28</td>\n",
              "      <td>21428.638220</td>\n",
              "    </tr>\n",
              "    <tr>\n",
              "      <th>115060</th>\n",
              "      <td>45_98_2013-07-05</td>\n",
              "      <td>21844.936065</td>\n",
              "    </tr>\n",
              "    <tr>\n",
              "      <th>115061</th>\n",
              "      <td>45_98_2013-07-12</td>\n",
              "      <td>21877.849160</td>\n",
              "    </tr>\n",
              "    <tr>\n",
              "      <th>115062</th>\n",
              "      <td>45_98_2013-07-19</td>\n",
              "      <td>21760.127335</td>\n",
              "    </tr>\n",
              "    <tr>\n",
              "      <th>115063</th>\n",
              "      <td>45_98_2013-07-26</td>\n",
              "      <td>21645.935941</td>\n",
              "    </tr>\n",
              "  </tbody>\n",
              "</table>\n",
              "<p>115064 rows × 2 columns</p>\n",
              "</div>\n",
              "      <button class=\"colab-df-convert\" onclick=\"convertToInteractive('df-48253429-cea6-4a83-bb1a-0b4e6869a782')\"\n",
              "              title=\"Convert this dataframe to an interactive table.\"\n",
              "              style=\"display:none;\">\n",
              "        \n",
              "  <svg xmlns=\"http://www.w3.org/2000/svg\" height=\"24px\"viewBox=\"0 0 24 24\"\n",
              "       width=\"24px\">\n",
              "    <path d=\"M0 0h24v24H0V0z\" fill=\"none\"/>\n",
              "    <path d=\"M18.56 5.44l.94 2.06.94-2.06 2.06-.94-2.06-.94-.94-2.06-.94 2.06-2.06.94zm-11 1L8.5 8.5l.94-2.06 2.06-.94-2.06-.94L8.5 2.5l-.94 2.06-2.06.94zm10 10l.94 2.06.94-2.06 2.06-.94-2.06-.94-.94-2.06-.94 2.06-2.06.94z\"/><path d=\"M17.41 7.96l-1.37-1.37c-.4-.4-.92-.59-1.43-.59-.52 0-1.04.2-1.43.59L10.3 9.45l-7.72 7.72c-.78.78-.78 2.05 0 2.83L4 21.41c.39.39.9.59 1.41.59.51 0 1.02-.2 1.41-.59l7.78-7.78 2.81-2.81c.8-.78.8-2.07 0-2.86zM5.41 20L4 18.59l7.72-7.72 1.47 1.35L5.41 20z\"/>\n",
              "  </svg>\n",
              "      </button>\n",
              "      \n",
              "  <style>\n",
              "    .colab-df-container {\n",
              "      display:flex;\n",
              "      flex-wrap:wrap;\n",
              "      gap: 12px;\n",
              "    }\n",
              "\n",
              "    .colab-df-convert {\n",
              "      background-color: #E8F0FE;\n",
              "      border: none;\n",
              "      border-radius: 50%;\n",
              "      cursor: pointer;\n",
              "      display: none;\n",
              "      fill: #1967D2;\n",
              "      height: 32px;\n",
              "      padding: 0 0 0 0;\n",
              "      width: 32px;\n",
              "    }\n",
              "\n",
              "    .colab-df-convert:hover {\n",
              "      background-color: #E2EBFA;\n",
              "      box-shadow: 0px 1px 2px rgba(60, 64, 67, 0.3), 0px 1px 3px 1px rgba(60, 64, 67, 0.15);\n",
              "      fill: #174EA6;\n",
              "    }\n",
              "\n",
              "    [theme=dark] .colab-df-convert {\n",
              "      background-color: #3B4455;\n",
              "      fill: #D2E3FC;\n",
              "    }\n",
              "\n",
              "    [theme=dark] .colab-df-convert:hover {\n",
              "      background-color: #434B5C;\n",
              "      box-shadow: 0px 1px 3px 1px rgba(0, 0, 0, 0.15);\n",
              "      filter: drop-shadow(0px 1px 2px rgba(0, 0, 0, 0.3));\n",
              "      fill: #FFFFFF;\n",
              "    }\n",
              "  </style>\n",
              "\n",
              "      <script>\n",
              "        const buttonEl =\n",
              "          document.querySelector('#df-48253429-cea6-4a83-bb1a-0b4e6869a782 button.colab-df-convert');\n",
              "        buttonEl.style.display =\n",
              "          google.colab.kernel.accessAllowed ? 'block' : 'none';\n",
              "\n",
              "        async function convertToInteractive(key) {\n",
              "          const element = document.querySelector('#df-48253429-cea6-4a83-bb1a-0b4e6869a782');\n",
              "          const dataTable =\n",
              "            await google.colab.kernel.invokeFunction('convertToInteractive',\n",
              "                                                     [key], {});\n",
              "          if (!dataTable) return;\n",
              "\n",
              "          const docLinkHtml = 'Like what you see? Visit the ' +\n",
              "            '<a target=\"_blank\" href=https://colab.research.google.com/notebooks/data_table.ipynb>data table notebook</a>'\n",
              "            + ' to learn more about interactive tables.';\n",
              "          element.innerHTML = '';\n",
              "          dataTable['output_type'] = 'display_data';\n",
              "          await google.colab.output.renderOutput(dataTable, element);\n",
              "          const docLink = document.createElement('div');\n",
              "          docLink.innerHTML = docLinkHtml;\n",
              "          element.appendChild(docLink);\n",
              "        }\n",
              "      </script>\n",
              "    </div>\n",
              "  </div>\n",
              "  "
            ],
            "text/plain": [
              "                      Id  Weekly_Sales\n",
              "0         1_1_2012-11-02  15679.840116\n",
              "1         1_1_2012-11-09  15879.273924\n",
              "2         1_1_2012-11-16  15704.899403\n",
              "3         1_1_2012-11-23  22678.018302\n",
              "4         1_1_2012-11-30  15760.966344\n",
              "...                  ...           ...\n",
              "115059  45_98_2013-06-28  21428.638220\n",
              "115060  45_98_2013-07-05  21844.936065\n",
              "115061  45_98_2013-07-12  21877.849160\n",
              "115062  45_98_2013-07-19  21760.127335\n",
              "115063  45_98_2013-07-26  21645.935941\n",
              "\n",
              "[115064 rows x 2 columns]"
            ]
          },
          "execution_count": 80,
          "metadata": {},
          "output_type": "execute_result"
        }
      ],
      "source": [
        "predict_and_submit(model_1, test_inputs,'Ridge_submission.csv')"
      ]
    },
    {
      "cell_type": "markdown",
      "metadata": {
        "id": "G0gCzp4vlPL4"
      },
      "source": [
        "**Observation:**\n",
        "\n",
        "*  The WMAE for the data predicted using `Ridge` Model gives a WMAE value of `$`20,634.\n",
        "*  Loss of 20k is a bad score and we can discard the idea of using `Ridge` Model for this problem statement."
      ]
    },
    {
      "cell_type": "markdown",
      "metadata": {
        "id": "gNgABUKY-OLS"
      },
      "source": [
        "## **Random Forest**"
      ]
    },
    {
      "cell_type": "code",
      "execution_count": null,
      "metadata": {
        "id": "aRU4lNBt99c4"
      },
      "outputs": [],
      "source": [
        "from sklearn.ensemble import RandomForestRegressor"
      ]
    },
    {
      "cell_type": "code",
      "execution_count": null,
      "metadata": {
        "id": "mEmTnYub99Yy"
      },
      "outputs": [],
      "source": [
        "model_2=RandomForestRegressor(random_state=42,n_estimators=200, n_jobs=-1,max_depth=5)"
      ]
    },
    {
      "cell_type": "code",
      "execution_count": null,
      "metadata": {
        "id": "bv7kRyD5X6IL"
      },
      "outputs": [],
      "source": [
        "model_2=RandomForestRegressor(random_state=42)"
      ]
    },
    {
      "cell_type": "code",
      "execution_count": null,
      "metadata": {
        "colab": {
          "base_uri": "https://localhost:8080/"
        },
        "id": "kwjo6Z7b99WZ",
        "outputId": "28a0c5c3-0ff7-4c56-cd55-51c1a7794c54"
      },
      "outputs": [
        {
          "name": "stdout",
          "output_type": "stream",
          "text": [
            "CPU times: user 6min 40s, sys: 4.37 s, total: 6min 45s\n",
            "Wall time: 6min 52s\n"
          ]
        },
        {
          "data": {
            "text/plain": [
              "RandomForestRegressor(random_state=42)"
            ]
          },
          "execution_count": 258,
          "metadata": {},
          "output_type": "execute_result"
        }
      ],
      "source": [
        "%%time\n",
        "model_2.fit(train_inputs,train_target)"
      ]
    },
    {
      "cell_type": "code",
      "execution_count": null,
      "metadata": {
        "colab": {
          "base_uri": "https://localhost:8080/"
        },
        "id": "F8mfRs0lxxqt",
        "outputId": "b6fcd078-01ea-4629-e434-b33e5ecbdd01"
      },
      "outputs": [
        {
          "data": {
            "text/plain": [
              "(469.95,\n",
              " 1751.39,\n",
              " array([24590.8668, 15096.8384,  3404.6323, ...,    70.3959,  1037.3371,\n",
              "        12775.5671]),\n",
              " array([34498.9681, 84924.8498, 28364.0211, ..., 26927.2733,  2902.2552,\n",
              "          802.9236]))"
            ]
          },
          "execution_count": 259,
          "metadata": {},
          "output_type": "execute_result"
        }
      ],
      "source": [
        "evaluate_updated(model_2) "
      ]
    },
    {
      "cell_type": "markdown",
      "metadata": {
        "id": "tpQc4GHgIMpS"
      },
      "source": [
        "**Observation**\n",
        "* Data predicted from `RandomForestRegressor`model gives an error of `$` 469.77 on training data set and `$`1,750 on Validation set. \n",
        "* The error loss is too less as compared to the `Ridge Model`"
      ]
    },
    {
      "cell_type": "code",
      "execution_count": null,
      "metadata": {
        "colab": {
          "base_uri": "https://localhost:8080/",
          "height": 424
        },
        "id": "wee8BLe099QE",
        "outputId": "f7562045-3b90-46f6-d426-045ae5641a64"
      },
      "outputs": [
        {
          "data": {
            "text/html": [
              "\n",
              "  <div id=\"df-c9b73518-b335-40ec-a4ca-18c3db4c4936\">\n",
              "    <div class=\"colab-df-container\">\n",
              "      <div>\n",
              "<style scoped>\n",
              "    .dataframe tbody tr th:only-of-type {\n",
              "        vertical-align: middle;\n",
              "    }\n",
              "\n",
              "    .dataframe tbody tr th {\n",
              "        vertical-align: top;\n",
              "    }\n",
              "\n",
              "    .dataframe thead th {\n",
              "        text-align: right;\n",
              "    }\n",
              "</style>\n",
              "<table border=\"1\" class=\"dataframe\">\n",
              "  <thead>\n",
              "    <tr style=\"text-align: right;\">\n",
              "      <th></th>\n",
              "      <th>Id</th>\n",
              "      <th>Weekly_Sales</th>\n",
              "    </tr>\n",
              "  </thead>\n",
              "  <tbody>\n",
              "    <tr>\n",
              "      <th>0</th>\n",
              "      <td>1_1_2012-11-02</td>\n",
              "      <td>37582.3003</td>\n",
              "    </tr>\n",
              "    <tr>\n",
              "      <th>1</th>\n",
              "      <td>1_1_2012-11-09</td>\n",
              "      <td>20407.1771</td>\n",
              "    </tr>\n",
              "    <tr>\n",
              "      <th>2</th>\n",
              "      <td>1_1_2012-11-16</td>\n",
              "      <td>19174.2859</td>\n",
              "    </tr>\n",
              "    <tr>\n",
              "      <th>3</th>\n",
              "      <td>1_1_2012-11-23</td>\n",
              "      <td>20987.1001</td>\n",
              "    </tr>\n",
              "    <tr>\n",
              "      <th>4</th>\n",
              "      <td>1_1_2012-11-30</td>\n",
              "      <td>29186.8957</td>\n",
              "    </tr>\n",
              "    <tr>\n",
              "      <th>...</th>\n",
              "      <td>...</td>\n",
              "      <td>...</td>\n",
              "    </tr>\n",
              "    <tr>\n",
              "      <th>115059</th>\n",
              "      <td>45_98_2013-06-28</td>\n",
              "      <td>693.1333</td>\n",
              "    </tr>\n",
              "    <tr>\n",
              "      <th>115060</th>\n",
              "      <td>45_98_2013-07-05</td>\n",
              "      <td>777.1926</td>\n",
              "    </tr>\n",
              "    <tr>\n",
              "      <th>115061</th>\n",
              "      <td>45_98_2013-07-12</td>\n",
              "      <td>702.3051</td>\n",
              "    </tr>\n",
              "    <tr>\n",
              "      <th>115062</th>\n",
              "      <td>45_98_2013-07-19</td>\n",
              "      <td>836.2352</td>\n",
              "    </tr>\n",
              "    <tr>\n",
              "      <th>115063</th>\n",
              "      <td>45_98_2013-07-26</td>\n",
              "      <td>783.7361</td>\n",
              "    </tr>\n",
              "  </tbody>\n",
              "</table>\n",
              "<p>115064 rows × 2 columns</p>\n",
              "</div>\n",
              "      <button class=\"colab-df-convert\" onclick=\"convertToInteractive('df-c9b73518-b335-40ec-a4ca-18c3db4c4936')\"\n",
              "              title=\"Convert this dataframe to an interactive table.\"\n",
              "              style=\"display:none;\">\n",
              "        \n",
              "  <svg xmlns=\"http://www.w3.org/2000/svg\" height=\"24px\"viewBox=\"0 0 24 24\"\n",
              "       width=\"24px\">\n",
              "    <path d=\"M0 0h24v24H0V0z\" fill=\"none\"/>\n",
              "    <path d=\"M18.56 5.44l.94 2.06.94-2.06 2.06-.94-2.06-.94-.94-2.06-.94 2.06-2.06.94zm-11 1L8.5 8.5l.94-2.06 2.06-.94-2.06-.94L8.5 2.5l-.94 2.06-2.06.94zm10 10l.94 2.06.94-2.06 2.06-.94-2.06-.94-.94-2.06-.94 2.06-2.06.94z\"/><path d=\"M17.41 7.96l-1.37-1.37c-.4-.4-.92-.59-1.43-.59-.52 0-1.04.2-1.43.59L10.3 9.45l-7.72 7.72c-.78.78-.78 2.05 0 2.83L4 21.41c.39.39.9.59 1.41.59.51 0 1.02-.2 1.41-.59l7.78-7.78 2.81-2.81c.8-.78.8-2.07 0-2.86zM5.41 20L4 18.59l7.72-7.72 1.47 1.35L5.41 20z\"/>\n",
              "  </svg>\n",
              "      </button>\n",
              "      \n",
              "  <style>\n",
              "    .colab-df-container {\n",
              "      display:flex;\n",
              "      flex-wrap:wrap;\n",
              "      gap: 12px;\n",
              "    }\n",
              "\n",
              "    .colab-df-convert {\n",
              "      background-color: #E8F0FE;\n",
              "      border: none;\n",
              "      border-radius: 50%;\n",
              "      cursor: pointer;\n",
              "      display: none;\n",
              "      fill: #1967D2;\n",
              "      height: 32px;\n",
              "      padding: 0 0 0 0;\n",
              "      width: 32px;\n",
              "    }\n",
              "\n",
              "    .colab-df-convert:hover {\n",
              "      background-color: #E2EBFA;\n",
              "      box-shadow: 0px 1px 2px rgba(60, 64, 67, 0.3), 0px 1px 3px 1px rgba(60, 64, 67, 0.15);\n",
              "      fill: #174EA6;\n",
              "    }\n",
              "\n",
              "    [theme=dark] .colab-df-convert {\n",
              "      background-color: #3B4455;\n",
              "      fill: #D2E3FC;\n",
              "    }\n",
              "\n",
              "    [theme=dark] .colab-df-convert:hover {\n",
              "      background-color: #434B5C;\n",
              "      box-shadow: 0px 1px 3px 1px rgba(0, 0, 0, 0.15);\n",
              "      filter: drop-shadow(0px 1px 2px rgba(0, 0, 0, 0.3));\n",
              "      fill: #FFFFFF;\n",
              "    }\n",
              "  </style>\n",
              "\n",
              "      <script>\n",
              "        const buttonEl =\n",
              "          document.querySelector('#df-c9b73518-b335-40ec-a4ca-18c3db4c4936 button.colab-df-convert');\n",
              "        buttonEl.style.display =\n",
              "          google.colab.kernel.accessAllowed ? 'block' : 'none';\n",
              "\n",
              "        async function convertToInteractive(key) {\n",
              "          const element = document.querySelector('#df-c9b73518-b335-40ec-a4ca-18c3db4c4936');\n",
              "          const dataTable =\n",
              "            await google.colab.kernel.invokeFunction('convertToInteractive',\n",
              "                                                     [key], {});\n",
              "          if (!dataTable) return;\n",
              "\n",
              "          const docLinkHtml = 'Like what you see? Visit the ' +\n",
              "            '<a target=\"_blank\" href=https://colab.research.google.com/notebooks/data_table.ipynb>data table notebook</a>'\n",
              "            + ' to learn more about interactive tables.';\n",
              "          element.innerHTML = '';\n",
              "          dataTable['output_type'] = 'display_data';\n",
              "          await google.colab.output.renderOutput(dataTable, element);\n",
              "          const docLink = document.createElement('div');\n",
              "          docLink.innerHTML = docLinkHtml;\n",
              "          element.appendChild(docLink);\n",
              "        }\n",
              "      </script>\n",
              "    </div>\n",
              "  </div>\n",
              "  "
            ],
            "text/plain": [
              "                      Id  Weekly_Sales\n",
              "0         1_1_2012-11-02    37582.3003\n",
              "1         1_1_2012-11-09    20407.1771\n",
              "2         1_1_2012-11-16    19174.2859\n",
              "3         1_1_2012-11-23    20987.1001\n",
              "4         1_1_2012-11-30    29186.8957\n",
              "...                  ...           ...\n",
              "115059  45_98_2013-06-28      693.1333\n",
              "115060  45_98_2013-07-05      777.1926\n",
              "115061  45_98_2013-07-12      702.3051\n",
              "115062  45_98_2013-07-19      836.2352\n",
              "115063  45_98_2013-07-26      783.7361\n",
              "\n",
              "[115064 rows x 2 columns]"
            ]
          },
          "execution_count": 95,
          "metadata": {},
          "output_type": "execute_result"
        }
      ],
      "source": [
        "predict_and_submit(model_2,test_inputs,'RandomForestRegressor.csv')"
      ]
    },
    {
      "cell_type": "markdown",
      "metadata": {
        "id": "aXSb3bmTlm3G"
      },
      "source": [
        "**Observation:**\n",
        "\n",
        "The WMAE for the data predicted using `RandomRegressor` Model gives a WMAE value of `$`3,132 which is quite a good score."
      ]
    },
    {
      "cell_type": "markdown",
      "metadata": {
        "id": "9tDe7UOhtxQ7"
      },
      "source": [
        "## **Gradient Boosting**"
      ]
    },
    {
      "cell_type": "code",
      "execution_count": null,
      "metadata": {
        "id": "Az2JI3sdtwfV"
      },
      "outputs": [],
      "source": [
        "from xgboost import  XGBRegressor"
      ]
    },
    {
      "cell_type": "code",
      "execution_count": null,
      "metadata": {
        "id": "DGiREIHcn6Y7"
      },
      "outputs": [],
      "source": [
        "model_4=XGBRegressor(random_state=42)"
      ]
    },
    {
      "cell_type": "code",
      "execution_count": null,
      "metadata": {
        "id": "MQvftKbKtwc_"
      },
      "outputs": [],
      "source": [
        "model_4=XGBRegressor(max_depth=7,\n",
        "                       n_estimators=500,random_state=42,n_jobs=-1,learning_rate=0.05)"
      ]
    },
    {
      "cell_type": "code",
      "execution_count": null,
      "metadata": {
        "colab": {
          "base_uri": "https://localhost:8080/"
        },
        "id": "SZDsx6ABtwaj",
        "outputId": "bc82de11-8dd3-49ca-9d9b-7f64109795f5"
      },
      "outputs": [
        {
          "data": {
            "text/plain": [
              "XGBRegressor(base_score=0.5, booster='gbtree', callbacks=None,\n",
              "             colsample_bylevel=1, colsample_bynode=1, colsample_bytree=1,\n",
              "             early_stopping_rounds=None, enable_categorical=False,\n",
              "             eval_metric=None, gamma=0, gpu_id=-1, grow_policy='depthwise',\n",
              "             importance_type=None, interaction_constraints='',\n",
              "             learning_rate=0.300000012, max_bin=256, max_cat_to_onehot=4,\n",
              "             max_delta_step=0, max_depth=6, max_leaves=0, min_child_weight=1,\n",
              "             missing=nan, monotone_constraints='()', n_estimators=100, n_jobs=0,\n",
              "             num_parallel_tree=1, predictor='auto', random_state=42,\n",
              "             reg_alpha=0, reg_lambda=1, ...)"
            ]
          },
          "execution_count": 247,
          "metadata": {},
          "output_type": "execute_result"
        }
      ],
      "source": [
        "#%%time\n",
        "model_4.fit(train_inputs,train_target)"
      ]
    },
    {
      "cell_type": "code",
      "execution_count": null,
      "metadata": {
        "colab": {
          "base_uri": "https://localhost:8080/"
        },
        "id": "62L5vO590FWE",
        "outputId": "39bd73ed-7e79-4ba3-9e97-ea66ad4484ef"
      },
      "outputs": [
        {
          "data": {
            "text/plain": [
              "(2893.58,\n",
              " 3266.71,\n",
              " array([26214.873  , 16501.332  ,  3500.2996 , ...,  -954.34985,\n",
              "          994.1064 , 16598.045  ], dtype=float32),\n",
              " array([30059.611 , 85399.2   , 25161.49  , ..., 25059.549 ,  1352.0446,\n",
              "         2465.2668], dtype=float32))"
            ]
          },
          "execution_count": 248,
          "metadata": {},
          "output_type": "execute_result"
        }
      ],
      "source": [
        "evaluate_updated(model_4) "
      ]
    },
    {
      "cell_type": "markdown",
      "metadata": {
        "id": "P6iCQxPdLh8w"
      },
      "source": [
        "**Observation**\n",
        "* Data predicted from `XGBRegressor`model gives an error of `$` 2,893 on training data set and `$`3,266 on Validation set. "
      ]
    },
    {
      "cell_type": "code",
      "execution_count": null,
      "metadata": {
        "colab": {
          "base_uri": "https://localhost:8080/",
          "height": 424
        },
        "id": "gjKiG0KvFONQ",
        "outputId": "5052aec1-d46c-4e04-a260-4ebd27e93953"
      },
      "outputs": [
        {
          "data": {
            "text/html": [
              "\n",
              "  <div id=\"df-cc08171c-acb6-442f-94f6-f9a8d1fa9f64\">\n",
              "    <div class=\"colab-df-container\">\n",
              "      <div>\n",
              "<style scoped>\n",
              "    .dataframe tbody tr th:only-of-type {\n",
              "        vertical-align: middle;\n",
              "    }\n",
              "\n",
              "    .dataframe tbody tr th {\n",
              "        vertical-align: top;\n",
              "    }\n",
              "\n",
              "    .dataframe thead th {\n",
              "        text-align: right;\n",
              "    }\n",
              "</style>\n",
              "<table border=\"1\" class=\"dataframe\">\n",
              "  <thead>\n",
              "    <tr style=\"text-align: right;\">\n",
              "      <th></th>\n",
              "      <th>Id</th>\n",
              "      <th>Weekly_Sales</th>\n",
              "    </tr>\n",
              "  </thead>\n",
              "  <tbody>\n",
              "    <tr>\n",
              "      <th>0</th>\n",
              "      <td>1_1_2012-11-02</td>\n",
              "      <td>31901.125000</td>\n",
              "    </tr>\n",
              "    <tr>\n",
              "      <th>1</th>\n",
              "      <td>1_1_2012-11-09</td>\n",
              "      <td>18471.462891</td>\n",
              "    </tr>\n",
              "    <tr>\n",
              "      <th>2</th>\n",
              "      <td>1_1_2012-11-16</td>\n",
              "      <td>21233.023438</td>\n",
              "    </tr>\n",
              "    <tr>\n",
              "      <th>3</th>\n",
              "      <td>1_1_2012-11-23</td>\n",
              "      <td>15110.892578</td>\n",
              "    </tr>\n",
              "    <tr>\n",
              "      <th>4</th>\n",
              "      <td>1_1_2012-11-30</td>\n",
              "      <td>28668.472656</td>\n",
              "    </tr>\n",
              "    <tr>\n",
              "      <th>...</th>\n",
              "      <td>...</td>\n",
              "      <td>...</td>\n",
              "    </tr>\n",
              "    <tr>\n",
              "      <th>115059</th>\n",
              "      <td>45_98_2013-06-28</td>\n",
              "      <td>384.643555</td>\n",
              "    </tr>\n",
              "    <tr>\n",
              "      <th>115060</th>\n",
              "      <td>45_98_2013-07-05</td>\n",
              "      <td>1962.554810</td>\n",
              "    </tr>\n",
              "    <tr>\n",
              "      <th>115061</th>\n",
              "      <td>45_98_2013-07-12</td>\n",
              "      <td>1681.743774</td>\n",
              "    </tr>\n",
              "    <tr>\n",
              "      <th>115062</th>\n",
              "      <td>45_98_2013-07-19</td>\n",
              "      <td>595.500427</td>\n",
              "    </tr>\n",
              "    <tr>\n",
              "      <th>115063</th>\n",
              "      <td>45_98_2013-07-26</td>\n",
              "      <td>-57.113045</td>\n",
              "    </tr>\n",
              "  </tbody>\n",
              "</table>\n",
              "<p>115064 rows × 2 columns</p>\n",
              "</div>\n",
              "      <button class=\"colab-df-convert\" onclick=\"convertToInteractive('df-cc08171c-acb6-442f-94f6-f9a8d1fa9f64')\"\n",
              "              title=\"Convert this dataframe to an interactive table.\"\n",
              "              style=\"display:none;\">\n",
              "        \n",
              "  <svg xmlns=\"http://www.w3.org/2000/svg\" height=\"24px\"viewBox=\"0 0 24 24\"\n",
              "       width=\"24px\">\n",
              "    <path d=\"M0 0h24v24H0V0z\" fill=\"none\"/>\n",
              "    <path d=\"M18.56 5.44l.94 2.06.94-2.06 2.06-.94-2.06-.94-.94-2.06-.94 2.06-2.06.94zm-11 1L8.5 8.5l.94-2.06 2.06-.94-2.06-.94L8.5 2.5l-.94 2.06-2.06.94zm10 10l.94 2.06.94-2.06 2.06-.94-2.06-.94-.94-2.06-.94 2.06-2.06.94z\"/><path d=\"M17.41 7.96l-1.37-1.37c-.4-.4-.92-.59-1.43-.59-.52 0-1.04.2-1.43.59L10.3 9.45l-7.72 7.72c-.78.78-.78 2.05 0 2.83L4 21.41c.39.39.9.59 1.41.59.51 0 1.02-.2 1.41-.59l7.78-7.78 2.81-2.81c.8-.78.8-2.07 0-2.86zM5.41 20L4 18.59l7.72-7.72 1.47 1.35L5.41 20z\"/>\n",
              "  </svg>\n",
              "      </button>\n",
              "      \n",
              "  <style>\n",
              "    .colab-df-container {\n",
              "      display:flex;\n",
              "      flex-wrap:wrap;\n",
              "      gap: 12px;\n",
              "    }\n",
              "\n",
              "    .colab-df-convert {\n",
              "      background-color: #E8F0FE;\n",
              "      border: none;\n",
              "      border-radius: 50%;\n",
              "      cursor: pointer;\n",
              "      display: none;\n",
              "      fill: #1967D2;\n",
              "      height: 32px;\n",
              "      padding: 0 0 0 0;\n",
              "      width: 32px;\n",
              "    }\n",
              "\n",
              "    .colab-df-convert:hover {\n",
              "      background-color: #E2EBFA;\n",
              "      box-shadow: 0px 1px 2px rgba(60, 64, 67, 0.3), 0px 1px 3px 1px rgba(60, 64, 67, 0.15);\n",
              "      fill: #174EA6;\n",
              "    }\n",
              "\n",
              "    [theme=dark] .colab-df-convert {\n",
              "      background-color: #3B4455;\n",
              "      fill: #D2E3FC;\n",
              "    }\n",
              "\n",
              "    [theme=dark] .colab-df-convert:hover {\n",
              "      background-color: #434B5C;\n",
              "      box-shadow: 0px 1px 3px 1px rgba(0, 0, 0, 0.15);\n",
              "      filter: drop-shadow(0px 1px 2px rgba(0, 0, 0, 0.3));\n",
              "      fill: #FFFFFF;\n",
              "    }\n",
              "  </style>\n",
              "\n",
              "      <script>\n",
              "        const buttonEl =\n",
              "          document.querySelector('#df-cc08171c-acb6-442f-94f6-f9a8d1fa9f64 button.colab-df-convert');\n",
              "        buttonEl.style.display =\n",
              "          google.colab.kernel.accessAllowed ? 'block' : 'none';\n",
              "\n",
              "        async function convertToInteractive(key) {\n",
              "          const element = document.querySelector('#df-cc08171c-acb6-442f-94f6-f9a8d1fa9f64');\n",
              "          const dataTable =\n",
              "            await google.colab.kernel.invokeFunction('convertToInteractive',\n",
              "                                                     [key], {});\n",
              "          if (!dataTable) return;\n",
              "\n",
              "          const docLinkHtml = 'Like what you see? Visit the ' +\n",
              "            '<a target=\"_blank\" href=https://colab.research.google.com/notebooks/data_table.ipynb>data table notebook</a>'\n",
              "            + ' to learn more about interactive tables.';\n",
              "          element.innerHTML = '';\n",
              "          dataTable['output_type'] = 'display_data';\n",
              "          await google.colab.output.renderOutput(dataTable, element);\n",
              "          const docLink = document.createElement('div');\n",
              "          docLink.innerHTML = docLinkHtml;\n",
              "          element.appendChild(docLink);\n",
              "        }\n",
              "      </script>\n",
              "    </div>\n",
              "  </div>\n",
              "  "
            ],
            "text/plain": [
              "                      Id  Weekly_Sales\n",
              "0         1_1_2012-11-02  31901.125000\n",
              "1         1_1_2012-11-09  18471.462891\n",
              "2         1_1_2012-11-16  21233.023438\n",
              "3         1_1_2012-11-23  15110.892578\n",
              "4         1_1_2012-11-30  28668.472656\n",
              "...                  ...           ...\n",
              "115059  45_98_2013-06-28    384.643555\n",
              "115060  45_98_2013-07-05   1962.554810\n",
              "115061  45_98_2013-07-12   1681.743774\n",
              "115062  45_98_2013-07-19    595.500427\n",
              "115063  45_98_2013-07-26    -57.113045\n",
              "\n",
              "[115064 rows x 2 columns]"
            ]
          },
          "execution_count": 92,
          "metadata": {},
          "output_type": "execute_result"
        }
      ],
      "source": [
        "predict_and_submit(model_4,test_inputs,'xgb_submission.csv')"
      ]
    },
    {
      "cell_type": "markdown",
      "metadata": {
        "id": "EVmorBQVmGUt"
      },
      "source": [
        "**Observation:**\n",
        "\n",
        "The WMAE for the data predicted using `XGBRegressor` Model gives a WMAE value of `$`6,398.28 which is also a good score to start with."
      ]
    },
    {
      "cell_type": "markdown",
      "metadata": {
        "id": "uY45vLNp3odN"
      },
      "source": [
        "## **Decison Tree**"
      ]
    },
    {
      "cell_type": "code",
      "execution_count": null,
      "metadata": {
        "id": "ku8z89ywFOKn"
      },
      "outputs": [],
      "source": [
        "from sklearn.tree import DecisionTreeRegressor\n",
        "model_5 = DecisionTreeRegressor(random_state=42,max_depth=5)"
      ]
    },
    {
      "cell_type": "code",
      "execution_count": null,
      "metadata": {
        "colab": {
          "base_uri": "https://localhost:8080/"
        },
        "id": "XfIY2MDade3O",
        "outputId": "62661666-8c9c-457f-cddf-8f003ffa6aba"
      },
      "outputs": [
        {
          "data": {
            "text/plain": [
              "DecisionTreeRegressor(max_depth=5, random_state=42)"
            ]
          },
          "execution_count": 184,
          "metadata": {},
          "output_type": "execute_result"
        }
      ],
      "source": [
        "model_5.fit(train_inputs,train_target)"
      ]
    },
    {
      "cell_type": "code",
      "execution_count": null,
      "metadata": {
        "colab": {
          "base_uri": "https://localhost:8080/"
        },
        "id": "Bb992txxdezs",
        "outputId": "7729fd91-8548-4119-982b-bd6e59d4c5c0"
      },
      "outputs": [
        {
          "data": {
            "text/plain": [
              "(8576.32, 8328.96, array([24551.09028724, 13539.65603553, 13539.65603553, ...,\n",
              "         7621.97368145,   283.44676389, 22515.38007969]), array([24551.09028724, 83879.38716718,  8879.8356255 , ...,\n",
              "         7621.97368145,  7621.97368145,   283.44676389]))"
            ]
          },
          "execution_count": 185,
          "metadata": {},
          "output_type": "execute_result"
        }
      ],
      "source": [
        "evaluate_updated(model_5) "
      ]
    },
    {
      "cell_type": "markdown",
      "metadata": {
        "id": "R058ixn7VgeA"
      },
      "source": [
        "**Observation**\n",
        "* Data predicted from `DecisionTreeRegressor`model gives an error of `$` 8,576 on training data set and `$`8,328 on Validation set. "
      ]
    },
    {
      "cell_type": "code",
      "execution_count": null,
      "metadata": {
        "colab": {
          "base_uri": "https://localhost:8080/"
        },
        "id": "yFlYjB_udewl",
        "outputId": "7af636a9-a524-499a-8b13-6b596688a43f"
      },
      "outputs": [
        {
          "data": {
            "text/plain": [
              "array([5.36824306e-02, 6.07487160e-01, 9.85549616e-03, 3.47117711e-03,\n",
              "       3.93644064e-04, 7.28514134e-04, 1.10430724e-03, 9.72323395e-04,\n",
              "       5.33895333e-04, 2.79705499e-02, 1.13642130e-02, 2.04765778e-01,\n",
              "       0.00000000e+00, 6.95173150e-04, 8.69406691e-03, 1.47034637e-04,\n",
              "       1.05167360e-04, 5.53886614e-03, 1.10067791e-02, 6.38768387e-04,\n",
              "       1.38261824e-03, 1.38773282e-02, 1.58390721e-02, 7.37029185e-04,\n",
              "       7.68897011e-05, 1.78099332e-02, 1.04867526e-03, 7.31095374e-05])"
            ]
          },
          "execution_count": 129,
          "metadata": {},
          "output_type": "execute_result"
        }
      ],
      "source": [
        "model_5.feature_importances_"
      ]
    },
    {
      "cell_type": "code",
      "execution_count": null,
      "metadata": {
        "colab": {
          "base_uri": "https://localhost:8080/",
          "height": 424
        },
        "id": "pixN6u2Bdeq0",
        "outputId": "7944066f-b701-4a5c-fbec-3756bf03ae36"
      },
      "outputs": [
        {
          "data": {
            "text/html": [
              "\n",
              "  <div id=\"df-497912e3-814b-46ca-8209-5bf6f0ea1b60\">\n",
              "    <div class=\"colab-df-container\">\n",
              "      <div>\n",
              "<style scoped>\n",
              "    .dataframe tbody tr th:only-of-type {\n",
              "        vertical-align: middle;\n",
              "    }\n",
              "\n",
              "    .dataframe tbody tr th {\n",
              "        vertical-align: top;\n",
              "    }\n",
              "\n",
              "    .dataframe thead th {\n",
              "        text-align: right;\n",
              "    }\n",
              "</style>\n",
              "<table border=\"1\" class=\"dataframe\">\n",
              "  <thead>\n",
              "    <tr style=\"text-align: right;\">\n",
              "      <th></th>\n",
              "      <th>Id</th>\n",
              "      <th>Weekly_Sales</th>\n",
              "    </tr>\n",
              "  </thead>\n",
              "  <tbody>\n",
              "    <tr>\n",
              "      <th>0</th>\n",
              "      <td>1_1_2012-11-02</td>\n",
              "      <td>24551.090287</td>\n",
              "    </tr>\n",
              "    <tr>\n",
              "      <th>1</th>\n",
              "      <td>1_1_2012-11-09</td>\n",
              "      <td>24551.090287</td>\n",
              "    </tr>\n",
              "    <tr>\n",
              "      <th>2</th>\n",
              "      <td>1_1_2012-11-16</td>\n",
              "      <td>24551.090287</td>\n",
              "    </tr>\n",
              "    <tr>\n",
              "      <th>3</th>\n",
              "      <td>1_1_2012-11-23</td>\n",
              "      <td>24551.090287</td>\n",
              "    </tr>\n",
              "    <tr>\n",
              "      <th>4</th>\n",
              "      <td>1_1_2012-11-30</td>\n",
              "      <td>24551.090287</td>\n",
              "    </tr>\n",
              "    <tr>\n",
              "      <th>...</th>\n",
              "      <td>...</td>\n",
              "      <td>...</td>\n",
              "    </tr>\n",
              "    <tr>\n",
              "      <th>115059</th>\n",
              "      <td>45_98_2013-06-28</td>\n",
              "      <td>283.446764</td>\n",
              "    </tr>\n",
              "    <tr>\n",
              "      <th>115060</th>\n",
              "      <td>45_98_2013-07-05</td>\n",
              "      <td>283.446764</td>\n",
              "    </tr>\n",
              "    <tr>\n",
              "      <th>115061</th>\n",
              "      <td>45_98_2013-07-12</td>\n",
              "      <td>283.446764</td>\n",
              "    </tr>\n",
              "    <tr>\n",
              "      <th>115062</th>\n",
              "      <td>45_98_2013-07-19</td>\n",
              "      <td>283.446764</td>\n",
              "    </tr>\n",
              "    <tr>\n",
              "      <th>115063</th>\n",
              "      <td>45_98_2013-07-26</td>\n",
              "      <td>283.446764</td>\n",
              "    </tr>\n",
              "  </tbody>\n",
              "</table>\n",
              "<p>115064 rows × 2 columns</p>\n",
              "</div>\n",
              "      <button class=\"colab-df-convert\" onclick=\"convertToInteractive('df-497912e3-814b-46ca-8209-5bf6f0ea1b60')\"\n",
              "              title=\"Convert this dataframe to an interactive table.\"\n",
              "              style=\"display:none;\">\n",
              "        \n",
              "  <svg xmlns=\"http://www.w3.org/2000/svg\" height=\"24px\"viewBox=\"0 0 24 24\"\n",
              "       width=\"24px\">\n",
              "    <path d=\"M0 0h24v24H0V0z\" fill=\"none\"/>\n",
              "    <path d=\"M18.56 5.44l.94 2.06.94-2.06 2.06-.94-2.06-.94-.94-2.06-.94 2.06-2.06.94zm-11 1L8.5 8.5l.94-2.06 2.06-.94-2.06-.94L8.5 2.5l-.94 2.06-2.06.94zm10 10l.94 2.06.94-2.06 2.06-.94-2.06-.94-.94-2.06-.94 2.06-2.06.94z\"/><path d=\"M17.41 7.96l-1.37-1.37c-.4-.4-.92-.59-1.43-.59-.52 0-1.04.2-1.43.59L10.3 9.45l-7.72 7.72c-.78.78-.78 2.05 0 2.83L4 21.41c.39.39.9.59 1.41.59.51 0 1.02-.2 1.41-.59l7.78-7.78 2.81-2.81c.8-.78.8-2.07 0-2.86zM5.41 20L4 18.59l7.72-7.72 1.47 1.35L5.41 20z\"/>\n",
              "  </svg>\n",
              "      </button>\n",
              "      \n",
              "  <style>\n",
              "    .colab-df-container {\n",
              "      display:flex;\n",
              "      flex-wrap:wrap;\n",
              "      gap: 12px;\n",
              "    }\n",
              "\n",
              "    .colab-df-convert {\n",
              "      background-color: #E8F0FE;\n",
              "      border: none;\n",
              "      border-radius: 50%;\n",
              "      cursor: pointer;\n",
              "      display: none;\n",
              "      fill: #1967D2;\n",
              "      height: 32px;\n",
              "      padding: 0 0 0 0;\n",
              "      width: 32px;\n",
              "    }\n",
              "\n",
              "    .colab-df-convert:hover {\n",
              "      background-color: #E2EBFA;\n",
              "      box-shadow: 0px 1px 2px rgba(60, 64, 67, 0.3), 0px 1px 3px 1px rgba(60, 64, 67, 0.15);\n",
              "      fill: #174EA6;\n",
              "    }\n",
              "\n",
              "    [theme=dark] .colab-df-convert {\n",
              "      background-color: #3B4455;\n",
              "      fill: #D2E3FC;\n",
              "    }\n",
              "\n",
              "    [theme=dark] .colab-df-convert:hover {\n",
              "      background-color: #434B5C;\n",
              "      box-shadow: 0px 1px 3px 1px rgba(0, 0, 0, 0.15);\n",
              "      filter: drop-shadow(0px 1px 2px rgba(0, 0, 0, 0.3));\n",
              "      fill: #FFFFFF;\n",
              "    }\n",
              "  </style>\n",
              "\n",
              "      <script>\n",
              "        const buttonEl =\n",
              "          document.querySelector('#df-497912e3-814b-46ca-8209-5bf6f0ea1b60 button.colab-df-convert');\n",
              "        buttonEl.style.display =\n",
              "          google.colab.kernel.accessAllowed ? 'block' : 'none';\n",
              "\n",
              "        async function convertToInteractive(key) {\n",
              "          const element = document.querySelector('#df-497912e3-814b-46ca-8209-5bf6f0ea1b60');\n",
              "          const dataTable =\n",
              "            await google.colab.kernel.invokeFunction('convertToInteractive',\n",
              "                                                     [key], {});\n",
              "          if (!dataTable) return;\n",
              "\n",
              "          const docLinkHtml = 'Like what you see? Visit the ' +\n",
              "            '<a target=\"_blank\" href=https://colab.research.google.com/notebooks/data_table.ipynb>data table notebook</a>'\n",
              "            + ' to learn more about interactive tables.';\n",
              "          element.innerHTML = '';\n",
              "          dataTable['output_type'] = 'display_data';\n",
              "          await google.colab.output.renderOutput(dataTable, element);\n",
              "          const docLink = document.createElement('div');\n",
              "          docLink.innerHTML = docLinkHtml;\n",
              "          element.appendChild(docLink);\n",
              "        }\n",
              "      </script>\n",
              "    </div>\n",
              "  </div>\n",
              "  "
            ],
            "text/plain": [
              "                      Id  Weekly_Sales\n",
              "0         1_1_2012-11-02  24551.090287\n",
              "1         1_1_2012-11-09  24551.090287\n",
              "2         1_1_2012-11-16  24551.090287\n",
              "3         1_1_2012-11-23  24551.090287\n",
              "4         1_1_2012-11-30  24551.090287\n",
              "...                  ...           ...\n",
              "115059  45_98_2013-06-28    283.446764\n",
              "115060  45_98_2013-07-05    283.446764\n",
              "115061  45_98_2013-07-12    283.446764\n",
              "115062  45_98_2013-07-19    283.446764\n",
              "115063  45_98_2013-07-26    283.446764\n",
              "\n",
              "[115064 rows x 2 columns]"
            ]
          },
          "execution_count": 186,
          "metadata": {},
          "output_type": "execute_result"
        }
      ],
      "source": [
        "predict_and_submit(model_5, test_inputs,'DecisionTressRegressor.csv')"
      ]
    },
    {
      "cell_type": "markdown",
      "metadata": {
        "id": "61Kx_ByjmU72"
      },
      "source": [
        "**Observation:**\n",
        "\n",
        "*  The WMAE for the data predicted using `DecisionTreeRegressor` Model gives a WMAE value of `$`12,044 .\n",
        "*  We can discard the idea of using `DecisionTreeRegressor` as there are models with better WMAE score.\n"
      ]
    },
    {
      "cell_type": "markdown",
      "metadata": {
        "id": "LR9kxZEV6pOK"
      },
      "source": [
        "## **SGDRegressor**"
      ]
    },
    {
      "cell_type": "code",
      "execution_count": null,
      "metadata": {
        "id": "dVkUwm-n5snj"
      },
      "outputs": [],
      "source": [
        "from sklearn.linear_model import SGDRegressor\n",
        "from sklearn.pipeline import make_pipeline\n",
        "from sklearn.preprocessing import StandardScaler"
      ]
    },
    {
      "cell_type": "code",
      "execution_count": null,
      "metadata": {
        "id": "qnzzRHXS5slQ"
      },
      "outputs": [],
      "source": [
        "model_6 = make_pipeline(StandardScaler(),\n",
        "                        SGDRegressor(max_iter=1000, tol=1e-3))"
      ]
    },
    {
      "cell_type": "code",
      "execution_count": null,
      "metadata": {
        "colab": {
          "base_uri": "https://localhost:8080/"
        },
        "id": "fQSeKsfJ5siq",
        "outputId": "562b0b21-65a5-43e2-ea77-2c2f71d8511f"
      },
      "outputs": [
        {
          "data": {
            "text/plain": [
              "Pipeline(steps=[('standardscaler', StandardScaler()),\n",
              "                ('sgdregressor', SGDRegressor())])"
            ]
          },
          "execution_count": 123,
          "metadata": {},
          "output_type": "execute_result"
        }
      ],
      "source": [
        "model_6.fit(train_inputs,train_target)"
      ]
    },
    {
      "cell_type": "code",
      "execution_count": null,
      "metadata": {
        "colab": {
          "base_uri": "https://localhost:8080/"
        },
        "id": "OvoLc4ps5sgN",
        "outputId": "0226cd24-43ae-4972-95a1-6460c625a87f"
      },
      "outputs": [
        {
          "data": {
            "text/plain": [
              "(14654.83,\n",
              " 14689.29,\n",
              " array([15882.48328057,  7937.7721016 ,  8042.671996  , ...,\n",
              "        14324.8175952 , 14546.8331421 ,  9144.21522993]),\n",
              " array([13195.84905827, 28216.6821159 , 19112.92257994, ...,\n",
              "        21621.97356209, 21831.7733509 , 15098.10855717]))"
            ]
          },
          "execution_count": 124,
          "metadata": {},
          "output_type": "execute_result"
        }
      ],
      "source": [
        "evaluate_updated(model_6)"
      ]
    },
    {
      "cell_type": "markdown",
      "metadata": {
        "id": "sH_93mplVseO"
      },
      "source": [
        "**Observation**\n",
        "* Data predicted from `SGDRegressor`model gives an error of `$` 14,654 on training data set and `$`14,689 on Validation set. "
      ]
    },
    {
      "cell_type": "code",
      "execution_count": null,
      "metadata": {
        "colab": {
          "base_uri": "https://localhost:8080/",
          "height": 424
        },
        "id": "U7nI9SWFden5",
        "outputId": "5d8462c2-42ff-4ed1-ccc2-160737c4a412"
      },
      "outputs": [
        {
          "data": {
            "text/html": [
              "\n",
              "  <div id=\"df-0329781b-e702-4b3f-8d36-6dc5ae1f5310\">\n",
              "    <div class=\"colab-df-container\">\n",
              "      <div>\n",
              "<style scoped>\n",
              "    .dataframe tbody tr th:only-of-type {\n",
              "        vertical-align: middle;\n",
              "    }\n",
              "\n",
              "    .dataframe tbody tr th {\n",
              "        vertical-align: top;\n",
              "    }\n",
              "\n",
              "    .dataframe thead th {\n",
              "        text-align: right;\n",
              "    }\n",
              "</style>\n",
              "<table border=\"1\" class=\"dataframe\">\n",
              "  <thead>\n",
              "    <tr style=\"text-align: right;\">\n",
              "      <th></th>\n",
              "      <th>Id</th>\n",
              "      <th>Weekly_Sales</th>\n",
              "    </tr>\n",
              "  </thead>\n",
              "  <tbody>\n",
              "    <tr>\n",
              "      <th>0</th>\n",
              "      <td>1_1_2012-11-02</td>\n",
              "      <td>16588.123650</td>\n",
              "    </tr>\n",
              "    <tr>\n",
              "      <th>1</th>\n",
              "      <td>1_1_2012-11-09</td>\n",
              "      <td>16204.154004</td>\n",
              "    </tr>\n",
              "    <tr>\n",
              "      <th>2</th>\n",
              "      <td>1_1_2012-11-16</td>\n",
              "      <td>16082.760153</td>\n",
              "    </tr>\n",
              "    <tr>\n",
              "      <th>3</th>\n",
              "      <td>1_1_2012-11-23</td>\n",
              "      <td>12081.809462</td>\n",
              "    </tr>\n",
              "    <tr>\n",
              "      <th>4</th>\n",
              "      <td>1_1_2012-11-30</td>\n",
              "      <td>15497.463173</td>\n",
              "    </tr>\n",
              "    <tr>\n",
              "      <th>...</th>\n",
              "      <td>...</td>\n",
              "      <td>...</td>\n",
              "    </tr>\n",
              "    <tr>\n",
              "      <th>115059</th>\n",
              "      <td>45_98_2013-06-28</td>\n",
              "      <td>23536.562841</td>\n",
              "    </tr>\n",
              "    <tr>\n",
              "      <th>115060</th>\n",
              "      <td>45_98_2013-07-05</td>\n",
              "      <td>23989.438375</td>\n",
              "    </tr>\n",
              "    <tr>\n",
              "      <th>115061</th>\n",
              "      <td>45_98_2013-07-12</td>\n",
              "      <td>24318.649384</td>\n",
              "    </tr>\n",
              "    <tr>\n",
              "      <th>115062</th>\n",
              "      <td>45_98_2013-07-19</td>\n",
              "      <td>24173.216194</td>\n",
              "    </tr>\n",
              "    <tr>\n",
              "      <th>115063</th>\n",
              "      <td>45_98_2013-07-26</td>\n",
              "      <td>24041.069761</td>\n",
              "    </tr>\n",
              "  </tbody>\n",
              "</table>\n",
              "<p>115064 rows × 2 columns</p>\n",
              "</div>\n",
              "      <button class=\"colab-df-convert\" onclick=\"convertToInteractive('df-0329781b-e702-4b3f-8d36-6dc5ae1f5310')\"\n",
              "              title=\"Convert this dataframe to an interactive table.\"\n",
              "              style=\"display:none;\">\n",
              "        \n",
              "  <svg xmlns=\"http://www.w3.org/2000/svg\" height=\"24px\"viewBox=\"0 0 24 24\"\n",
              "       width=\"24px\">\n",
              "    <path d=\"M0 0h24v24H0V0z\" fill=\"none\"/>\n",
              "    <path d=\"M18.56 5.44l.94 2.06.94-2.06 2.06-.94-2.06-.94-.94-2.06-.94 2.06-2.06.94zm-11 1L8.5 8.5l.94-2.06 2.06-.94-2.06-.94L8.5 2.5l-.94 2.06-2.06.94zm10 10l.94 2.06.94-2.06 2.06-.94-2.06-.94-.94-2.06-.94 2.06-2.06.94z\"/><path d=\"M17.41 7.96l-1.37-1.37c-.4-.4-.92-.59-1.43-.59-.52 0-1.04.2-1.43.59L10.3 9.45l-7.72 7.72c-.78.78-.78 2.05 0 2.83L4 21.41c.39.39.9.59 1.41.59.51 0 1.02-.2 1.41-.59l7.78-7.78 2.81-2.81c.8-.78.8-2.07 0-2.86zM5.41 20L4 18.59l7.72-7.72 1.47 1.35L5.41 20z\"/>\n",
              "  </svg>\n",
              "      </button>\n",
              "      \n",
              "  <style>\n",
              "    .colab-df-container {\n",
              "      display:flex;\n",
              "      flex-wrap:wrap;\n",
              "      gap: 12px;\n",
              "    }\n",
              "\n",
              "    .colab-df-convert {\n",
              "      background-color: #E8F0FE;\n",
              "      border: none;\n",
              "      border-radius: 50%;\n",
              "      cursor: pointer;\n",
              "      display: none;\n",
              "      fill: #1967D2;\n",
              "      height: 32px;\n",
              "      padding: 0 0 0 0;\n",
              "      width: 32px;\n",
              "    }\n",
              "\n",
              "    .colab-df-convert:hover {\n",
              "      background-color: #E2EBFA;\n",
              "      box-shadow: 0px 1px 2px rgba(60, 64, 67, 0.3), 0px 1px 3px 1px rgba(60, 64, 67, 0.15);\n",
              "      fill: #174EA6;\n",
              "    }\n",
              "\n",
              "    [theme=dark] .colab-df-convert {\n",
              "      background-color: #3B4455;\n",
              "      fill: #D2E3FC;\n",
              "    }\n",
              "\n",
              "    [theme=dark] .colab-df-convert:hover {\n",
              "      background-color: #434B5C;\n",
              "      box-shadow: 0px 1px 3px 1px rgba(0, 0, 0, 0.15);\n",
              "      filter: drop-shadow(0px 1px 2px rgba(0, 0, 0, 0.3));\n",
              "      fill: #FFFFFF;\n",
              "    }\n",
              "  </style>\n",
              "\n",
              "      <script>\n",
              "        const buttonEl =\n",
              "          document.querySelector('#df-0329781b-e702-4b3f-8d36-6dc5ae1f5310 button.colab-df-convert');\n",
              "        buttonEl.style.display =\n",
              "          google.colab.kernel.accessAllowed ? 'block' : 'none';\n",
              "\n",
              "        async function convertToInteractive(key) {\n",
              "          const element = document.querySelector('#df-0329781b-e702-4b3f-8d36-6dc5ae1f5310');\n",
              "          const dataTable =\n",
              "            await google.colab.kernel.invokeFunction('convertToInteractive',\n",
              "                                                     [key], {});\n",
              "          if (!dataTable) return;\n",
              "\n",
              "          const docLinkHtml = 'Like what you see? Visit the ' +\n",
              "            '<a target=\"_blank\" href=https://colab.research.google.com/notebooks/data_table.ipynb>data table notebook</a>'\n",
              "            + ' to learn more about interactive tables.';\n",
              "          element.innerHTML = '';\n",
              "          dataTable['output_type'] = 'display_data';\n",
              "          await google.colab.output.renderOutput(dataTable, element);\n",
              "          const docLink = document.createElement('div');\n",
              "          docLink.innerHTML = docLinkHtml;\n",
              "          element.appendChild(docLink);\n",
              "        }\n",
              "      </script>\n",
              "    </div>\n",
              "  </div>\n",
              "  "
            ],
            "text/plain": [
              "                      Id  Weekly_Sales\n",
              "0         1_1_2012-11-02  16588.123650\n",
              "1         1_1_2012-11-09  16204.154004\n",
              "2         1_1_2012-11-16  16082.760153\n",
              "3         1_1_2012-11-23  12081.809462\n",
              "4         1_1_2012-11-30  15497.463173\n",
              "...                  ...           ...\n",
              "115059  45_98_2013-06-28  23536.562841\n",
              "115060  45_98_2013-07-05  23989.438375\n",
              "115061  45_98_2013-07-12  24318.649384\n",
              "115062  45_98_2013-07-19  24173.216194\n",
              "115063  45_98_2013-07-26  24041.069761\n",
              "\n",
              "[115064 rows x 2 columns]"
            ]
          },
          "execution_count": 125,
          "metadata": {},
          "output_type": "execute_result"
        }
      ],
      "source": [
        "predict_and_submit(model_6, test_inputs,'SGDRegressor.csv')"
      ]
    },
    {
      "cell_type": "markdown",
      "metadata": {
        "id": "1SU2KZkkUKjw"
      },
      "source": [
        "**Observation:**\n",
        "\n",
        "*  The WMAE for the data predicted using `SDGRegressor` Model gives a WMAE value of `$`20,707.52 .\n",
        "*  We can discard the idea of using `SDGRegressor` as there are models with better WMAE score.\n"
      ]
    },
    {
      "cell_type": "markdown",
      "metadata": {
        "id": "tpxPRJXYFFrU"
      },
      "source": [
        "## **Lasso**"
      ]
    },
    {
      "cell_type": "code",
      "execution_count": null,
      "metadata": {
        "id": "bswcd7tIFE-T"
      },
      "outputs": [],
      "source": [
        "from sklearn.linear_model import Lasso"
      ]
    },
    {
      "cell_type": "code",
      "execution_count": null,
      "metadata": {
        "id": "6nVV6GuMFE7G"
      },
      "outputs": [],
      "source": [
        "model_7 = Lasso(normalize=True, alpha=5,random_state=42)"
      ]
    },
    {
      "cell_type": "code",
      "execution_count": null,
      "metadata": {
        "colab": {
          "base_uri": "https://localhost:8080/"
        },
        "id": "cYyrljWKFE4d",
        "outputId": "2660a126-dbe5-442d-aefc-e13215985f04"
      },
      "outputs": [
        {
          "name": "stdout",
          "output_type": "stream",
          "text": [
            "CPU times: user 232 ms, sys: 6 ms, total: 238 ms\n",
            "Wall time: 200 ms\n"
          ]
        },
        {
          "name": "stderr",
          "output_type": "stream",
          "text": [
            "/usr/local/lib/python3.7/dist-packages/sklearn/linear_model/_base.py:145: FutureWarning: 'normalize' was deprecated in version 1.0 and will be removed in 1.2.\n",
            "If you wish to scale the data, use Pipeline with a StandardScaler in a preprocessing stage. To reproduce the previous behavior:\n",
            "\n",
            "from sklearn.pipeline import make_pipeline\n",
            "\n",
            "model = make_pipeline(StandardScaler(with_mean=False), Lasso())\n",
            "\n",
            "If you wish to pass a sample_weight parameter, you need to pass it as a fit parameter to each step of the pipeline as follows:\n",
            "\n",
            "kwargs = {s[0] + '__sample_weight': sample_weight for s in model.steps}\n",
            "model.fit(X, y, **kwargs)\n",
            "\n",
            "Set parameter alpha to: original_alpha * np.sqrt(n_samples). \n",
            "  FutureWarning,\n"
          ]
        },
        {
          "data": {
            "text/plain": [
              "Lasso(alpha=5, normalize=True, random_state=42)"
            ]
          },
          "execution_count": 118,
          "metadata": {},
          "output_type": "execute_result"
        }
      ],
      "source": [
        "%%time\n",
        "model_7.fit(train_inputs,train_target)"
      ]
    },
    {
      "cell_type": "code",
      "execution_count": null,
      "metadata": {
        "colab": {
          "base_uri": "https://localhost:8080/"
        },
        "id": "8D-i0UofFE1Z",
        "outputId": "7619610c-9bba-4a47-e659-464415c9036c"
      },
      "outputs": [
        {
          "data": {
            "text/plain": [
              "(14694.97,\n",
              " 14614.11,\n",
              " array([16031.36388745, 13584.63797309, 13599.20586964, ...,\n",
              "        14844.06830331, 13356.76577135, 15081.6776743 ]),\n",
              " array([16083.39480109, 19797.19677353, 15570.16310263, ...,\n",
              "        18748.72723586, 18777.86302895, 16007.12843712]))"
            ]
          },
          "execution_count": 119,
          "metadata": {},
          "output_type": "execute_result"
        }
      ],
      "source": [
        "evaluate_updated(model_7)"
      ]
    },
    {
      "cell_type": "markdown",
      "metadata": {
        "id": "yQ6uBZExS9jT"
      },
      "source": [
        "**Observation**\n",
        "* Data predicted from `Lasso`model gives an error of `$` 14,694 on training data set and `$`14,614 on Validation set. Clearly this model is not suitable for predicting the Walmart Weekly Sales."
      ]
    },
    {
      "cell_type": "code",
      "execution_count": null,
      "metadata": {
        "colab": {
          "base_uri": "https://localhost:8080/",
          "height": 424
        },
        "id": "uD5xTqmdFEye",
        "outputId": "9bd98b17-7d7c-4b84-f29f-58c7fb9ccd3b"
      },
      "outputs": [
        {
          "data": {
            "text/html": [
              "\n",
              "  <div id=\"df-325cb0a8-80dd-4287-9d33-299d8d197e77\">\n",
              "    <div class=\"colab-df-container\">\n",
              "      <div>\n",
              "<style scoped>\n",
              "    .dataframe tbody tr th:only-of-type {\n",
              "        vertical-align: middle;\n",
              "    }\n",
              "\n",
              "    .dataframe tbody tr th {\n",
              "        vertical-align: top;\n",
              "    }\n",
              "\n",
              "    .dataframe thead th {\n",
              "        text-align: right;\n",
              "    }\n",
              "</style>\n",
              "<table border=\"1\" class=\"dataframe\">\n",
              "  <thead>\n",
              "    <tr style=\"text-align: right;\">\n",
              "      <th></th>\n",
              "      <th>Id</th>\n",
              "      <th>Weekly_Sales</th>\n",
              "    </tr>\n",
              "  </thead>\n",
              "  <tbody>\n",
              "    <tr>\n",
              "      <th>0</th>\n",
              "      <td>1_1_2012-11-02</td>\n",
              "      <td>16031.363887</td>\n",
              "    </tr>\n",
              "    <tr>\n",
              "      <th>1</th>\n",
              "      <td>1_1_2012-11-09</td>\n",
              "      <td>16031.363887</td>\n",
              "    </tr>\n",
              "    <tr>\n",
              "      <th>2</th>\n",
              "      <td>1_1_2012-11-16</td>\n",
              "      <td>16031.363887</td>\n",
              "    </tr>\n",
              "    <tr>\n",
              "      <th>3</th>\n",
              "      <td>1_1_2012-11-23</td>\n",
              "      <td>16031.363887</td>\n",
              "    </tr>\n",
              "    <tr>\n",
              "      <th>4</th>\n",
              "      <td>1_1_2012-11-30</td>\n",
              "      <td>16031.363887</td>\n",
              "    </tr>\n",
              "    <tr>\n",
              "      <th>...</th>\n",
              "      <td>...</td>\n",
              "      <td>...</td>\n",
              "    </tr>\n",
              "    <tr>\n",
              "      <th>115059</th>\n",
              "      <td>45_98_2013-06-28</td>\n",
              "      <td>16007.128437</td>\n",
              "    </tr>\n",
              "    <tr>\n",
              "      <th>115060</th>\n",
              "      <td>45_98_2013-07-05</td>\n",
              "      <td>16007.128437</td>\n",
              "    </tr>\n",
              "    <tr>\n",
              "      <th>115061</th>\n",
              "      <td>45_98_2013-07-12</td>\n",
              "      <td>16007.128437</td>\n",
              "    </tr>\n",
              "    <tr>\n",
              "      <th>115062</th>\n",
              "      <td>45_98_2013-07-19</td>\n",
              "      <td>16007.128437</td>\n",
              "    </tr>\n",
              "    <tr>\n",
              "      <th>115063</th>\n",
              "      <td>45_98_2013-07-26</td>\n",
              "      <td>16007.128437</td>\n",
              "    </tr>\n",
              "  </tbody>\n",
              "</table>\n",
              "<p>115064 rows × 2 columns</p>\n",
              "</div>\n",
              "      <button class=\"colab-df-convert\" onclick=\"convertToInteractive('df-325cb0a8-80dd-4287-9d33-299d8d197e77')\"\n",
              "              title=\"Convert this dataframe to an interactive table.\"\n",
              "              style=\"display:none;\">\n",
              "        \n",
              "  <svg xmlns=\"http://www.w3.org/2000/svg\" height=\"24px\"viewBox=\"0 0 24 24\"\n",
              "       width=\"24px\">\n",
              "    <path d=\"M0 0h24v24H0V0z\" fill=\"none\"/>\n",
              "    <path d=\"M18.56 5.44l.94 2.06.94-2.06 2.06-.94-2.06-.94-.94-2.06-.94 2.06-2.06.94zm-11 1L8.5 8.5l.94-2.06 2.06-.94-2.06-.94L8.5 2.5l-.94 2.06-2.06.94zm10 10l.94 2.06.94-2.06 2.06-.94-2.06-.94-.94-2.06-.94 2.06-2.06.94z\"/><path d=\"M17.41 7.96l-1.37-1.37c-.4-.4-.92-.59-1.43-.59-.52 0-1.04.2-1.43.59L10.3 9.45l-7.72 7.72c-.78.78-.78 2.05 0 2.83L4 21.41c.39.39.9.59 1.41.59.51 0 1.02-.2 1.41-.59l7.78-7.78 2.81-2.81c.8-.78.8-2.07 0-2.86zM5.41 20L4 18.59l7.72-7.72 1.47 1.35L5.41 20z\"/>\n",
              "  </svg>\n",
              "      </button>\n",
              "      \n",
              "  <style>\n",
              "    .colab-df-container {\n",
              "      display:flex;\n",
              "      flex-wrap:wrap;\n",
              "      gap: 12px;\n",
              "    }\n",
              "\n",
              "    .colab-df-convert {\n",
              "      background-color: #E8F0FE;\n",
              "      border: none;\n",
              "      border-radius: 50%;\n",
              "      cursor: pointer;\n",
              "      display: none;\n",
              "      fill: #1967D2;\n",
              "      height: 32px;\n",
              "      padding: 0 0 0 0;\n",
              "      width: 32px;\n",
              "    }\n",
              "\n",
              "    .colab-df-convert:hover {\n",
              "      background-color: #E2EBFA;\n",
              "      box-shadow: 0px 1px 2px rgba(60, 64, 67, 0.3), 0px 1px 3px 1px rgba(60, 64, 67, 0.15);\n",
              "      fill: #174EA6;\n",
              "    }\n",
              "\n",
              "    [theme=dark] .colab-df-convert {\n",
              "      background-color: #3B4455;\n",
              "      fill: #D2E3FC;\n",
              "    }\n",
              "\n",
              "    [theme=dark] .colab-df-convert:hover {\n",
              "      background-color: #434B5C;\n",
              "      box-shadow: 0px 1px 3px 1px rgba(0, 0, 0, 0.15);\n",
              "      filter: drop-shadow(0px 1px 2px rgba(0, 0, 0, 0.3));\n",
              "      fill: #FFFFFF;\n",
              "    }\n",
              "  </style>\n",
              "\n",
              "      <script>\n",
              "        const buttonEl =\n",
              "          document.querySelector('#df-325cb0a8-80dd-4287-9d33-299d8d197e77 button.colab-df-convert');\n",
              "        buttonEl.style.display =\n",
              "          google.colab.kernel.accessAllowed ? 'block' : 'none';\n",
              "\n",
              "        async function convertToInteractive(key) {\n",
              "          const element = document.querySelector('#df-325cb0a8-80dd-4287-9d33-299d8d197e77');\n",
              "          const dataTable =\n",
              "            await google.colab.kernel.invokeFunction('convertToInteractive',\n",
              "                                                     [key], {});\n",
              "          if (!dataTable) return;\n",
              "\n",
              "          const docLinkHtml = 'Like what you see? Visit the ' +\n",
              "            '<a target=\"_blank\" href=https://colab.research.google.com/notebooks/data_table.ipynb>data table notebook</a>'\n",
              "            + ' to learn more about interactive tables.';\n",
              "          element.innerHTML = '';\n",
              "          dataTable['output_type'] = 'display_data';\n",
              "          await google.colab.output.renderOutput(dataTable, element);\n",
              "          const docLink = document.createElement('div');\n",
              "          docLink.innerHTML = docLinkHtml;\n",
              "          element.appendChild(docLink);\n",
              "        }\n",
              "      </script>\n",
              "    </div>\n",
              "  </div>\n",
              "  "
            ],
            "text/plain": [
              "                      Id  Weekly_Sales\n",
              "0         1_1_2012-11-02  16031.363887\n",
              "1         1_1_2012-11-09  16031.363887\n",
              "2         1_1_2012-11-16  16031.363887\n",
              "3         1_1_2012-11-23  16031.363887\n",
              "4         1_1_2012-11-30  16031.363887\n",
              "...                  ...           ...\n",
              "115059  45_98_2013-06-28  16007.128437\n",
              "115060  45_98_2013-07-05  16007.128437\n",
              "115061  45_98_2013-07-12  16007.128437\n",
              "115062  45_98_2013-07-19  16007.128437\n",
              "115063  45_98_2013-07-26  16007.128437\n",
              "\n",
              "[115064 rows x 2 columns]"
            ]
          },
          "execution_count": 120,
          "metadata": {},
          "output_type": "execute_result"
        }
      ],
      "source": [
        "predict_and_submit(model_7, test_inputs,'Lasso.csv')"
      ]
    },
    {
      "cell_type": "markdown",
      "metadata": {
        "id": "qEBS1i3LmtLk"
      },
      "source": [
        "**Observation:**\n",
        "\n",
        "*  The WMAE for the data predicted using `Lasso` Model gives a WMAE value of `$`19,814.97.\n",
        "*  Loss of 19k is a bad score and we can discard the idea of using `Lasso` Model for this problem statement."
      ]
    },
    {
      "cell_type": "markdown",
      "metadata": {
        "id": "CdtBcmdsy1Gz"
      },
      "source": [
        "## **Feature Importance**\n",
        "\n",
        "We will generate the feature importance of `DecisionTreeRegressor` and `XGBoost` model to eliminate the fiels with least importance from the dataset."
      ]
    },
    {
      "cell_type": "markdown",
      "metadata": {
        "id": "p3b5BpObjHV8"
      },
      "source": [
        "**DecisionTreeRegressor**"
      ]
    },
    {
      "cell_type": "code",
      "execution_count": null,
      "metadata": {
        "id": "PU3_kmv_tgqi"
      },
      "outputs": [],
      "source": [
        "\n",
        "importance_df=pd.DataFrame({\n",
        "    'feature':train_inputs.columns,\n",
        "    'importance':model_2.feature_importances_\n",
        "}).sort_values('importance',ascending=False)"
      ]
    },
    {
      "cell_type": "code",
      "execution_count": null,
      "metadata": {
        "colab": {
          "base_uri": "https://localhost:8080/",
          "height": 421
        },
        "id": "F0y0YvZqzmcK",
        "outputId": "c26a964b-6c8d-4da2-b825-ca002c696270"
      },
      "outputs": [
        {
          "data": {
            "text/plain": [
              "<matplotlib.axes._subplots.AxesSubplot at 0x7f2131c41f50>"
            ]
          },
          "execution_count": 261,
          "metadata": {},
          "output_type": "execute_result"
        },
        {
          "data": {
            "image/png": "[encoded data removed]",
            "text/plain": [
              "<Figure size 720x432 with 1 Axes>"
            ]
          },
          "metadata": {
            "needs_background": "light"
          },
          "output_type": "display_data"
        }
      ],
      "source": [
        "plt.figure(figsize=(10,6))\n",
        "plt.title('Feature Importance')\n",
        "sns.barplot(data=importance_df.head(10),x='importance',y='feature')"
      ]
    },
    {
      "cell_type": "markdown",
      "metadata": {
        "id": "Ze6E57HAjPeC"
      },
      "source": [
        "**XGBoost**"
      ]
    },
    {
      "cell_type": "code",
      "execution_count": null,
      "metadata": {
        "id": "ktUehiTYjFoL"
      },
      "outputs": [],
      "source": [
        "\n",
        "importance_df=pd.DataFrame({\n",
        "    'feature':train_inputs.columns,\n",
        "    'importance':model_4.feature_importances_\n",
        "}).sort_values('importance',ascending=False)"
      ]
    },
    {
      "cell_type": "code",
      "execution_count": null,
      "metadata": {
        "colab": {
          "base_uri": "https://localhost:8080/",
          "height": 421
        },
        "id": "AkwoPTg-jFgL",
        "outputId": "ad047215-ce4d-48db-e409-863096b7940b"
      },
      "outputs": [
        {
          "data": {
            "text/plain": [
              "<matplotlib.axes._subplots.AxesSubplot at 0x7f2132456250>"
            ]
          },
          "execution_count": 256,
          "metadata": {},
          "output_type": "execute_result"
        },
        {
          "data": {
            "image/png": "[encoded data removed]",
            "text/plain": [
              "<Figure size 720x432 with 1 Axes>"
            ]
          },
          "metadata": {
            "needs_background": "light"
          },
          "output_type": "display_data"
        }
      ],
      "source": [
        "plt.figure(figsize=(10,6))\n",
        "plt.title('Feature Importance')\n",
        "sns.barplot(data=importance_df.head(10),x='importance',y='feature')"
      ]
    },
    {
      "cell_type": "markdown",
      "metadata": {
        "id": "48pVtrfgl85w"
      },
      "source": [
        "From the above graphs we can see that:\n",
        "*   `ThanksGiving`, `Dept`, `Size` have the maxminum importance.\n",
        "*   `MarkDown1`, `MarkDown2`, `MarkDown3`, `MarkDown4`, `MarkDown5`, `Temperature` have the least importance. \n",
        "*  We will drop these columns from the training and validation set and train the model again."
      ]
    },
    {
      "cell_type": "code",
      "execution_count": null,
      "metadata": {
        "id": "ACWFL_4EjFck"
      },
      "outputs": [],
      "source": [
        "train_inputs=train_inputs.drop([ 'Temperature','Fuel_Price', 'MarkDown1', 'MarkDown2', 'MarkDown3', 'MarkDown4', 'MarkDown5', 'CPI', 'Unemployment', 'Month'], axis=1)\n",
        "val_inputs=val_inputs.drop([  'Temperature','Fuel_Price', 'MarkDown1', 'MarkDown2', 'MarkDown3', 'MarkDown4', 'MarkDown5', 'CPI', 'Unemployment', 'Month' ], axis=1)\n",
        "test_inputs=test_inputs.drop([  'Temperature','Fuel_Price', 'MarkDown1', 'MarkDown2', 'MarkDown3', 'MarkDown4', 'MarkDown5', 'CPI', 'Unemployment', 'Month'], axis=1)"
      ]
    },
    {
      "cell_type": "code",
      "execution_count": null,
      "metadata": {
        "id": "8CrAQvEVjFaD"
      },
      "outputs": [],
      "source": [
        "train_inputs=train_inputs.drop([ 'IsHoliday_y_True','Days_to_Christmas', 'WeekDay_no', 'Christmas'], axis=1)\n",
        "val_inputs=val_inputs.drop([ 'IsHoliday_y_True','Days_to_Christmas', 'WeekDay_no', 'Christmas'], axis=1)\n",
        "test_inputs=test_inputs.drop([ 'IsHoliday_y_True','Days_to_Christmas', 'WeekDay_no', 'Christmas'], axis=1)"
      ]
    },
    {
      "cell_type": "markdown",
      "metadata": {
        "id": "vEGZQZdBnKuj"
      },
      "source": [
        "**RandomForestRegressor**"
      ]
    },
    {
      "cell_type": "code",
      "execution_count": null,
      "metadata": {
        "colab": {
          "base_uri": "https://localhost:8080/"
        },
        "id": "aK6oQNVYnKJN",
        "outputId": "6398b6d1-c3cc-4136-8786-40680be0b4df"
      },
      "outputs": [
        {
          "data": {
            "text/plain": [
              "(456.6,\n",
              " 1664.22,\n",
              " array([25407.3666, 15127.9051,  3477.9243, ...,    49.742 ,  1288.4901,\n",
              "        12776.0579]),\n",
              " array([30311.1973, 86100.6366, 30418.424 , ..., 27170.7383,  3036.2296,\n",
              "          819.7637]))"
            ]
          },
          "execution_count": 279,
          "metadata": {},
          "output_type": "execute_result"
        }
      ],
      "source": [
        "model_2=RandomForestRegressor(random_state=42)\n",
        "model_2.fit(train_inputs,train_target)\n",
        "evaluate_updated(model_2) "
      ]
    },
    {
      "cell_type": "markdown",
      "metadata": {
        "id": "l098A7EQnsbA"
      },
      "source": [
        "**Observation:**\n",
        "\n",
        "Data predicted from `DecisionTreeRegressor` gives an error of `$` 456 on training data set and `$`1,664.22 on Validation set. Clearly this model is not suitable for predicting the Walmart Weekly Sales."
      ]
    },
    {
      "cell_type": "markdown",
      "metadata": {
        "id": "Fc9x0YWQnbCH"
      },
      "source": [
        "**XGBoost**"
      ]
    },
    {
      "cell_type": "code",
      "execution_count": null,
      "metadata": {
        "colab": {
          "base_uri": "https://localhost:8080/"
        },
        "id": "Q4F745l0nKF6",
        "outputId": "c551e988-9ebd-4ba3-f92d-3db8655cbb31"
      },
      "outputs": [
        {
          "data": {
            "text/plain": [
              "(2914.65,\n",
              " 3113.73,\n",
              " array([28228.031 , 13127.463 ,  2867.3884, ...,  -773.7668,   962.2575,\n",
              "        15133.012 ], dtype=float32),\n",
              " array([26236.791 , 81027.1   , 22172.324 , ..., 22395.94  ,  1296.3944,\n",
              "         1550.4441], dtype=float32))"
            ]
          },
          "execution_count": 280,
          "metadata": {},
          "output_type": "execute_result"
        }
      ],
      "source": [
        "model_4=XGBRegressor(random_state=42)\n",
        "model_4.fit(train_inputs,train_target)\n",
        "evaluate_updated(model_4) "
      ]
    },
    {
      "cell_type": "markdown",
      "metadata": {
        "id": "fPgIdRzLoDuE"
      },
      "source": [
        "**Observation:**\n",
        "\n",
        "Data predicted from `XGBoostRegressor` gives an error of `$` 2,914 on training data set and `$`3,113 on Validation set. Clearly this model is not suitable for predicting the Walmart Weekly Sales."
      ]
    },
    {
      "cell_type": "markdown",
      "metadata": {
        "id": "2taYyv0v1nVI"
      },
      "source": [
        "## **HyperParameter Tuning**"
      ]
    },
    {
      "cell_type": "markdown",
      "metadata": {
        "id": "DpIEujaHgiAP"
      },
      "source": [
        "We will create a function `test_params` that accepts parameters and returns the WMAE for Training and Validation set."
      ]
    },
    {
      "cell_type": "code",
      "execution_count": null,
      "metadata": {
        "id": "OAFSAWi41r_9"
      },
      "outputs": [],
      "source": [
        "def test_params(**params):\n",
        "    \"\"\"Trains a model with the given parameters and returns training & validation RMSE\"\"\"\n",
        "    model=XGBRegressor(n_jobs=-1,random_state=42, **params)\n",
        "    model.fit(train_inputs,train_target)\n",
        "    return evaluate_updated(model),model"
      ]
    },
    {
      "cell_type": "code",
      "execution_count": null,
      "metadata": {
        "id": "FhhYEBrywZs_"
      },
      "outputs": [],
      "source": [
        "def test_params( model,**params):\n",
        "    \"\"\"Trains a model with the given parameters and returns training & validation WMAE\"\"\"\n",
        "    model=model(n_jobs=-1,random_state=42, **params)\n",
        "    model.fit(train_inputs,train_target)\n",
        "    return evaluate_updated(model),model"
      ]
    },
    {
      "cell_type": "markdown",
      "metadata": {
        "id": "or15xqLm2hyV"
      },
      "source": [
        " **RandomForestRegressor**"
      ]
    },
    {
      "cell_type": "markdown",
      "metadata": {
        "id": "fkzn_8pw4N3c"
      },
      "source": [
        "### **n_estimators**"
      ]
    },
    {
      "cell_type": "code",
      "execution_count": null,
      "metadata": {
        "id": "cWaojgAa4NJs"
      },
      "outputs": [],
      "source": [
        "test_params(RandomForestRegressor,n_estimators=200)"
      ]
    },
    {
      "cell_type": "markdown",
      "metadata": {
        "id": "kyLoq9C-4t6q"
      },
      "source": [
        "**Note:** `RandomForestRegressor` is taking 3X of time as compared to `XGBoostRegressor`, Hence we will perform HyperParameter tuning on `XGBoostRegressor`"
      ]
    },
    {
      "cell_type": "markdown",
      "metadata": {
        "id": "HxhAZHiJ7TB5"
      },
      "source": [
        "**XGBRegressor**"
      ]
    },
    {
      "cell_type": "code",
      "execution_count": null,
      "metadata": {
        "colab": {
          "base_uri": "https://localhost:8080/"
        },
        "id": "80eCzWF82Zuu",
        "outputId": "229aa942-39cd-4868-db61-ccd466f796b7"
      },
      "outputs": [
        {
          "data": {
            "text/plain": [
              "((2344.33,\n",
              "  2695.76,\n",
              "  array([29700.053 , 13634.145 ,  3753.131 , ...,  1805.4508,  -911.1702,\n",
              "         12981.613 ], dtype=float32),\n",
              "  array([28700.283  , 80501.4    , 25375.27   , ...,  3452.442  ,\n",
              "          8387.458  ,   749.33246], dtype=float32)),\n",
              " XGBRegressor(base_score=0.5, booster='gbtree', callbacks=None,\n",
              "              colsample_bylevel=1, colsample_bynode=1, colsample_bytree=1,\n",
              "              early_stopping_rounds=None, enable_categorical=False,\n",
              "              eval_metric=None, gamma=0, gpu_id=-1, grow_policy='depthwise',\n",
              "              importance_type=None, interaction_constraints='',\n",
              "              learning_rate=0.300000012, max_bin=256, max_cat_to_onehot=4,\n",
              "              max_delta_step=0, max_depth=6, max_leaves=0, min_child_weight=1,\n",
              "              missing=nan, monotone_constraints='()', n_estimators=200,\n",
              "              n_jobs=-1, num_parallel_tree=1, predictor='auto', random_state=42,\n",
              "              reg_alpha=0, reg_lambda=1, ...))"
            ]
          },
          "execution_count": 80,
          "metadata": {},
          "output_type": "execute_result"
        }
      ],
      "source": [
        "test_params(XGBRegressor,n_estimators=200)"
      ]
    },
    {
      "cell_type": "code",
      "execution_count": null,
      "metadata": {
        "id": "-uowTpD_1r5d"
      },
      "outputs": [],
      "source": [
        "params, model=test_params(n_estimators=500)"
      ]
    },
    {
      "cell_type": "code",
      "execution_count": null,
      "metadata": {
        "id": "YYtNmQTC8c6S"
      },
      "outputs": [],
      "source": [
        "def test_param_for_graph(**params):\n",
        "    model=XGBRegressor(n_jobs=-1,random_state=42,**params)\n",
        "    model.fit(train_inputs,train_target)\n",
        "    output=evaluate_updated(model)\n",
        "    train_wame, val_wmae=output[0],output[1]\n",
        "    return train_wame, val_wmae"
      ]
    },
    {
      "cell_type": "code",
      "execution_count": null,
      "metadata": {
        "id": "dQzf1pTY8c1T"
      },
      "outputs": [],
      "source": [
        "def test_param_plot(param_name, param_value):\n",
        "  train_errors, val_errors=[],[]\n",
        "  for i in param_value:\n",
        "    params = {param_name: i}\n",
        "    train_wmae, val_wmae = test_param_for_graph(**params)\n",
        "    train_errors.append(train_wmae)\n",
        "    val_errors.append(val_wmae)\n",
        "  plt.figure(figsize=(16,8))\n",
        "  plt.title('Overfitting curve: ' + param_name)\n",
        "  plt.plot(param_value, train_errors, 'b-o')\n",
        "  plt.plot(param_value, val_errors, 'r-o')\n",
        "  plt.xlabel(param_name)\n",
        "  plt.ylabel('WMAE')\n",
        "  plt.legend(['Training', 'Validation'])\n",
        "  #return train_errors,val_errors"
      ]
    },
    {
      "cell_type": "code",
      "execution_count": null,
      "metadata": {
        "colab": {
          "base_uri": "https://localhost:8080/",
          "height": 514
        },
        "id": "-abi-Vss8cx6",
        "outputId": "1727ca2a-024a-4ffb-9ed0-3d29c327cb8e"
      },
      "outputs": [
        {
          "data": {
            "image/png": "[encoded data removed]",
            "text/plain": [
              "<Figure size 1152x576 with 1 Axes>"
            ]
          },
          "metadata": {
            "needs_background": "light"
          },
          "output_type": "display_data"
        }
      ],
      "source": [
        "test_param_plot('n_estimators',[200,500,600])"
      ]
    },
    {
      "cell_type": "markdown",
      "metadata": {
        "id": "iOJPVjJ0-tzH"
      },
      "source": [
        "From the above graph, we can see that the WMAE is minimum for `n_estimator` having values of 500 and 600"
      ]
    },
    {
      "cell_type": "markdown",
      "metadata": {
        "id": "1wWlym8L8UjR"
      },
      "source": [
        "\n",
        "estimator:500"
      ]
    },
    {
      "cell_type": "markdown",
      "metadata": {
        "id": "pW-qGVJE6ldZ"
      },
      "source": [
        "### **max_depth**"
      ]
    },
    {
      "cell_type": "code",
      "execution_count": null,
      "metadata": {
        "colab": {
          "base_uri": "https://localhost:8080/",
          "height": 514
        },
        "id": "o-r_gngI_A07",
        "outputId": "974044ff-985e-427b-a369-92ee76d54435"
      },
      "outputs": [
        {
          "data": {
            "image/png": "[encoded data removed]",
            "text/plain": [
              "<Figure size 1152x576 with 1 Axes>"
            ]
          },
          "metadata": {
            "needs_background": "light"
          },
          "output_type": "display_data"
        }
      ],
      "source": [
        "test_param_plot('max_depth',[7,10,15,20])"
      ]
    },
    {
      "cell_type": "markdown",
      "metadata": {
        "id": "lrJ3Y4bd6urr"
      },
      "source": [
        "* From the above graph, we can see that the WMAE is minimum for `max_depth` from 15 and there is no decrease in the WMAE after 15.\n",
        "* We will consider `max_depth` = 15"
      ]
    },
    {
      "cell_type": "markdown",
      "metadata": {
        "id": "sp0RJLpf-b7n"
      },
      "source": [
        "### **Learning Rate**"
      ]
    },
    {
      "cell_type": "code",
      "execution_count": null,
      "metadata": {
        "colab": {
          "base_uri": "https://localhost:8080/",
          "height": 514
        },
        "id": "Iqwz8gh3zmSg",
        "outputId": "342b3960-4e1f-420f-a308-7b90857d338c"
      },
      "outputs": [
        {
          "data": {
            "image/png": "[encoded data removed]",
            "text/plain": [
              "<Figure size 1152x576 with 1 Axes>"
            ]
          },
          "metadata": {
            "needs_background": "light"
          },
          "output_type": "display_data"
        }
      ],
      "source": [
        "test_param_plot('learning_rate',[0.02,0.07,0.4,0.8])\n"
      ]
    },
    {
      "cell_type": "markdown",
      "metadata": {
        "id": "UOD7VSxBAQ1y"
      },
      "source": [
        "From the above graph, we can see that the WMAE is minimum for `learning_rate` at 0.4 and then Over Fitting takes place."
      ]
    },
    {
      "cell_type": "markdown",
      "metadata": {
        "id": "h_VU61JGG_w7"
      },
      "source": [
        "### **gamma**"
      ]
    },
    {
      "cell_type": "code",
      "execution_count": null,
      "metadata": {
        "colab": {
          "base_uri": "https://localhost:8080/",
          "height": 513
        },
        "id": "Q2QkgEbOG-3Q",
        "outputId": "1e2dfadc-3bbe-462c-cfc9-ec9a2022d807"
      },
      "outputs": [
        {
          "data": {
            "image/png": "[encoded data removed]",
            "text/plain": [
              "<Figure size 1152x576 with 1 Axes>"
            ]
          },
          "metadata": {
            "needs_background": "light"
          },
          "output_type": "display_data"
        }
      ],
      "source": [
        "test_param_plot('gamma',[0,0.02,0.03, 0.1, 0.2])"
      ]
    },
    {
      "cell_type": "markdown",
      "metadata": {
        "id": "dEcPJujDIdLY"
      },
      "source": [
        "HyperParameter Tuning of `gamma` makes no difference in the model"
      ]
    },
    {
      "cell_type": "markdown",
      "metadata": {
        "id": "VCaAzw-kUlNB"
      },
      "source": [
        "## **Training with Tuned Model**"
      ]
    },
    {
      "cell_type": "markdown",
      "metadata": {
        "id": "6WWDjQAJJ3ly"
      },
      "source": [
        "Let's train the model using the above HyperParameters."
      ]
    },
    {
      "cell_type": "code",
      "execution_count": null,
      "metadata": {
        "colab": {
          "base_uri": "https://localhost:8080/"
        },
        "id": "LFGod6uJXJao",
        "outputId": "8fff7a14-5749-46b6-c77c-bc727ede763b"
      },
      "outputs": [
        {
          "data": {
            "text/plain": [
              "(10.89,\n",
              " 1800.71,\n",
              " array([24924.303 , 15576.086 ,  3190.0457, ...,  1734.6458,    57.142 ,\n",
              "        11358.323 ], dtype=float32),\n",
              " array([ 2.7024867e+04,  8.8596789e+04,  2.9524553e+04, ...,\n",
              "         4.2476548e+03,  6.7171416e+03, -1.3996407e+01], dtype=float32))"
            ]
          },
          "execution_count": 97,
          "metadata": {},
          "output_type": "execute_result"
        }
      ],
      "source": [
        "from xgboost import XGBRegressor\n",
        "\n",
        "# Create the model\n",
        "gbm = XGBRegressor(n_estimators=500,max_depth=15,learning_rate=0.4)\n",
        "\n",
        "# Fit the model\n",
        "gbm.fit(train_inputs, train_target)\n",
        "evaluate_updated(gbm)\n",
        "\n"
      ]
    },
    {
      "cell_type": "markdown",
      "metadata": {
        "id": "qhSjQpVPgSL9"
      },
      "source": [
        "After training the data with various combination of parameters, the below paramters and its values will be used for training the model.\n",
        "\n",
        "*  'n_estimators'=500\n",
        "*  `max_depth`=15\n",
        "*  `learning_rate`=0.07"
      ]
    },
    {
      "cell_type": "code",
      "execution_count": null,
      "metadata": {
        "colab": {
          "base_uri": "https://localhost:8080/"
        },
        "id": "91OzEhzht3o0",
        "outputId": "66080840-caec-441d-b3d5-c556857f5a1e"
      },
      "outputs": [
        {
          "data": {
            "text/plain": [
              "(302.06,\n",
              " 1753.98,\n",
              " array([25006.115  ,   683.30414,   625.8088 , ...,  2901.2405 ,\n",
              "         6883.576  ,  4008.0083 ], dtype=float32),\n",
              " array([ 2560.8674 ,  6054.459  ,  1764.8062 , ...,  4844.0195 ,\n",
              "        10240.254  ,   574.20575], dtype=float32))"
            ]
          },
          "execution_count": 326,
          "metadata": {},
          "output_type": "execute_result"
        }
      ],
      "source": [
        "from xgboost import XGBRegressor\n",
        "\n",
        "# Create the model\n",
        "gbm = XGBRegressor(n_estimators=500,max_depth=15,learning_rate=0.07)\n",
        "\n",
        "# Fit the model\n",
        "gbm.fit(train_inputs, train_target)\n",
        "evaluate_updated(gbm)\n",
        "\n"
      ]
    },
    {
      "cell_type": "markdown",
      "metadata": {
        "id": "JcM-jyqFNnS-"
      },
      "source": [
        "Let's save the output in the `.csv` file and check the Kaggle score"
      ]
    },
    {
      "cell_type": "code",
      "execution_count": null,
      "metadata": {
        "colab": {
          "base_uri": "https://localhost:8080/",
          "height": 424
        },
        "id": "yXxgrl_JXJTU",
        "outputId": "f18fe6cd-8487-4e05-ea04-931debf5f5ec"
      },
      "outputs": [
        {
          "data": {
            "text/html": [
              "\n",
              "  <div id=\"df-311428de-4971-4ffd-afb7-e730fd2d3633\">\n",
              "    <div class=\"colab-df-container\">\n",
              "      <div>\n",
              "<style scoped>\n",
              "    .dataframe tbody tr th:only-of-type {\n",
              "        vertical-align: middle;\n",
              "    }\n",
              "\n",
              "    .dataframe tbody tr th {\n",
              "        vertical-align: top;\n",
              "    }\n",
              "\n",
              "    .dataframe thead th {\n",
              "        text-align: right;\n",
              "    }\n",
              "</style>\n",
              "<table border=\"1\" class=\"dataframe\">\n",
              "  <thead>\n",
              "    <tr style=\"text-align: right;\">\n",
              "      <th></th>\n",
              "      <th>Id</th>\n",
              "      <th>Weekly_Sales</th>\n",
              "    </tr>\n",
              "  </thead>\n",
              "  <tbody>\n",
              "    <tr>\n",
              "      <th>0</th>\n",
              "      <td>1_1_2012-11-02</td>\n",
              "      <td>33414.105469</td>\n",
              "    </tr>\n",
              "    <tr>\n",
              "      <th>1</th>\n",
              "      <td>1_1_2012-11-09</td>\n",
              "      <td>19738.005859</td>\n",
              "    </tr>\n",
              "    <tr>\n",
              "      <th>2</th>\n",
              "      <td>1_1_2012-11-16</td>\n",
              "      <td>19462.761719</td>\n",
              "    </tr>\n",
              "    <tr>\n",
              "      <th>3</th>\n",
              "      <td>1_1_2012-11-23</td>\n",
              "      <td>20875.564453</td>\n",
              "    </tr>\n",
              "    <tr>\n",
              "      <th>4</th>\n",
              "      <td>1_1_2012-11-30</td>\n",
              "      <td>19351.708984</td>\n",
              "    </tr>\n",
              "    <tr>\n",
              "      <th>...</th>\n",
              "      <td>...</td>\n",
              "      <td>...</td>\n",
              "    </tr>\n",
              "    <tr>\n",
              "      <th>115059</th>\n",
              "      <td>45_98_2013-06-28</td>\n",
              "      <td>8.716531</td>\n",
              "    </tr>\n",
              "    <tr>\n",
              "      <th>115060</th>\n",
              "      <td>45_98_2013-07-05</td>\n",
              "      <td>353.255066</td>\n",
              "    </tr>\n",
              "    <tr>\n",
              "      <th>115061</th>\n",
              "      <td>45_98_2013-07-12</td>\n",
              "      <td>58.098293</td>\n",
              "    </tr>\n",
              "    <tr>\n",
              "      <th>115062</th>\n",
              "      <td>45_98_2013-07-19</td>\n",
              "      <td>-76.608330</td>\n",
              "    </tr>\n",
              "    <tr>\n",
              "      <th>115063</th>\n",
              "      <td>45_98_2013-07-26</td>\n",
              "      <td>-84.550430</td>\n",
              "    </tr>\n",
              "  </tbody>\n",
              "</table>\n",
              "<p>115064 rows × 2 columns</p>\n",
              "</div>\n",
              "      <button class=\"colab-df-convert\" onclick=\"convertToInteractive('df-311428de-4971-4ffd-afb7-e730fd2d3633')\"\n",
              "              title=\"Convert this dataframe to an interactive table.\"\n",
              "              style=\"display:none;\">\n",
              "        \n",
              "  <svg xmlns=\"http://www.w3.org/2000/svg\" height=\"24px\"viewBox=\"0 0 24 24\"\n",
              "       width=\"24px\">\n",
              "    <path d=\"M0 0h24v24H0V0z\" fill=\"none\"/>\n",
              "    <path d=\"M18.56 5.44l.94 2.06.94-2.06 2.06-.94-2.06-.94-.94-2.06-.94 2.06-2.06.94zm-11 1L8.5 8.5l.94-2.06 2.06-.94-2.06-.94L8.5 2.5l-.94 2.06-2.06.94zm10 10l.94 2.06.94-2.06 2.06-.94-2.06-.94-.94-2.06-.94 2.06-2.06.94z\"/><path d=\"M17.41 7.96l-1.37-1.37c-.4-.4-.92-.59-1.43-.59-.52 0-1.04.2-1.43.59L10.3 9.45l-7.72 7.72c-.78.78-.78 2.05 0 2.83L4 21.41c.39.39.9.59 1.41.59.51 0 1.02-.2 1.41-.59l7.78-7.78 2.81-2.81c.8-.78.8-2.07 0-2.86zM5.41 20L4 18.59l7.72-7.72 1.47 1.35L5.41 20z\"/>\n",
              "  </svg>\n",
              "      </button>\n",
              "      \n",
              "  <style>\n",
              "    .colab-df-container {\n",
              "      display:flex;\n",
              "      flex-wrap:wrap;\n",
              "      gap: 12px;\n",
              "    }\n",
              "\n",
              "    .colab-df-convert {\n",
              "      background-color: #E8F0FE;\n",
              "      border: none;\n",
              "      border-radius: 50%;\n",
              "      cursor: pointer;\n",
              "      display: none;\n",
              "      fill: #1967D2;\n",
              "      height: 32px;\n",
              "      padding: 0 0 0 0;\n",
              "      width: 32px;\n",
              "    }\n",
              "\n",
              "    .colab-df-convert:hover {\n",
              "      background-color: #E2EBFA;\n",
              "      box-shadow: 0px 1px 2px rgba(60, 64, 67, 0.3), 0px 1px 3px 1px rgba(60, 64, 67, 0.15);\n",
              "      fill: #174EA6;\n",
              "    }\n",
              "\n",
              "    [theme=dark] .colab-df-convert {\n",
              "      background-color: #3B4455;\n",
              "      fill: #D2E3FC;\n",
              "    }\n",
              "\n",
              "    [theme=dark] .colab-df-convert:hover {\n",
              "      background-color: #434B5C;\n",
              "      box-shadow: 0px 1px 3px 1px rgba(0, 0, 0, 0.15);\n",
              "      filter: drop-shadow(0px 1px 2px rgba(0, 0, 0, 0.3));\n",
              "      fill: #FFFFFF;\n",
              "    }\n",
              "  </style>\n",
              "\n",
              "      <script>\n",
              "        const buttonEl =\n",
              "          document.querySelector('#df-311428de-4971-4ffd-afb7-e730fd2d3633 button.colab-df-convert');\n",
              "        buttonEl.style.display =\n",
              "          google.colab.kernel.accessAllowed ? 'block' : 'none';\n",
              "\n",
              "        async function convertToInteractive(key) {\n",
              "          const element = document.querySelector('#df-311428de-4971-4ffd-afb7-e730fd2d3633');\n",
              "          const dataTable =\n",
              "            await google.colab.kernel.invokeFunction('convertToInteractive',\n",
              "                                                     [key], {});\n",
              "          if (!dataTable) return;\n",
              "\n",
              "          const docLinkHtml = 'Like what you see? Visit the ' +\n",
              "            '<a target=\"_blank\" href=https://colab.research.google.com/notebooks/data_table.ipynb>data table notebook</a>'\n",
              "            + ' to learn more about interactive tables.';\n",
              "          element.innerHTML = '';\n",
              "          dataTable['output_type'] = 'display_data';\n",
              "          await google.colab.output.renderOutput(dataTable, element);\n",
              "          const docLink = document.createElement('div');\n",
              "          docLink.innerHTML = docLinkHtml;\n",
              "          element.appendChild(docLink);\n",
              "        }\n",
              "      </script>\n",
              "    </div>\n",
              "  </div>\n",
              "  "
            ],
            "text/plain": [
              "                      Id  Weekly_Sales\n",
              "0         1_1_2012-11-02  33414.105469\n",
              "1         1_1_2012-11-09  19738.005859\n",
              "2         1_1_2012-11-16  19462.761719\n",
              "3         1_1_2012-11-23  20875.564453\n",
              "4         1_1_2012-11-30  19351.708984\n",
              "...                  ...           ...\n",
              "115059  45_98_2013-06-28      8.716531\n",
              "115060  45_98_2013-07-05    353.255066\n",
              "115061  45_98_2013-07-12     58.098293\n",
              "115062  45_98_2013-07-19    -76.608330\n",
              "115063  45_98_2013-07-26    -84.550430\n",
              "\n",
              "[115064 rows x 2 columns]"
            ]
          },
          "execution_count": 327,
          "metadata": {},
          "output_type": "execute_result"
        }
      ],
      "source": [
        "predict_and_submit(gbm, test_inputs,'Final.csv')"
      ]
    },
    {
      "cell_type": "markdown",
      "metadata": {
        "id": "NSa2ZK4ldaT1"
      },
      "source": [
        "![image.png](data:image/png;base64,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)"
      ]
    },
    {
      "cell_type": "markdown",
      "metadata": {
        "id": "OeCiH2qlS1O9"
      },
      "source": [
        "The above generated result gives a WMAE of `$` 3,207 which \n",
        "constitutes top 32% of the scoreboard.\n"
      ]
    },
    {
      "cell_type": "markdown",
      "metadata": {
        "id": "syYc--Y6Tq_5"
      },
      "source": [
        "## **Summary**"
      ]
    },
    {
      "cell_type": "markdown",
      "metadata": {
        "id": "AA5k2A4TUB7E"
      },
      "source": [
        "Here’s a brief summary of the process we followed for the Weekly Sales Prediction of Walmart.\n",
        "\n",
        "1. We have installed the required libraries.\n",
        "2. We have downloaded the data using `opendatasets` library from Kaggle.\n",
        "3. We have performed below actions on the Data.\n",
        "*   View Dataset Files\n",
        "*   Unzip files\n",
        "*   Load Training set with Pandas \n",
        "*   Load Test set with Pandas\n",
        "4. We have performed EDA by analysing below columns to get meangingful insights out of it.\n",
        "*    Date\n",
        "*    Store\n",
        "*    Dept\n",
        "*    Type\n",
        "5. We have answered below questions to generate insights from the dataset.\n",
        "*    What is the effect of Markdown on the sales?\n",
        "*    What are the days with max sales?\n",
        "6. We have prepared Dataset for Training and Testing\n",
        "7. We have Trained & Evaluated Hardcoded Model\n",
        "8. We have Trained & Evaluated Baseline Model\n",
        "9. Finally we have made Predictions and Submission \n",
        "10. To improve the performance we have performed Feature Engineering by performing below acrions:\n",
        "*   Extracted part of date\n",
        "*   Created a funtion `is_Holiday` to create column to check if its a Holiday Month (`Holiday_Month`)\n",
        "*   Created column `Markdown_sum` to create the sum total of all MarkDown columns\n",
        "*  Created Identifier Columns to Identify if a week is a SuperBowlWeek, LaborDay Week, ThanksGiving Week or Christmas Week\n",
        "*   Handled null values in `MarkDown1`,`MarkDown2`,`MarkDown3`,`MarkDown4` and `MarkDown5` columns\n",
        "11. Performed below actions on the data \n",
        "*   Scaling\n",
        "*   Encode Categorical columns\n",
        "12. We have Save Intermediate Results\n",
        "13. We have Trains and Evaluate below models\n",
        "14. We have tuned HyperParamters\n",
        "15. We have submited the result to Kaggle to get the WMAE of `$` 3,160"
      ]
    },
    {
      "cell_type": "markdown",
      "metadata": {
        "id": "j4tcz-udfmtC"
      },
      "source": [
        "Below is the Final Dataset using for training the above dataset which contains the Feature Engineered columns and excludes the columns of least feature importance."
      ]
    },
    {
      "cell_type": "code",
      "execution_count": null,
      "metadata": {
        "colab": {
          "base_uri": "https://localhost:8080/",
          "height": 488
        },
        "id": "Xc5excuVgEox",
        "outputId": "74c54de0-9f16-4c13-8c9d-b3ee6443d882"
      },
      "outputs": [
        {
          "data": {
            "text/html": [
              "\n",
              "  <div id=\"df-8ff78826-22ab-4bb7-9060-f74c6b554065\">\n",
              "    <div class=\"colab-df-container\">\n",
              "      <div>\n",
              "<style scoped>\n",
              "    .dataframe tbody tr th:only-of-type {\n",
              "        vertical-align: middle;\n",
              "    }\n",
              "\n",
              "    .dataframe tbody tr th {\n",
              "        vertical-align: top;\n",
              "    }\n",
              "\n",
              "    .dataframe thead th {\n",
              "        text-align: right;\n",
              "    }\n",
              "</style>\n",
              "<table border=\"1\" class=\"dataframe\">\n",
              "  <thead>\n",
              "    <tr style=\"text-align: right;\">\n",
              "      <th></th>\n",
              "      <th>Store</th>\n",
              "      <th>Dept</th>\n",
              "      <th>Temperature</th>\n",
              "      <th>Fuel_Price</th>\n",
              "      <th>MarkDown1</th>\n",
              "      <th>MarkDown2</th>\n",
              "      <th>MarkDown3</th>\n",
              "      <th>MarkDown4</th>\n",
              "      <th>MarkDown5</th>\n",
              "      <th>CPI</th>\n",
              "      <th>...</th>\n",
              "      <th>Type_B</th>\n",
              "      <th>Type_C</th>\n",
              "      <th>Holiday_month</th>\n",
              "      <th>Days_to_Thansksgiving</th>\n",
              "      <th>Days_to_Christmas</th>\n",
              "      <th>Markdown_sum</th>\n",
              "      <th>LaborDay</th>\n",
              "      <th>Tranksgiving</th>\n",
              "      <th>Christmas</th>\n",
              "      <th>SuperBowlWeek</th>\n",
              "    </tr>\n",
              "  </thead>\n",
              "  <tbody>\n",
              "    <tr>\n",
              "      <th>0</th>\n",
              "      <td>0.000000</td>\n",
              "      <td>0.000000</td>\n",
              "      <td>0.434149</td>\n",
              "      <td>0.050100</td>\n",
              "      <td>0.081742</td>\n",
              "      <td>0.034360</td>\n",
              "      <td>0.010367</td>\n",
              "      <td>0.050137</td>\n",
              "      <td>0.041462</td>\n",
              "      <td>0.840500</td>\n",
              "      <td>...</td>\n",
              "      <td>0.0</td>\n",
              "      <td>0.0</td>\n",
              "      <td>1.0</td>\n",
              "      <td>0.913889</td>\n",
              "      <td>0.913889</td>\n",
              "      <td>0.144556</td>\n",
              "      <td>0.0</td>\n",
              "      <td>0.0</td>\n",
              "      <td>0.0</td>\n",
              "      <td>0.0</td>\n",
              "    </tr>\n",
              "    <tr>\n",
              "      <th>87501</th>\n",
              "      <td>0.181818</td>\n",
              "      <td>0.979592</td>\n",
              "      <td>0.392074</td>\n",
              "      <td>0.050100</td>\n",
              "      <td>0.081742</td>\n",
              "      <td>0.034360</td>\n",
              "      <td>0.010367</td>\n",
              "      <td>0.050137</td>\n",
              "      <td>0.041462</td>\n",
              "      <td>0.875680</td>\n",
              "      <td>...</td>\n",
              "      <td>1.0</td>\n",
              "      <td>0.0</td>\n",
              "      <td>1.0</td>\n",
              "      <td>0.913889</td>\n",
              "      <td>0.913889</td>\n",
              "      <td>0.144556</td>\n",
              "      <td>0.0</td>\n",
              "      <td>0.0</td>\n",
              "      <td>0.0</td>\n",
              "      <td>0.0</td>\n",
              "    </tr>\n",
              "    <tr>\n",
              "      <th>86424</th>\n",
              "      <td>0.181818</td>\n",
              "      <td>0.857143</td>\n",
              "      <td>0.392074</td>\n",
              "      <td>0.050100</td>\n",
              "      <td>0.081742</td>\n",
              "      <td>0.034360</td>\n",
              "      <td>0.010367</td>\n",
              "      <td>0.050137</td>\n",
              "      <td>0.041462</td>\n",
              "      <td>0.875680</td>\n",
              "      <td>...</td>\n",
              "      <td>1.0</td>\n",
              "      <td>0.0</td>\n",
              "      <td>1.0</td>\n",
              "      <td>0.913889</td>\n",
              "      <td>0.913889</td>\n",
              "      <td>0.144556</td>\n",
              "      <td>0.0</td>\n",
              "      <td>0.0</td>\n",
              "      <td>0.0</td>\n",
              "      <td>0.0</td>\n",
              "    </tr>\n",
              "    <tr>\n",
              "      <th>76617</th>\n",
              "      <td>0.159091</td>\n",
              "      <td>0.806122</td>\n",
              "      <td>0.354207</td>\n",
              "      <td>0.050100</td>\n",
              "      <td>0.081742</td>\n",
              "      <td>0.034360</td>\n",
              "      <td>0.010367</td>\n",
              "      <td>0.050137</td>\n",
              "      <td>0.041462</td>\n",
              "      <td>0.873861</td>\n",
              "      <td>...</td>\n",
              "      <td>0.0</td>\n",
              "      <td>0.0</td>\n",
              "      <td>1.0</td>\n",
              "      <td>0.913889</td>\n",
              "      <td>0.913889</td>\n",
              "      <td>0.144556</td>\n",
              "      <td>0.0</td>\n",
              "      <td>0.0</td>\n",
              "      <td>0.0</td>\n",
              "      <td>0.0</td>\n",
              "    </tr>\n",
              "    <tr>\n",
              "      <th>84902</th>\n",
              "      <td>0.181818</td>\n",
              "      <td>0.551020</td>\n",
              "      <td>0.392074</td>\n",
              "      <td>0.050100</td>\n",
              "      <td>0.081742</td>\n",
              "      <td>0.034360</td>\n",
              "      <td>0.010367</td>\n",
              "      <td>0.050137</td>\n",
              "      <td>0.041462</td>\n",
              "      <td>0.875680</td>\n",
              "      <td>...</td>\n",
              "      <td>1.0</td>\n",
              "      <td>0.0</td>\n",
              "      <td>1.0</td>\n",
              "      <td>0.913889</td>\n",
              "      <td>0.913889</td>\n",
              "      <td>0.144556</td>\n",
              "      <td>0.0</td>\n",
              "      <td>0.0</td>\n",
              "      <td>0.0</td>\n",
              "      <td>0.0</td>\n",
              "    </tr>\n",
              "    <tr>\n",
              "      <th>...</th>\n",
              "      <td>...</td>\n",
              "      <td>...</td>\n",
              "      <td>...</td>\n",
              "      <td>...</td>\n",
              "      <td>...</td>\n",
              "      <td>...</td>\n",
              "      <td>...</td>\n",
              "      <td>...</td>\n",
              "      <td>...</td>\n",
              "      <td>...</td>\n",
              "      <td>...</td>\n",
              "      <td>...</td>\n",
              "      <td>...</td>\n",
              "      <td>...</td>\n",
              "      <td>...</td>\n",
              "      <td>...</td>\n",
              "      <td>...</td>\n",
              "      <td>...</td>\n",
              "      <td>...</td>\n",
              "      <td>...</td>\n",
              "      <td>...</td>\n",
              "    </tr>\n",
              "    <tr>\n",
              "      <th>131319</th>\n",
              "      <td>0.295455</td>\n",
              "      <td>0.234694</td>\n",
              "      <td>0.527299</td>\n",
              "      <td>0.787575</td>\n",
              "      <td>0.059072</td>\n",
              "      <td>0.133659</td>\n",
              "      <td>0.000571</td>\n",
              "      <td>0.014580</td>\n",
              "      <td>0.023096</td>\n",
              "      <td>0.639482</td>\n",
              "      <td>...</td>\n",
              "      <td>0.0</td>\n",
              "      <td>0.0</td>\n",
              "      <td>0.0</td>\n",
              "      <td>0.727778</td>\n",
              "      <td>0.727778</td>\n",
              "      <td>0.138070</td>\n",
              "      <td>0.0</td>\n",
              "      <td>0.0</td>\n",
              "      <td>0.0</td>\n",
              "      <td>0.0</td>\n",
              "    </tr>\n",
              "    <tr>\n",
              "      <th>175735</th>\n",
              "      <td>0.386364</td>\n",
              "      <td>0.836735</td>\n",
              "      <td>0.487378</td>\n",
              "      <td>0.778056</td>\n",
              "      <td>0.065407</td>\n",
              "      <td>0.094078</td>\n",
              "      <td>0.000288</td>\n",
              "      <td>0.022112</td>\n",
              "      <td>0.019615</td>\n",
              "      <td>0.116676</td>\n",
              "      <td>...</td>\n",
              "      <td>1.0</td>\n",
              "      <td>0.0</td>\n",
              "      <td>0.0</td>\n",
              "      <td>0.727778</td>\n",
              "      <td>0.727778</td>\n",
              "      <td>0.116218</td>\n",
              "      <td>0.0</td>\n",
              "      <td>0.0</td>\n",
              "      <td>0.0</td>\n",
              "      <td>0.0</td>\n",
              "    </tr>\n",
              "    <tr>\n",
              "      <th>304675</th>\n",
              "      <td>0.704545</td>\n",
              "      <td>0.051020</td>\n",
              "      <td>0.529941</td>\n",
              "      <td>0.715932</td>\n",
              "      <td>0.063165</td>\n",
              "      <td>0.059501</td>\n",
              "      <td>0.000387</td>\n",
              "      <td>0.021347</td>\n",
              "      <td>0.040487</td>\n",
              "      <td>0.708884</td>\n",
              "      <td>...</td>\n",
              "      <td>0.0</td>\n",
              "      <td>0.0</td>\n",
              "      <td>0.0</td>\n",
              "      <td>0.727778</td>\n",
              "      <td>0.727778</td>\n",
              "      <td>0.106232</td>\n",
              "      <td>0.0</td>\n",
              "      <td>0.0</td>\n",
              "      <td>0.0</td>\n",
              "      <td>0.0</td>\n",
              "    </tr>\n",
              "    <tr>\n",
              "      <th>378613</th>\n",
              "      <td>0.886364</td>\n",
              "      <td>0.744898</td>\n",
              "      <td>0.417906</td>\n",
              "      <td>0.778056</td>\n",
              "      <td>0.041384</td>\n",
              "      <td>0.047665</td>\n",
              "      <td>0.000446</td>\n",
              "      <td>0.019571</td>\n",
              "      <td>0.015552</td>\n",
              "      <td>0.116676</td>\n",
              "      <td>...</td>\n",
              "      <td>0.0</td>\n",
              "      <td>0.0</td>\n",
              "      <td>0.0</td>\n",
              "      <td>0.727778</td>\n",
              "      <td>0.727778</td>\n",
              "      <td>0.068812</td>\n",
              "      <td>0.0</td>\n",
              "      <td>0.0</td>\n",
              "      <td>0.0</td>\n",
              "      <td>0.0</td>\n",
              "    </tr>\n",
              "    <tr>\n",
              "      <th>184674</th>\n",
              "      <td>0.409091</td>\n",
              "      <td>0.714286</td>\n",
              "      <td>0.454795</td>\n",
              "      <td>0.859218</td>\n",
              "      <td>0.059276</td>\n",
              "      <td>0.122694</td>\n",
              "      <td>0.000365</td>\n",
              "      <td>0.026954</td>\n",
              "      <td>0.028877</td>\n",
              "      <td>0.116676</td>\n",
              "      <td>...</td>\n",
              "      <td>0.0</td>\n",
              "      <td>0.0</td>\n",
              "      <td>0.0</td>\n",
              "      <td>0.727778</td>\n",
              "      <td>0.727778</td>\n",
              "      <td>0.139954</td>\n",
              "      <td>0.0</td>\n",
              "      <td>0.0</td>\n",
              "      <td>0.0</td>\n",
              "      <td>0.0</td>\n",
              "    </tr>\n",
              "  </tbody>\n",
              "</table>\n",
              "<p>337256 rows × 28 columns</p>\n",
              "</div>\n",
              "      <button class=\"colab-df-convert\" onclick=\"convertToInteractive('df-8ff78826-22ab-4bb7-9060-f74c6b554065')\"\n",
              "              title=\"Convert this dataframe to an interactive table.\"\n",
              "              style=\"display:none;\">\n",
              "        \n",
              "  <svg xmlns=\"http://www.w3.org/2000/svg\" height=\"24px\"viewBox=\"0 0 24 24\"\n",
              "       width=\"24px\">\n",
              "    <path d=\"M0 0h24v24H0V0z\" fill=\"none\"/>\n",
              "    <path d=\"M18.56 5.44l.94 2.06.94-2.06 2.06-.94-2.06-.94-.94-2.06-.94 2.06-2.06.94zm-11 1L8.5 8.5l.94-2.06 2.06-.94-2.06-.94L8.5 2.5l-.94 2.06-2.06.94zm10 10l.94 2.06.94-2.06 2.06-.94-2.06-.94-.94-2.06-.94 2.06-2.06.94z\"/><path d=\"M17.41 7.96l-1.37-1.37c-.4-.4-.92-.59-1.43-.59-.52 0-1.04.2-1.43.59L10.3 9.45l-7.72 7.72c-.78.78-.78 2.05 0 2.83L4 21.41c.39.39.9.59 1.41.59.51 0 1.02-.2 1.41-.59l7.78-7.78 2.81-2.81c.8-.78.8-2.07 0-2.86zM5.41 20L4 18.59l7.72-7.72 1.47 1.35L5.41 20z\"/>\n",
              "  </svg>\n",
              "      </button>\n",
              "      \n",
              "  <style>\n",
              "    .colab-df-container {\n",
              "      display:flex;\n",
              "      flex-wrap:wrap;\n",
              "      gap: 12px;\n",
              "    }\n",
              "\n",
              "    .colab-df-convert {\n",
              "      background-color: #E8F0FE;\n",
              "      border: none;\n",
              "      border-radius: 50%;\n",
              "      cursor: pointer;\n",
              "      display: none;\n",
              "      fill: #1967D2;\n",
              "      height: 32px;\n",
              "      padding: 0 0 0 0;\n",
              "      width: 32px;\n",
              "    }\n",
              "\n",
              "    .colab-df-convert:hover {\n",
              "      background-color: #E2EBFA;\n",
              "      box-shadow: 0px 1px 2px rgba(60, 64, 67, 0.3), 0px 1px 3px 1px rgba(60, 64, 67, 0.15);\n",
              "      fill: #174EA6;\n",
              "    }\n",
              "\n",
              "    [theme=dark] .colab-df-convert {\n",
              "      background-color: #3B4455;\n",
              "      fill: #D2E3FC;\n",
              "    }\n",
              "\n",
              "    [theme=dark] .colab-df-convert:hover {\n",
              "      background-color: #434B5C;\n",
              "      box-shadow: 0px 1px 3px 1px rgba(0, 0, 0, 0.15);\n",
              "      filter: drop-shadow(0px 1px 2px rgba(0, 0, 0, 0.3));\n",
              "      fill: #FFFFFF;\n",
              "    }\n",
              "  </style>\n",
              "\n",
              "      <script>\n",
              "        const buttonEl =\n",
              "          document.querySelector('#df-8ff78826-22ab-4bb7-9060-f74c6b554065 button.colab-df-convert');\n",
              "        buttonEl.style.display =\n",
              "          google.colab.kernel.accessAllowed ? 'block' : 'none';\n",
              "\n",
              "        async function convertToInteractive(key) {\n",
              "          const element = document.querySelector('#df-8ff78826-22ab-4bb7-9060-f74c6b554065');\n",
              "          const dataTable =\n",
              "            await google.colab.kernel.invokeFunction('convertToInteractive',\n",
              "                                                     [key], {});\n",
              "          if (!dataTable) return;\n",
              "\n",
              "          const docLinkHtml = 'Like what you see? Visit the ' +\n",
              "            '<a target=\"_blank\" href=https://colab.research.google.com/notebooks/data_table.ipynb>data table notebook</a>'\n",
              "            + ' to learn more about interactive tables.';\n",
              "          element.innerHTML = '';\n",
              "          dataTable['output_type'] = 'display_data';\n",
              "          await google.colab.output.renderOutput(dataTable, element);\n",
              "          const docLink = document.createElement('div');\n",
              "          docLink.innerHTML = docLinkHtml;\n",
              "          element.appendChild(docLink);\n",
              "        }\n",
              "      </script>\n",
              "    </div>\n",
              "  </div>\n",
              "  "
            ],
            "text/plain": [
              "           Store      Dept  Temperature  Fuel_Price  MarkDown1  MarkDown2  \\\n",
              "0       0.000000  0.000000     0.434149    0.050100   0.081742   0.034360   \n",
              "87501   0.181818  0.979592     0.392074    0.050100   0.081742   0.034360   \n",
              "86424   0.181818  0.857143     0.392074    0.050100   0.081742   0.034360   \n",
              "76617   0.159091  0.806122     0.354207    0.050100   0.081742   0.034360   \n",
              "84902   0.181818  0.551020     0.392074    0.050100   0.081742   0.034360   \n",
              "...          ...       ...          ...         ...        ...        ...   \n",
              "131319  0.295455  0.234694     0.527299    0.787575   0.059072   0.133659   \n",
              "175735  0.386364  0.836735     0.487378    0.778056   0.065407   0.094078   \n",
              "304675  0.704545  0.051020     0.529941    0.715932   0.063165   0.059501   \n",
              "378613  0.886364  0.744898     0.417906    0.778056   0.041384   0.047665   \n",
              "184674  0.409091  0.714286     0.454795    0.859218   0.059276   0.122694   \n",
              "\n",
              "        MarkDown3  MarkDown4  MarkDown5       CPI  ...  Type_B  Type_C  \\\n",
              "0        0.010367   0.050137   0.041462  0.840500  ...     0.0     0.0   \n",
              "87501    0.010367   0.050137   0.041462  0.875680  ...     1.0     0.0   \n",
              "86424    0.010367   0.050137   0.041462  0.875680  ...     1.0     0.0   \n",
              "76617    0.010367   0.050137   0.041462  0.873861  ...     0.0     0.0   \n",
              "84902    0.010367   0.050137   0.041462  0.875680  ...     1.0     0.0   \n",
              "...           ...        ...        ...       ...  ...     ...     ...   \n",
              "131319   0.000571   0.014580   0.023096  0.639482  ...     0.0     0.0   \n",
              "175735   0.000288   0.022112   0.019615  0.116676  ...     1.0     0.0   \n",
              "304675   0.000387   0.021347   0.040487  0.708884  ...     0.0     0.0   \n",
              "378613   0.000446   0.019571   0.015552  0.116676  ...     0.0     0.0   \n",
              "184674   0.000365   0.026954   0.028877  0.116676  ...     0.0     0.0   \n",
              "\n",
              "        Holiday_month  Days_to_Thansksgiving  Days_to_Christmas  Markdown_sum  \\\n",
              "0                 1.0               0.913889           0.913889      0.144556   \n",
              "87501             1.0               0.913889           0.913889      0.144556   \n",
              "86424             1.0               0.913889           0.913889      0.144556   \n",
              "76617             1.0               0.913889           0.913889      0.144556   \n",
              "84902             1.0               0.913889           0.913889      0.144556   \n",
              "...               ...                    ...                ...           ...   \n",
              "131319            0.0               0.727778           0.727778      0.138070   \n",
              "175735            0.0               0.727778           0.727778      0.116218   \n",
              "304675            0.0               0.727778           0.727778      0.106232   \n",
              "378613            0.0               0.727778           0.727778      0.068812   \n",
              "184674            0.0               0.727778           0.727778      0.139954   \n",
              "\n",
              "        LaborDay  Tranksgiving  Christmas  SuperBowlWeek  \n",
              "0            0.0           0.0        0.0            0.0  \n",
              "87501        0.0           0.0        0.0            0.0  \n",
              "86424        0.0           0.0        0.0            0.0  \n",
              "76617        0.0           0.0        0.0            0.0  \n",
              "84902        0.0           0.0        0.0            0.0  \n",
              "...          ...           ...        ...            ...  \n",
              "131319       0.0           0.0        0.0            0.0  \n",
              "175735       0.0           0.0        0.0            0.0  \n",
              "304675       0.0           0.0        0.0            0.0  \n",
              "378613       0.0           0.0        0.0            0.0  \n",
              "184674       0.0           0.0        0.0            0.0  \n",
              "\n",
              "[337256 rows x 28 columns]"
            ]
          },
          "execution_count": 329,
          "metadata": {},
          "output_type": "execute_result"
        }
      ],
      "source": [
        "train_inputs"
      ]
    },
    {
      "cell_type": "code",
      "execution_count": null,
      "metadata": {
        "colab": {
          "base_uri": "https://localhost:8080/"
        },
        "id": "2P_I9E-AgJ_q",
        "outputId": "957d8269-f30d-4420-d7ab-b9c018c42632"
      },
      "outputs": [
        {
          "name": "stdout",
          "output_type": "stream",
          "text": [
            "<class 'pandas.core.frame.DataFrame'>\n",
            "Int64Index: 337256 entries, 0 to 184674\n",
            "Data columns (total 35 columns):\n",
            " #   Column                 Non-Null Count   Dtype         \n",
            "---  ------                 --------------   -----         \n",
            " 0   Store                  337256 non-null  float64       \n",
            " 1   Dept                   337256 non-null  float64       \n",
            " 2   Date                   337256 non-null  datetime64[ns]\n",
            " 3   IsHoliday_x            337256 non-null  bool          \n",
            " 4   Temperature            337256 non-null  float64       \n",
            " 5   Weekly_Sales           337256 non-null  float64       \n",
            " 6   Fuel_Price             337256 non-null  float64       \n",
            " 7   MarkDown1              337256 non-null  float64       \n",
            " 8   MarkDown2              337256 non-null  float64       \n",
            " 9   MarkDown3              337256 non-null  float64       \n",
            " 10  MarkDown4              337256 non-null  float64       \n",
            " 11  MarkDown5              337256 non-null  float64       \n",
            " 12  CPI                    337256 non-null  float64       \n",
            " 13  Unemployment           337256 non-null  float64       \n",
            " 14  IsHoliday_y            337256 non-null  bool          \n",
            " 15  Type                   337256 non-null  object        \n",
            " 16  Size                   337256 non-null  float64       \n",
            " 17  WeekDay_no             337256 non-null  float64       \n",
            " 18  Month                  337256 non-null  float64       \n",
            " 19  Day_no                 337256 non-null  float64       \n",
            " 20  Year                   337256 non-null  int64         \n",
            " 21  Week                   337256 non-null  float64       \n",
            " 22  Holiday_month          337256 non-null  float64       \n",
            " 23  Markdown_sum           337256 non-null  float64       \n",
            " 24  Days_to_Thansksgiving  337256 non-null  float64       \n",
            " 25  Days_to_Christmas      337256 non-null  float64       \n",
            " 26  SuperBowlWeek          337256 non-null  float64       \n",
            " 27  LaborDay               337256 non-null  float64       \n",
            " 28  Tranksgiving           337256 non-null  float64       \n",
            " 29  Christmas              337256 non-null  float64       \n",
            " 30  IsHoliday_y_False      337256 non-null  float64       \n",
            " 31  IsHoliday_y_True       337256 non-null  float64       \n",
            " 32  Type_A                 337256 non-null  float64       \n",
            " 33  Type_B                 337256 non-null  float64       \n",
            " 34  Type_C                 337256 non-null  float64       \n",
            "dtypes: bool(2), datetime64[ns](1), float64(30), int64(1), object(1)\n",
            "memory usage: 88.1+ MB\n"
          ]
        }
      ],
      "source": [
        "train_df.info()"
      ]
    },
    {
      "cell_type": "markdown",
      "metadata": {
        "id": "xS6tpB0iVkNT"
      },
      "source": [
        "## **Future Work**\n",
        "\n",
        "Here are some ways in which project can we extended:\n",
        "\n",
        "*  We can perform HyperParamter Tuning on other Parameters such as `min_child_weigh`, `max_delta_step`, `sabsample` etc for `XGBRegressor` Model.\n",
        "*  We can perform HyperParameter Tuning on the `RandomForestRegressor` Model to achieve better score then `XGBRegressor`.\n",
        "* We can train the dataset on other models such as KNN, SVM, etc."
      ]
    },
    {
      "cell_type": "markdown",
      "metadata": {
        "id": "SoJUdkXEYD6O"
      },
      "source": [
        "## **Reference**\n",
        "\n",
        "* https://xgboost.readthedocs.io/en/stable/parameter.html\n",
        "* https://www.geeksforgeeks.org/python-pandas-dataframe/\n",
        "* https://www.tutorialspoint.com/index.htm\n"
      ]
    },
    {
      "cell_type": "code",
      "execution_count": null,
      "metadata": {
        "colab": {
          "base_uri": "https://localhost:8080/",
          "height": 87
        },
        "id": "2x78diLmbR1v",
        "outputId": "6920ec20-b141-4632-fcbf-b5fc8e50a5a3"
      },
      "outputs": [
        {
          "name": "stdout",
          "output_type": "stream",
          "text": [
            "[jovian] Detected Colab notebook...\u001b[0m\n",
            "[jovian] Uploading colab notebook to Jovian...\u001b[0m\n",
            "Committed successfully! https://jovian.ai/gouravitandel1945/ml-project\n"
          ]
        },
        {
          "data": {
            "application/vnd.google.colaboratory.intrinsic+json": {
              "type": "string"
            },
            "text/plain": [
              "'https://jovian.ai/gouravitandel1945/ml-project'"
            ]
          },
          "execution_count": 328,
          "metadata": {},
          "output_type": "execute_result"
        }
      ],
      "source": [
        "jovian.commit()"
      ]
    }
  ],
  "metadata": {
    "colab": {
      "collapsed_sections": [
        "7xMwdBlj7LAA",
        "LQoQdyV3XQMJ",
        "aaho6QpDe8Kl",
        "ZTmADUTPcDm0",
        "YXA29nKfZMwy",
        "Zx_Y_lkagbdY",
        "G1oA3LvYht1s",
        "mghW_QZJ2lWX",
        "2I9MLCdL5O-B",
        "g0HHVkpj55v1",
        "DdsGOoBJ7c0I",
        "5Y_kMtiUlYsQ",
        "Gf-4YNZEsuMs",
        "Xjnh5pmcGLhe",
        "CYVfWWULlaML",
        "w_osLe4apinA",
        "rj-wY5spzazh",
        "gNgABUKY-OLS",
        "uY45vLNp3odN",
        "LR9kxZEV6pOK",
        "tpxPRJXYFFrU"
      ],
      "name": "ml-project.ipynb",
      "provenance": []
    },
    "kernelspec": {
      "display_name": "Python 3 (ipykernel)",
      "language": "python",
      "name": "python3"
    },
    "language_info": {
      "codemirror_mode": {
        "name": "ipython",
        "version": 3
      },
      "file_extension": ".py",
      "mimetype": "text/x-python",
      "name": "python",
      "nbconvert_exporter": "python",
      "pygments_lexer": "ipython3",
      "version": "3.9.6"
    }
  },
  "nbformat": 4,
  "nbformat_minor": 0
}